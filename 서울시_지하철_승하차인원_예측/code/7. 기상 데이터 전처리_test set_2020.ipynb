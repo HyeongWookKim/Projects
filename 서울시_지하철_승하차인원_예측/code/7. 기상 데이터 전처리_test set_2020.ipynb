{
 "cells": [
  {
   "cell_type": "markdown",
   "metadata": {},
   "source": [
    "**<파일 경로>**\n",
    "- C:/Users/Brian/Desktop/Data Science/Projects/Playdata/dataset/weather/test"
   ]
  },
  {
   "cell_type": "code",
   "execution_count": 1,
   "metadata": {
    "ExecuteTime": {
     "end_time": "2020-11-10T08:20:20.863823Z",
     "start_time": "2020-11-10T08:20:17.979004Z"
    }
   },
   "outputs": [
    {
     "name": "stdout",
     "output_type": "stream",
     "text": [
      "C:/Users/Brian/Desktop/Data Science/Projects/Playdata/dataset/weather/test\n"
     ]
    }
   ],
   "source": [
    "filepath = input()"
   ]
  },
  {
   "cell_type": "code",
   "execution_count": 2,
   "metadata": {
    "ExecuteTime": {
     "end_time": "2020-11-10T08:20:21.288782Z",
     "start_time": "2020-11-10T08:20:20.865769Z"
    }
   },
   "outputs": [],
   "source": [
    "import pandas as pd\n",
    "import datetime as dt\n",
    "from tqdm.notebook import tqdm"
   ]
  },
  {
   "cell_type": "markdown",
   "metadata": {},
   "source": [
    "# 2020년 1~6월 기상 데이터 불러오기"
   ]
  },
  {
   "cell_type": "code",
   "execution_count": 3,
   "metadata": {
    "ExecuteTime": {
     "end_time": "2020-11-10T08:20:21.464750Z",
     "start_time": "2020-11-10T08:20:21.290041Z"
    }
   },
   "outputs": [
    {
     "data": {
      "text/html": [
       "<div>\n",
       "<style scoped>\n",
       "    .dataframe tbody tr th:only-of-type {\n",
       "        vertical-align: middle;\n",
       "    }\n",
       "\n",
       "    .dataframe tbody tr th {\n",
       "        vertical-align: top;\n",
       "    }\n",
       "\n",
       "    .dataframe thead th {\n",
       "        text-align: right;\n",
       "    }\n",
       "</style>\n",
       "<table border=\"1\" class=\"dataframe\">\n",
       "  <thead>\n",
       "    <tr style=\"text-align: right;\">\n",
       "      <th></th>\n",
       "      <th>지점</th>\n",
       "      <th>지점명</th>\n",
       "      <th>일시</th>\n",
       "      <th>기온(°C)</th>\n",
       "      <th>풍향(deg)</th>\n",
       "      <th>풍속(m/s)</th>\n",
       "      <th>강수량(mm)</th>\n",
       "      <th>현지기압(hPa)</th>\n",
       "      <th>해면기압(hPa)</th>\n",
       "      <th>습도(%)</th>\n",
       "    </tr>\n",
       "  </thead>\n",
       "  <tbody>\n",
       "    <tr>\n",
       "      <th>0</th>\n",
       "      <td>116</td>\n",
       "      <td>관악(레)</td>\n",
       "      <td>2020-01-01 00:00</td>\n",
       "      <td>-8.8</td>\n",
       "      <td>266.9</td>\n",
       "      <td>4.5</td>\n",
       "      <td>0.0</td>\n",
       "      <td>NaN</td>\n",
       "      <td>NaN</td>\n",
       "      <td>97.0</td>\n",
       "    </tr>\n",
       "    <tr>\n",
       "      <th>1</th>\n",
       "      <td>116</td>\n",
       "      <td>관악(레)</td>\n",
       "      <td>2020-01-01 01:00</td>\n",
       "      <td>-7.7</td>\n",
       "      <td>251.2</td>\n",
       "      <td>4.8</td>\n",
       "      <td>0.0</td>\n",
       "      <td>NaN</td>\n",
       "      <td>NaN</td>\n",
       "      <td>97.9</td>\n",
       "    </tr>\n",
       "    <tr>\n",
       "      <th>2</th>\n",
       "      <td>116</td>\n",
       "      <td>관악(레)</td>\n",
       "      <td>2020-01-01 02:00</td>\n",
       "      <td>-7.5</td>\n",
       "      <td>265.6</td>\n",
       "      <td>5.2</td>\n",
       "      <td>0.0</td>\n",
       "      <td>NaN</td>\n",
       "      <td>NaN</td>\n",
       "      <td>97.9</td>\n",
       "    </tr>\n",
       "    <tr>\n",
       "      <th>3</th>\n",
       "      <td>116</td>\n",
       "      <td>관악(레)</td>\n",
       "      <td>2020-01-01 03:00</td>\n",
       "      <td>-7.0</td>\n",
       "      <td>282.3</td>\n",
       "      <td>3.4</td>\n",
       "      <td>0.0</td>\n",
       "      <td>NaN</td>\n",
       "      <td>NaN</td>\n",
       "      <td>97.9</td>\n",
       "    </tr>\n",
       "    <tr>\n",
       "      <th>4</th>\n",
       "      <td>116</td>\n",
       "      <td>관악(레)</td>\n",
       "      <td>2020-01-01 04:00</td>\n",
       "      <td>-6.6</td>\n",
       "      <td>277.2</td>\n",
       "      <td>3.8</td>\n",
       "      <td>0.0</td>\n",
       "      <td>NaN</td>\n",
       "      <td>NaN</td>\n",
       "      <td>97.9</td>\n",
       "    </tr>\n",
       "    <tr>\n",
       "      <th>...</th>\n",
       "      <td>...</td>\n",
       "      <td>...</td>\n",
       "      <td>...</td>\n",
       "      <td>...</td>\n",
       "      <td>...</td>\n",
       "      <td>...</td>\n",
       "      <td>...</td>\n",
       "      <td>...</td>\n",
       "      <td>...</td>\n",
       "      <td>...</td>\n",
       "    </tr>\n",
       "    <tr>\n",
       "      <th>121996</th>\n",
       "      <td>889</td>\n",
       "      <td>현충원</td>\n",
       "      <td>2020-06-30 19:00</td>\n",
       "      <td>21.4</td>\n",
       "      <td>320.5</td>\n",
       "      <td>1.3</td>\n",
       "      <td>0.0</td>\n",
       "      <td>995.8</td>\n",
       "      <td>997.7</td>\n",
       "      <td>76.7</td>\n",
       "    </tr>\n",
       "    <tr>\n",
       "      <th>121997</th>\n",
       "      <td>889</td>\n",
       "      <td>현충원</td>\n",
       "      <td>2020-06-30 20:00</td>\n",
       "      <td>20.6</td>\n",
       "      <td>312.2</td>\n",
       "      <td>1.8</td>\n",
       "      <td>0.0</td>\n",
       "      <td>996.8</td>\n",
       "      <td>998.7</td>\n",
       "      <td>85.0</td>\n",
       "    </tr>\n",
       "    <tr>\n",
       "      <th>121998</th>\n",
       "      <td>889</td>\n",
       "      <td>현충원</td>\n",
       "      <td>2020-06-30 21:00</td>\n",
       "      <td>20.0</td>\n",
       "      <td>352.3</td>\n",
       "      <td>1.4</td>\n",
       "      <td>0.0</td>\n",
       "      <td>997.7</td>\n",
       "      <td>999.6</td>\n",
       "      <td>85.9</td>\n",
       "    </tr>\n",
       "    <tr>\n",
       "      <th>121999</th>\n",
       "      <td>889</td>\n",
       "      <td>현충원</td>\n",
       "      <td>2020-06-30 22:00</td>\n",
       "      <td>19.0</td>\n",
       "      <td>266.6</td>\n",
       "      <td>1.1</td>\n",
       "      <td>0.5</td>\n",
       "      <td>998.3</td>\n",
       "      <td>1000.2</td>\n",
       "      <td>96.6</td>\n",
       "    </tr>\n",
       "    <tr>\n",
       "      <th>122000</th>\n",
       "      <td>889</td>\n",
       "      <td>현충원</td>\n",
       "      <td>2020-06-30 23:00</td>\n",
       "      <td>19.2</td>\n",
       "      <td>267.5</td>\n",
       "      <td>0.7</td>\n",
       "      <td>0.0</td>\n",
       "      <td>998.8</td>\n",
       "      <td>1000.7</td>\n",
       "      <td>95.1</td>\n",
       "    </tr>\n",
       "  </tbody>\n",
       "</table>\n",
       "<p>122001 rows × 10 columns</p>\n",
       "</div>"
      ],
      "text/plain": [
       "         지점    지점명                일시  기온(°C)  풍향(deg)  풍속(m/s)  강수량(mm)  \\\n",
       "0       116  관악(레)  2020-01-01 00:00    -8.8    266.9      4.5      0.0   \n",
       "1       116  관악(레)  2020-01-01 01:00    -7.7    251.2      4.8      0.0   \n",
       "2       116  관악(레)  2020-01-01 02:00    -7.5    265.6      5.2      0.0   \n",
       "3       116  관악(레)  2020-01-01 03:00    -7.0    282.3      3.4      0.0   \n",
       "4       116  관악(레)  2020-01-01 04:00    -6.6    277.2      3.8      0.0   \n",
       "...     ...    ...               ...     ...      ...      ...      ...   \n",
       "121996  889    현충원  2020-06-30 19:00    21.4    320.5      1.3      0.0   \n",
       "121997  889    현충원  2020-06-30 20:00    20.6    312.2      1.8      0.0   \n",
       "121998  889    현충원  2020-06-30 21:00    20.0    352.3      1.4      0.0   \n",
       "121999  889    현충원  2020-06-30 22:00    19.0    266.6      1.1      0.5   \n",
       "122000  889    현충원  2020-06-30 23:00    19.2    267.5      0.7      0.0   \n",
       "\n",
       "        현지기압(hPa)  해면기압(hPa)  습도(%)  \n",
       "0             NaN        NaN   97.0  \n",
       "1             NaN        NaN   97.9  \n",
       "2             NaN        NaN   97.9  \n",
       "3             NaN        NaN   97.9  \n",
       "4             NaN        NaN   97.9  \n",
       "...           ...        ...    ...  \n",
       "121996      995.8      997.7   76.7  \n",
       "121997      996.8      998.7   85.0  \n",
       "121998      997.7      999.6   85.9  \n",
       "121999      998.3     1000.2   96.6  \n",
       "122000      998.8     1000.7   95.1  \n",
       "\n",
       "[122001 rows x 10 columns]"
      ]
     },
     "execution_count": 3,
     "metadata": {},
     "output_type": "execute_result"
    }
   ],
   "source": [
    "weather_total = pd.read_csv('{}/OBS_AWS_TIM_2020_01~06.csv'.format(filepath), encoding = 'cp949')\n",
    "weather_total"
   ]
  },
  {
   "cell_type": "markdown",
   "metadata": {},
   "source": [
    "# 필요한 변수들만 추출"
   ]
  },
  {
   "cell_type": "code",
   "execution_count": 4,
   "metadata": {
    "ExecuteTime": {
     "end_time": "2020-11-10T08:20:21.484774Z",
     "start_time": "2020-11-10T08:20:21.466689Z"
    }
   },
   "outputs": [
    {
     "data": {
      "text/html": [
       "<div>\n",
       "<style scoped>\n",
       "    .dataframe tbody tr th:only-of-type {\n",
       "        vertical-align: middle;\n",
       "    }\n",
       "\n",
       "    .dataframe tbody tr th {\n",
       "        vertical-align: top;\n",
       "    }\n",
       "\n",
       "    .dataframe thead th {\n",
       "        text-align: right;\n",
       "    }\n",
       "</style>\n",
       "<table border=\"1\" class=\"dataframe\">\n",
       "  <thead>\n",
       "    <tr style=\"text-align: right;\">\n",
       "      <th></th>\n",
       "      <th>일시</th>\n",
       "      <th>지점명</th>\n",
       "      <th>기온(°C)</th>\n",
       "      <th>풍속(m/s)</th>\n",
       "      <th>강수량(mm)</th>\n",
       "      <th>습도(%)</th>\n",
       "    </tr>\n",
       "  </thead>\n",
       "  <tbody>\n",
       "    <tr>\n",
       "      <th>0</th>\n",
       "      <td>2020-01-01 00:00</td>\n",
       "      <td>관악(레)</td>\n",
       "      <td>-8.8</td>\n",
       "      <td>4.5</td>\n",
       "      <td>0.0</td>\n",
       "      <td>97.0</td>\n",
       "    </tr>\n",
       "    <tr>\n",
       "      <th>1</th>\n",
       "      <td>2020-01-01 01:00</td>\n",
       "      <td>관악(레)</td>\n",
       "      <td>-7.7</td>\n",
       "      <td>4.8</td>\n",
       "      <td>0.0</td>\n",
       "      <td>97.9</td>\n",
       "    </tr>\n",
       "    <tr>\n",
       "      <th>2</th>\n",
       "      <td>2020-01-01 02:00</td>\n",
       "      <td>관악(레)</td>\n",
       "      <td>-7.5</td>\n",
       "      <td>5.2</td>\n",
       "      <td>0.0</td>\n",
       "      <td>97.9</td>\n",
       "    </tr>\n",
       "    <tr>\n",
       "      <th>3</th>\n",
       "      <td>2020-01-01 03:00</td>\n",
       "      <td>관악(레)</td>\n",
       "      <td>-7.0</td>\n",
       "      <td>3.4</td>\n",
       "      <td>0.0</td>\n",
       "      <td>97.9</td>\n",
       "    </tr>\n",
       "    <tr>\n",
       "      <th>4</th>\n",
       "      <td>2020-01-01 04:00</td>\n",
       "      <td>관악(레)</td>\n",
       "      <td>-6.6</td>\n",
       "      <td>3.8</td>\n",
       "      <td>0.0</td>\n",
       "      <td>97.9</td>\n",
       "    </tr>\n",
       "  </tbody>\n",
       "</table>\n",
       "</div>"
      ],
      "text/plain": [
       "                 일시    지점명  기온(°C)  풍속(m/s)  강수량(mm)  습도(%)\n",
       "0  2020-01-01 00:00  관악(레)    -8.8      4.5      0.0   97.0\n",
       "1  2020-01-01 01:00  관악(레)    -7.7      4.8      0.0   97.9\n",
       "2  2020-01-01 02:00  관악(레)    -7.5      5.2      0.0   97.9\n",
       "3  2020-01-01 03:00  관악(레)    -7.0      3.4      0.0   97.9\n",
       "4  2020-01-01 04:00  관악(레)    -6.6      3.8      0.0   97.9"
      ]
     },
     "execution_count": 4,
     "metadata": {},
     "output_type": "execute_result"
    }
   ],
   "source": [
    "weather_total = weather_total[['일시', '지점명', '기온(°C)', '풍속(m/s)', '강수량(mm)', '습도(%)']]\n",
    "weather_total.head()"
   ]
  },
  {
   "cell_type": "markdown",
   "metadata": {},
   "source": [
    "# 변수명 변경\n",
    "- 한글로 되어 있는 변수명을 모두 영어로 변경해주겠다.\n",
    "    - 일시 = date\n",
    "    - 지점명 = obs_name\n",
    "    - 기온(°C) = temp\n",
    "    - 풍속(m/s) = windspeed\n",
    "    - 강수량(mm) = rain\n",
    "    - 습도(%) = humidity"
   ]
  },
  {
   "cell_type": "code",
   "execution_count": 5,
   "metadata": {
    "ExecuteTime": {
     "end_time": "2020-11-10T08:20:21.511821Z",
     "start_time": "2020-11-10T08:20:21.486697Z"
    }
   },
   "outputs": [
    {
     "name": "stdout",
     "output_type": "stream",
     "text": [
      "<class 'pandas.core.frame.DataFrame'>\n",
      "RangeIndex: 122001 entries, 0 to 122000\n",
      "Data columns (total 6 columns):\n",
      " #   Column     Non-Null Count   Dtype  \n",
      "---  ------     --------------   -----  \n",
      " 0   date       122001 non-null  object \n",
      " 1   obs_name   122001 non-null  object \n",
      " 2   temp       121643 non-null  float64\n",
      " 3   windspeed  121511 non-null  float64\n",
      " 4   rain       121419 non-null  float64\n",
      " 5   humidity   73827 non-null   float64\n",
      "dtypes: float64(4), object(2)\n",
      "memory usage: 5.6+ MB\n"
     ]
    },
    {
     "name": "stderr",
     "output_type": "stream",
     "text": [
      "C:\\Users\\Brian\\anaconda3\\lib\\site-packages\\pandas\\core\\frame.py:4125: SettingWithCopyWarning: \n",
      "A value is trying to be set on a copy of a slice from a DataFrame\n",
      "\n",
      "See the caveats in the documentation: https://pandas.pydata.org/pandas-docs/stable/user_guide/indexing.html#returning-a-view-versus-a-copy\n",
      "  return super().rename(\n"
     ]
    }
   ],
   "source": [
    "col_name = {\n",
    "    '일시': 'date', '지점명': 'obs_name',\n",
    "    '기온(°C)': 'temp', '풍속(m/s)': 'windspeed',\n",
    "    '강수량(mm)': 'rain', '습도(%)': 'humidity'\n",
    "}\n",
    "\n",
    "weather_total.rename(columns = col_name, inplace = True)\n",
    "weather_total.info()"
   ]
  },
  {
   "cell_type": "markdown",
   "metadata": {},
   "source": [
    "# 지점명(obs_name) 변수 처리"
   ]
  },
  {
   "cell_type": "markdown",
   "metadata": {},
   "source": [
    "## 지점명(obs_name) 변수 변경 및 삭제\n",
    "- 기상 관측 지점명(obs_name) 변수에 대해서 다음과 같은 처리를 해주도록 하겠다.\n",
    "\n",
    "**<기상 데이터 관측 지점명(obs_name) 변경 및 삭제>**\n",
    "1. 변경 지점명(obs_name) 리스트\n",
    "    - 기상청\n",
    "        - 해당 관측 지점은 주소가 \"동작구\"이므로, \"동작\"이라고 변경해주도록 하겠다.\n",
    "        - 즉, \"기상청 >> 동작\"\n",
    "    - 한강\n",
    "        - 해당 관측 지점은 주소가 \"영등포구\"이므로, \"영등포\"라고 변경해주도록 하겠다.\n",
    "        - 즉, \"한강 >> 영등포\"\n",
    "    - 현충원\n",
    "        - 해당 관측 지점은 주소가 \"동작구\"이므로, \"동작\"이라고 변경해주도록 하겠다.\n",
    "        - 즉, \"현충원 >> 동작\"\n",
    "    - 북악산\n",
    "        - 해당 관측 지점은 주소가 \"종로구\"이므로, \"종로\"라고 변경해주도록 하겠다.\n",
    "        - 즉, \"북악산 >> 종로\"\n",
    "2. 삭제 지점명(obs_name) 리스트\n",
    "    - 관악(레)\n",
    "        - 해당 관측 지점은 주소가 \"경기도\"이기 때문에 삭제하도록 하겠다.\n",
    "    - 남현\n",
    "        - 해당 관측 지점은 주소가 \"전라남도\"이기 때문에 삭제하도록 하겠다."
   ]
  },
  {
   "cell_type": "code",
   "execution_count": 6,
   "metadata": {
    "ExecuteTime": {
     "end_time": "2020-11-10T08:20:21.540939Z",
     "start_time": "2020-11-10T08:20:21.513819Z"
    }
   },
   "outputs": [],
   "source": [
    "# 지점명 삭제\n",
    "drop_idx = weather_total[(weather_total['obs_name'] == '관악(레)') | (weather_total['obs_name'] == '남현')].index\n",
    "weather_total2 = weather_total.drop(drop_idx)"
   ]
  },
  {
   "cell_type": "code",
   "execution_count": 7,
   "metadata": {
    "ExecuteTime": {
     "end_time": "2020-11-10T08:20:21.576548Z",
     "start_time": "2020-11-10T08:20:21.541296Z"
    }
   },
   "outputs": [],
   "source": [
    "# 지점명 변경\n",
    "def process_obs_name(x):\n",
    "    if x == '기상청':\n",
    "        return '동작'\n",
    "    elif x == '한강':\n",
    "        return '영등포'\n",
    "    elif x == '현충원':\n",
    "        return '동작'\n",
    "    elif x == '북악산':\n",
    "        return '종로'\n",
    "    else:\n",
    "        return x\n",
    "\n",
    "weather_total2['obs_name'] = weather_total2['obs_name'].apply(process_obs_name)"
   ]
  },
  {
   "cell_type": "code",
   "execution_count": 8,
   "metadata": {
    "ExecuteTime": {
     "end_time": "2020-11-10T08:20:21.594707Z",
     "start_time": "2020-11-10T08:20:21.580534Z"
    }
   },
   "outputs": [
    {
     "data": {
      "text/plain": [
       "25"
      ]
     },
     "execution_count": 8,
     "metadata": {},
     "output_type": "execute_result"
    }
   ],
   "source": [
    "# 서울특별시 자치구 개수 확인\n",
    "len(set(weather_total2.obs_name))"
   ]
  },
  {
   "cell_type": "code",
   "execution_count": 9,
   "metadata": {
    "ExecuteTime": {
     "end_time": "2020-11-10T08:20:21.612648Z",
     "start_time": "2020-11-10T08:20:21.595705Z"
    }
   },
   "outputs": [
    {
     "data": {
      "text/plain": [
       "['성북',\n",
       " '관악',\n",
       " '용산',\n",
       " '구로',\n",
       " '영등포 ',\n",
       " '양천',\n",
       " '강남',\n",
       " '중랑',\n",
       " '송파',\n",
       " '강동',\n",
       " '서대문',\n",
       " '은평',\n",
       " '강북',\n",
       " '동작',\n",
       " '동대문',\n",
       " '노원',\n",
       " '영등포',\n",
       " '성동',\n",
       " '광진',\n",
       " '강서',\n",
       " '중구',\n",
       " '마포',\n",
       " '서초',\n",
       " '금천',\n",
       " '도봉']"
      ]
     },
     "execution_count": 9,
     "metadata": {},
     "output_type": "execute_result"
    }
   ],
   "source": [
    "list(set(weather_total2.obs_name))"
   ]
  },
  {
   "cell_type": "markdown",
   "metadata": {},
   "source": [
    "- 작업을 수행해 준 뒤에 자치구의 개수가 25개가 맞는지 확인해보니, 25개가 맞긴 하지만 \"영등포\"구가 2개가 존재하며 \"종로\"구는 존재하지 않음을 알 수 있다.\n",
    "- 따라서 먼저 중복되어 들어있는 \"영등포\"구에 대한 처리부터 진행해주겠다."
   ]
  },
  {
   "cell_type": "code",
   "execution_count": 10,
   "metadata": {
    "ExecuteTime": {
     "end_time": "2020-11-10T08:20:21.629868Z",
     "start_time": "2020-11-10T08:20:21.614641Z"
    }
   },
   "outputs": [
    {
     "data": {
      "text/plain": [
       "동작      8730\n",
       "서초      4368\n",
       "성북      4368\n",
       "동대문     4368\n",
       "송파      4368\n",
       "노원      4368\n",
       "강북      4368\n",
       "영등포     4368\n",
       "마포      4368\n",
       "서대문     4368\n",
       "성동      4368\n",
       "중구      4368\n",
       "금천      4368\n",
       "용산      4368\n",
       "관악      4368\n",
       "영등포     4368\n",
       "도봉      4368\n",
       "양천      4368\n",
       "강동      4365\n",
       "강남      4358\n",
       "강서      4332\n",
       "중랑      4326\n",
       "광진      4320\n",
       "은평      4312\n",
       "구로      4295\n",
       "Name: obs_name, dtype: int64"
      ]
     },
     "execution_count": 10,
     "metadata": {},
     "output_type": "execute_result"
    }
   ],
   "source": [
    "weather_total2.obs_name.value_counts()"
   ]
  },
  {
   "cell_type": "markdown",
   "metadata": {},
   "source": [
    "- 자세히 확인해보니, \"영등포\" 뒤에 띄어쓰기가 들어간 데이터들이 존재한다.\n",
    "    - 따라서 이러한 데이터들에 대하여 모두 뒤에 붙은 띄어쓰기를 제거해주도록 하겠다.\n",
    "    - ex) \"영등포 \" >> \"영등포\""
   ]
  },
  {
   "cell_type": "code",
   "execution_count": 11,
   "metadata": {
    "ExecuteTime": {
     "end_time": "2020-11-10T08:20:21.653813Z",
     "start_time": "2020-11-10T08:20:21.630859Z"
    }
   },
   "outputs": [
    {
     "data": {
      "text/html": [
       "<div>\n",
       "<style scoped>\n",
       "    .dataframe tbody tr th:only-of-type {\n",
       "        vertical-align: middle;\n",
       "    }\n",
       "\n",
       "    .dataframe tbody tr th {\n",
       "        vertical-align: top;\n",
       "    }\n",
       "\n",
       "    .dataframe thead th {\n",
       "        text-align: right;\n",
       "    }\n",
       "</style>\n",
       "<table border=\"1\" class=\"dataframe\">\n",
       "  <thead>\n",
       "    <tr style=\"text-align: right;\">\n",
       "      <th></th>\n",
       "      <th>date</th>\n",
       "      <th>obs_name</th>\n",
       "      <th>temp</th>\n",
       "      <th>windspeed</th>\n",
       "      <th>rain</th>\n",
       "      <th>humidity</th>\n",
       "    </tr>\n",
       "  </thead>\n",
       "  <tbody>\n",
       "    <tr>\n",
       "      <th>82797</th>\n",
       "      <td>2020-01-01 00:00</td>\n",
       "      <td>영등포</td>\n",
       "      <td>-4.2</td>\n",
       "      <td>1.6</td>\n",
       "      <td>0.0</td>\n",
       "      <td>47.0</td>\n",
       "    </tr>\n",
       "    <tr>\n",
       "      <th>82798</th>\n",
       "      <td>2020-01-01 01:00</td>\n",
       "      <td>영등포</td>\n",
       "      <td>-3.9</td>\n",
       "      <td>2.2</td>\n",
       "      <td>0.0</td>\n",
       "      <td>48.1</td>\n",
       "    </tr>\n",
       "    <tr>\n",
       "      <th>82799</th>\n",
       "      <td>2020-01-01 02:00</td>\n",
       "      <td>영등포</td>\n",
       "      <td>-4.0</td>\n",
       "      <td>1.9</td>\n",
       "      <td>0.0</td>\n",
       "      <td>49.0</td>\n",
       "    </tr>\n",
       "    <tr>\n",
       "      <th>82800</th>\n",
       "      <td>2020-01-01 03:00</td>\n",
       "      <td>영등포</td>\n",
       "      <td>-4.0</td>\n",
       "      <td>2.6</td>\n",
       "      <td>0.0</td>\n",
       "      <td>56.0</td>\n",
       "    </tr>\n",
       "    <tr>\n",
       "      <th>82801</th>\n",
       "      <td>2020-01-01 04:00</td>\n",
       "      <td>영등포</td>\n",
       "      <td>-4.1</td>\n",
       "      <td>2.2</td>\n",
       "      <td>0.0</td>\n",
       "      <td>58.5</td>\n",
       "    </tr>\n",
       "    <tr>\n",
       "      <th>...</th>\n",
       "      <td>...</td>\n",
       "      <td>...</td>\n",
       "      <td>...</td>\n",
       "      <td>...</td>\n",
       "      <td>...</td>\n",
       "      <td>...</td>\n",
       "    </tr>\n",
       "    <tr>\n",
       "      <th>87160</th>\n",
       "      <td>2020-06-30 19:00</td>\n",
       "      <td>영등포</td>\n",
       "      <td>21.3</td>\n",
       "      <td>5.1</td>\n",
       "      <td>0.0</td>\n",
       "      <td>75.5</td>\n",
       "    </tr>\n",
       "    <tr>\n",
       "      <th>87161</th>\n",
       "      <td>2020-06-30 20:00</td>\n",
       "      <td>영등포</td>\n",
       "      <td>20.0</td>\n",
       "      <td>4.6</td>\n",
       "      <td>0.0</td>\n",
       "      <td>85.5</td>\n",
       "    </tr>\n",
       "    <tr>\n",
       "      <th>87162</th>\n",
       "      <td>2020-06-30 21:00</td>\n",
       "      <td>영등포</td>\n",
       "      <td>19.2</td>\n",
       "      <td>2.5</td>\n",
       "      <td>0.5</td>\n",
       "      <td>87.3</td>\n",
       "    </tr>\n",
       "    <tr>\n",
       "      <th>87163</th>\n",
       "      <td>2020-06-30 22:00</td>\n",
       "      <td>영등포</td>\n",
       "      <td>19.3</td>\n",
       "      <td>2.9</td>\n",
       "      <td>0.5</td>\n",
       "      <td>88.2</td>\n",
       "    </tr>\n",
       "    <tr>\n",
       "      <th>87164</th>\n",
       "      <td>2020-06-30 23:00</td>\n",
       "      <td>영등포</td>\n",
       "      <td>19.7</td>\n",
       "      <td>3.2</td>\n",
       "      <td>0.0</td>\n",
       "      <td>86.1</td>\n",
       "    </tr>\n",
       "  </tbody>\n",
       "</table>\n",
       "<p>4368 rows × 6 columns</p>\n",
       "</div>"
      ],
      "text/plain": [
       "                   date obs_name  temp  windspeed  rain  humidity\n",
       "82797  2020-01-01 00:00      영등포  -4.2        1.6   0.0      47.0\n",
       "82798  2020-01-01 01:00      영등포  -3.9        2.2   0.0      48.1\n",
       "82799  2020-01-01 02:00      영등포  -4.0        1.9   0.0      49.0\n",
       "82800  2020-01-01 03:00      영등포  -4.0        2.6   0.0      56.0\n",
       "82801  2020-01-01 04:00      영등포  -4.1        2.2   0.0      58.5\n",
       "...                 ...      ...   ...        ...   ...       ...\n",
       "87160  2020-06-30 19:00      영등포  21.3        5.1   0.0      75.5\n",
       "87161  2020-06-30 20:00      영등포  20.0        4.6   0.0      85.5\n",
       "87162  2020-06-30 21:00      영등포  19.2        2.5   0.5      87.3\n",
       "87163  2020-06-30 22:00      영등포  19.3        2.9   0.5      88.2\n",
       "87164  2020-06-30 23:00      영등포  19.7        3.2   0.0      86.1\n",
       "\n",
       "[4368 rows x 6 columns]"
      ]
     },
     "execution_count": 11,
     "metadata": {},
     "output_type": "execute_result"
    }
   ],
   "source": [
    "weather_total2[weather_total2['obs_name'] == '영등포']"
   ]
  },
  {
   "cell_type": "code",
   "execution_count": 12,
   "metadata": {
    "ExecuteTime": {
     "end_time": "2020-11-10T08:20:21.674928Z",
     "start_time": "2020-11-10T08:20:21.654805Z"
    }
   },
   "outputs": [
    {
     "data": {
      "text/html": [
       "<div>\n",
       "<style scoped>\n",
       "    .dataframe tbody tr th:only-of-type {\n",
       "        vertical-align: middle;\n",
       "    }\n",
       "\n",
       "    .dataframe tbody tr th {\n",
       "        vertical-align: top;\n",
       "    }\n",
       "\n",
       "    .dataframe thead th {\n",
       "        text-align: right;\n",
       "    }\n",
       "</style>\n",
       "<table border=\"1\" class=\"dataframe\">\n",
       "  <thead>\n",
       "    <tr style=\"text-align: right;\">\n",
       "      <th></th>\n",
       "      <th>date</th>\n",
       "      <th>obs_name</th>\n",
       "      <th>temp</th>\n",
       "      <th>windspeed</th>\n",
       "      <th>rain</th>\n",
       "      <th>humidity</th>\n",
       "    </tr>\n",
       "  </thead>\n",
       "  <tbody>\n",
       "    <tr>\n",
       "      <th>113271</th>\n",
       "      <td>2020-01-01 00:00</td>\n",
       "      <td>영등포</td>\n",
       "      <td>-4.5</td>\n",
       "      <td>0.9</td>\n",
       "      <td>0.0</td>\n",
       "      <td>NaN</td>\n",
       "    </tr>\n",
       "    <tr>\n",
       "      <th>113272</th>\n",
       "      <td>2020-01-01 01:00</td>\n",
       "      <td>영등포</td>\n",
       "      <td>-4.1</td>\n",
       "      <td>0.0</td>\n",
       "      <td>0.0</td>\n",
       "      <td>NaN</td>\n",
       "    </tr>\n",
       "    <tr>\n",
       "      <th>113273</th>\n",
       "      <td>2020-01-01 02:00</td>\n",
       "      <td>영등포</td>\n",
       "      <td>-4.1</td>\n",
       "      <td>0.1</td>\n",
       "      <td>0.0</td>\n",
       "      <td>NaN</td>\n",
       "    </tr>\n",
       "    <tr>\n",
       "      <th>113274</th>\n",
       "      <td>2020-01-01 03:00</td>\n",
       "      <td>영등포</td>\n",
       "      <td>-4.1</td>\n",
       "      <td>0.6</td>\n",
       "      <td>0.0</td>\n",
       "      <td>NaN</td>\n",
       "    </tr>\n",
       "    <tr>\n",
       "      <th>113275</th>\n",
       "      <td>2020-01-01 04:00</td>\n",
       "      <td>영등포</td>\n",
       "      <td>-4.0</td>\n",
       "      <td>0.0</td>\n",
       "      <td>0.0</td>\n",
       "      <td>NaN</td>\n",
       "    </tr>\n",
       "    <tr>\n",
       "      <th>...</th>\n",
       "      <td>...</td>\n",
       "      <td>...</td>\n",
       "      <td>...</td>\n",
       "      <td>...</td>\n",
       "      <td>...</td>\n",
       "      <td>...</td>\n",
       "    </tr>\n",
       "    <tr>\n",
       "      <th>117634</th>\n",
       "      <td>2020-06-30 19:00</td>\n",
       "      <td>영등포</td>\n",
       "      <td>21.2</td>\n",
       "      <td>0.6</td>\n",
       "      <td>0.0</td>\n",
       "      <td>NaN</td>\n",
       "    </tr>\n",
       "    <tr>\n",
       "      <th>117635</th>\n",
       "      <td>2020-06-30 20:00</td>\n",
       "      <td>영등포</td>\n",
       "      <td>19.8</td>\n",
       "      <td>1.2</td>\n",
       "      <td>0.0</td>\n",
       "      <td>NaN</td>\n",
       "    </tr>\n",
       "    <tr>\n",
       "      <th>117636</th>\n",
       "      <td>2020-06-30 21:00</td>\n",
       "      <td>영등포</td>\n",
       "      <td>18.7</td>\n",
       "      <td>0.1</td>\n",
       "      <td>0.5</td>\n",
       "      <td>NaN</td>\n",
       "    </tr>\n",
       "    <tr>\n",
       "      <th>117637</th>\n",
       "      <td>2020-06-30 22:00</td>\n",
       "      <td>영등포</td>\n",
       "      <td>19.1</td>\n",
       "      <td>0.4</td>\n",
       "      <td>0.0</td>\n",
       "      <td>NaN</td>\n",
       "    </tr>\n",
       "    <tr>\n",
       "      <th>117638</th>\n",
       "      <td>2020-06-30 23:00</td>\n",
       "      <td>영등포</td>\n",
       "      <td>19.3</td>\n",
       "      <td>0.5</td>\n",
       "      <td>0.0</td>\n",
       "      <td>NaN</td>\n",
       "    </tr>\n",
       "  </tbody>\n",
       "</table>\n",
       "<p>4368 rows × 6 columns</p>\n",
       "</div>"
      ],
      "text/plain": [
       "                    date obs_name  temp  windspeed  rain  humidity\n",
       "113271  2020-01-01 00:00     영등포   -4.5        0.9   0.0       NaN\n",
       "113272  2020-01-01 01:00     영등포   -4.1        0.0   0.0       NaN\n",
       "113273  2020-01-01 02:00     영등포   -4.1        0.1   0.0       NaN\n",
       "113274  2020-01-01 03:00     영등포   -4.1        0.6   0.0       NaN\n",
       "113275  2020-01-01 04:00     영등포   -4.0        0.0   0.0       NaN\n",
       "...                  ...      ...   ...        ...   ...       ...\n",
       "117634  2020-06-30 19:00     영등포   21.2        0.6   0.0       NaN\n",
       "117635  2020-06-30 20:00     영등포   19.8        1.2   0.0       NaN\n",
       "117636  2020-06-30 21:00     영등포   18.7        0.1   0.5       NaN\n",
       "117637  2020-06-30 22:00     영등포   19.1        0.4   0.0       NaN\n",
       "117638  2020-06-30 23:00     영등포   19.3        0.5   0.0       NaN\n",
       "\n",
       "[4368 rows x 6 columns]"
      ]
     },
     "execution_count": 12,
     "metadata": {},
     "output_type": "execute_result"
    }
   ],
   "source": [
    "weather_total2[weather_total2['obs_name'] == '영등포 ']"
   ]
  },
  {
   "cell_type": "code",
   "execution_count": 13,
   "metadata": {
    "ExecuteTime": {
     "end_time": "2020-11-10T08:20:21.704867Z",
     "start_time": "2020-11-10T08:20:21.676959Z"
    }
   },
   "outputs": [
    {
     "data": {
      "text/plain": [
       "영등포    8736\n",
       "동작     8730\n",
       "서초     4368\n",
       "중구     4368\n",
       "동대문    4368\n",
       "송파     4368\n",
       "노원     4368\n",
       "강북     4368\n",
       "마포     4368\n",
       "서대문    4368\n",
       "성북     4368\n",
       "성동     4368\n",
       "금천     4368\n",
       "용산     4368\n",
       "관악     4368\n",
       "도봉     4368\n",
       "양천     4368\n",
       "강동     4365\n",
       "강남     4358\n",
       "강서     4332\n",
       "중랑     4326\n",
       "광진     4320\n",
       "은평     4312\n",
       "구로     4295\n",
       "Name: obs_name, dtype: int64"
      ]
     },
     "execution_count": 13,
     "metadata": {},
     "output_type": "execute_result"
    }
   ],
   "source": [
    "def edit_obs_name(x):\n",
    "    if x == '영등포 ':\n",
    "        return '영등포'\n",
    "    else:\n",
    "        return x\n",
    "    \n",
    "weather_total2['obs_name'] = weather_total2['obs_name'].apply(edit_obs_name)\n",
    "weather_total2.obs_name.value_counts()"
   ]
  },
  {
   "cell_type": "code",
   "execution_count": 14,
   "metadata": {
    "ExecuteTime": {
     "end_time": "2020-11-10T08:20:21.719777Z",
     "start_time": "2020-11-10T08:20:21.706822Z"
    }
   },
   "outputs": [
    {
     "data": {
      "text/plain": [
       "24"
      ]
     },
     "execution_count": 14,
     "metadata": {},
     "output_type": "execute_result"
    }
   ],
   "source": [
    "# 서울특별시 자치구 개수 재확인\n",
    "len(set(weather_total2.obs_name))"
   ]
  },
  {
   "cell_type": "markdown",
   "metadata": {},
   "source": [
    "- 중복되어 있던 \"영등포\"구를 처리해주니까 총 24개의 자치구가 존재한다고 나온다.\n",
    "- 이는 \"종로\"구에 대한 데이터가 존재하지 않기 때문이다.\n",
    "    - 따라서 \"종로\"구와 인접한 \"성북\"구의 데이터를 \"종로\"구 데이터로 취급하여 사용하도록 하겠다.\n",
    "    - 이를 위해 \"성북\"구 데이터를 따로 추출해서 하나의 데이터프레임으로 만든 뒤, 기존의 기상 데이터와 결합시켜주겠다."
   ]
  },
  {
   "cell_type": "code",
   "execution_count": 15,
   "metadata": {
    "ExecuteTime": {
     "end_time": "2020-11-10T08:20:21.741745Z",
     "start_time": "2020-11-10T08:20:21.720775Z"
    }
   },
   "outputs": [
    {
     "data": {
      "text/html": [
       "<div>\n",
       "<style scoped>\n",
       "    .dataframe tbody tr th:only-of-type {\n",
       "        vertical-align: middle;\n",
       "    }\n",
       "\n",
       "    .dataframe tbody tr th {\n",
       "        vertical-align: top;\n",
       "    }\n",
       "\n",
       "    .dataframe thead th {\n",
       "        text-align: right;\n",
       "    }\n",
       "</style>\n",
       "<table border=\"1\" class=\"dataframe\">\n",
       "  <thead>\n",
       "    <tr style=\"text-align: right;\">\n",
       "      <th></th>\n",
       "      <th>date</th>\n",
       "      <th>obs_name</th>\n",
       "      <th>temp</th>\n",
       "      <th>windspeed</th>\n",
       "      <th>rain</th>\n",
       "      <th>humidity</th>\n",
       "    </tr>\n",
       "  </thead>\n",
       "  <tbody>\n",
       "    <tr>\n",
       "      <th>65381</th>\n",
       "      <td>2020-01-01 00:00</td>\n",
       "      <td>성북</td>\n",
       "      <td>-7.8</td>\n",
       "      <td>1.1</td>\n",
       "      <td>0.0</td>\n",
       "      <td>49.7</td>\n",
       "    </tr>\n",
       "    <tr>\n",
       "      <th>65382</th>\n",
       "      <td>2020-01-01 01:00</td>\n",
       "      <td>성북</td>\n",
       "      <td>-7.2</td>\n",
       "      <td>0.7</td>\n",
       "      <td>0.0</td>\n",
       "      <td>49.1</td>\n",
       "    </tr>\n",
       "    <tr>\n",
       "      <th>65383</th>\n",
       "      <td>2020-01-01 02:00</td>\n",
       "      <td>성북</td>\n",
       "      <td>-6.9</td>\n",
       "      <td>0.7</td>\n",
       "      <td>0.0</td>\n",
       "      <td>51.0</td>\n",
       "    </tr>\n",
       "    <tr>\n",
       "      <th>65384</th>\n",
       "      <td>2020-01-01 03:00</td>\n",
       "      <td>성북</td>\n",
       "      <td>-6.9</td>\n",
       "      <td>1.2</td>\n",
       "      <td>0.0</td>\n",
       "      <td>54.7</td>\n",
       "    </tr>\n",
       "    <tr>\n",
       "      <th>65385</th>\n",
       "      <td>2020-01-01 04:00</td>\n",
       "      <td>성북</td>\n",
       "      <td>-6.9</td>\n",
       "      <td>0.3</td>\n",
       "      <td>0.0</td>\n",
       "      <td>56.3</td>\n",
       "    </tr>\n",
       "    <tr>\n",
       "      <th>...</th>\n",
       "      <td>...</td>\n",
       "      <td>...</td>\n",
       "      <td>...</td>\n",
       "      <td>...</td>\n",
       "      <td>...</td>\n",
       "      <td>...</td>\n",
       "    </tr>\n",
       "    <tr>\n",
       "      <th>69744</th>\n",
       "      <td>2020-06-30 19:00</td>\n",
       "      <td>성북</td>\n",
       "      <td>19.6</td>\n",
       "      <td>4.7</td>\n",
       "      <td>0.0</td>\n",
       "      <td>78.1</td>\n",
       "    </tr>\n",
       "    <tr>\n",
       "      <th>69745</th>\n",
       "      <td>2020-06-30 20:00</td>\n",
       "      <td>성북</td>\n",
       "      <td>19.3</td>\n",
       "      <td>4.4</td>\n",
       "      <td>0.0</td>\n",
       "      <td>79.6</td>\n",
       "    </tr>\n",
       "    <tr>\n",
       "      <th>69746</th>\n",
       "      <td>2020-06-30 21:00</td>\n",
       "      <td>성북</td>\n",
       "      <td>18.0</td>\n",
       "      <td>0.4</td>\n",
       "      <td>1.0</td>\n",
       "      <td>90.8</td>\n",
       "    </tr>\n",
       "    <tr>\n",
       "      <th>69747</th>\n",
       "      <td>2020-06-30 22:00</td>\n",
       "      <td>성북</td>\n",
       "      <td>17.7</td>\n",
       "      <td>1.4</td>\n",
       "      <td>0.5</td>\n",
       "      <td>90.5</td>\n",
       "    </tr>\n",
       "    <tr>\n",
       "      <th>69748</th>\n",
       "      <td>2020-06-30 23:00</td>\n",
       "      <td>성북</td>\n",
       "      <td>17.5</td>\n",
       "      <td>1.0</td>\n",
       "      <td>0.0</td>\n",
       "      <td>94.3</td>\n",
       "    </tr>\n",
       "  </tbody>\n",
       "</table>\n",
       "<p>4368 rows × 6 columns</p>\n",
       "</div>"
      ],
      "text/plain": [
       "                   date obs_name  temp  windspeed  rain  humidity\n",
       "65381  2020-01-01 00:00       성북  -7.8        1.1   0.0      49.7\n",
       "65382  2020-01-01 01:00       성북  -7.2        0.7   0.0      49.1\n",
       "65383  2020-01-01 02:00       성북  -6.9        0.7   0.0      51.0\n",
       "65384  2020-01-01 03:00       성북  -6.9        1.2   0.0      54.7\n",
       "65385  2020-01-01 04:00       성북  -6.9        0.3   0.0      56.3\n",
       "...                 ...      ...   ...        ...   ...       ...\n",
       "69744  2020-06-30 19:00       성북  19.6        4.7   0.0      78.1\n",
       "69745  2020-06-30 20:00       성북  19.3        4.4   0.0      79.6\n",
       "69746  2020-06-30 21:00       성북  18.0        0.4   1.0      90.8\n",
       "69747  2020-06-30 22:00       성북  17.7        1.4   0.5      90.5\n",
       "69748  2020-06-30 23:00       성북  17.5        1.0   0.0      94.3\n",
       "\n",
       "[4368 rows x 6 columns]"
      ]
     },
     "execution_count": 15,
     "metadata": {},
     "output_type": "execute_result"
    }
   ],
   "source": [
    "# \"성북\"구 데이터를 \"종로\"구 데이터로 대체\n",
    "df_jongro = weather_total2[weather_total2['obs_name'] == '성북']\n",
    "df_jongro"
   ]
  },
  {
   "cell_type": "code",
   "execution_count": 16,
   "metadata": {
    "ExecuteTime": {
     "end_time": "2020-11-10T08:20:21.757417Z",
     "start_time": "2020-11-10T08:20:21.741745Z"
    }
   },
   "outputs": [
    {
     "name": "stderr",
     "output_type": "stream",
     "text": [
      "<ipython-input-16-02ec3b59958c>:5: SettingWithCopyWarning: \n",
      "A value is trying to be set on a copy of a slice from a DataFrame.\n",
      "Try using .loc[row_indexer,col_indexer] = value instead\n",
      "\n",
      "See the caveats in the documentation: https://pandas.pydata.org/pandas-docs/stable/user_guide/indexing.html#returning-a-view-versus-a-copy\n",
      "  df_jongro['obs_name'] = df_jongro['obs_name'].apply(make_jongro_data)\n"
     ]
    },
    {
     "data": {
      "text/plain": [
       "종로    4368\n",
       "Name: obs_name, dtype: int64"
      ]
     },
     "execution_count": 16,
     "metadata": {},
     "output_type": "execute_result"
    }
   ],
   "source": [
    "def make_jongro_data(x):\n",
    "    if x == '성북':\n",
    "        return '종로'\n",
    "    \n",
    "df_jongro['obs_name'] = df_jongro['obs_name'].apply(make_jongro_data)\n",
    "df_jongro['obs_name'].value_counts()"
   ]
  },
  {
   "cell_type": "code",
   "execution_count": 17,
   "metadata": {
    "ExecuteTime": {
     "end_time": "2020-11-10T08:20:21.778507Z",
     "start_time": "2020-11-10T08:20:21.758618Z"
    }
   },
   "outputs": [
    {
     "data": {
      "text/html": [
       "<div>\n",
       "<style scoped>\n",
       "    .dataframe tbody tr th:only-of-type {\n",
       "        vertical-align: middle;\n",
       "    }\n",
       "\n",
       "    .dataframe tbody tr th {\n",
       "        vertical-align: top;\n",
       "    }\n",
       "\n",
       "    .dataframe thead th {\n",
       "        text-align: right;\n",
       "    }\n",
       "</style>\n",
       "<table border=\"1\" class=\"dataframe\">\n",
       "  <thead>\n",
       "    <tr style=\"text-align: right;\">\n",
       "      <th></th>\n",
       "      <th>date</th>\n",
       "      <th>obs_name</th>\n",
       "      <th>temp</th>\n",
       "      <th>windspeed</th>\n",
       "      <th>rain</th>\n",
       "      <th>humidity</th>\n",
       "    </tr>\n",
       "  </thead>\n",
       "  <tbody>\n",
       "    <tr>\n",
       "      <th>0</th>\n",
       "      <td>2020-01-01 00:00</td>\n",
       "      <td>강남</td>\n",
       "      <td>-5.1</td>\n",
       "      <td>1.0</td>\n",
       "      <td>0.0</td>\n",
       "      <td>41.5</td>\n",
       "    </tr>\n",
       "    <tr>\n",
       "      <th>1</th>\n",
       "      <td>2020-01-01 01:00</td>\n",
       "      <td>강남</td>\n",
       "      <td>-5.0</td>\n",
       "      <td>0.8</td>\n",
       "      <td>0.0</td>\n",
       "      <td>43.4</td>\n",
       "    </tr>\n",
       "    <tr>\n",
       "      <th>2</th>\n",
       "      <td>2020-01-01 02:00</td>\n",
       "      <td>강남</td>\n",
       "      <td>-4.8</td>\n",
       "      <td>1.3</td>\n",
       "      <td>0.0</td>\n",
       "      <td>47.0</td>\n",
       "    </tr>\n",
       "    <tr>\n",
       "      <th>3</th>\n",
       "      <td>2020-01-01 03:00</td>\n",
       "      <td>강남</td>\n",
       "      <td>-4.9</td>\n",
       "      <td>0.7</td>\n",
       "      <td>0.0</td>\n",
       "      <td>50.3</td>\n",
       "    </tr>\n",
       "    <tr>\n",
       "      <th>4</th>\n",
       "      <td>2020-01-01 04:00</td>\n",
       "      <td>강남</td>\n",
       "      <td>-4.7</td>\n",
       "      <td>1.4</td>\n",
       "      <td>0.0</td>\n",
       "      <td>55.2</td>\n",
       "    </tr>\n",
       "    <tr>\n",
       "      <th>...</th>\n",
       "      <td>...</td>\n",
       "      <td>...</td>\n",
       "      <td>...</td>\n",
       "      <td>...</td>\n",
       "      <td>...</td>\n",
       "      <td>...</td>\n",
       "    </tr>\n",
       "    <tr>\n",
       "      <th>117657</th>\n",
       "      <td>2020-06-30 19:00</td>\n",
       "      <td>종로</td>\n",
       "      <td>19.6</td>\n",
       "      <td>4.7</td>\n",
       "      <td>0.0</td>\n",
       "      <td>78.1</td>\n",
       "    </tr>\n",
       "    <tr>\n",
       "      <th>117658</th>\n",
       "      <td>2020-06-30 20:00</td>\n",
       "      <td>종로</td>\n",
       "      <td>19.3</td>\n",
       "      <td>4.4</td>\n",
       "      <td>0.0</td>\n",
       "      <td>79.6</td>\n",
       "    </tr>\n",
       "    <tr>\n",
       "      <th>117659</th>\n",
       "      <td>2020-06-30 21:00</td>\n",
       "      <td>종로</td>\n",
       "      <td>18.0</td>\n",
       "      <td>0.4</td>\n",
       "      <td>1.0</td>\n",
       "      <td>90.8</td>\n",
       "    </tr>\n",
       "    <tr>\n",
       "      <th>117660</th>\n",
       "      <td>2020-06-30 22:00</td>\n",
       "      <td>종로</td>\n",
       "      <td>17.7</td>\n",
       "      <td>1.4</td>\n",
       "      <td>0.5</td>\n",
       "      <td>90.5</td>\n",
       "    </tr>\n",
       "    <tr>\n",
       "      <th>117661</th>\n",
       "      <td>2020-06-30 23:00</td>\n",
       "      <td>종로</td>\n",
       "      <td>17.5</td>\n",
       "      <td>1.0</td>\n",
       "      <td>0.0</td>\n",
       "      <td>94.3</td>\n",
       "    </tr>\n",
       "  </tbody>\n",
       "</table>\n",
       "<p>117662 rows × 6 columns</p>\n",
       "</div>"
      ],
      "text/plain": [
       "                    date obs_name  temp  windspeed  rain  humidity\n",
       "0       2020-01-01 00:00       강남  -5.1        1.0   0.0      41.5\n",
       "1       2020-01-01 01:00       강남  -5.0        0.8   0.0      43.4\n",
       "2       2020-01-01 02:00       강남  -4.8        1.3   0.0      47.0\n",
       "3       2020-01-01 03:00       강남  -4.9        0.7   0.0      50.3\n",
       "4       2020-01-01 04:00       강남  -4.7        1.4   0.0      55.2\n",
       "...                  ...      ...   ...        ...   ...       ...\n",
       "117657  2020-06-30 19:00       종로  19.6        4.7   0.0      78.1\n",
       "117658  2020-06-30 20:00       종로  19.3        4.4   0.0      79.6\n",
       "117659  2020-06-30 21:00       종로  18.0        0.4   1.0      90.8\n",
       "117660  2020-06-30 22:00       종로  17.7        1.4   0.5      90.5\n",
       "117661  2020-06-30 23:00       종로  17.5        1.0   0.0      94.3\n",
       "\n",
       "[117662 rows x 6 columns]"
      ]
     },
     "execution_count": 17,
     "metadata": {},
     "output_type": "execute_result"
    }
   ],
   "source": [
    "# 만들어 준 \"종로\"구 데이터를 기존의 기상 데이터 셋에 결합\n",
    "weather_total3 = pd.concat([weather_total2, df_jongro], axis = 0, ignore_index = True)\n",
    "weather_total3"
   ]
  },
  {
   "cell_type": "code",
   "execution_count": 18,
   "metadata": {
    "ExecuteTime": {
     "end_time": "2020-11-10T08:20:21.795450Z",
     "start_time": "2020-11-10T08:20:21.779565Z"
    }
   },
   "outputs": [
    {
     "data": {
      "text/plain": [
       "영등포    8736\n",
       "동작     8730\n",
       "서초     4368\n",
       "성북     4368\n",
       "동대문    4368\n",
       "송파     4368\n",
       "종로     4368\n",
       "노원     4368\n",
       "강북     4368\n",
       "마포     4368\n",
       "서대문    4368\n",
       "성동     4368\n",
       "중구     4368\n",
       "금천     4368\n",
       "용산     4368\n",
       "관악     4368\n",
       "도봉     4368\n",
       "양천     4368\n",
       "강동     4365\n",
       "강남     4358\n",
       "강서     4332\n",
       "중랑     4326\n",
       "광진     4320\n",
       "은평     4312\n",
       "구로     4295\n",
       "Name: obs_name, dtype: int64"
      ]
     },
     "execution_count": 18,
     "metadata": {},
     "output_type": "execute_result"
    }
   ],
   "source": [
    "weather_total3.obs_name.value_counts()"
   ]
  },
  {
   "cell_type": "code",
   "execution_count": 19,
   "metadata": {
    "ExecuteTime": {
     "end_time": "2020-11-10T08:20:21.810409Z",
     "start_time": "2020-11-10T08:20:21.797444Z"
    }
   },
   "outputs": [
    {
     "data": {
      "text/plain": [
       "25"
      ]
     },
     "execution_count": 19,
     "metadata": {},
     "output_type": "execute_result"
    }
   ],
   "source": [
    "# 서울특별시 자치구 개수 재확인\n",
    "len(set(weather_total3.obs_name))"
   ]
  },
  {
   "cell_type": "markdown",
   "metadata": {},
   "source": [
    "### 중복된 값 제거\n",
    "- 지점명(obs_name)이 \"동작\"과 영등포\"인 경우, 중복된 값들의 존재로 인해 값이 높게 나온 것을 확인할 수 있다.\n",
    "- 따라서 중복된 값들을 모두 제거해주도록 하겠다.\n",
    "    - ```drop_duplicates()``` 함수를 사용해서 \"date\"와 \"obs_name\" 변수를 기준으로 중복된 값들을 제거해주겠다.\n",
    "    - 이때 ```keep = 'first'``` 옵션을 통해 첫 번째 값만 남겨주겠다."
   ]
  },
  {
   "cell_type": "code",
   "execution_count": 20,
   "metadata": {
    "ExecuteTime": {
     "end_time": "2020-11-10T08:20:21.859609Z",
     "start_time": "2020-11-10T08:20:21.812367Z"
    }
   },
   "outputs": [
    {
     "data": {
      "text/plain": [
       "서초     4368\n",
       "중구     4368\n",
       "동대문    4368\n",
       "송파     4368\n",
       "종로     4368\n",
       "노원     4368\n",
       "강북     4368\n",
       "영등포    4368\n",
       "마포     4368\n",
       "서대문    4368\n",
       "성북     4368\n",
       "성동     4368\n",
       "금천     4368\n",
       "용산     4368\n",
       "관악     4368\n",
       "동작     4368\n",
       "도봉     4368\n",
       "양천     4368\n",
       "강동     4365\n",
       "강남     4358\n",
       "강서     4332\n",
       "중랑     4326\n",
       "광진     4320\n",
       "은평     4312\n",
       "구로     4295\n",
       "Name: obs_name, dtype: int64"
      ]
     },
     "execution_count": 20,
     "metadata": {},
     "output_type": "execute_result"
    }
   ],
   "source": [
    "weather_total3.drop_duplicates(['date', 'obs_name'], keep = 'first', inplace = True)\n",
    "weather_total3.obs_name.value_counts()"
   ]
  },
  {
   "cell_type": "markdown",
   "metadata": {},
   "source": [
    "## 지점명(obs_name)별 모든 일자(date) 존재 여부 확인\n",
    "- 각 지점명(obs_name)별로 모든 일자(date)가 존재하는지 확인해보고, 그렇지 않다면 존재하지 않는 부분들에 대한 처리를 해주도록 하겠다."
   ]
  },
  {
   "cell_type": "code",
   "execution_count": 21,
   "metadata": {
    "ExecuteTime": {
     "end_time": "2020-11-10T08:20:21.880530Z",
     "start_time": "2020-11-10T08:20:21.861602Z"
    }
   },
   "outputs": [
    {
     "data": {
      "text/plain": [
       "4368"
      ]
     },
     "execution_count": 21,
     "metadata": {},
     "output_type": "execute_result"
    }
   ],
   "source": [
    "# 각 지점명별로 (중복된 값을 제외하고) 총 4368개의 일자가 존재해야 함\n",
    "len(set(weather_total3['date'])) # 182(날짜) * 24(시간) = 4368개"
   ]
  },
  {
   "cell_type": "markdown",
   "metadata": {},
   "source": [
    "- 위에서 ```value_counts()``` 함수를 통해, 지점명(obs_name)이 \"강동, 강남, 강서, 중랑, 광진, 은평, 구로\"의 경우 모든 일자(date)가 존재하지 않음을 확인할 수 있었다.\n",
    "    - 즉, 지점명별로 (중복된 값을 제외하고) 총 4368개의 일자가 존재하지 않는다.\n",
    "- 따라서 이에 대한 처리를 수행해주겠다."
   ]
  },
  {
   "cell_type": "markdown",
   "metadata": {},
   "source": [
    "### 각 지점명별로 비어있는 일자(date)를 확인 후, 채워해주는 함수 생성\n",
    "- 각 지점명별로 비어있는 일자를 찾아내서, 근접한 지점의 값들로 대체해주는 작업을 수행해주도록 하겠다.\n",
    "    - ex) \"강남\" 지점의 특정 일자들이 비어있는 경우, 해당 일자의 \"송파\" 지점 값들로 대체\n",
    "- 또한 반복 작업을 최소화하기 위해 하나의 함수를 만들어서 사용하겠다."
   ]
  },
  {
   "cell_type": "code",
   "execution_count": 22,
   "metadata": {
    "ExecuteTime": {
     "end_time": "2020-11-10T08:20:21.901671Z",
     "start_time": "2020-11-10T08:20:21.882524Z"
    }
   },
   "outputs": [
    {
     "data": {
      "text/html": [
       "<div>\n",
       "<style scoped>\n",
       "    .dataframe tbody tr th:only-of-type {\n",
       "        vertical-align: middle;\n",
       "    }\n",
       "\n",
       "    .dataframe tbody tr th {\n",
       "        vertical-align: top;\n",
       "    }\n",
       "\n",
       "    .dataframe thead th {\n",
       "        text-align: right;\n",
       "    }\n",
       "</style>\n",
       "<table border=\"1\" class=\"dataframe\">\n",
       "  <thead>\n",
       "    <tr style=\"text-align: right;\">\n",
       "      <th></th>\n",
       "      <th>date</th>\n",
       "    </tr>\n",
       "  </thead>\n",
       "  <tbody>\n",
       "    <tr>\n",
       "      <th>0</th>\n",
       "      <td>2020-01-01 00:00</td>\n",
       "    </tr>\n",
       "    <tr>\n",
       "      <th>1</th>\n",
       "      <td>2020-01-01 01:00</td>\n",
       "    </tr>\n",
       "    <tr>\n",
       "      <th>2</th>\n",
       "      <td>2020-01-01 02:00</td>\n",
       "    </tr>\n",
       "    <tr>\n",
       "      <th>3</th>\n",
       "      <td>2020-01-01 03:00</td>\n",
       "    </tr>\n",
       "    <tr>\n",
       "      <th>4</th>\n",
       "      <td>2020-01-01 04:00</td>\n",
       "    </tr>\n",
       "    <tr>\n",
       "      <th>...</th>\n",
       "      <td>...</td>\n",
       "    </tr>\n",
       "    <tr>\n",
       "      <th>4363</th>\n",
       "      <td>2020-06-30 19:00</td>\n",
       "    </tr>\n",
       "    <tr>\n",
       "      <th>4364</th>\n",
       "      <td>2020-06-30 20:00</td>\n",
       "    </tr>\n",
       "    <tr>\n",
       "      <th>4365</th>\n",
       "      <td>2020-06-30 21:00</td>\n",
       "    </tr>\n",
       "    <tr>\n",
       "      <th>4366</th>\n",
       "      <td>2020-06-30 22:00</td>\n",
       "    </tr>\n",
       "    <tr>\n",
       "      <th>4367</th>\n",
       "      <td>2020-06-30 23:00</td>\n",
       "    </tr>\n",
       "  </tbody>\n",
       "</table>\n",
       "<p>4368 rows × 1 columns</p>\n",
       "</div>"
      ],
      "text/plain": [
       "                  date\n",
       "0     2020-01-01 00:00\n",
       "1     2020-01-01 01:00\n",
       "2     2020-01-01 02:00\n",
       "3     2020-01-01 03:00\n",
       "4     2020-01-01 04:00\n",
       "...                ...\n",
       "4363  2020-06-30 19:00\n",
       "4364  2020-06-30 20:00\n",
       "4365  2020-06-30 21:00\n",
       "4366  2020-06-30 22:00\n",
       "4367  2020-06-30 23:00\n",
       "\n",
       "[4368 rows x 1 columns]"
      ]
     },
     "execution_count": 22,
     "metadata": {},
     "output_type": "execute_result"
    }
   ],
   "source": [
    "# 중복 값이 존재하지 않는 일자(date)로 이루어진 DataFrame 생성\n",
    "date_nodup = pd.DataFrame(weather_total3[weather_total3['obs_name'] == '성동']['date']).reset_index(drop = True)\n",
    "date_nodup"
   ]
  },
  {
   "cell_type": "code",
   "execution_count": 23,
   "metadata": {
    "ExecuteTime": {
     "end_time": "2020-11-10T08:20:21.912634Z",
     "start_time": "2020-11-10T08:20:21.905656Z"
    }
   },
   "outputs": [],
   "source": [
    "def fill_null_date(null_obs, replace_obs):\n",
    "    # 지점명이 null_obs로 이루어진 DataFrame 생성\n",
    "    df_null_obs = weather_total3[weather_total3['obs_name'] == null_obs].reset_index(drop = True)\n",
    "\n",
    "    # date_nodup과 df_null_obs을 left join\n",
    "    df_null_check = pd.merge(date_nodup, df_null_obs, how = 'left', on = 'date')\n",
    "    # 이를 통해 비어있는 일자(date) 확인\n",
    "    df_null_date = df_null_check[df_null_check['obs_name'].isnull()][['date']]\n",
    "\n",
    "    # null_obs 지점의 비어있는 일자(date)에 대해서 replace_obs 지점의 관측값들로 대체\n",
    "    df_replace_obs = weather_total3[weather_total3['obs_name'] == replace_obs].reset_index(drop = True)\n",
    "    df_null_date2 = pd.merge(df_null_date, df_replace_obs, how = 'left', on = 'date')\n",
    "\n",
    "    # replace_obs라고 되어 있는 지점명을 null_obs으로 변경\n",
    "    def change_obs_name(x):\n",
    "        if x == replace_obs:\n",
    "            return null_obs\n",
    "\n",
    "    df_null_date2['obs_name'] = df_null_date2['obs_name'].apply(change_obs_name)\n",
    "\n",
    "    # 지점명이 null_obs로 이루어진 DataFrame에 비어있는 일자(date)가 채워진 DataFrame을 결합\n",
    "    df_null_obs2 = pd.concat([df_null_obs, df_null_date2], axis = 0)\n",
    "    df_null_obs2.sort_values(by = 'date', inplace = True)\n",
    "    \n",
    "    return df_null_obs2.reset_index(drop = True)"
   ]
  },
  {
   "cell_type": "code",
   "execution_count": 24,
   "metadata": {
    "ExecuteTime": {
     "end_time": "2020-11-10T08:20:21.928582Z",
     "start_time": "2020-11-10T08:20:21.915623Z"
    }
   },
   "outputs": [
    {
     "data": {
      "text/plain": [
       "서초     4368\n",
       "중구     4368\n",
       "동대문    4368\n",
       "송파     4368\n",
       "종로     4368\n",
       "노원     4368\n",
       "강북     4368\n",
       "영등포    4368\n",
       "마포     4368\n",
       "서대문    4368\n",
       "성북     4368\n",
       "성동     4368\n",
       "금천     4368\n",
       "용산     4368\n",
       "관악     4368\n",
       "동작     4368\n",
       "도봉     4368\n",
       "양천     4368\n",
       "강동     4365\n",
       "강남     4358\n",
       "강서     4332\n",
       "중랑     4326\n",
       "광진     4320\n",
       "은평     4312\n",
       "구로     4295\n",
       "Name: obs_name, dtype: int64"
      ]
     },
     "execution_count": 24,
     "metadata": {},
     "output_type": "execute_result"
    }
   ],
   "source": [
    "weather_total3.obs_name.value_counts()"
   ]
  },
  {
   "cell_type": "code",
   "execution_count": 25,
   "metadata": {
    "ExecuteTime": {
     "end_time": "2020-11-10T08:20:22.107047Z",
     "start_time": "2020-11-10T08:20:21.929576Z"
    }
   },
   "outputs": [],
   "source": [
    "# \"강동\" 지점에 비어있는 일자(date) 처리\n",
    "obs_강동 = fill_null_date('강동', '송파')\n",
    "# \"강남\" 지점에 비어있는 일자(date) 처리\n",
    "obs_강남 = fill_null_date('강남', '송파')\n",
    "# \"강서\" 지점에 비어있는 일자(date) 처리\n",
    "obs_강서 = fill_null_date('강서', '양천')\n",
    "# \"중랑\" 지점에 비어있는 일자(date) 처리\n",
    "obs_중랑 = fill_null_date('중랑', '동대문')\n",
    "# \"광진\" 지점에 비어있는 일자(date) 처리\n",
    "obs_광진 = fill_null_date('광진', '성동')\n",
    "# \"은평\" 지점에 비어있는 일자(date) 처리\n",
    "obs_은평 = fill_null_date('은평', '성북')\n",
    "# \"구로\" 지점에 비어있는 일자(date) 처리\n",
    "obs_구로 = fill_null_date('구로', '양천')"
   ]
  },
  {
   "cell_type": "code",
   "execution_count": 26,
   "metadata": {
    "ExecuteTime": {
     "end_time": "2020-11-10T08:20:22.118942Z",
     "start_time": "2020-11-10T08:20:22.108996Z"
    }
   },
   "outputs": [
    {
     "data": {
      "text/plain": [
       "[0, 0, 0, 0, 0, 0, 0]"
      ]
     },
     "execution_count": 26,
     "metadata": {},
     "output_type": "execute_result"
    }
   ],
   "source": [
    "# 각 지점별로 비어있는 일자(date)가 존재하는지 재확인\n",
    "check_null_count = [obs_강동.obs_name.isnull().sum(), obs_강남.obs_name.isnull().sum(), obs_강서.obs_name.isnull().sum(),\n",
    "                    obs_중랑.obs_name.isnull().sum(), obs_광진.obs_name.isnull().sum(), obs_은평.obs_name.isnull().sum(),\n",
    "                    obs_구로.obs_name.isnull().sum()]\n",
    "check_null_count"
   ]
  },
  {
   "cell_type": "markdown",
   "metadata": {},
   "source": [
    "### 모든 DataFrame을 하나로 결합\n",
    "- 비어있는 일자(date)와 그에 해당되는 변수 값들을 채워넣은 각 지점명별 DataFrame들과, 일자(date)가 비어있지 않았던 나머지 자치구들의 DataFrame들을 결합해서 하나의 DataFrame으로 만들어주겠다."
   ]
  },
  {
   "cell_type": "code",
   "execution_count": 27,
   "metadata": {
    "ExecuteTime": {
     "end_time": "2020-11-10T08:20:22.246538Z",
     "start_time": "2020-11-10T08:20:22.120940Z"
    }
   },
   "outputs": [],
   "source": [
    "obs_도봉 = weather_total3[weather_total3['obs_name'] == '도봉'].reset_index(drop = True)\n",
    "obs_중구 = weather_total3[weather_total3['obs_name'] == '중구'].reset_index(drop = True)\n",
    "obs_양천 = weather_total3[weather_total3['obs_name'] == '양천'].reset_index(drop = True)\n",
    "obs_서대문 = weather_total3[weather_total3['obs_name'] == '서대문'].reset_index(drop = True)\n",
    "obs_금천 = weather_total3[weather_total3['obs_name'] == '금천'].reset_index(drop = True)\n",
    "obs_성동 = weather_total3[weather_total3['obs_name'] == '성동'].reset_index(drop = True)\n",
    "obs_서초 = weather_total3[weather_total3['obs_name'] == '서초'].reset_index(drop = True)\n",
    "obs_강북 = weather_total3[weather_total3['obs_name'] == '강북'].reset_index(drop = True)\n",
    "obs_동대문 = weather_total3[weather_total3['obs_name'] == '동대문'].reset_index(drop = True)\n",
    "obs_성북 = weather_total3[weather_total3['obs_name'] == '성북'].reset_index(drop = True)\n",
    "obs_송파 = weather_total3[weather_total3['obs_name'] == '송파'].reset_index(drop = True)\n",
    "obs_관악 = weather_total3[weather_total3['obs_name'] == '관악'].reset_index(drop = True)\n",
    "obs_종로 = weather_total3[weather_total3['obs_name'] == '종로'].reset_index(drop = True)\n",
    "obs_마포 = weather_total3[weather_total3['obs_name'] == '마포'].reset_index(drop = True)\n",
    "obs_용산 = weather_total3[weather_total3['obs_name'] == '용산'].reset_index(drop = True)\n",
    "obs_노원 = weather_total3[weather_total3['obs_name'] == '노원'].reset_index(drop = True)\n",
    "obs_영등포 = weather_total3[weather_total3['obs_name'] == '영등포'].reset_index(drop = True)\n",
    "obs_동작 = weather_total3[weather_total3['obs_name'] == '동작'].reset_index(drop = True)"
   ]
  },
  {
   "cell_type": "code",
   "execution_count": 28,
   "metadata": {
    "ExecuteTime": {
     "end_time": "2020-11-10T08:20:22.275569Z",
     "start_time": "2020-11-10T08:20:22.248512Z"
    }
   },
   "outputs": [
    {
     "data": {
      "text/html": [
       "<div>\n",
       "<style scoped>\n",
       "    .dataframe tbody tr th:only-of-type {\n",
       "        vertical-align: middle;\n",
       "    }\n",
       "\n",
       "    .dataframe tbody tr th {\n",
       "        vertical-align: top;\n",
       "    }\n",
       "\n",
       "    .dataframe thead th {\n",
       "        text-align: right;\n",
       "    }\n",
       "</style>\n",
       "<table border=\"1\" class=\"dataframe\">\n",
       "  <thead>\n",
       "    <tr style=\"text-align: right;\">\n",
       "      <th></th>\n",
       "      <th>date</th>\n",
       "      <th>obs_name</th>\n",
       "      <th>temp</th>\n",
       "      <th>windspeed</th>\n",
       "      <th>rain</th>\n",
       "      <th>humidity</th>\n",
       "    </tr>\n",
       "  </thead>\n",
       "  <tbody>\n",
       "    <tr>\n",
       "      <th>0</th>\n",
       "      <td>2020-01-01 00:00</td>\n",
       "      <td>성동</td>\n",
       "      <td>-4.4</td>\n",
       "      <td>1.1</td>\n",
       "      <td>0.0</td>\n",
       "      <td>44.6</td>\n",
       "    </tr>\n",
       "    <tr>\n",
       "      <th>1</th>\n",
       "      <td>2020-01-01 01:00</td>\n",
       "      <td>성동</td>\n",
       "      <td>-4.2</td>\n",
       "      <td>1.2</td>\n",
       "      <td>0.0</td>\n",
       "      <td>44.9</td>\n",
       "    </tr>\n",
       "    <tr>\n",
       "      <th>2</th>\n",
       "      <td>2020-01-01 02:00</td>\n",
       "      <td>성동</td>\n",
       "      <td>-4.0</td>\n",
       "      <td>1.4</td>\n",
       "      <td>0.0</td>\n",
       "      <td>47.8</td>\n",
       "    </tr>\n",
       "    <tr>\n",
       "      <th>3</th>\n",
       "      <td>2020-01-01 03:00</td>\n",
       "      <td>성동</td>\n",
       "      <td>-4.1</td>\n",
       "      <td>1.4</td>\n",
       "      <td>0.0</td>\n",
       "      <td>53.8</td>\n",
       "    </tr>\n",
       "    <tr>\n",
       "      <th>4</th>\n",
       "      <td>2020-01-01 04:00</td>\n",
       "      <td>성동</td>\n",
       "      <td>-4.1</td>\n",
       "      <td>1.5</td>\n",
       "      <td>0.0</td>\n",
       "      <td>56.6</td>\n",
       "    </tr>\n",
       "    <tr>\n",
       "      <th>...</th>\n",
       "      <td>...</td>\n",
       "      <td>...</td>\n",
       "      <td>...</td>\n",
       "      <td>...</td>\n",
       "      <td>...</td>\n",
       "      <td>...</td>\n",
       "    </tr>\n",
       "    <tr>\n",
       "      <th>109195</th>\n",
       "      <td>2020-06-30 19:00</td>\n",
       "      <td>종로</td>\n",
       "      <td>19.6</td>\n",
       "      <td>4.7</td>\n",
       "      <td>0.0</td>\n",
       "      <td>78.1</td>\n",
       "    </tr>\n",
       "    <tr>\n",
       "      <th>109196</th>\n",
       "      <td>2020-06-30 20:00</td>\n",
       "      <td>종로</td>\n",
       "      <td>19.3</td>\n",
       "      <td>4.4</td>\n",
       "      <td>0.0</td>\n",
       "      <td>79.6</td>\n",
       "    </tr>\n",
       "    <tr>\n",
       "      <th>109197</th>\n",
       "      <td>2020-06-30 21:00</td>\n",
       "      <td>종로</td>\n",
       "      <td>18.0</td>\n",
       "      <td>0.4</td>\n",
       "      <td>1.0</td>\n",
       "      <td>90.8</td>\n",
       "    </tr>\n",
       "    <tr>\n",
       "      <th>109198</th>\n",
       "      <td>2020-06-30 22:00</td>\n",
       "      <td>종로</td>\n",
       "      <td>17.7</td>\n",
       "      <td>1.4</td>\n",
       "      <td>0.5</td>\n",
       "      <td>90.5</td>\n",
       "    </tr>\n",
       "    <tr>\n",
       "      <th>109199</th>\n",
       "      <td>2020-06-30 23:00</td>\n",
       "      <td>종로</td>\n",
       "      <td>17.5</td>\n",
       "      <td>1.0</td>\n",
       "      <td>0.0</td>\n",
       "      <td>94.3</td>\n",
       "    </tr>\n",
       "  </tbody>\n",
       "</table>\n",
       "<p>109200 rows × 6 columns</p>\n",
       "</div>"
      ],
      "text/plain": [
       "                    date obs_name  temp  windspeed  rain  humidity\n",
       "0       2020-01-01 00:00       성동  -4.4        1.1   0.0      44.6\n",
       "1       2020-01-01 01:00       성동  -4.2        1.2   0.0      44.9\n",
       "2       2020-01-01 02:00       성동  -4.0        1.4   0.0      47.8\n",
       "3       2020-01-01 03:00       성동  -4.1        1.4   0.0      53.8\n",
       "4       2020-01-01 04:00       성동  -4.1        1.5   0.0      56.6\n",
       "...                  ...      ...   ...        ...   ...       ...\n",
       "109195  2020-06-30 19:00       종로  19.6        4.7   0.0      78.1\n",
       "109196  2020-06-30 20:00       종로  19.3        4.4   0.0      79.6\n",
       "109197  2020-06-30 21:00       종로  18.0        0.4   1.0      90.8\n",
       "109198  2020-06-30 22:00       종로  17.7        1.4   0.5      90.5\n",
       "109199  2020-06-30 23:00       종로  17.5        1.0   0.0      94.3\n",
       "\n",
       "[109200 rows x 6 columns]"
      ]
     },
     "execution_count": 28,
     "metadata": {},
     "output_type": "execute_result"
    }
   ],
   "source": [
    "concat_list = [obs_성동, obs_동작, obs_영등포, obs_송파, obs_강서, obs_은평, obs_금천, obs_중구,\n",
    "               obs_마포, obs_중랑, obs_용산, obs_강남, obs_동대문, obs_노원, obs_관악, obs_강동,\n",
    "               obs_서초, obs_성북, obs_양천, obs_강북, obs_구로, obs_도봉, obs_서대문, obs_광진, obs_종로]\n",
    "obs_total = pd.concat(concat_list, axis = 0, ignore_index = True)\n",
    "obs_total"
   ]
  },
  {
   "cell_type": "code",
   "execution_count": 29,
   "metadata": {
    "ExecuteTime": {
     "end_time": "2020-11-10T08:20:22.287589Z",
     "start_time": "2020-11-10T08:20:22.278565Z"
    }
   },
   "outputs": [
    {
     "data": {
      "text/plain": [
       "0"
      ]
     },
     "execution_count": 29,
     "metadata": {},
     "output_type": "execute_result"
    }
   ],
   "source": [
    "obs_total.obs_name.isnull().sum()"
   ]
  },
  {
   "cell_type": "code",
   "execution_count": 30,
   "metadata": {
    "ExecuteTime": {
     "end_time": "2020-11-10T08:20:22.303475Z",
     "start_time": "2020-11-10T08:20:22.289523Z"
    }
   },
   "outputs": [
    {
     "data": {
      "text/plain": [
       "서초     4368\n",
       "강서     4368\n",
       "광진     4368\n",
       "강동     4368\n",
       "동대문    4368\n",
       "송파     4368\n",
       "종로     4368\n",
       "노원     4368\n",
       "강북     4368\n",
       "영등포    4368\n",
       "마포     4368\n",
       "서대문    4368\n",
       "성동     4368\n",
       "성북     4368\n",
       "중구     4368\n",
       "구로     4368\n",
       "금천     4368\n",
       "용산     4368\n",
       "관악     4368\n",
       "은평     4368\n",
       "동작     4368\n",
       "강남     4368\n",
       "중랑     4368\n",
       "도봉     4368\n",
       "양천     4368\n",
       "Name: obs_name, dtype: int64"
      ]
     },
     "execution_count": 30,
     "metadata": {},
     "output_type": "execute_result"
    }
   ],
   "source": [
    "obs_total.obs_name.value_counts()"
   ]
  },
  {
   "cell_type": "markdown",
   "metadata": {},
   "source": [
    "# 일시(date) 변수 처리\n",
    "- date 변수의 타입을 datetime으로 변경하고, \"시간대\"를 의미하는 hour 변수를 만들어주도록 하겠다.\n",
    "- 그 다음, date 변수의 형태를 다음과 같이 변경해주겠다.\n",
    "    - ex) \"2018-01-01 05:00:00\" >> \"2018-01-01\""
   ]
  },
  {
   "cell_type": "code",
   "execution_count": 31,
   "metadata": {
    "ExecuteTime": {
     "end_time": "2020-11-10T08:20:22.314437Z",
     "start_time": "2020-11-10T08:20:22.305506Z"
    }
   },
   "outputs": [],
   "source": [
    "# 최종 데이터 셋을 구성하기 위해 복사본 사용\n",
    "weather_final = obs_total.copy()"
   ]
  },
  {
   "cell_type": "code",
   "execution_count": 32,
   "metadata": {
    "ExecuteTime": {
     "end_time": "2020-11-10T08:20:22.418157Z",
     "start_time": "2020-11-10T08:20:22.316462Z"
    }
   },
   "outputs": [],
   "source": [
    "# datetime 타입으로 변경\n",
    "weather_final['date'] = pd.to_datetime(weather_final['date'])\n",
    "\n",
    "# hour 변수 생성\n",
    "weather_final['hour'] = weather_final['date'].dt.hour\n",
    "# date 변수 생성(기존의 date 변수에 덮어쓰기)\n",
    "weather_final['date'] = weather_final['date'].dt.date"
   ]
  },
  {
   "cell_type": "code",
   "execution_count": 33,
   "metadata": {
    "ExecuteTime": {
     "end_time": "2020-11-10T08:20:22.443007Z",
     "start_time": "2020-11-10T08:20:22.420086Z"
    }
   },
   "outputs": [
    {
     "data": {
      "text/html": [
       "<div>\n",
       "<style scoped>\n",
       "    .dataframe tbody tr th:only-of-type {\n",
       "        vertical-align: middle;\n",
       "    }\n",
       "\n",
       "    .dataframe tbody tr th {\n",
       "        vertical-align: top;\n",
       "    }\n",
       "\n",
       "    .dataframe thead th {\n",
       "        text-align: right;\n",
       "    }\n",
       "</style>\n",
       "<table border=\"1\" class=\"dataframe\">\n",
       "  <thead>\n",
       "    <tr style=\"text-align: right;\">\n",
       "      <th></th>\n",
       "      <th>date</th>\n",
       "      <th>obs_name</th>\n",
       "      <th>temp</th>\n",
       "      <th>windspeed</th>\n",
       "      <th>rain</th>\n",
       "      <th>humidity</th>\n",
       "      <th>hour</th>\n",
       "    </tr>\n",
       "  </thead>\n",
       "  <tbody>\n",
       "    <tr>\n",
       "      <th>0</th>\n",
       "      <td>2020-01-01</td>\n",
       "      <td>성동</td>\n",
       "      <td>-4.4</td>\n",
       "      <td>1.1</td>\n",
       "      <td>0.0</td>\n",
       "      <td>44.6</td>\n",
       "      <td>0</td>\n",
       "    </tr>\n",
       "    <tr>\n",
       "      <th>1</th>\n",
       "      <td>2020-01-01</td>\n",
       "      <td>성동</td>\n",
       "      <td>-4.2</td>\n",
       "      <td>1.2</td>\n",
       "      <td>0.0</td>\n",
       "      <td>44.9</td>\n",
       "      <td>1</td>\n",
       "    </tr>\n",
       "    <tr>\n",
       "      <th>2</th>\n",
       "      <td>2020-01-01</td>\n",
       "      <td>성동</td>\n",
       "      <td>-4.0</td>\n",
       "      <td>1.4</td>\n",
       "      <td>0.0</td>\n",
       "      <td>47.8</td>\n",
       "      <td>2</td>\n",
       "    </tr>\n",
       "    <tr>\n",
       "      <th>3</th>\n",
       "      <td>2020-01-01</td>\n",
       "      <td>성동</td>\n",
       "      <td>-4.1</td>\n",
       "      <td>1.4</td>\n",
       "      <td>0.0</td>\n",
       "      <td>53.8</td>\n",
       "      <td>3</td>\n",
       "    </tr>\n",
       "    <tr>\n",
       "      <th>4</th>\n",
       "      <td>2020-01-01</td>\n",
       "      <td>성동</td>\n",
       "      <td>-4.1</td>\n",
       "      <td>1.5</td>\n",
       "      <td>0.0</td>\n",
       "      <td>56.6</td>\n",
       "      <td>4</td>\n",
       "    </tr>\n",
       "    <tr>\n",
       "      <th>...</th>\n",
       "      <td>...</td>\n",
       "      <td>...</td>\n",
       "      <td>...</td>\n",
       "      <td>...</td>\n",
       "      <td>...</td>\n",
       "      <td>...</td>\n",
       "      <td>...</td>\n",
       "    </tr>\n",
       "    <tr>\n",
       "      <th>109195</th>\n",
       "      <td>2020-06-30</td>\n",
       "      <td>종로</td>\n",
       "      <td>19.6</td>\n",
       "      <td>4.7</td>\n",
       "      <td>0.0</td>\n",
       "      <td>78.1</td>\n",
       "      <td>19</td>\n",
       "    </tr>\n",
       "    <tr>\n",
       "      <th>109196</th>\n",
       "      <td>2020-06-30</td>\n",
       "      <td>종로</td>\n",
       "      <td>19.3</td>\n",
       "      <td>4.4</td>\n",
       "      <td>0.0</td>\n",
       "      <td>79.6</td>\n",
       "      <td>20</td>\n",
       "    </tr>\n",
       "    <tr>\n",
       "      <th>109197</th>\n",
       "      <td>2020-06-30</td>\n",
       "      <td>종로</td>\n",
       "      <td>18.0</td>\n",
       "      <td>0.4</td>\n",
       "      <td>1.0</td>\n",
       "      <td>90.8</td>\n",
       "      <td>21</td>\n",
       "    </tr>\n",
       "    <tr>\n",
       "      <th>109198</th>\n",
       "      <td>2020-06-30</td>\n",
       "      <td>종로</td>\n",
       "      <td>17.7</td>\n",
       "      <td>1.4</td>\n",
       "      <td>0.5</td>\n",
       "      <td>90.5</td>\n",
       "      <td>22</td>\n",
       "    </tr>\n",
       "    <tr>\n",
       "      <th>109199</th>\n",
       "      <td>2020-06-30</td>\n",
       "      <td>종로</td>\n",
       "      <td>17.5</td>\n",
       "      <td>1.0</td>\n",
       "      <td>0.0</td>\n",
       "      <td>94.3</td>\n",
       "      <td>23</td>\n",
       "    </tr>\n",
       "  </tbody>\n",
       "</table>\n",
       "<p>109200 rows × 7 columns</p>\n",
       "</div>"
      ],
      "text/plain": [
       "              date obs_name  temp  windspeed  rain  humidity  hour\n",
       "0       2020-01-01       성동  -4.4        1.1   0.0      44.6     0\n",
       "1       2020-01-01       성동  -4.2        1.2   0.0      44.9     1\n",
       "2       2020-01-01       성동  -4.0        1.4   0.0      47.8     2\n",
       "3       2020-01-01       성동  -4.1        1.4   0.0      53.8     3\n",
       "4       2020-01-01       성동  -4.1        1.5   0.0      56.6     4\n",
       "...            ...      ...   ...        ...   ...       ...   ...\n",
       "109195  2020-06-30       종로  19.6        4.7   0.0      78.1    19\n",
       "109196  2020-06-30       종로  19.3        4.4   0.0      79.6    20\n",
       "109197  2020-06-30       종로  18.0        0.4   1.0      90.8    21\n",
       "109198  2020-06-30       종로  17.7        1.4   0.5      90.5    22\n",
       "109199  2020-06-30       종로  17.5        1.0   0.0      94.3    23\n",
       "\n",
       "[109200 rows x 7 columns]"
      ]
     },
     "execution_count": 33,
     "metadata": {},
     "output_type": "execute_result"
    }
   ],
   "source": [
    "weather_final"
   ]
  },
  {
   "cell_type": "code",
   "execution_count": 34,
   "metadata": {
    "ExecuteTime": {
     "end_time": "2020-11-10T08:20:22.467735Z",
     "start_time": "2020-11-10T08:20:22.445001Z"
    }
   },
   "outputs": [
    {
     "name": "stdout",
     "output_type": "stream",
     "text": [
      "<class 'pandas.core.frame.DataFrame'>\n",
      "RangeIndex: 109200 entries, 0 to 109199\n",
      "Data columns (total 7 columns):\n",
      " #   Column     Non-Null Count   Dtype  \n",
      "---  ------     --------------   -----  \n",
      " 0   date       109200 non-null  object \n",
      " 1   obs_name   109200 non-null  object \n",
      " 2   temp       108825 non-null  float64\n",
      " 3   windspeed  108850 non-null  float64\n",
      " 4   rain       108704 non-null  float64\n",
      " 5   humidity   65281 non-null   float64\n",
      " 6   hour       109200 non-null  int64  \n",
      "dtypes: float64(4), int64(1), object(2)\n",
      "memory usage: 5.8+ MB\n"
     ]
    }
   ],
   "source": [
    "weather_final.info()"
   ]
  },
  {
   "cell_type": "markdown",
   "metadata": {},
   "source": [
    "# 지점명(obs_name) 변수 값 형태 및 변수명 변경\n",
    "- 추후에 최종 데이터 셋을 만들 때 조인키로 사용하기 위해, \"지점명\" 변수 값의 형태를 다음과 같이 바꿔주겠다,\n",
    "    - ex) \"강남\" >> \"강남구\"\n",
    "    - 단, \"중구\"의 경우 수정 작업이 필요 없다. (이미 자치구명 형태로 입력되어 있기 때문)\n",
    "        - 따라서 먼저 모든 \"지점명\" 변수 값의 형태를 변경해 준 뒤, \"중구구\"라고 변경되었을 \"중구\" 지점에 대해서만 \"구\" 문자열 하나를 지워주도록 하겠다.\n",
    "        - ex) \"중구구\" >> \"중구\"\n",
    "- 그리고 \"지점명(obs_name)\"이 의미하는 바가 자치구와 동일하므로, 변수명을 \"gu\"라고 변경해주겠다."
   ]
  },
  {
   "cell_type": "code",
   "execution_count": 35,
   "metadata": {
    "ExecuteTime": {
     "end_time": "2020-11-10T08:20:22.547001Z",
     "start_time": "2020-11-10T08:20:22.469671Z"
    }
   },
   "outputs": [
    {
     "data": {
      "text/html": [
       "<div>\n",
       "<style scoped>\n",
       "    .dataframe tbody tr th:only-of-type {\n",
       "        vertical-align: middle;\n",
       "    }\n",
       "\n",
       "    .dataframe tbody tr th {\n",
       "        vertical-align: top;\n",
       "    }\n",
       "\n",
       "    .dataframe thead th {\n",
       "        text-align: right;\n",
       "    }\n",
       "</style>\n",
       "<table border=\"1\" class=\"dataframe\">\n",
       "  <thead>\n",
       "    <tr style=\"text-align: right;\">\n",
       "      <th></th>\n",
       "      <th>date</th>\n",
       "      <th>gu</th>\n",
       "      <th>temp</th>\n",
       "      <th>windspeed</th>\n",
       "      <th>rain</th>\n",
       "      <th>humidity</th>\n",
       "      <th>hour</th>\n",
       "    </tr>\n",
       "  </thead>\n",
       "  <tbody>\n",
       "    <tr>\n",
       "      <th>0</th>\n",
       "      <td>2020-01-01</td>\n",
       "      <td>성동구</td>\n",
       "      <td>-4.4</td>\n",
       "      <td>1.1</td>\n",
       "      <td>0.0</td>\n",
       "      <td>44.6</td>\n",
       "      <td>0</td>\n",
       "    </tr>\n",
       "    <tr>\n",
       "      <th>1</th>\n",
       "      <td>2020-01-01</td>\n",
       "      <td>성동구</td>\n",
       "      <td>-4.2</td>\n",
       "      <td>1.2</td>\n",
       "      <td>0.0</td>\n",
       "      <td>44.9</td>\n",
       "      <td>1</td>\n",
       "    </tr>\n",
       "    <tr>\n",
       "      <th>2</th>\n",
       "      <td>2020-01-01</td>\n",
       "      <td>성동구</td>\n",
       "      <td>-4.0</td>\n",
       "      <td>1.4</td>\n",
       "      <td>0.0</td>\n",
       "      <td>47.8</td>\n",
       "      <td>2</td>\n",
       "    </tr>\n",
       "    <tr>\n",
       "      <th>3</th>\n",
       "      <td>2020-01-01</td>\n",
       "      <td>성동구</td>\n",
       "      <td>-4.1</td>\n",
       "      <td>1.4</td>\n",
       "      <td>0.0</td>\n",
       "      <td>53.8</td>\n",
       "      <td>3</td>\n",
       "    </tr>\n",
       "    <tr>\n",
       "      <th>4</th>\n",
       "      <td>2020-01-01</td>\n",
       "      <td>성동구</td>\n",
       "      <td>-4.1</td>\n",
       "      <td>1.5</td>\n",
       "      <td>0.0</td>\n",
       "      <td>56.6</td>\n",
       "      <td>4</td>\n",
       "    </tr>\n",
       "    <tr>\n",
       "      <th>...</th>\n",
       "      <td>...</td>\n",
       "      <td>...</td>\n",
       "      <td>...</td>\n",
       "      <td>...</td>\n",
       "      <td>...</td>\n",
       "      <td>...</td>\n",
       "      <td>...</td>\n",
       "    </tr>\n",
       "    <tr>\n",
       "      <th>109195</th>\n",
       "      <td>2020-06-30</td>\n",
       "      <td>종로구</td>\n",
       "      <td>19.6</td>\n",
       "      <td>4.7</td>\n",
       "      <td>0.0</td>\n",
       "      <td>78.1</td>\n",
       "      <td>19</td>\n",
       "    </tr>\n",
       "    <tr>\n",
       "      <th>109196</th>\n",
       "      <td>2020-06-30</td>\n",
       "      <td>종로구</td>\n",
       "      <td>19.3</td>\n",
       "      <td>4.4</td>\n",
       "      <td>0.0</td>\n",
       "      <td>79.6</td>\n",
       "      <td>20</td>\n",
       "    </tr>\n",
       "    <tr>\n",
       "      <th>109197</th>\n",
       "      <td>2020-06-30</td>\n",
       "      <td>종로구</td>\n",
       "      <td>18.0</td>\n",
       "      <td>0.4</td>\n",
       "      <td>1.0</td>\n",
       "      <td>90.8</td>\n",
       "      <td>21</td>\n",
       "    </tr>\n",
       "    <tr>\n",
       "      <th>109198</th>\n",
       "      <td>2020-06-30</td>\n",
       "      <td>종로구</td>\n",
       "      <td>17.7</td>\n",
       "      <td>1.4</td>\n",
       "      <td>0.5</td>\n",
       "      <td>90.5</td>\n",
       "      <td>22</td>\n",
       "    </tr>\n",
       "    <tr>\n",
       "      <th>109199</th>\n",
       "      <td>2020-06-30</td>\n",
       "      <td>종로구</td>\n",
       "      <td>17.5</td>\n",
       "      <td>1.0</td>\n",
       "      <td>0.0</td>\n",
       "      <td>94.3</td>\n",
       "      <td>23</td>\n",
       "    </tr>\n",
       "  </tbody>\n",
       "</table>\n",
       "<p>109200 rows × 7 columns</p>\n",
       "</div>"
      ],
      "text/plain": [
       "              date   gu  temp  windspeed  rain  humidity  hour\n",
       "0       2020-01-01  성동구  -4.4        1.1   0.0      44.6     0\n",
       "1       2020-01-01  성동구  -4.2        1.2   0.0      44.9     1\n",
       "2       2020-01-01  성동구  -4.0        1.4   0.0      47.8     2\n",
       "3       2020-01-01  성동구  -4.1        1.4   0.0      53.8     3\n",
       "4       2020-01-01  성동구  -4.1        1.5   0.0      56.6     4\n",
       "...            ...  ...   ...        ...   ...       ...   ...\n",
       "109195  2020-06-30  종로구  19.6        4.7   0.0      78.1    19\n",
       "109196  2020-06-30  종로구  19.3        4.4   0.0      79.6    20\n",
       "109197  2020-06-30  종로구  18.0        0.4   1.0      90.8    21\n",
       "109198  2020-06-30  종로구  17.7        1.4   0.5      90.5    22\n",
       "109199  2020-06-30  종로구  17.5        1.0   0.0      94.3    23\n",
       "\n",
       "[109200 rows x 7 columns]"
      ]
     },
     "execution_count": 35,
     "metadata": {},
     "output_type": "execute_result"
    }
   ],
   "source": [
    "# 변수 값의 형태 변경\n",
    "weather_final['obs_name'] = weather_final['obs_name'] + '구'\n",
    "\n",
    "# \"중구구\" >> \"중구\" 로 수정\n",
    "def jung_gu_name(x):\n",
    "    if x == '중구구':\n",
    "        return '중구'\n",
    "    else:\n",
    "        return x\n",
    "weather_final['obs_name'] = weather_final['obs_name'].apply(jung_gu_name)\n",
    "\n",
    "# 변수명 변경\n",
    "weather_final.rename(columns = {'obs_name': 'gu'}, inplace = True)\n",
    "weather_final"
   ]
  },
  {
   "cell_type": "code",
   "execution_count": 36,
   "metadata": {
    "ExecuteTime": {
     "end_time": "2020-11-10T08:20:22.572853Z",
     "start_time": "2020-11-10T08:20:22.548934Z"
    }
   },
   "outputs": [
    {
     "data": {
      "text/plain": [
       "강북구     4368\n",
       "송파구     4368\n",
       "강남구     4368\n",
       "성동구     4368\n",
       "영등포구    4368\n",
       "종로구     4368\n",
       "강동구     4368\n",
       "마포구     4368\n",
       "도봉구     4368\n",
       "용산구     4368\n",
       "동작구     4368\n",
       "양천구     4368\n",
       "구로구     4368\n",
       "서초구     4368\n",
       "중구      4368\n",
       "은평구     4368\n",
       "성북구     4368\n",
       "강서구     4368\n",
       "금천구     4368\n",
       "노원구     4368\n",
       "중랑구     4368\n",
       "광진구     4368\n",
       "서대문구    4368\n",
       "동대문구    4368\n",
       "관악구     4368\n",
       "Name: gu, dtype: int64"
      ]
     },
     "execution_count": 36,
     "metadata": {},
     "output_type": "execute_result"
    }
   ],
   "source": [
    "weather_final.gu.value_counts()"
   ]
  },
  {
   "cell_type": "markdown",
   "metadata": {},
   "source": [
    "# 조인키 생성\n",
    "- 지하철 데이터 셋을 기준으로 인구 데이터 셋과 기상 데이터 셋을 결합시켜 줄 것이므로, 이를 위한 조인키가 필요하다.\n",
    "- 따라서 지하철 데이터 셋과 기상 데이터 셋을 결합하기 위한 조인키 1개를 만들어주도록 하겠다.\n",
    "    - 지하철 데이터 셋과 기상 데이터 셋을 결합하기 위한 조인키(weather_join_key)\n",
    "        - ex) \"2018-01-01_중구\""
   ]
  },
  {
   "cell_type": "code",
   "execution_count": 37,
   "metadata": {
    "ExecuteTime": {
     "end_time": "2020-11-10T08:20:22.680491Z",
     "start_time": "2020-11-10T08:20:22.574846Z"
    }
   },
   "outputs": [
    {
     "data": {
      "text/plain": [
       "0         2020-01-01_성동구\n",
       "1         2020-01-01_성동구\n",
       "2         2020-01-01_성동구\n",
       "3         2020-01-01_성동구\n",
       "4         2020-01-01_성동구\n",
       "               ...      \n",
       "109195    2020-06-30_종로구\n",
       "109196    2020-06-30_종로구\n",
       "109197    2020-06-30_종로구\n",
       "109198    2020-06-30_종로구\n",
       "109199    2020-06-30_종로구\n",
       "Name: weather_join_key, Length: 109200, dtype: object"
      ]
     },
     "execution_count": 37,
     "metadata": {},
     "output_type": "execute_result"
    }
   ],
   "source": [
    "# datetime to string\n",
    "weather_final['date'] = weather_final['date'].astype(str)\n",
    "\n",
    "# 지하철 데이터와 결합할 때 사용할 조인키\n",
    "weather_final['weather_join_key'] = weather_final['date'] + '_' + weather_final['gu']\n",
    "weather_final['weather_join_key']"
   ]
  },
  {
   "cell_type": "markdown",
   "metadata": {},
   "source": [
    "# 결측치 처리\n",
    "- humidity 변수의 경우, 결측치가 너무 많기 때문에 분석 대상에서 제외시키도록 하겠다.\n",
    "    - 즉, humidity 변수는 그냥 제거해주겠다.\n",
    "- temp, windspeed, rain 변수의 경우에는 결측치들을 앞/뒤 값의 평균 값으로 대체해주겠다.\n",
    "    - 만약 앞/뒤 값 중, 결측치가 하나라도 존재해서 대체가 안 되는 경우에는 전체 평균 값으로 대체해주도록 하겠다."
   ]
  },
  {
   "cell_type": "code",
   "execution_count": 38,
   "metadata": {
    "ExecuteTime": {
     "end_time": "2020-11-10T08:20:22.712383Z",
     "start_time": "2020-11-10T08:20:22.682485Z"
    }
   },
   "outputs": [
    {
     "data": {
      "text/plain": [
       "date                    0\n",
       "gu                      0\n",
       "temp                  375\n",
       "windspeed             350\n",
       "rain                  496\n",
       "humidity            43919\n",
       "hour                    0\n",
       "weather_join_key        0\n",
       "dtype: int64"
      ]
     },
     "execution_count": 38,
     "metadata": {},
     "output_type": "execute_result"
    }
   ],
   "source": [
    "weather_final.isnull().sum()"
   ]
  },
  {
   "cell_type": "code",
   "execution_count": 39,
   "metadata": {
    "ExecuteTime": {
     "end_time": "2020-11-10T08:20:22.731407Z",
     "start_time": "2020-11-10T08:20:22.714425Z"
    }
   },
   "outputs": [],
   "source": [
    "# humidity 변수 제거\n",
    "weather_final.drop(['humidity'], axis = 1, inplace = True)"
   ]
  },
  {
   "cell_type": "code",
   "execution_count": 40,
   "metadata": {
    "ExecuteTime": {
     "end_time": "2020-11-10T08:20:22.741329Z",
     "start_time": "2020-11-10T08:20:22.732319Z"
    }
   },
   "outputs": [],
   "source": [
    "# temp 변수에서 결측치들이 존재하는 index 추출\n",
    "temp_null_idx = weather_final[weather_final['temp'].isnull()].index\n",
    "# windspeed 변수에서 결측치들이 존재하는 index 추출\n",
    "windspeed_null_idx = weather_final[weather_final['windspeed'].isnull()].index\n",
    "# rain 변수에서 결측치들이 존재하는 index 추출\n",
    "rain_null_idx = weather_final[weather_final['rain'].isnull()].index"
   ]
  },
  {
   "cell_type": "code",
   "execution_count": 41,
   "metadata": {
    "ExecuteTime": {
     "end_time": "2020-11-10T08:20:24.037986Z",
     "start_time": "2020-11-10T08:20:22.743282Z"
    }
   },
   "outputs": [
    {
     "data": {
      "application/vnd.jupyter.widget-view+json": {
       "model_id": "7b86341302d24e7ab0f7d8f6394ee1c1",
       "version_major": 2,
       "version_minor": 0
      },
      "text/plain": [
       "HBox(children=(FloatProgress(value=0.0, max=375.0), HTML(value='')))"
      ]
     },
     "metadata": {},
     "output_type": "display_data"
    },
    {
     "name": "stdout",
     "output_type": "stream",
     "text": [
      "\n"
     ]
    },
    {
     "data": {
      "application/vnd.jupyter.widget-view+json": {
       "model_id": "0fca30c2f8a2450a9c8affe3d461c1ec",
       "version_major": 2,
       "version_minor": 0
      },
      "text/plain": [
       "HBox(children=(FloatProgress(value=0.0, max=350.0), HTML(value='')))"
      ]
     },
     "metadata": {},
     "output_type": "display_data"
    },
    {
     "name": "stdout",
     "output_type": "stream",
     "text": [
      "\n"
     ]
    },
    {
     "data": {
      "application/vnd.jupyter.widget-view+json": {
       "model_id": "fd44b0d8e6c74c0d9a66904939a48cd6",
       "version_major": 2,
       "version_minor": 0
      },
      "text/plain": [
       "HBox(children=(FloatProgress(value=0.0, max=496.0), HTML(value='')))"
      ]
     },
     "metadata": {},
     "output_type": "display_data"
    },
    {
     "name": "stdout",
     "output_type": "stream",
     "text": [
      "\n"
     ]
    }
   ],
   "source": [
    "# temp 변수 결측치 앞/뒤 값의 평균 값으로 대체\n",
    "for idx in tqdm(temp_null_idx):\n",
    "    temp_fillna = round(weather_final.loc[idx - 1, 'temp'] + weather_final.loc[idx + 1, 'temp'] / 2, 1)\n",
    "    weather_final.loc[weather_final.index == idx, 'temp'] = temp_fillna\n",
    "\n",
    "# windspeed 변수 결측치 앞/뒤 값의 평균 값으로 대체\n",
    "for idx in tqdm(windspeed_null_idx):\n",
    "    windspeed_fillna = round(weather_final.loc[idx - 1, 'windspeed'] + weather_final.loc[idx + 1, 'windspeed'] / 2, 1)\n",
    "    weather_final.loc[weather_final.index == idx, 'windspeed'] = windspeed_fillna\n",
    "    \n",
    "# rain 변수 결측치 앞/뒤 값의 평균 값으로 대체\n",
    "for idx in tqdm(rain_null_idx):\n",
    "    rain_fillna = round(weather_final.loc[idx - 1, 'rain'] + weather_final.loc[idx + 1, 'rain'] / 2, 1)\n",
    "    weather_final.loc[weather_final.index == idx, 'rain'] = rain_fillna"
   ]
  },
  {
   "cell_type": "code",
   "execution_count": 42,
   "metadata": {
    "ExecuteTime": {
     "end_time": "2020-11-10T08:20:24.066298Z",
     "start_time": "2020-11-10T08:20:24.039996Z"
    }
   },
   "outputs": [
    {
     "data": {
      "text/plain": [
       "date                  0\n",
       "gu                    0\n",
       "temp                331\n",
       "windspeed           301\n",
       "rain                477\n",
       "hour                  0\n",
       "weather_join_key      0\n",
       "dtype: int64"
      ]
     },
     "execution_count": 42,
     "metadata": {},
     "output_type": "execute_result"
    }
   ],
   "source": [
    "weather_final.isnull().sum()"
   ]
  },
  {
   "cell_type": "markdown",
   "metadata": {},
   "source": [
    "- 위 결과를 보면, 여전히 결측치가 존재한다.\n",
    "    - 즉, 앞/뒤 값 중 하나라도 결측인 값이 존재했다는 의미이다.\n",
    "- 따라서 이 경우들에 대해서는 전체 평균 값으로 대체해주도록 하겠다."
   ]
  },
  {
   "cell_type": "code",
   "execution_count": 43,
   "metadata": {
    "ExecuteTime": {
     "end_time": "2020-11-10T08:20:24.090066Z",
     "start_time": "2020-11-10T08:20:24.068315Z"
    }
   },
   "outputs": [],
   "source": [
    "# temp 변수 전체 평균 값\n",
    "temp_total_mean = round(np.mean(weather_final['temp']), 1)\n",
    "# windspeed 변수 전체 평균 값\n",
    "windspeed_total_mean = round(np.mean(weather_final['windspeed']), 1)\n",
    "# rain 변수 전체 평균 값\n",
    "rain_total_mean = round(np.mean(weather_final['rain']), 1)\n",
    "\n",
    "weather_final['temp'].fillna(temp_total_mean, inplace = True)\n",
    "weather_final['windspeed'].fillna(windspeed_total_mean, inplace = True)\n",
    "weather_final['rain'].fillna(rain_total_mean, inplace = True)"
   ]
  },
  {
   "cell_type": "code",
   "execution_count": 44,
   "metadata": {
    "ExecuteTime": {
     "end_time": "2020-11-10T08:20:24.113575Z",
     "start_time": "2020-11-10T08:20:24.090066Z"
    }
   },
   "outputs": [
    {
     "data": {
      "text/plain": [
       "date                0\n",
       "gu                  0\n",
       "temp                0\n",
       "windspeed           0\n",
       "rain                0\n",
       "hour                0\n",
       "weather_join_key    0\n",
       "dtype: int64"
      ]
     },
     "execution_count": 44,
     "metadata": {},
     "output_type": "execute_result"
    }
   ],
   "source": [
    "weather_final.isnull().sum()"
   ]
  },
  {
   "cell_type": "markdown",
   "metadata": {},
   "source": [
    "# 불필요한 변수들 제거\n",
    "- gu 변수는 분석에 사용하지 않을 것이므로 제거해주겠다."
   ]
  },
  {
   "cell_type": "code",
   "execution_count": 45,
   "metadata": {
    "ExecuteTime": {
     "end_time": "2020-11-10T08:20:24.121545Z",
     "start_time": "2020-11-10T08:20:24.115565Z"
    }
   },
   "outputs": [
    {
     "data": {
      "text/plain": [
       "Index(['date', 'gu', 'temp', 'windspeed', 'rain', 'hour', 'weather_join_key'], dtype='object')"
      ]
     },
     "execution_count": 45,
     "metadata": {},
     "output_type": "execute_result"
    }
   ],
   "source": [
    "weather_final.columns"
   ]
  },
  {
   "cell_type": "code",
   "execution_count": 46,
   "metadata": {
    "ExecuteTime": {
     "end_time": "2020-11-10T08:20:24.140887Z",
     "start_time": "2020-11-10T08:20:24.123593Z"
    }
   },
   "outputs": [],
   "source": [
    "weather_final.drop(['gu'], axis = 1, inplace = True)"
   ]
  },
  {
   "cell_type": "code",
   "execution_count": 47,
   "metadata": {
    "ExecuteTime": {
     "end_time": "2020-11-10T08:20:24.164807Z",
     "start_time": "2020-11-10T08:20:24.143877Z"
    }
   },
   "outputs": [
    {
     "data": {
      "text/html": [
       "<div>\n",
       "<style scoped>\n",
       "    .dataframe tbody tr th:only-of-type {\n",
       "        vertical-align: middle;\n",
       "    }\n",
       "\n",
       "    .dataframe tbody tr th {\n",
       "        vertical-align: top;\n",
       "    }\n",
       "\n",
       "    .dataframe thead th {\n",
       "        text-align: right;\n",
       "    }\n",
       "</style>\n",
       "<table border=\"1\" class=\"dataframe\">\n",
       "  <thead>\n",
       "    <tr style=\"text-align: right;\">\n",
       "      <th></th>\n",
       "      <th>date</th>\n",
       "      <th>temp</th>\n",
       "      <th>windspeed</th>\n",
       "      <th>rain</th>\n",
       "      <th>hour</th>\n",
       "      <th>weather_join_key</th>\n",
       "    </tr>\n",
       "  </thead>\n",
       "  <tbody>\n",
       "    <tr>\n",
       "      <th>0</th>\n",
       "      <td>2020-01-01</td>\n",
       "      <td>-4.4</td>\n",
       "      <td>1.1</td>\n",
       "      <td>0.0</td>\n",
       "      <td>0</td>\n",
       "      <td>2020-01-01_성동구</td>\n",
       "    </tr>\n",
       "    <tr>\n",
       "      <th>1</th>\n",
       "      <td>2020-01-01</td>\n",
       "      <td>-4.2</td>\n",
       "      <td>1.2</td>\n",
       "      <td>0.0</td>\n",
       "      <td>1</td>\n",
       "      <td>2020-01-01_성동구</td>\n",
       "    </tr>\n",
       "    <tr>\n",
       "      <th>2</th>\n",
       "      <td>2020-01-01</td>\n",
       "      <td>-4.0</td>\n",
       "      <td>1.4</td>\n",
       "      <td>0.0</td>\n",
       "      <td>2</td>\n",
       "      <td>2020-01-01_성동구</td>\n",
       "    </tr>\n",
       "    <tr>\n",
       "      <th>3</th>\n",
       "      <td>2020-01-01</td>\n",
       "      <td>-4.1</td>\n",
       "      <td>1.4</td>\n",
       "      <td>0.0</td>\n",
       "      <td>3</td>\n",
       "      <td>2020-01-01_성동구</td>\n",
       "    </tr>\n",
       "    <tr>\n",
       "      <th>4</th>\n",
       "      <td>2020-01-01</td>\n",
       "      <td>-4.1</td>\n",
       "      <td>1.5</td>\n",
       "      <td>0.0</td>\n",
       "      <td>4</td>\n",
       "      <td>2020-01-01_성동구</td>\n",
       "    </tr>\n",
       "    <tr>\n",
       "      <th>...</th>\n",
       "      <td>...</td>\n",
       "      <td>...</td>\n",
       "      <td>...</td>\n",
       "      <td>...</td>\n",
       "      <td>...</td>\n",
       "      <td>...</td>\n",
       "    </tr>\n",
       "    <tr>\n",
       "      <th>109195</th>\n",
       "      <td>2020-06-30</td>\n",
       "      <td>19.6</td>\n",
       "      <td>4.7</td>\n",
       "      <td>0.0</td>\n",
       "      <td>19</td>\n",
       "      <td>2020-06-30_종로구</td>\n",
       "    </tr>\n",
       "    <tr>\n",
       "      <th>109196</th>\n",
       "      <td>2020-06-30</td>\n",
       "      <td>19.3</td>\n",
       "      <td>4.4</td>\n",
       "      <td>0.0</td>\n",
       "      <td>20</td>\n",
       "      <td>2020-06-30_종로구</td>\n",
       "    </tr>\n",
       "    <tr>\n",
       "      <th>109197</th>\n",
       "      <td>2020-06-30</td>\n",
       "      <td>18.0</td>\n",
       "      <td>0.4</td>\n",
       "      <td>1.0</td>\n",
       "      <td>21</td>\n",
       "      <td>2020-06-30_종로구</td>\n",
       "    </tr>\n",
       "    <tr>\n",
       "      <th>109198</th>\n",
       "      <td>2020-06-30</td>\n",
       "      <td>17.7</td>\n",
       "      <td>1.4</td>\n",
       "      <td>0.5</td>\n",
       "      <td>22</td>\n",
       "      <td>2020-06-30_종로구</td>\n",
       "    </tr>\n",
       "    <tr>\n",
       "      <th>109199</th>\n",
       "      <td>2020-06-30</td>\n",
       "      <td>17.5</td>\n",
       "      <td>1.0</td>\n",
       "      <td>0.0</td>\n",
       "      <td>23</td>\n",
       "      <td>2020-06-30_종로구</td>\n",
       "    </tr>\n",
       "  </tbody>\n",
       "</table>\n",
       "<p>109200 rows × 6 columns</p>\n",
       "</div>"
      ],
      "text/plain": [
       "              date  temp  windspeed  rain  hour weather_join_key\n",
       "0       2020-01-01  -4.4        1.1   0.0     0   2020-01-01_성동구\n",
       "1       2020-01-01  -4.2        1.2   0.0     1   2020-01-01_성동구\n",
       "2       2020-01-01  -4.0        1.4   0.0     2   2020-01-01_성동구\n",
       "3       2020-01-01  -4.1        1.4   0.0     3   2020-01-01_성동구\n",
       "4       2020-01-01  -4.1        1.5   0.0     4   2020-01-01_성동구\n",
       "...            ...   ...        ...   ...   ...              ...\n",
       "109195  2020-06-30  19.6        4.7   0.0    19   2020-06-30_종로구\n",
       "109196  2020-06-30  19.3        4.4   0.0    20   2020-06-30_종로구\n",
       "109197  2020-06-30  18.0        0.4   1.0    21   2020-06-30_종로구\n",
       "109198  2020-06-30  17.7        1.4   0.5    22   2020-06-30_종로구\n",
       "109199  2020-06-30  17.5        1.0   0.0    23   2020-06-30_종로구\n",
       "\n",
       "[109200 rows x 6 columns]"
      ]
     },
     "execution_count": 47,
     "metadata": {},
     "output_type": "execute_result"
    }
   ],
   "source": [
    "weather_final"
   ]
  },
  {
   "cell_type": "code",
   "execution_count": 48,
   "metadata": {
    "ExecuteTime": {
     "end_time": "2020-11-10T08:20:24.182813Z",
     "start_time": "2020-11-10T08:20:24.166800Z"
    }
   },
   "outputs": [
    {
     "name": "stdout",
     "output_type": "stream",
     "text": [
      "<class 'pandas.core.frame.DataFrame'>\n",
      "RangeIndex: 109200 entries, 0 to 109199\n",
      "Data columns (total 6 columns):\n",
      " #   Column            Non-Null Count   Dtype  \n",
      "---  ------            --------------   -----  \n",
      " 0   date              109200 non-null  object \n",
      " 1   temp              109200 non-null  float64\n",
      " 2   windspeed         109200 non-null  float64\n",
      " 3   rain              109200 non-null  float64\n",
      " 4   hour              109200 non-null  int64  \n",
      " 5   weather_join_key  109200 non-null  object \n",
      "dtypes: float64(3), int64(1), object(2)\n",
      "memory usage: 5.0+ MB\n"
     ]
    }
   ],
   "source": [
    "weather_final.info()"
   ]
  },
  {
   "cell_type": "markdown",
   "metadata": {},
   "source": [
    "# 최종 생성된 데이터 셋을 csv 파일로 내보내기"
   ]
  },
  {
   "cell_type": "code",
   "execution_count": 49,
   "metadata": {
    "ExecuteTime": {
     "end_time": "2020-11-10T08:20:24.187775Z",
     "start_time": "2020-11-10T08:20:24.183749Z"
    }
   },
   "outputs": [],
   "source": [
    "new_filepath = 'C:/Users/Brian/Desktop/Data Science/Projects/Playdata/dataset/made_by_전처리/test'"
   ]
  },
  {
   "cell_type": "code",
   "execution_count": 50,
   "metadata": {
    "ExecuteTime": {
     "end_time": "2020-11-10T08:20:24.551651Z",
     "start_time": "2020-11-10T08:20:24.190723Z"
    }
   },
   "outputs": [],
   "source": [
    "weather_final.to_csv('{}/weather_final.csv'.format(new_filepath), index = False)"
   ]
  }
 ],
 "metadata": {
  "hide_input": false,
  "kernelspec": {
   "display_name": "Python 3",
   "language": "python",
   "name": "python3"
  },
  "language_info": {
   "codemirror_mode": {
    "name": "ipython",
    "version": 3
   },
   "file_extension": ".py",
   "mimetype": "text/x-python",
   "name": "python",
   "nbconvert_exporter": "python",
   "pygments_lexer": "ipython3",
   "version": "3.8.3"
  },
  "toc": {
   "base_numbering": 1,
   "nav_menu": {},
   "number_sections": true,
   "sideBar": true,
   "skip_h1_title": false,
   "title_cell": "Table of Contents",
   "title_sidebar": "Contents",
   "toc_cell": false,
   "toc_position": {},
   "toc_section_display": true,
   "toc_window_display": false
  },
  "varInspector": {
   "cols": {
    "lenName": 16,
    "lenType": 16,
    "lenVar": 40
   },
   "kernels_config": {
    "python": {
     "delete_cmd_postfix": "",
     "delete_cmd_prefix": "del ",
     "library": "var_list.py",
     "varRefreshCmd": "print(var_dic_list())"
    },
    "r": {
     "delete_cmd_postfix": ") ",
     "delete_cmd_prefix": "rm(",
     "library": "var_list.r",
     "varRefreshCmd": "cat(var_dic_list()) "
    }
   },
   "types_to_exclude": [
    "module",
    "function",
    "builtin_function_or_method",
    "instance",
    "_Feature"
   ],
   "window_display": false
  }
 },
 "nbformat": 4,
 "nbformat_minor": 4
}
