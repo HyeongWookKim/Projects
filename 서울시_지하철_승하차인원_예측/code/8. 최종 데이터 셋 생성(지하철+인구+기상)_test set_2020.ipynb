{
 "cells": [
  {
   "cell_type": "markdown",
   "metadata": {},
   "source": [
    "**<파일 경로>**\n",
    "- C:/Users/Brian/Desktop/Data Science/Projects/Playdata/dataset/made_by_전처리/test"
   ]
  },
  {
   "cell_type": "code",
   "execution_count": 1,
   "metadata": {
    "ExecuteTime": {
     "end_time": "2020-11-14T04:06:51.169165Z",
     "start_time": "2020-11-14T04:06:49.865224Z"
    }
   },
   "outputs": [
    {
     "name": "stdout",
     "output_type": "stream",
     "text": [
      "C:/Users/Brian/Desktop/Data Science/Projects/Playdata/dataset/made_by_전처리/test\n"
     ]
    }
   ],
   "source": [
    "filepath = input()"
   ]
  },
  {
   "cell_type": "code",
   "execution_count": 2,
   "metadata": {
    "ExecuteTime": {
     "end_time": "2020-11-14T04:06:51.666254Z",
     "start_time": "2020-11-14T04:06:51.171164Z"
    }
   },
   "outputs": [],
   "source": [
    "import numpy as np\n",
    "import pandas as pd\n",
    "import datetime as dt\n",
    "from tqdm.notebook import tqdm"
   ]
  },
  {
   "cell_type": "markdown",
   "metadata": {},
   "source": [
    "# 최종 데이터 셋 생성\n",
    "- 앞서 전처리 작업을 거친 \"지하철 데이터\", \"인구 데이터\", \"기상 데이터\"들을 결합하여 최종 데이터 셋을 만들도록 하겠다."
   ]
  },
  {
   "cell_type": "markdown",
   "metadata": {},
   "source": [
    "- 먼저 메모리 절약을 위해 각 변수들의 데이터 타입을 지정해 준 뒤, 각 데이터 셋을 불러오도록 하겠다."
   ]
  },
  {
   "cell_type": "code",
   "execution_count": 3,
   "metadata": {
    "ExecuteTime": {
     "end_time": "2020-11-14T04:06:51.677164Z",
     "start_time": "2020-11-14T04:06:51.668163Z"
    }
   },
   "outputs": [],
   "source": [
    "# 지하철 데이터 셋의 변수들 데이터 타입 지정\n",
    "subway_dtype = {\n",
    "    'hour': np.int32, 'boarding_num': np.int32, 'waiting_area': np.float32, 'platform_area': np.float32, \n",
    "    'length': np.int32, 'transfer_num': np.int32, 'entrance': np.int32, 'msi_cnt': np.int32, \n",
    "    'hsi_cnt': np.int32, 'uvi_cnt': np.int32, 'hpi_cnt': np.int32, 'mti_cnt': np.int32\n",
    "}\n",
    "\n",
    "# 인구 데이터 셋의 변수들 데이터 타입 지정\n",
    "pop_dtype = {\n",
    "    'hour': np.int32, 'total': np.float32, 'pop_below_20': np.float32,\n",
    "    'pop_20': np.float32, 'pop_30': np.float32, 'pop_40': np.float32, \n",
    "    'pop_50': np.float32, 'pop_60': np.float32, 'pop_over_70': np.float32\n",
    "}\n",
    "\n",
    "# 기상 데이터 셋의 변수들 데이터 타입 지정\n",
    "weather_dtype = {\n",
    "    'temp': np.float32, 'windspeed': np.float32, 'rain': np.float32, 'hour': np.int32\n",
    "}"
   ]
  },
  {
   "cell_type": "code",
   "execution_count": 4,
   "metadata": {
    "ExecuteTime": {
     "end_time": "2020-11-14T04:06:57.456178Z",
     "start_time": "2020-11-14T04:06:51.679165Z"
    }
   },
   "outputs": [
    {
     "name": "stderr",
     "output_type": "stream",
     "text": [
      "C:\\Users\\Brian\\anaconda3\\lib\\site-packages\\IPython\\core\\interactiveshell.py:3071: DtypeWarning: Columns (12) have mixed types.Specify dtype option on import or set low_memory=False.\n",
      "  has_raised = await self.run_ast_nodes(code_ast.body, cell_name,\n"
     ]
    }
   ],
   "source": [
    "subway_final = pd.read_csv('{}/subway_final.csv'.format(filepath), dtype = subway_dtype)\n",
    "pop_final = pd.read_csv('{}/pop_final.csv'.format(filepath), dtype = pop_dtype)\n",
    "weather_final = pd.read_csv('{}/weather_final.csv'.format(filepath), dtype = weather_dtype)"
   ]
  },
  {
   "cell_type": "markdown",
   "metadata": {},
   "source": [
    "- 추가적인 메모리 절약을 위해 object 타입 변수들을 모두 category 타입으로 변환해주겠다."
   ]
  },
  {
   "cell_type": "code",
   "execution_count": 5,
   "metadata": {
    "ExecuteTime": {
     "end_time": "2020-11-14T04:07:00.062175Z",
     "start_time": "2020-11-14T04:06:57.457170Z"
    }
   },
   "outputs": [
    {
     "data": {
      "application/vnd.jupyter.widget-view+json": {
       "model_id": "90976070b4394429a34c93077c0a921f",
       "version_major": 2,
       "version_minor": 0
      },
      "text/plain": [
       "HBox(children=(FloatProgress(value=0.0, max=12.0), HTML(value='')))"
      ]
     },
     "metadata": {},
     "output_type": "display_data"
    },
    {
     "name": "stdout",
     "output_type": "stream",
     "text": [
      "\n"
     ]
    },
    {
     "data": {
      "application/vnd.jupyter.widget-view+json": {
       "model_id": "e354b3c3af1a42b69d6b39fd99e28bb0",
       "version_major": 2,
       "version_minor": 0
      },
      "text/plain": [
       "HBox(children=(FloatProgress(value=0.0, max=2.0), HTML(value='')))"
      ]
     },
     "metadata": {},
     "output_type": "display_data"
    },
    {
     "name": "stdout",
     "output_type": "stream",
     "text": [
      "\n"
     ]
    },
    {
     "data": {
      "application/vnd.jupyter.widget-view+json": {
       "model_id": "4b36ffd19ab24aefb0e7e83021d5c2b4",
       "version_major": 2,
       "version_minor": 0
      },
      "text/plain": [
       "HBox(children=(FloatProgress(value=0.0, max=2.0), HTML(value='')))"
      ]
     },
     "metadata": {},
     "output_type": "display_data"
    },
    {
     "name": "stdout",
     "output_type": "stream",
     "text": [
      "\n"
     ]
    }
   ],
   "source": [
    "subway_cat = ['date', 'line', 'station_name', 'boarding', 'type', 'floor', \n",
    "              'transfer', 'gate', 'gu', 'dong', 'pop_join_key', 'weather_join_key']\n",
    "\n",
    "pop_cat = ['date', 'pop_join_key']\n",
    "\n",
    "weather_cat = ['date', 'weather_join_key']\n",
    "\n",
    "for cat in tqdm(subway_cat):\n",
    "    subway_final[cat] = subway_final[cat].astype('category')\n",
    "    \n",
    "for cat in tqdm(pop_cat):\n",
    "    pop_final[cat] = pop_final[cat].astype('category')\n",
    "    \n",
    "for cat in tqdm(weather_cat):\n",
    "    weather_final[cat] = weather_final[cat].astype('category')"
   ]
  },
  {
   "cell_type": "code",
   "execution_count": 6,
   "metadata": {
    "ExecuteTime": {
     "end_time": "2020-11-14T04:07:00.084176Z",
     "start_time": "2020-11-14T04:07:00.063175Z"
    }
   },
   "outputs": [
    {
     "name": "stdout",
     "output_type": "stream",
     "text": [
      "<class 'pandas.core.frame.DataFrame'>\n",
      "RangeIndex: 1867120 entries, 0 to 1867119\n",
      "Data columns (total 24 columns):\n",
      " #   Column            Dtype   \n",
      "---  ------            -----   \n",
      " 0   date              category\n",
      " 1   line              category\n",
      " 2   station_name      category\n",
      " 3   boarding          category\n",
      " 4   hour              int32   \n",
      " 5   boarding_num      int32   \n",
      " 6   waiting_area      float32 \n",
      " 7   platform_area     float32 \n",
      " 8   gu                category\n",
      " 9   type              category\n",
      " 10  length            int32   \n",
      " 11  floor             category\n",
      " 12  transfer          category\n",
      " 13  transfer_num      int32   \n",
      " 14  entrance          int32   \n",
      " 15  gate              category\n",
      " 16  msi_cnt           int32   \n",
      " 17  hsi_cnt           int32   \n",
      " 18  uvi_cnt           int32   \n",
      " 19  hpi_cnt           int32   \n",
      " 20  mti_cnt           int32   \n",
      " 21  dong              category\n",
      " 22  pop_join_key      category\n",
      " 23  weather_join_key  category\n",
      "dtypes: category(12), float32(2), int32(10)\n",
      "memory usage: 117.5 MB\n"
     ]
    }
   ],
   "source": [
    "subway_final.info()"
   ]
  },
  {
   "cell_type": "code",
   "execution_count": 7,
   "metadata": {
    "ExecuteTime": {
     "end_time": "2020-11-14T04:07:00.101174Z",
     "start_time": "2020-11-14T04:07:00.090174Z"
    }
   },
   "outputs": [
    {
     "name": "stdout",
     "output_type": "stream",
     "text": [
      "<class 'pandas.core.frame.DataFrame'>\n",
      "RangeIndex: 1847664 entries, 0 to 1847663\n",
      "Data columns (total 11 columns):\n",
      " #   Column        Dtype   \n",
      "---  ------        -----   \n",
      " 0   date          category\n",
      " 1   hour          int32   \n",
      " 2   total         float32 \n",
      " 3   pop_below_20  float32 \n",
      " 4   pop_20        float32 \n",
      " 5   pop_30        float32 \n",
      " 6   pop_40        float32 \n",
      " 7   pop_50        float32 \n",
      " 8   pop_60        float32 \n",
      " 9   pop_over_70   float32 \n",
      " 10  pop_join_key  category\n",
      "dtypes: category(2), float32(8), int32(1)\n",
      "memory usage: 77.1 MB\n"
     ]
    }
   ],
   "source": [
    "pop_final.info()"
   ]
  },
  {
   "cell_type": "code",
   "execution_count": 8,
   "metadata": {
    "ExecuteTime": {
     "end_time": "2020-11-14T04:07:00.119174Z",
     "start_time": "2020-11-14T04:07:00.105174Z"
    }
   },
   "outputs": [
    {
     "name": "stdout",
     "output_type": "stream",
     "text": [
      "<class 'pandas.core.frame.DataFrame'>\n",
      "RangeIndex: 109200 entries, 0 to 109199\n",
      "Data columns (total 6 columns):\n",
      " #   Column            Non-Null Count   Dtype   \n",
      "---  ------            --------------   -----   \n",
      " 0   date              109200 non-null  category\n",
      " 1   temp              109200 non-null  float32 \n",
      " 2   windspeed         109200 non-null  float32 \n",
      " 3   rain              109200 non-null  float32 \n",
      " 4   hour              109200 non-null  int32   \n",
      " 5   weather_join_key  109200 non-null  category\n",
      "dtypes: category(2), float32(3), int32(1)\n",
      "memory usage: 2.3 MB\n"
     ]
    }
   ],
   "source": [
    "weather_final.info()"
   ]
  },
  {
   "cell_type": "markdown",
   "metadata": {},
   "source": [
    "# 3개의 데이터 셋(지하철+인구+기상) 결합\n",
    "- 앞서 만들어놓은 조인키를 사용하여 3개의 데이터 셋(지하철 + 인구 + 기상)을 결합해주겠다."
   ]
  },
  {
   "cell_type": "code",
   "execution_count": 9,
   "metadata": {
    "ExecuteTime": {
     "end_time": "2020-11-14T04:07:00.132174Z",
     "start_time": "2020-11-14T04:07:00.121174Z"
    }
   },
   "outputs": [
    {
     "data": {
      "text/plain": [
       "((1867120, 24), (109200, 6), (1847664, 11))"
      ]
     },
     "execution_count": 9,
     "metadata": {},
     "output_type": "execute_result"
    }
   ],
   "source": [
    "subway_final.shape, weather_final.shape, pop_final.shape"
   ]
  },
  {
   "cell_type": "code",
   "execution_count": 10,
   "metadata": {
    "ExecuteTime": {
     "end_time": "2020-11-14T04:07:01.259176Z",
     "start_time": "2020-11-14T04:07:00.134201Z"
    }
   },
   "outputs": [
    {
     "data": {
      "text/html": [
       "<div>\n",
       "<style scoped>\n",
       "    .dataframe tbody tr th:only-of-type {\n",
       "        vertical-align: middle;\n",
       "    }\n",
       "\n",
       "    .dataframe tbody tr th {\n",
       "        vertical-align: top;\n",
       "    }\n",
       "\n",
       "    .dataframe thead th {\n",
       "        text-align: right;\n",
       "    }\n",
       "</style>\n",
       "<table border=\"1\" class=\"dataframe\">\n",
       "  <thead>\n",
       "    <tr style=\"text-align: right;\">\n",
       "      <th></th>\n",
       "      <th>date</th>\n",
       "      <th>line</th>\n",
       "      <th>station_name</th>\n",
       "      <th>boarding</th>\n",
       "      <th>hour</th>\n",
       "      <th>boarding_num</th>\n",
       "      <th>waiting_area</th>\n",
       "      <th>platform_area</th>\n",
       "      <th>gu</th>\n",
       "      <th>type</th>\n",
       "      <th>...</th>\n",
       "      <th>hsi_cnt</th>\n",
       "      <th>uvi_cnt</th>\n",
       "      <th>hpi_cnt</th>\n",
       "      <th>mti_cnt</th>\n",
       "      <th>dong</th>\n",
       "      <th>pop_join_key</th>\n",
       "      <th>weather_join_key</th>\n",
       "      <th>temp</th>\n",
       "      <th>windspeed</th>\n",
       "      <th>rain</th>\n",
       "    </tr>\n",
       "  </thead>\n",
       "  <tbody>\n",
       "    <tr>\n",
       "      <th>0</th>\n",
       "      <td>2020-01-01</td>\n",
       "      <td>1호선</td>\n",
       "      <td>서울역</td>\n",
       "      <td>승차</td>\n",
       "      <td>0</td>\n",
       "      <td>22</td>\n",
       "      <td>8725.0</td>\n",
       "      <td>2080.000000</td>\n",
       "      <td>중구</td>\n",
       "      <td>섬식</td>\n",
       "      <td>...</td>\n",
       "      <td>1</td>\n",
       "      <td>0</td>\n",
       "      <td>0</td>\n",
       "      <td>0</td>\n",
       "      <td>회현동</td>\n",
       "      <td>2020-01-01_회현동</td>\n",
       "      <td>2020-01-01_중구</td>\n",
       "      <td>-7.100000</td>\n",
       "      <td>0.7</td>\n",
       "      <td>0.0</td>\n",
       "    </tr>\n",
       "    <tr>\n",
       "      <th>1</th>\n",
       "      <td>2020-01-01</td>\n",
       "      <td>1호선</td>\n",
       "      <td>서울역</td>\n",
       "      <td>하차</td>\n",
       "      <td>0</td>\n",
       "      <td>74</td>\n",
       "      <td>8725.0</td>\n",
       "      <td>2080.000000</td>\n",
       "      <td>중구</td>\n",
       "      <td>섬식</td>\n",
       "      <td>...</td>\n",
       "      <td>1</td>\n",
       "      <td>0</td>\n",
       "      <td>0</td>\n",
       "      <td>0</td>\n",
       "      <td>회현동</td>\n",
       "      <td>2020-01-01_회현동</td>\n",
       "      <td>2020-01-01_중구</td>\n",
       "      <td>-7.100000</td>\n",
       "      <td>0.7</td>\n",
       "      <td>0.0</td>\n",
       "    </tr>\n",
       "    <tr>\n",
       "      <th>2</th>\n",
       "      <td>2020-01-01</td>\n",
       "      <td>1호선</td>\n",
       "      <td>서울역</td>\n",
       "      <td>승차</td>\n",
       "      <td>5</td>\n",
       "      <td>316</td>\n",
       "      <td>8725.0</td>\n",
       "      <td>2080.000000</td>\n",
       "      <td>중구</td>\n",
       "      <td>섬식</td>\n",
       "      <td>...</td>\n",
       "      <td>1</td>\n",
       "      <td>0</td>\n",
       "      <td>0</td>\n",
       "      <td>0</td>\n",
       "      <td>회현동</td>\n",
       "      <td>2020-01-01_회현동</td>\n",
       "      <td>2020-01-01_중구</td>\n",
       "      <td>-6.800000</td>\n",
       "      <td>0.4</td>\n",
       "      <td>0.0</td>\n",
       "    </tr>\n",
       "    <tr>\n",
       "      <th>3</th>\n",
       "      <td>2020-01-01</td>\n",
       "      <td>1호선</td>\n",
       "      <td>서울역</td>\n",
       "      <td>하차</td>\n",
       "      <td>5</td>\n",
       "      <td>234</td>\n",
       "      <td>8725.0</td>\n",
       "      <td>2080.000000</td>\n",
       "      <td>중구</td>\n",
       "      <td>섬식</td>\n",
       "      <td>...</td>\n",
       "      <td>1</td>\n",
       "      <td>0</td>\n",
       "      <td>0</td>\n",
       "      <td>0</td>\n",
       "      <td>회현동</td>\n",
       "      <td>2020-01-01_회현동</td>\n",
       "      <td>2020-01-01_중구</td>\n",
       "      <td>-6.800000</td>\n",
       "      <td>0.4</td>\n",
       "      <td>0.0</td>\n",
       "    </tr>\n",
       "    <tr>\n",
       "      <th>4</th>\n",
       "      <td>2020-01-01</td>\n",
       "      <td>1호선</td>\n",
       "      <td>서울역</td>\n",
       "      <td>승차</td>\n",
       "      <td>6</td>\n",
       "      <td>280</td>\n",
       "      <td>8725.0</td>\n",
       "      <td>2080.000000</td>\n",
       "      <td>중구</td>\n",
       "      <td>섬식</td>\n",
       "      <td>...</td>\n",
       "      <td>1</td>\n",
       "      <td>0</td>\n",
       "      <td>0</td>\n",
       "      <td>0</td>\n",
       "      <td>회현동</td>\n",
       "      <td>2020-01-01_회현동</td>\n",
       "      <td>2020-01-01_중구</td>\n",
       "      <td>-6.700000</td>\n",
       "      <td>1.5</td>\n",
       "      <td>0.0</td>\n",
       "    </tr>\n",
       "    <tr>\n",
       "      <th>...</th>\n",
       "      <td>...</td>\n",
       "      <td>...</td>\n",
       "      <td>...</td>\n",
       "      <td>...</td>\n",
       "      <td>...</td>\n",
       "      <td>...</td>\n",
       "      <td>...</td>\n",
       "      <td>...</td>\n",
       "      <td>...</td>\n",
       "      <td>...</td>\n",
       "      <td>...</td>\n",
       "      <td>...</td>\n",
       "      <td>...</td>\n",
       "      <td>...</td>\n",
       "      <td>...</td>\n",
       "      <td>...</td>\n",
       "      <td>...</td>\n",
       "      <td>...</td>\n",
       "      <td>...</td>\n",
       "      <td>...</td>\n",
       "      <td>...</td>\n",
       "    </tr>\n",
       "    <tr>\n",
       "      <th>1867115</th>\n",
       "      <td>2020-06-28</td>\n",
       "      <td>6호선</td>\n",
       "      <td>연신내</td>\n",
       "      <td>하차</td>\n",
       "      <td>21</td>\n",
       "      <td>0</td>\n",
       "      <td>3241.0</td>\n",
       "      <td>2419.540039</td>\n",
       "      <td>은평구</td>\n",
       "      <td>상대식</td>\n",
       "      <td>...</td>\n",
       "      <td>2</td>\n",
       "      <td>0</td>\n",
       "      <td>1</td>\n",
       "      <td>1</td>\n",
       "      <td>불광제2동</td>\n",
       "      <td>2020-06-28_불광제2동</td>\n",
       "      <td>2020-06-28_은평구</td>\n",
       "      <td>22.200001</td>\n",
       "      <td>0.2</td>\n",
       "      <td>0.0</td>\n",
       "    </tr>\n",
       "    <tr>\n",
       "      <th>1867116</th>\n",
       "      <td>2020-06-28</td>\n",
       "      <td>6호선</td>\n",
       "      <td>연신내</td>\n",
       "      <td>승차</td>\n",
       "      <td>22</td>\n",
       "      <td>0</td>\n",
       "      <td>3241.0</td>\n",
       "      <td>2419.540039</td>\n",
       "      <td>은평구</td>\n",
       "      <td>상대식</td>\n",
       "      <td>...</td>\n",
       "      <td>2</td>\n",
       "      <td>0</td>\n",
       "      <td>1</td>\n",
       "      <td>1</td>\n",
       "      <td>불광제2동</td>\n",
       "      <td>2020-06-28_불광제2동</td>\n",
       "      <td>2020-06-28_은평구</td>\n",
       "      <td>20.900000</td>\n",
       "      <td>0.2</td>\n",
       "      <td>0.0</td>\n",
       "    </tr>\n",
       "    <tr>\n",
       "      <th>1867117</th>\n",
       "      <td>2020-06-28</td>\n",
       "      <td>6호선</td>\n",
       "      <td>연신내</td>\n",
       "      <td>하차</td>\n",
       "      <td>22</td>\n",
       "      <td>0</td>\n",
       "      <td>3241.0</td>\n",
       "      <td>2419.540039</td>\n",
       "      <td>은평구</td>\n",
       "      <td>상대식</td>\n",
       "      <td>...</td>\n",
       "      <td>2</td>\n",
       "      <td>0</td>\n",
       "      <td>1</td>\n",
       "      <td>1</td>\n",
       "      <td>불광제2동</td>\n",
       "      <td>2020-06-28_불광제2동</td>\n",
       "      <td>2020-06-28_은평구</td>\n",
       "      <td>20.900000</td>\n",
       "      <td>0.2</td>\n",
       "      <td>0.0</td>\n",
       "    </tr>\n",
       "    <tr>\n",
       "      <th>1867118</th>\n",
       "      <td>2020-06-28</td>\n",
       "      <td>6호선</td>\n",
       "      <td>연신내</td>\n",
       "      <td>승차</td>\n",
       "      <td>23</td>\n",
       "      <td>0</td>\n",
       "      <td>3241.0</td>\n",
       "      <td>2419.540039</td>\n",
       "      <td>은평구</td>\n",
       "      <td>상대식</td>\n",
       "      <td>...</td>\n",
       "      <td>2</td>\n",
       "      <td>0</td>\n",
       "      <td>1</td>\n",
       "      <td>1</td>\n",
       "      <td>불광제2동</td>\n",
       "      <td>2020-06-28_불광제2동</td>\n",
       "      <td>2020-06-28_은평구</td>\n",
       "      <td>20.299999</td>\n",
       "      <td>0.0</td>\n",
       "      <td>0.0</td>\n",
       "    </tr>\n",
       "    <tr>\n",
       "      <th>1867119</th>\n",
       "      <td>2020-06-28</td>\n",
       "      <td>6호선</td>\n",
       "      <td>연신내</td>\n",
       "      <td>하차</td>\n",
       "      <td>23</td>\n",
       "      <td>0</td>\n",
       "      <td>3241.0</td>\n",
       "      <td>2419.540039</td>\n",
       "      <td>은평구</td>\n",
       "      <td>상대식</td>\n",
       "      <td>...</td>\n",
       "      <td>2</td>\n",
       "      <td>0</td>\n",
       "      <td>1</td>\n",
       "      <td>1</td>\n",
       "      <td>불광제2동</td>\n",
       "      <td>2020-06-28_불광제2동</td>\n",
       "      <td>2020-06-28_은평구</td>\n",
       "      <td>20.299999</td>\n",
       "      <td>0.0</td>\n",
       "      <td>0.0</td>\n",
       "    </tr>\n",
       "  </tbody>\n",
       "</table>\n",
       "<p>1867120 rows × 27 columns</p>\n",
       "</div>"
      ],
      "text/plain": [
       "               date line station_name boarding  hour  boarding_num  \\\n",
       "0        2020-01-01  1호선          서울역       승차     0            22   \n",
       "1        2020-01-01  1호선          서울역       하차     0            74   \n",
       "2        2020-01-01  1호선          서울역       승차     5           316   \n",
       "3        2020-01-01  1호선          서울역       하차     5           234   \n",
       "4        2020-01-01  1호선          서울역       승차     6           280   \n",
       "...             ...  ...          ...      ...   ...           ...   \n",
       "1867115  2020-06-28  6호선          연신내       하차    21             0   \n",
       "1867116  2020-06-28  6호선          연신내       승차    22             0   \n",
       "1867117  2020-06-28  6호선          연신내       하차    22             0   \n",
       "1867118  2020-06-28  6호선          연신내       승차    23             0   \n",
       "1867119  2020-06-28  6호선          연신내       하차    23             0   \n",
       "\n",
       "         waiting_area  platform_area   gu type  ...  hsi_cnt uvi_cnt hpi_cnt  \\\n",
       "0              8725.0    2080.000000   중구   섬식  ...        1       0       0   \n",
       "1              8725.0    2080.000000   중구   섬식  ...        1       0       0   \n",
       "2              8725.0    2080.000000   중구   섬식  ...        1       0       0   \n",
       "3              8725.0    2080.000000   중구   섬식  ...        1       0       0   \n",
       "4              8725.0    2080.000000   중구   섬식  ...        1       0       0   \n",
       "...               ...            ...  ...  ...  ...      ...     ...     ...   \n",
       "1867115        3241.0    2419.540039  은평구  상대식  ...        2       0       1   \n",
       "1867116        3241.0    2419.540039  은평구  상대식  ...        2       0       1   \n",
       "1867117        3241.0    2419.540039  은평구  상대식  ...        2       0       1   \n",
       "1867118        3241.0    2419.540039  은평구  상대식  ...        2       0       1   \n",
       "1867119        3241.0    2419.540039  은평구  상대식  ...        2       0       1   \n",
       "\n",
       "         mti_cnt   dong      pop_join_key  weather_join_key       temp  \\\n",
       "0              0    회현동    2020-01-01_회현동     2020-01-01_중구  -7.100000   \n",
       "1              0    회현동    2020-01-01_회현동     2020-01-01_중구  -7.100000   \n",
       "2              0    회현동    2020-01-01_회현동     2020-01-01_중구  -6.800000   \n",
       "3              0    회현동    2020-01-01_회현동     2020-01-01_중구  -6.800000   \n",
       "4              0    회현동    2020-01-01_회현동     2020-01-01_중구  -6.700000   \n",
       "...          ...    ...               ...               ...        ...   \n",
       "1867115        1  불광제2동  2020-06-28_불광제2동    2020-06-28_은평구  22.200001   \n",
       "1867116        1  불광제2동  2020-06-28_불광제2동    2020-06-28_은평구  20.900000   \n",
       "1867117        1  불광제2동  2020-06-28_불광제2동    2020-06-28_은평구  20.900000   \n",
       "1867118        1  불광제2동  2020-06-28_불광제2동    2020-06-28_은평구  20.299999   \n",
       "1867119        1  불광제2동  2020-06-28_불광제2동    2020-06-28_은평구  20.299999   \n",
       "\n",
       "         windspeed  rain  \n",
       "0              0.7   0.0  \n",
       "1              0.7   0.0  \n",
       "2              0.4   0.0  \n",
       "3              0.4   0.0  \n",
       "4              1.5   0.0  \n",
       "...            ...   ...  \n",
       "1867115        0.2   0.0  \n",
       "1867116        0.2   0.0  \n",
       "1867117        0.2   0.0  \n",
       "1867118        0.0   0.0  \n",
       "1867119        0.0   0.0  \n",
       "\n",
       "[1867120 rows x 27 columns]"
      ]
     },
     "execution_count": 10,
     "metadata": {},
     "output_type": "execute_result"
    }
   ],
   "source": [
    "# subway_final + weather_final\n",
    "subway_weather_final = pd.merge(subway_final, weather_final, how = 'left', on = ['weather_join_key', 'date', 'hour'])\n",
    "subway_weather_final"
   ]
  },
  {
   "cell_type": "code",
   "execution_count": 11,
   "metadata": {
    "ExecuteTime": {
     "end_time": "2020-11-14T04:07:03.489234Z",
     "start_time": "2020-11-14T04:07:01.261175Z"
    }
   },
   "outputs": [
    {
     "data": {
      "text/html": [
       "<div>\n",
       "<style scoped>\n",
       "    .dataframe tbody tr th:only-of-type {\n",
       "        vertical-align: middle;\n",
       "    }\n",
       "\n",
       "    .dataframe tbody tr th {\n",
       "        vertical-align: top;\n",
       "    }\n",
       "\n",
       "    .dataframe thead th {\n",
       "        text-align: right;\n",
       "    }\n",
       "</style>\n",
       "<table border=\"1\" class=\"dataframe\">\n",
       "  <thead>\n",
       "    <tr style=\"text-align: right;\">\n",
       "      <th></th>\n",
       "      <th>date</th>\n",
       "      <th>line</th>\n",
       "      <th>station_name</th>\n",
       "      <th>boarding</th>\n",
       "      <th>hour</th>\n",
       "      <th>boarding_num</th>\n",
       "      <th>waiting_area</th>\n",
       "      <th>platform_area</th>\n",
       "      <th>gu</th>\n",
       "      <th>type</th>\n",
       "      <th>...</th>\n",
       "      <th>windspeed</th>\n",
       "      <th>rain</th>\n",
       "      <th>total</th>\n",
       "      <th>pop_below_20</th>\n",
       "      <th>pop_20</th>\n",
       "      <th>pop_30</th>\n",
       "      <th>pop_40</th>\n",
       "      <th>pop_50</th>\n",
       "      <th>pop_60</th>\n",
       "      <th>pop_over_70</th>\n",
       "    </tr>\n",
       "  </thead>\n",
       "  <tbody>\n",
       "    <tr>\n",
       "      <th>0</th>\n",
       "      <td>2020-01-01</td>\n",
       "      <td>1호선</td>\n",
       "      <td>서울역</td>\n",
       "      <td>승차</td>\n",
       "      <td>0</td>\n",
       "      <td>22</td>\n",
       "      <td>8725.0</td>\n",
       "      <td>2080.000000</td>\n",
       "      <td>중구</td>\n",
       "      <td>섬식</td>\n",
       "      <td>...</td>\n",
       "      <td>0.7</td>\n",
       "      <td>0.0</td>\n",
       "      <td>10730.0</td>\n",
       "      <td>900.0</td>\n",
       "      <td>1756.0</td>\n",
       "      <td>2088.0</td>\n",
       "      <td>2008.0</td>\n",
       "      <td>1627.0</td>\n",
       "      <td>1281.0</td>\n",
       "      <td>1073.0</td>\n",
       "    </tr>\n",
       "    <tr>\n",
       "      <th>1</th>\n",
       "      <td>2020-01-01</td>\n",
       "      <td>1호선</td>\n",
       "      <td>서울역</td>\n",
       "      <td>하차</td>\n",
       "      <td>0</td>\n",
       "      <td>74</td>\n",
       "      <td>8725.0</td>\n",
       "      <td>2080.000000</td>\n",
       "      <td>중구</td>\n",
       "      <td>섬식</td>\n",
       "      <td>...</td>\n",
       "      <td>0.7</td>\n",
       "      <td>0.0</td>\n",
       "      <td>10730.0</td>\n",
       "      <td>900.0</td>\n",
       "      <td>1756.0</td>\n",
       "      <td>2088.0</td>\n",
       "      <td>2008.0</td>\n",
       "      <td>1627.0</td>\n",
       "      <td>1281.0</td>\n",
       "      <td>1073.0</td>\n",
       "    </tr>\n",
       "    <tr>\n",
       "      <th>2</th>\n",
       "      <td>2020-01-01</td>\n",
       "      <td>1호선</td>\n",
       "      <td>서울역</td>\n",
       "      <td>승차</td>\n",
       "      <td>5</td>\n",
       "      <td>316</td>\n",
       "      <td>8725.0</td>\n",
       "      <td>2080.000000</td>\n",
       "      <td>중구</td>\n",
       "      <td>섬식</td>\n",
       "      <td>...</td>\n",
       "      <td>0.4</td>\n",
       "      <td>0.0</td>\n",
       "      <td>8999.0</td>\n",
       "      <td>715.0</td>\n",
       "      <td>1560.0</td>\n",
       "      <td>1799.0</td>\n",
       "      <td>1715.0</td>\n",
       "      <td>1329.0</td>\n",
       "      <td>999.0</td>\n",
       "      <td>884.0</td>\n",
       "    </tr>\n",
       "    <tr>\n",
       "      <th>3</th>\n",
       "      <td>2020-01-01</td>\n",
       "      <td>1호선</td>\n",
       "      <td>서울역</td>\n",
       "      <td>하차</td>\n",
       "      <td>5</td>\n",
       "      <td>234</td>\n",
       "      <td>8725.0</td>\n",
       "      <td>2080.000000</td>\n",
       "      <td>중구</td>\n",
       "      <td>섬식</td>\n",
       "      <td>...</td>\n",
       "      <td>0.4</td>\n",
       "      <td>0.0</td>\n",
       "      <td>8999.0</td>\n",
       "      <td>715.0</td>\n",
       "      <td>1560.0</td>\n",
       "      <td>1799.0</td>\n",
       "      <td>1715.0</td>\n",
       "      <td>1329.0</td>\n",
       "      <td>999.0</td>\n",
       "      <td>884.0</td>\n",
       "    </tr>\n",
       "    <tr>\n",
       "      <th>4</th>\n",
       "      <td>2020-01-01</td>\n",
       "      <td>1호선</td>\n",
       "      <td>서울역</td>\n",
       "      <td>승차</td>\n",
       "      <td>6</td>\n",
       "      <td>280</td>\n",
       "      <td>8725.0</td>\n",
       "      <td>2080.000000</td>\n",
       "      <td>중구</td>\n",
       "      <td>섬식</td>\n",
       "      <td>...</td>\n",
       "      <td>1.5</td>\n",
       "      <td>0.0</td>\n",
       "      <td>10471.0</td>\n",
       "      <td>857.0</td>\n",
       "      <td>1787.0</td>\n",
       "      <td>1926.0</td>\n",
       "      <td>1889.0</td>\n",
       "      <td>1675.0</td>\n",
       "      <td>1335.0</td>\n",
       "      <td>1006.0</td>\n",
       "    </tr>\n",
       "    <tr>\n",
       "      <th>...</th>\n",
       "      <td>...</td>\n",
       "      <td>...</td>\n",
       "      <td>...</td>\n",
       "      <td>...</td>\n",
       "      <td>...</td>\n",
       "      <td>...</td>\n",
       "      <td>...</td>\n",
       "      <td>...</td>\n",
       "      <td>...</td>\n",
       "      <td>...</td>\n",
       "      <td>...</td>\n",
       "      <td>...</td>\n",
       "      <td>...</td>\n",
       "      <td>...</td>\n",
       "      <td>...</td>\n",
       "      <td>...</td>\n",
       "      <td>...</td>\n",
       "      <td>...</td>\n",
       "      <td>...</td>\n",
       "      <td>...</td>\n",
       "      <td>...</td>\n",
       "    </tr>\n",
       "    <tr>\n",
       "      <th>1867115</th>\n",
       "      <td>2020-06-28</td>\n",
       "      <td>6호선</td>\n",
       "      <td>연신내</td>\n",
       "      <td>하차</td>\n",
       "      <td>21</td>\n",
       "      <td>0</td>\n",
       "      <td>3241.0</td>\n",
       "      <td>2419.540039</td>\n",
       "      <td>은평구</td>\n",
       "      <td>상대식</td>\n",
       "      <td>...</td>\n",
       "      <td>0.2</td>\n",
       "      <td>0.0</td>\n",
       "      <td>23641.0</td>\n",
       "      <td>3058.0</td>\n",
       "      <td>2994.0</td>\n",
       "      <td>3439.0</td>\n",
       "      <td>3656.0</td>\n",
       "      <td>3908.0</td>\n",
       "      <td>3134.0</td>\n",
       "      <td>3454.0</td>\n",
       "    </tr>\n",
       "    <tr>\n",
       "      <th>1867116</th>\n",
       "      <td>2020-06-28</td>\n",
       "      <td>6호선</td>\n",
       "      <td>연신내</td>\n",
       "      <td>승차</td>\n",
       "      <td>22</td>\n",
       "      <td>0</td>\n",
       "      <td>3241.0</td>\n",
       "      <td>2419.540039</td>\n",
       "      <td>은평구</td>\n",
       "      <td>상대식</td>\n",
       "      <td>...</td>\n",
       "      <td>0.2</td>\n",
       "      <td>0.0</td>\n",
       "      <td>24108.0</td>\n",
       "      <td>3129.0</td>\n",
       "      <td>3117.0</td>\n",
       "      <td>3577.0</td>\n",
       "      <td>3738.0</td>\n",
       "      <td>3937.0</td>\n",
       "      <td>3138.0</td>\n",
       "      <td>3474.0</td>\n",
       "    </tr>\n",
       "    <tr>\n",
       "      <th>1867117</th>\n",
       "      <td>2020-06-28</td>\n",
       "      <td>6호선</td>\n",
       "      <td>연신내</td>\n",
       "      <td>하차</td>\n",
       "      <td>22</td>\n",
       "      <td>0</td>\n",
       "      <td>3241.0</td>\n",
       "      <td>2419.540039</td>\n",
       "      <td>은평구</td>\n",
       "      <td>상대식</td>\n",
       "      <td>...</td>\n",
       "      <td>0.2</td>\n",
       "      <td>0.0</td>\n",
       "      <td>24108.0</td>\n",
       "      <td>3129.0</td>\n",
       "      <td>3117.0</td>\n",
       "      <td>3577.0</td>\n",
       "      <td>3738.0</td>\n",
       "      <td>3937.0</td>\n",
       "      <td>3138.0</td>\n",
       "      <td>3474.0</td>\n",
       "    </tr>\n",
       "    <tr>\n",
       "      <th>1867118</th>\n",
       "      <td>2020-06-28</td>\n",
       "      <td>6호선</td>\n",
       "      <td>연신내</td>\n",
       "      <td>승차</td>\n",
       "      <td>23</td>\n",
       "      <td>0</td>\n",
       "      <td>3241.0</td>\n",
       "      <td>2419.540039</td>\n",
       "      <td>은평구</td>\n",
       "      <td>상대식</td>\n",
       "      <td>...</td>\n",
       "      <td>0.0</td>\n",
       "      <td>0.0</td>\n",
       "      <td>27219.0</td>\n",
       "      <td>3520.0</td>\n",
       "      <td>3580.0</td>\n",
       "      <td>3984.0</td>\n",
       "      <td>4142.0</td>\n",
       "      <td>4576.0</td>\n",
       "      <td>3578.0</td>\n",
       "      <td>3843.0</td>\n",
       "    </tr>\n",
       "    <tr>\n",
       "      <th>1867119</th>\n",
       "      <td>2020-06-28</td>\n",
       "      <td>6호선</td>\n",
       "      <td>연신내</td>\n",
       "      <td>하차</td>\n",
       "      <td>23</td>\n",
       "      <td>0</td>\n",
       "      <td>3241.0</td>\n",
       "      <td>2419.540039</td>\n",
       "      <td>은평구</td>\n",
       "      <td>상대식</td>\n",
       "      <td>...</td>\n",
       "      <td>0.0</td>\n",
       "      <td>0.0</td>\n",
       "      <td>27219.0</td>\n",
       "      <td>3520.0</td>\n",
       "      <td>3580.0</td>\n",
       "      <td>3984.0</td>\n",
       "      <td>4142.0</td>\n",
       "      <td>4576.0</td>\n",
       "      <td>3578.0</td>\n",
       "      <td>3843.0</td>\n",
       "    </tr>\n",
       "  </tbody>\n",
       "</table>\n",
       "<p>1867120 rows × 35 columns</p>\n",
       "</div>"
      ],
      "text/plain": [
       "               date line station_name boarding  hour  boarding_num  \\\n",
       "0        2020-01-01  1호선          서울역       승차     0            22   \n",
       "1        2020-01-01  1호선          서울역       하차     0            74   \n",
       "2        2020-01-01  1호선          서울역       승차     5           316   \n",
       "3        2020-01-01  1호선          서울역       하차     5           234   \n",
       "4        2020-01-01  1호선          서울역       승차     6           280   \n",
       "...             ...  ...          ...      ...   ...           ...   \n",
       "1867115  2020-06-28  6호선          연신내       하차    21             0   \n",
       "1867116  2020-06-28  6호선          연신내       승차    22             0   \n",
       "1867117  2020-06-28  6호선          연신내       하차    22             0   \n",
       "1867118  2020-06-28  6호선          연신내       승차    23             0   \n",
       "1867119  2020-06-28  6호선          연신내       하차    23             0   \n",
       "\n",
       "         waiting_area  platform_area   gu type  ...  windspeed rain    total  \\\n",
       "0              8725.0    2080.000000   중구   섬식  ...        0.7  0.0  10730.0   \n",
       "1              8725.0    2080.000000   중구   섬식  ...        0.7  0.0  10730.0   \n",
       "2              8725.0    2080.000000   중구   섬식  ...        0.4  0.0   8999.0   \n",
       "3              8725.0    2080.000000   중구   섬식  ...        0.4  0.0   8999.0   \n",
       "4              8725.0    2080.000000   중구   섬식  ...        1.5  0.0  10471.0   \n",
       "...               ...            ...  ...  ...  ...        ...  ...      ...   \n",
       "1867115        3241.0    2419.540039  은평구  상대식  ...        0.2  0.0  23641.0   \n",
       "1867116        3241.0    2419.540039  은평구  상대식  ...        0.2  0.0  24108.0   \n",
       "1867117        3241.0    2419.540039  은평구  상대식  ...        0.2  0.0  24108.0   \n",
       "1867118        3241.0    2419.540039  은평구  상대식  ...        0.0  0.0  27219.0   \n",
       "1867119        3241.0    2419.540039  은평구  상대식  ...        0.0  0.0  27219.0   \n",
       "\n",
       "         pop_below_20  pop_20  pop_30  pop_40  pop_50  pop_60  pop_over_70  \n",
       "0               900.0  1756.0  2088.0  2008.0  1627.0  1281.0       1073.0  \n",
       "1               900.0  1756.0  2088.0  2008.0  1627.0  1281.0       1073.0  \n",
       "2               715.0  1560.0  1799.0  1715.0  1329.0   999.0        884.0  \n",
       "3               715.0  1560.0  1799.0  1715.0  1329.0   999.0        884.0  \n",
       "4               857.0  1787.0  1926.0  1889.0  1675.0  1335.0       1006.0  \n",
       "...               ...     ...     ...     ...     ...     ...          ...  \n",
       "1867115        3058.0  2994.0  3439.0  3656.0  3908.0  3134.0       3454.0  \n",
       "1867116        3129.0  3117.0  3577.0  3738.0  3937.0  3138.0       3474.0  \n",
       "1867117        3129.0  3117.0  3577.0  3738.0  3937.0  3138.0       3474.0  \n",
       "1867118        3520.0  3580.0  3984.0  4142.0  4576.0  3578.0       3843.0  \n",
       "1867119        3520.0  3580.0  3984.0  4142.0  4576.0  3578.0       3843.0  \n",
       "\n",
       "[1867120 rows x 35 columns]"
      ]
     },
     "execution_count": 11,
     "metadata": {},
     "output_type": "execute_result"
    }
   ],
   "source": [
    "# subway_weather_final + pop_final\n",
    "subway_weather_pop_final = pd.merge(subway_weather_final, pop_final, how = 'left', on = ['pop_join_key', 'date', 'hour'])\n",
    "subway_weather_pop_final"
   ]
  },
  {
   "cell_type": "code",
   "execution_count": 12,
   "metadata": {
    "ExecuteTime": {
     "end_time": "2020-11-14T04:07:03.873236Z",
     "start_time": "2020-11-14T04:07:03.491178Z"
    }
   },
   "outputs": [
    {
     "data": {
      "text/plain": [
       "date                      0\n",
       "line                      0\n",
       "station_name              0\n",
       "boarding                  0\n",
       "hour                      0\n",
       "boarding_num              0\n",
       "waiting_area              0\n",
       "platform_area             0\n",
       "gu                        0\n",
       "type                      0\n",
       "length                    0\n",
       "floor                     0\n",
       "transfer            1172080\n",
       "transfer_num              0\n",
       "entrance                  0\n",
       "gate                  18000\n",
       "msi_cnt                   0\n",
       "hsi_cnt                   0\n",
       "uvi_cnt                   0\n",
       "hpi_cnt                   0\n",
       "mti_cnt                   0\n",
       "dong                      0\n",
       "pop_join_key              0\n",
       "weather_join_key          0\n",
       "temp                      0\n",
       "windspeed                 0\n",
       "rain                      0\n",
       "total                     0\n",
       "pop_below_20              0\n",
       "pop_20                    0\n",
       "pop_30                    0\n",
       "pop_40                    0\n",
       "pop_50                    0\n",
       "pop_60                    0\n",
       "pop_over_70               0\n",
       "dtype: int64"
      ]
     },
     "execution_count": 12,
     "metadata": {},
     "output_type": "execute_result"
    }
   ],
   "source": [
    "subway_weather_pop_final.isnull().sum()"
   ]
  },
  {
   "cell_type": "markdown",
   "metadata": {},
   "source": [
    "- 위와 같이 존재하는 결측치들에 대해서는 데이터 탐색 단계에서 처리해주도록 하겠다.\n",
    "    - 우선은 조인이 잘 이루어졌는지만 확인하겠다."
   ]
  },
  {
   "cell_type": "markdown",
   "metadata": {},
   "source": [
    "- 조인이 잘 이루어졌으므로, 조인키로 사용했던 weather_join_key와 pop_join_key 변수는 제거해주도록 하겠다."
   ]
  },
  {
   "cell_type": "code",
   "execution_count": 13,
   "metadata": {
    "ExecuteTime": {
     "end_time": "2020-11-14T04:07:04.020241Z",
     "start_time": "2020-11-14T04:07:03.875178Z"
    }
   },
   "outputs": [],
   "source": [
    "subway_weather_pop_final.drop(['weather_join_key', 'pop_join_key'], axis = 1, inplace = True)"
   ]
  },
  {
   "cell_type": "code",
   "execution_count": 14,
   "metadata": {
    "ExecuteTime": {
     "end_time": "2020-11-14T04:07:04.037180Z",
     "start_time": "2020-11-14T04:07:04.022177Z"
    }
   },
   "outputs": [
    {
     "name": "stdout",
     "output_type": "stream",
     "text": [
      "<class 'pandas.core.frame.DataFrame'>\n",
      "Int64Index: 1867120 entries, 0 to 1867119\n",
      "Data columns (total 33 columns):\n",
      " #   Column         Dtype   \n",
      "---  ------         -----   \n",
      " 0   date           category\n",
      " 1   line           category\n",
      " 2   station_name   category\n",
      " 3   boarding       category\n",
      " 4   hour           int32   \n",
      " 5   boarding_num   int32   \n",
      " 6   waiting_area   float32 \n",
      " 7   platform_area  float32 \n",
      " 8   gu             category\n",
      " 9   type           category\n",
      " 10  length         int32   \n",
      " 11  floor          category\n",
      " 12  transfer       category\n",
      " 13  transfer_num   int32   \n",
      " 14  entrance       int32   \n",
      " 15  gate           category\n",
      " 16  msi_cnt        int32   \n",
      " 17  hsi_cnt        int32   \n",
      " 18  uvi_cnt        int32   \n",
      " 19  hpi_cnt        int32   \n",
      " 20  mti_cnt        int32   \n",
      " 21  dong           category\n",
      " 22  temp           float32 \n",
      " 23  windspeed      float32 \n",
      " 24  rain           float32 \n",
      " 25  total          float32 \n",
      " 26  pop_below_20   float32 \n",
      " 27  pop_20         float32 \n",
      " 28  pop_30         float32 \n",
      " 29  pop_40         float32 \n",
      " 30  pop_50         float32 \n",
      " 31  pop_60         float32 \n",
      " 32  pop_over_70    float32 \n",
      "dtypes: category(10), float32(13), int32(10)\n",
      "memory usage: 201.2 MB\n"
     ]
    }
   ],
   "source": [
    "subway_weather_pop_final.info()"
   ]
  },
  {
   "cell_type": "markdown",
   "metadata": {},
   "source": [
    "# 최종 생성된 데이터 셋을 csv 파일로 내보내기"
   ]
  },
  {
   "cell_type": "code",
   "execution_count": 15,
   "metadata": {
    "ExecuteTime": {
     "end_time": "2020-11-14T04:07:31.796242Z",
     "start_time": "2020-11-14T04:07:04.039179Z"
    }
   },
   "outputs": [],
   "source": [
    "subway_weather_pop_final.to_csv('{}/df_test.csv'.format(filepath), index = False)"
   ]
  }
 ],
 "metadata": {
  "hide_input": false,
  "kernelspec": {
   "display_name": "Python 3",
   "language": "python",
   "name": "python3"
  },
  "language_info": {
   "codemirror_mode": {
    "name": "ipython",
    "version": 3
   },
   "file_extension": ".py",
   "mimetype": "text/x-python",
   "name": "python",
   "nbconvert_exporter": "python",
   "pygments_lexer": "ipython3",
   "version": "3.8.3"
  },
  "toc": {
   "base_numbering": 1,
   "nav_menu": {},
   "number_sections": true,
   "sideBar": true,
   "skip_h1_title": false,
   "title_cell": "Table of Contents",
   "title_sidebar": "Contents",
   "toc_cell": false,
   "toc_position": {},
   "toc_section_display": true,
   "toc_window_display": false
  },
  "varInspector": {
   "cols": {
    "lenName": 16,
    "lenType": 16,
    "lenVar": 40
   },
   "kernels_config": {
    "python": {
     "delete_cmd_postfix": "",
     "delete_cmd_prefix": "del ",
     "library": "var_list.py",
     "varRefreshCmd": "print(var_dic_list())"
    },
    "r": {
     "delete_cmd_postfix": ") ",
     "delete_cmd_prefix": "rm(",
     "library": "var_list.r",
     "varRefreshCmd": "cat(var_dic_list()) "
    }
   },
   "types_to_exclude": [
    "module",
    "function",
    "builtin_function_or_method",
    "instance",
    "_Feature"
   ],
   "window_display": false
  }
 },
 "nbformat": 4,
 "nbformat_minor": 4
}
