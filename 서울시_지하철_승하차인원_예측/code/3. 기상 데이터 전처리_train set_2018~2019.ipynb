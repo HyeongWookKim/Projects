{
 "cells": [
  {
   "cell_type": "markdown",
   "metadata": {},
   "source": [
    "**<파일 경로>**\n",
    "- C:/Users/Brian/Desktop/Data Science/Projects/Playdata/dataset/weather/train"
   ]
  },
  {
   "cell_type": "code",
   "execution_count": 1,
   "metadata": {
    "ExecuteTime": {
     "end_time": "2020-11-16T07:55:16.814866Z",
     "start_time": "2020-11-16T07:55:13.814939Z"
    }
   },
   "outputs": [
    {
     "name": "stdout",
     "output_type": "stream",
     "text": [
      "C:/Users/Brian/Desktop/Data Science/Projects/Playdata/dataset/weather/train\n"
     ]
    }
   ],
   "source": [
    "filepath = input()"
   ]
  },
  {
   "cell_type": "code",
   "execution_count": 2,
   "metadata": {
    "ExecuteTime": {
     "end_time": "2020-11-16T07:55:17.308159Z",
     "start_time": "2020-11-16T07:55:16.816804Z"
    }
   },
   "outputs": [],
   "source": [
    "import pandas as pd\n",
    "import datetime as dt\n",
    "from tqdm.notebook import tqdm"
   ]
  },
  {
   "cell_type": "markdown",
   "metadata": {},
   "source": [
    "# 2018~2019년 기상 데이터 결합"
   ]
  },
  {
   "cell_type": "code",
   "execution_count": 3,
   "metadata": {
    "ExecuteTime": {
     "end_time": "2020-11-16T07:55:17.893853Z",
     "start_time": "2020-11-16T07:55:17.310193Z"
    }
   },
   "outputs": [],
   "source": [
    "file_1 = pd.read_csv('{}/OBS_AWS_TIM_2018_01~06.csv'.format(filepath), encoding = 'cp949')\n",
    "file_2 = pd.read_csv('{}/OBS_AWS_TIM_2018_07~12.csv'.format(filepath), encoding = 'cp949')\n",
    "file_3 = pd.read_csv('{}/OBS_AWS_TIM_2019_01~06.csv'.format(filepath), encoding = 'cp949')\n",
    "file_4 = pd.read_csv('{}/OBS_AWS_TIM_2019_07~12.csv'.format(filepath), encoding = 'cp949')"
   ]
  },
  {
   "cell_type": "code",
   "execution_count": 4,
   "metadata": {
    "ExecuteTime": {
     "end_time": "2020-11-16T07:55:17.936961Z",
     "start_time": "2020-11-16T07:55:17.894853Z"
    }
   },
   "outputs": [
    {
     "data": {
      "text/html": [
       "<div>\n",
       "<style scoped>\n",
       "    .dataframe tbody tr th:only-of-type {\n",
       "        vertical-align: middle;\n",
       "    }\n",
       "\n",
       "    .dataframe tbody tr th {\n",
       "        vertical-align: top;\n",
       "    }\n",
       "\n",
       "    .dataframe thead th {\n",
       "        text-align: right;\n",
       "    }\n",
       "</style>\n",
       "<table border=\"1\" class=\"dataframe\">\n",
       "  <thead>\n",
       "    <tr style=\"text-align: right;\">\n",
       "      <th></th>\n",
       "      <th>지점</th>\n",
       "      <th>지점명</th>\n",
       "      <th>일시</th>\n",
       "      <th>기온(°C)</th>\n",
       "      <th>풍향(deg)</th>\n",
       "      <th>풍속(m/s)</th>\n",
       "      <th>강수량(mm)</th>\n",
       "      <th>현지기압(hPa)</th>\n",
       "      <th>해면기압(hPa)</th>\n",
       "      <th>습도(%)</th>\n",
       "    </tr>\n",
       "  </thead>\n",
       "  <tbody>\n",
       "    <tr>\n",
       "      <th>0</th>\n",
       "      <td>116</td>\n",
       "      <td>관악(레)</td>\n",
       "      <td>2018-01-01 00:00</td>\n",
       "      <td>-6.0</td>\n",
       "      <td>351.1</td>\n",
       "      <td>6.1</td>\n",
       "      <td>0.0</td>\n",
       "      <td>nan</td>\n",
       "      <td>nan</td>\n",
       "      <td>55.1</td>\n",
       "    </tr>\n",
       "    <tr>\n",
       "      <th>1</th>\n",
       "      <td>116</td>\n",
       "      <td>관악(레)</td>\n",
       "      <td>2018-01-01 01:00</td>\n",
       "      <td>-6.2</td>\n",
       "      <td>4.3</td>\n",
       "      <td>5.7</td>\n",
       "      <td>0.0</td>\n",
       "      <td>nan</td>\n",
       "      <td>nan</td>\n",
       "      <td>56.8</td>\n",
       "    </tr>\n",
       "    <tr>\n",
       "      <th>2</th>\n",
       "      <td>116</td>\n",
       "      <td>관악(레)</td>\n",
       "      <td>2018-01-01 02:00</td>\n",
       "      <td>-6.3</td>\n",
       "      <td>357.5</td>\n",
       "      <td>4.9</td>\n",
       "      <td>0.0</td>\n",
       "      <td>nan</td>\n",
       "      <td>nan</td>\n",
       "      <td>53.1</td>\n",
       "    </tr>\n",
       "    <tr>\n",
       "      <th>3</th>\n",
       "      <td>116</td>\n",
       "      <td>관악(레)</td>\n",
       "      <td>2018-01-01 03:00</td>\n",
       "      <td>-6.2</td>\n",
       "      <td>356.2</td>\n",
       "      <td>4.5</td>\n",
       "      <td>0.0</td>\n",
       "      <td>nan</td>\n",
       "      <td>nan</td>\n",
       "      <td>49.2</td>\n",
       "    </tr>\n",
       "    <tr>\n",
       "      <th>4</th>\n",
       "      <td>116</td>\n",
       "      <td>관악(레)</td>\n",
       "      <td>2018-01-01 04:00</td>\n",
       "      <td>-6.4</td>\n",
       "      <td>348.0</td>\n",
       "      <td>5.6</td>\n",
       "      <td>0.0</td>\n",
       "      <td>nan</td>\n",
       "      <td>nan</td>\n",
       "      <td>48.7</td>\n",
       "    </tr>\n",
       "    <tr>\n",
       "      <th>...</th>\n",
       "      <td>...</td>\n",
       "      <td>...</td>\n",
       "      <td>...</td>\n",
       "      <td>...</td>\n",
       "      <td>...</td>\n",
       "      <td>...</td>\n",
       "      <td>...</td>\n",
       "      <td>...</td>\n",
       "      <td>...</td>\n",
       "      <td>...</td>\n",
       "    </tr>\n",
       "    <tr>\n",
       "      <th>496950</th>\n",
       "      <td>889</td>\n",
       "      <td>현충원</td>\n",
       "      <td>2019-12-31 19:00</td>\n",
       "      <td>-5.5</td>\n",
       "      <td>256.0</td>\n",
       "      <td>1.1</td>\n",
       "      <td>0.0</td>\n",
       "      <td>1033.4</td>\n",
       "      <td>1035.5</td>\n",
       "      <td>40.0</td>\n",
       "    </tr>\n",
       "    <tr>\n",
       "      <th>496951</th>\n",
       "      <td>889</td>\n",
       "      <td>현충원</td>\n",
       "      <td>2019-12-31 20:00</td>\n",
       "      <td>-5.7</td>\n",
       "      <td>267.2</td>\n",
       "      <td>0.9</td>\n",
       "      <td>0.0</td>\n",
       "      <td>1033.4</td>\n",
       "      <td>1035.5</td>\n",
       "      <td>44.3</td>\n",
       "    </tr>\n",
       "    <tr>\n",
       "      <th>496952</th>\n",
       "      <td>889</td>\n",
       "      <td>현충원</td>\n",
       "      <td>2019-12-31 21:00</td>\n",
       "      <td>-5.5</td>\n",
       "      <td>311.1</td>\n",
       "      <td>0.5</td>\n",
       "      <td>0.0</td>\n",
       "      <td>1033.1</td>\n",
       "      <td>1035.2</td>\n",
       "      <td>46.6</td>\n",
       "    </tr>\n",
       "    <tr>\n",
       "      <th>496953</th>\n",
       "      <td>889</td>\n",
       "      <td>현충원</td>\n",
       "      <td>2019-12-31 22:00</td>\n",
       "      <td>-8.7</td>\n",
       "      <td>0.0</td>\n",
       "      <td>0.0</td>\n",
       "      <td>0.0</td>\n",
       "      <td>1032.6</td>\n",
       "      <td>1034.8</td>\n",
       "      <td>64.5</td>\n",
       "    </tr>\n",
       "    <tr>\n",
       "      <th>496954</th>\n",
       "      <td>889</td>\n",
       "      <td>현충원</td>\n",
       "      <td>2019-12-31 23:00</td>\n",
       "      <td>-7.5</td>\n",
       "      <td>0.0</td>\n",
       "      <td>0.0</td>\n",
       "      <td>0.0</td>\n",
       "      <td>1032.3</td>\n",
       "      <td>1034.5</td>\n",
       "      <td>65.4</td>\n",
       "    </tr>\n",
       "  </tbody>\n",
       "</table>\n",
       "<p>496955 rows × 10 columns</p>\n",
       "</div>"
      ],
      "text/plain": [
       "         지점    지점명                일시  기온(°C)  풍향(deg)  풍속(m/s)  강수량(mm)  \\\n",
       "0       116  관악(레)  2018-01-01 00:00    -6.0    351.1      6.1      0.0   \n",
       "1       116  관악(레)  2018-01-01 01:00    -6.2      4.3      5.7      0.0   \n",
       "2       116  관악(레)  2018-01-01 02:00    -6.3    357.5      4.9      0.0   \n",
       "3       116  관악(레)  2018-01-01 03:00    -6.2    356.2      4.5      0.0   \n",
       "4       116  관악(레)  2018-01-01 04:00    -6.4    348.0      5.6      0.0   \n",
       "...     ...    ...               ...     ...      ...      ...      ...   \n",
       "496950  889    현충원  2019-12-31 19:00    -5.5    256.0      1.1      0.0   \n",
       "496951  889    현충원  2019-12-31 20:00    -5.7    267.2      0.9      0.0   \n",
       "496952  889    현충원  2019-12-31 21:00    -5.5    311.1      0.5      0.0   \n",
       "496953  889    현충원  2019-12-31 22:00    -8.7      0.0      0.0      0.0   \n",
       "496954  889    현충원  2019-12-31 23:00    -7.5      0.0      0.0      0.0   \n",
       "\n",
       "        현지기압(hPa)  해면기압(hPa)  습도(%)  \n",
       "0             nan        nan   55.1  \n",
       "1             nan        nan   56.8  \n",
       "2             nan        nan   53.1  \n",
       "3             nan        nan   49.2  \n",
       "4             nan        nan   48.7  \n",
       "...           ...        ...    ...  \n",
       "496950     1033.4     1035.5   40.0  \n",
       "496951     1033.4     1035.5   44.3  \n",
       "496952     1033.1     1035.2   46.6  \n",
       "496953     1032.6     1034.8   64.5  \n",
       "496954     1032.3     1034.5   65.4  \n",
       "\n",
       "[496955 rows x 10 columns]"
      ]
     },
     "execution_count": 4,
     "metadata": {},
     "output_type": "execute_result"
    }
   ],
   "source": [
    "concat_list = [file_1, file_2, file_3, file_4]\n",
    "\n",
    "weather_total = pd.concat(concat_list, axis = 0, ignore_index = True)\n",
    "weather_total"
   ]
  },
  {
   "cell_type": "markdown",
   "metadata": {},
   "source": [
    "# 필요한 변수들만 추출"
   ]
  },
  {
   "cell_type": "code",
   "execution_count": 5,
   "metadata": {
    "ExecuteTime": {
     "end_time": "2020-11-16T07:55:17.967855Z",
     "start_time": "2020-11-16T07:55:17.939854Z"
    }
   },
   "outputs": [
    {
     "data": {
      "text/html": [
       "<div>\n",
       "<style scoped>\n",
       "    .dataframe tbody tr th:only-of-type {\n",
       "        vertical-align: middle;\n",
       "    }\n",
       "\n",
       "    .dataframe tbody tr th {\n",
       "        vertical-align: top;\n",
       "    }\n",
       "\n",
       "    .dataframe thead th {\n",
       "        text-align: right;\n",
       "    }\n",
       "</style>\n",
       "<table border=\"1\" class=\"dataframe\">\n",
       "  <thead>\n",
       "    <tr style=\"text-align: right;\">\n",
       "      <th></th>\n",
       "      <th>일시</th>\n",
       "      <th>지점명</th>\n",
       "      <th>기온(°C)</th>\n",
       "      <th>풍속(m/s)</th>\n",
       "      <th>강수량(mm)</th>\n",
       "      <th>습도(%)</th>\n",
       "    </tr>\n",
       "  </thead>\n",
       "  <tbody>\n",
       "    <tr>\n",
       "      <th>0</th>\n",
       "      <td>2018-01-01 00:00</td>\n",
       "      <td>관악(레)</td>\n",
       "      <td>-6.0</td>\n",
       "      <td>6.1</td>\n",
       "      <td>0.0</td>\n",
       "      <td>55.1</td>\n",
       "    </tr>\n",
       "    <tr>\n",
       "      <th>1</th>\n",
       "      <td>2018-01-01 01:00</td>\n",
       "      <td>관악(레)</td>\n",
       "      <td>-6.2</td>\n",
       "      <td>5.7</td>\n",
       "      <td>0.0</td>\n",
       "      <td>56.8</td>\n",
       "    </tr>\n",
       "    <tr>\n",
       "      <th>2</th>\n",
       "      <td>2018-01-01 02:00</td>\n",
       "      <td>관악(레)</td>\n",
       "      <td>-6.3</td>\n",
       "      <td>4.9</td>\n",
       "      <td>0.0</td>\n",
       "      <td>53.1</td>\n",
       "    </tr>\n",
       "    <tr>\n",
       "      <th>3</th>\n",
       "      <td>2018-01-01 03:00</td>\n",
       "      <td>관악(레)</td>\n",
       "      <td>-6.2</td>\n",
       "      <td>4.5</td>\n",
       "      <td>0.0</td>\n",
       "      <td>49.2</td>\n",
       "    </tr>\n",
       "    <tr>\n",
       "      <th>4</th>\n",
       "      <td>2018-01-01 04:00</td>\n",
       "      <td>관악(레)</td>\n",
       "      <td>-6.4</td>\n",
       "      <td>5.6</td>\n",
       "      <td>0.0</td>\n",
       "      <td>48.7</td>\n",
       "    </tr>\n",
       "  </tbody>\n",
       "</table>\n",
       "</div>"
      ],
      "text/plain": [
       "                 일시    지점명  기온(°C)  풍속(m/s)  강수량(mm)  습도(%)\n",
       "0  2018-01-01 00:00  관악(레)    -6.0      6.1      0.0   55.1\n",
       "1  2018-01-01 01:00  관악(레)    -6.2      5.7      0.0   56.8\n",
       "2  2018-01-01 02:00  관악(레)    -6.3      4.9      0.0   53.1\n",
       "3  2018-01-01 03:00  관악(레)    -6.2      4.5      0.0   49.2\n",
       "4  2018-01-01 04:00  관악(레)    -6.4      5.6      0.0   48.7"
      ]
     },
     "execution_count": 5,
     "metadata": {},
     "output_type": "execute_result"
    }
   ],
   "source": [
    "weather_total = weather_total[['일시', '지점명', '기온(°C)', '풍속(m/s)', '강수량(mm)', '습도(%)']]\n",
    "weather_total.head()"
   ]
  },
  {
   "cell_type": "markdown",
   "metadata": {},
   "source": [
    "# 변수명 변경\n",
    "- 한글로 되어 있는 변수명을 모두 영어로 변경해주겠다.\n",
    "    - 일시 = date\n",
    "    - 지점명 = obs_name\n",
    "    - 기온(°C) = temp\n",
    "    - 풍속(m/s) = windspeed\n",
    "    - 강수량(mm) = rain\n",
    "    - 습도(%) = humidity"
   ]
  },
  {
   "cell_type": "code",
   "execution_count": 6,
   "metadata": {
    "ExecuteTime": {
     "end_time": "2020-11-16T07:55:18.034855Z",
     "start_time": "2020-11-16T07:55:17.969853Z"
    }
   },
   "outputs": [
    {
     "name": "stdout",
     "output_type": "stream",
     "text": [
      "<class 'pandas.core.frame.DataFrame'>\n",
      "RangeIndex: 496955 entries, 0 to 496954\n",
      "Data columns (total 6 columns):\n",
      " #   Column     Non-Null Count   Dtype  \n",
      "---  ------     --------------   -----  \n",
      " 0   date       496955 non-null  object \n",
      " 1   obs_name   496955 non-null  object \n",
      " 2   temp       496422 non-null  float64\n",
      " 3   windspeed  495707 non-null  float64\n",
      " 4   rain       493400 non-null  float64\n",
      " 5   humidity   304560 non-null  float64\n",
      "dtypes: float64(4), object(2)\n",
      "memory usage: 22.7+ MB\n"
     ]
    },
    {
     "name": "stderr",
     "output_type": "stream",
     "text": [
      "C:\\Users\\Brian\\anaconda3\\lib\\site-packages\\pandas\\core\\frame.py:4125: SettingWithCopyWarning: \n",
      "A value is trying to be set on a copy of a slice from a DataFrame\n",
      "\n",
      "See the caveats in the documentation: https://pandas.pydata.org/pandas-docs/stable/user_guide/indexing.html#returning-a-view-versus-a-copy\n",
      "  return super().rename(\n"
     ]
    }
   ],
   "source": [
    "col_name = {\n",
    "    '일시': 'date', '지점명': 'obs_name',\n",
    "    '기온(°C)': 'temp', '풍속(m/s)': 'windspeed',\n",
    "    '강수량(mm)': 'rain', '습도(%)': 'humidity'\n",
    "}\n",
    "\n",
    "weather_total.rename(columns = col_name, inplace = True)\n",
    "weather_total.info()"
   ]
  },
  {
   "cell_type": "markdown",
   "metadata": {},
   "source": [
    "# 지점명(obs_name) 변수 처리"
   ]
  },
  {
   "cell_type": "markdown",
   "metadata": {},
   "source": [
    "## 지점명(obs_name) 변수 변경 및 삭제\n",
    "- 기상 관측 지점명(obs_name) 변수에 대해서 다음과 같은 처리를 해주도록 하겠다.\n",
    "\n",
    "**<기상 데이터 관측 지점명(obs_name) 변경 및 삭제>**\n",
    "1. 변경 지점명(obs_name) 리스트\n",
    "    - 기상청\n",
    "        - 해당 관측 지점은 주소가 \"동작구\"이므로, \"동작\"이라고 변경해주도록 하겠다.\n",
    "        - 즉, \"기상청 >> 동작\"\n",
    "    - 한강\n",
    "        - 해당 관측 지점은 주소가 \"영등포구\"이므로, \"영등포\"라고 변경해주도록 하겠다.\n",
    "        - 즉, \"한강 >> 영등포\"\n",
    "    - 현충원\n",
    "        - 해당 관측 지점은 주소가 \"동작구\"이므로, \"동작\"이라고 변경해주도록 하겠다.\n",
    "        - 즉, \"현충원 >> 동작\"\n",
    "    - 북악산\n",
    "        - 해당 관측 지점은 주소가 \"종로구\"이므로, \"종로\"라고 변경해주도록 하겠다.\n",
    "        - 즉, \"북악산 >> 종로\"\n",
    "2. 삭제 지점명(obs_name) 리스트\n",
    "    - 관악(레)\n",
    "        - 해당 관측 지점은 주소가 \"경기도\"이기 때문에 삭제하도록 하겠다.\n",
    "    - 남현\n",
    "        - 해당 관측 지점은 주소가 \"전라남도\"이기 때문에 삭제하도록 하겠다."
   ]
  },
  {
   "cell_type": "code",
   "execution_count": 7,
   "metadata": {
    "ExecuteTime": {
     "end_time": "2020-11-16T07:55:18.132855Z",
     "start_time": "2020-11-16T07:55:18.036854Z"
    }
   },
   "outputs": [],
   "source": [
    "# 지점명 삭제\n",
    "drop_idx = weather_total[(weather_total['obs_name'] == '관악(레)') | (weather_total['obs_name'] == '남현')].index\n",
    "weather_total2 = weather_total.drop(drop_idx)"
   ]
  },
  {
   "cell_type": "code",
   "execution_count": 8,
   "metadata": {
    "ExecuteTime": {
     "end_time": "2020-11-16T07:55:18.240946Z",
     "start_time": "2020-11-16T07:55:18.137859Z"
    }
   },
   "outputs": [],
   "source": [
    "# 지점명 변경\n",
    "def process_obs_name(x):\n",
    "    if x == '기상청':\n",
    "        return '동작'\n",
    "    elif x == '한강':\n",
    "        return '영등포'\n",
    "    elif x == '현충원':\n",
    "        return '동작'\n",
    "    elif x == '북악산':\n",
    "        return '종로'\n",
    "    else:\n",
    "        return x\n",
    "\n",
    "weather_total2['obs_name'] = weather_total2['obs_name'].apply(process_obs_name)"
   ]
  },
  {
   "cell_type": "code",
   "execution_count": 9,
   "metadata": {
    "ExecuteTime": {
     "end_time": "2020-11-16T07:55:18.280879Z",
     "start_time": "2020-11-16T07:55:18.242877Z"
    }
   },
   "outputs": [
    {
     "data": {
      "text/plain": [
       "26"
      ]
     },
     "execution_count": 9,
     "metadata": {},
     "output_type": "execute_result"
    }
   ],
   "source": [
    "# 서울특별시 자치구 개수 확인\n",
    "len(set(weather_total2.obs_name))"
   ]
  },
  {
   "cell_type": "markdown",
   "metadata": {},
   "source": [
    "- 작업을 수행해 준 뒤, 자치구의 개수가 25개가 맞는지 확인해보니 26개가 나온다.\n",
    "    - 1개가 중복되어 나왔다는 말이므로, 어떤 자치구가 중복되었는지 확인해보겠다."
   ]
  },
  {
   "cell_type": "code",
   "execution_count": 10,
   "metadata": {
    "ExecuteTime": {
     "end_time": "2020-11-16T07:55:18.328879Z",
     "start_time": "2020-11-16T07:55:18.282879Z"
    }
   },
   "outputs": [
    {
     "data": {
      "text/plain": [
       "동작      34998\n",
       "성동      17520\n",
       "동대문     17519\n",
       "노원      17512\n",
       "관악      17511\n",
       "강동      17509\n",
       "서초      17508\n",
       "성북      17504\n",
       "양천      17498\n",
       "영등포     17498\n",
       "강북      17497\n",
       "구로      17496\n",
       "도봉      17495\n",
       "서대문     17491\n",
       "광진      17479\n",
       "송파      17471\n",
       "강서      17466\n",
       "영등포     17434\n",
       "은평      17424\n",
       "금천      17398\n",
       "중구      17394\n",
       "마포      17375\n",
       "중랑      17374\n",
       "용산      17355\n",
       "강남      17224\n",
       "종로       8005\n",
       "Name: obs_name, dtype: int64"
      ]
     },
     "execution_count": 10,
     "metadata": {},
     "output_type": "execute_result"
    }
   ],
   "source": [
    "weather_total2.obs_name.value_counts()"
   ]
  },
  {
   "cell_type": "markdown",
   "metadata": {},
   "source": [
    "- 위 결과를 통해, \"영등포\"가 중복된 것을 확인하였다.\n",
    "- 자세히 확인해보니, \"영등포\" 뒤에 띄어쓰기가 들어간 데이터들이 존재한다.\n",
    "    - 따라서 이러한 데이터들에 대하여 모두 뒤에 붙은 띄어쓰기를 제거해주도록 하겠다.\n",
    "    - ex) \"영등포 \" >> \"영등포\""
   ]
  },
  {
   "cell_type": "code",
   "execution_count": 11,
   "metadata": {
    "ExecuteTime": {
     "end_time": "2020-11-16T07:55:18.370696Z",
     "start_time": "2020-11-16T07:55:18.329877Z"
    }
   },
   "outputs": [
    {
     "data": {
      "text/html": [
       "<div>\n",
       "<style scoped>\n",
       "    .dataframe tbody tr th:only-of-type {\n",
       "        vertical-align: middle;\n",
       "    }\n",
       "\n",
       "    .dataframe tbody tr th {\n",
       "        vertical-align: top;\n",
       "    }\n",
       "\n",
       "    .dataframe thead th {\n",
       "        text-align: right;\n",
       "    }\n",
       "</style>\n",
       "<table border=\"1\" class=\"dataframe\">\n",
       "  <thead>\n",
       "    <tr style=\"text-align: right;\">\n",
       "      <th></th>\n",
       "      <th>date</th>\n",
       "      <th>obs_name</th>\n",
       "      <th>temp</th>\n",
       "      <th>windspeed</th>\n",
       "      <th>rain</th>\n",
       "      <th>humidity</th>\n",
       "    </tr>\n",
       "  </thead>\n",
       "  <tbody>\n",
       "    <tr>\n",
       "      <th>82332</th>\n",
       "      <td>2018-01-01 00:00</td>\n",
       "      <td>영등포</td>\n",
       "      <td>-1.2</td>\n",
       "      <td>2.1</td>\n",
       "      <td>nan</td>\n",
       "      <td>48.5</td>\n",
       "    </tr>\n",
       "    <tr>\n",
       "      <th>82333</th>\n",
       "      <td>2018-01-01 01:00</td>\n",
       "      <td>영등포</td>\n",
       "      <td>-1.4</td>\n",
       "      <td>0.7</td>\n",
       "      <td>0.0</td>\n",
       "      <td>45.4</td>\n",
       "    </tr>\n",
       "    <tr>\n",
       "      <th>82334</th>\n",
       "      <td>2018-01-01 02:00</td>\n",
       "      <td>영등포</td>\n",
       "      <td>-1.5</td>\n",
       "      <td>1.6</td>\n",
       "      <td>0.0</td>\n",
       "      <td>41.4</td>\n",
       "    </tr>\n",
       "    <tr>\n",
       "      <th>82335</th>\n",
       "      <td>2018-01-01 03:00</td>\n",
       "      <td>영등포</td>\n",
       "      <td>-2.0</td>\n",
       "      <td>1.1</td>\n",
       "      <td>0.0</td>\n",
       "      <td>51.0</td>\n",
       "    </tr>\n",
       "    <tr>\n",
       "      <th>82336</th>\n",
       "      <td>2018-01-01 04:00</td>\n",
       "      <td>영등포</td>\n",
       "      <td>-2.0</td>\n",
       "      <td>1.1</td>\n",
       "      <td>0.0</td>\n",
       "      <td>52.9</td>\n",
       "    </tr>\n",
       "    <tr>\n",
       "      <th>...</th>\n",
       "      <td>...</td>\n",
       "      <td>...</td>\n",
       "      <td>...</td>\n",
       "      <td>...</td>\n",
       "      <td>...</td>\n",
       "      <td>...</td>\n",
       "    </tr>\n",
       "    <tr>\n",
       "      <th>461762</th>\n",
       "      <td>2019-12-31 19:00</td>\n",
       "      <td>영등포</td>\n",
       "      <td>-5.0</td>\n",
       "      <td>2.9</td>\n",
       "      <td>0.0</td>\n",
       "      <td>47.2</td>\n",
       "    </tr>\n",
       "    <tr>\n",
       "      <th>461763</th>\n",
       "      <td>2019-12-31 20:00</td>\n",
       "      <td>영등포</td>\n",
       "      <td>-5.4</td>\n",
       "      <td>2.8</td>\n",
       "      <td>0.0</td>\n",
       "      <td>42.8</td>\n",
       "    </tr>\n",
       "    <tr>\n",
       "      <th>461764</th>\n",
       "      <td>2019-12-31 21:00</td>\n",
       "      <td>영등포</td>\n",
       "      <td>-5.3</td>\n",
       "      <td>2.0</td>\n",
       "      <td>0.0</td>\n",
       "      <td>45.3</td>\n",
       "    </tr>\n",
       "    <tr>\n",
       "      <th>461765</th>\n",
       "      <td>2019-12-31 22:00</td>\n",
       "      <td>영등포</td>\n",
       "      <td>-5.8</td>\n",
       "      <td>0.2</td>\n",
       "      <td>0.0</td>\n",
       "      <td>43.8</td>\n",
       "    </tr>\n",
       "    <tr>\n",
       "      <th>461766</th>\n",
       "      <td>2019-12-31 23:00</td>\n",
       "      <td>영등포</td>\n",
       "      <td>-4.6</td>\n",
       "      <td>0.9</td>\n",
       "      <td>0.0</td>\n",
       "      <td>45.6</td>\n",
       "    </tr>\n",
       "  </tbody>\n",
       "</table>\n",
       "<p>17434 rows × 6 columns</p>\n",
       "</div>"
      ],
      "text/plain": [
       "                    date obs_name  temp  windspeed  rain  humidity\n",
       "82332   2018-01-01 00:00      영등포  -1.2        2.1   nan      48.5\n",
       "82333   2018-01-01 01:00      영등포  -1.4        0.7   0.0      45.4\n",
       "82334   2018-01-01 02:00      영등포  -1.5        1.6   0.0      41.4\n",
       "82335   2018-01-01 03:00      영등포  -2.0        1.1   0.0      51.0\n",
       "82336   2018-01-01 04:00      영등포  -2.0        1.1   0.0      52.9\n",
       "...                  ...      ...   ...        ...   ...       ...\n",
       "461762  2019-12-31 19:00      영등포  -5.0        2.9   0.0      47.2\n",
       "461763  2019-12-31 20:00      영등포  -5.4        2.8   0.0      42.8\n",
       "461764  2019-12-31 21:00      영등포  -5.3        2.0   0.0      45.3\n",
       "461765  2019-12-31 22:00      영등포  -5.8        0.2   0.0      43.8\n",
       "461766  2019-12-31 23:00      영등포  -4.6        0.9   0.0      45.6\n",
       "\n",
       "[17434 rows x 6 columns]"
      ]
     },
     "execution_count": 11,
     "metadata": {},
     "output_type": "execute_result"
    }
   ],
   "source": [
    "weather_total2[weather_total2['obs_name'] == '영등포']"
   ]
  },
  {
   "cell_type": "code",
   "execution_count": 12,
   "metadata": {
    "ExecuteTime": {
     "end_time": "2020-11-16T07:55:18.408694Z",
     "start_time": "2020-11-16T07:55:18.372693Z"
    }
   },
   "outputs": [
    {
     "data": {
      "text/html": [
       "<div>\n",
       "<style scoped>\n",
       "    .dataframe tbody tr th:only-of-type {\n",
       "        vertical-align: middle;\n",
       "    }\n",
       "\n",
       "    .dataframe tbody tr th {\n",
       "        vertical-align: top;\n",
       "    }\n",
       "\n",
       "    .dataframe thead th {\n",
       "        text-align: right;\n",
       "    }\n",
       "</style>\n",
       "<table border=\"1\" class=\"dataframe\">\n",
       "  <thead>\n",
       "    <tr style=\"text-align: right;\">\n",
       "      <th></th>\n",
       "      <th>date</th>\n",
       "      <th>obs_name</th>\n",
       "      <th>temp</th>\n",
       "      <th>windspeed</th>\n",
       "      <th>rain</th>\n",
       "      <th>humidity</th>\n",
       "    </tr>\n",
       "  </thead>\n",
       "  <tbody>\n",
       "    <tr>\n",
       "      <th>117046</th>\n",
       "      <td>2018-01-01 00:00</td>\n",
       "      <td>영등포</td>\n",
       "      <td>-0.4</td>\n",
       "      <td>1.2</td>\n",
       "      <td>0.0</td>\n",
       "      <td>nan</td>\n",
       "    </tr>\n",
       "    <tr>\n",
       "      <th>117047</th>\n",
       "      <td>2018-01-01 01:00</td>\n",
       "      <td>영등포</td>\n",
       "      <td>-0.9</td>\n",
       "      <td>0.3</td>\n",
       "      <td>0.0</td>\n",
       "      <td>nan</td>\n",
       "    </tr>\n",
       "    <tr>\n",
       "      <th>117048</th>\n",
       "      <td>2018-01-01 02:00</td>\n",
       "      <td>영등포</td>\n",
       "      <td>-0.8</td>\n",
       "      <td>0.4</td>\n",
       "      <td>0.0</td>\n",
       "      <td>nan</td>\n",
       "    </tr>\n",
       "    <tr>\n",
       "      <th>117049</th>\n",
       "      <td>2018-01-01 03:00</td>\n",
       "      <td>영등포</td>\n",
       "      <td>-0.9</td>\n",
       "      <td>0.5</td>\n",
       "      <td>0.0</td>\n",
       "      <td>nan</td>\n",
       "    </tr>\n",
       "    <tr>\n",
       "      <th>117050</th>\n",
       "      <td>2018-01-01 04:00</td>\n",
       "      <td>영등포</td>\n",
       "      <td>-1.3</td>\n",
       "      <td>0.3</td>\n",
       "      <td>0.0</td>\n",
       "      <td>nan</td>\n",
       "    </tr>\n",
       "    <tr>\n",
       "      <th>...</th>\n",
       "      <td>...</td>\n",
       "      <td>...</td>\n",
       "      <td>...</td>\n",
       "      <td>...</td>\n",
       "      <td>...</td>\n",
       "      <td>...</td>\n",
       "    </tr>\n",
       "    <tr>\n",
       "      <th>492542</th>\n",
       "      <td>2019-12-31 19:00</td>\n",
       "      <td>영등포</td>\n",
       "      <td>-5.3</td>\n",
       "      <td>1.8</td>\n",
       "      <td>0.0</td>\n",
       "      <td>nan</td>\n",
       "    </tr>\n",
       "    <tr>\n",
       "      <th>492543</th>\n",
       "      <td>2019-12-31 20:00</td>\n",
       "      <td>영등포</td>\n",
       "      <td>-5.3</td>\n",
       "      <td>1.3</td>\n",
       "      <td>0.0</td>\n",
       "      <td>nan</td>\n",
       "    </tr>\n",
       "    <tr>\n",
       "      <th>492544</th>\n",
       "      <td>2019-12-31 21:00</td>\n",
       "      <td>영등포</td>\n",
       "      <td>-5.4</td>\n",
       "      <td>0.9</td>\n",
       "      <td>0.0</td>\n",
       "      <td>nan</td>\n",
       "    </tr>\n",
       "    <tr>\n",
       "      <th>492545</th>\n",
       "      <td>2019-12-31 22:00</td>\n",
       "      <td>영등포</td>\n",
       "      <td>-5.7</td>\n",
       "      <td>0.3</td>\n",
       "      <td>0.0</td>\n",
       "      <td>nan</td>\n",
       "    </tr>\n",
       "    <tr>\n",
       "      <th>492546</th>\n",
       "      <td>2019-12-31 23:00</td>\n",
       "      <td>영등포</td>\n",
       "      <td>-4.9</td>\n",
       "      <td>0.0</td>\n",
       "      <td>0.0</td>\n",
       "      <td>nan</td>\n",
       "    </tr>\n",
       "  </tbody>\n",
       "</table>\n",
       "<p>17498 rows × 6 columns</p>\n",
       "</div>"
      ],
      "text/plain": [
       "                    date obs_name  temp  windspeed  rain  humidity\n",
       "117046  2018-01-01 00:00     영등포   -0.4        1.2   0.0       nan\n",
       "117047  2018-01-01 01:00     영등포   -0.9        0.3   0.0       nan\n",
       "117048  2018-01-01 02:00     영등포   -0.8        0.4   0.0       nan\n",
       "117049  2018-01-01 03:00     영등포   -0.9        0.5   0.0       nan\n",
       "117050  2018-01-01 04:00     영등포   -1.3        0.3   0.0       nan\n",
       "...                  ...      ...   ...        ...   ...       ...\n",
       "492542  2019-12-31 19:00     영등포   -5.3        1.8   0.0       nan\n",
       "492543  2019-12-31 20:00     영등포   -5.3        1.3   0.0       nan\n",
       "492544  2019-12-31 21:00     영등포   -5.4        0.9   0.0       nan\n",
       "492545  2019-12-31 22:00     영등포   -5.7        0.3   0.0       nan\n",
       "492546  2019-12-31 23:00     영등포   -4.9        0.0   0.0       nan\n",
       "\n",
       "[17498 rows x 6 columns]"
      ]
     },
     "execution_count": 12,
     "metadata": {},
     "output_type": "execute_result"
    }
   ],
   "source": [
    "weather_total2[weather_total2['obs_name'] == '영등포 ']"
   ]
  },
  {
   "cell_type": "code",
   "execution_count": 13,
   "metadata": {
    "ExecuteTime": {
     "end_time": "2020-11-16T07:55:18.511718Z",
     "start_time": "2020-11-16T07:55:18.411693Z"
    }
   },
   "outputs": [
    {
     "data": {
      "text/plain": [
       "동작     34998\n",
       "영등포    34932\n",
       "성동     17520\n",
       "동대문    17519\n",
       "노원     17512\n",
       "관악     17511\n",
       "강동     17509\n",
       "서초     17508\n",
       "성북     17504\n",
       "양천     17498\n",
       "강북     17497\n",
       "구로     17496\n",
       "도봉     17495\n",
       "서대문    17491\n",
       "광진     17479\n",
       "송파     17471\n",
       "강서     17466\n",
       "은평     17424\n",
       "금천     17398\n",
       "중구     17394\n",
       "마포     17375\n",
       "중랑     17374\n",
       "용산     17355\n",
       "강남     17224\n",
       "종로      8005\n",
       "Name: obs_name, dtype: int64"
      ]
     },
     "execution_count": 13,
     "metadata": {},
     "output_type": "execute_result"
    }
   ],
   "source": [
    "def edit_obs_name(x):\n",
    "    if x == '영등포 ':\n",
    "        return '영등포'\n",
    "    else:\n",
    "        return x\n",
    "    \n",
    "weather_total2['obs_name'] = weather_total2['obs_name'].apply(edit_obs_name)\n",
    "weather_total2.obs_name.value_counts()"
   ]
  },
  {
   "cell_type": "code",
   "execution_count": 14,
   "metadata": {
    "ExecuteTime": {
     "end_time": "2020-11-16T07:55:18.550782Z",
     "start_time": "2020-11-16T07:55:18.512695Z"
    }
   },
   "outputs": [
    {
     "data": {
      "text/plain": [
       "25"
      ]
     },
     "execution_count": 14,
     "metadata": {},
     "output_type": "execute_result"
    }
   ],
   "source": [
    "# 서울특별시 자치구 개수 재확인\n",
    "len(set(weather_total2.obs_name))"
   ]
  },
  {
   "cell_type": "markdown",
   "metadata": {},
   "source": [
    "### 중복된 값 제거\n",
    "- 지점명(obs_name)이 \"동작\"과 영등포\"인 경우, 중복된 값들의 존재로 인해 값이 높게 나온 것을 확인할 수 있다.\n",
    "- 따라서 중복된 값들을 모두 제거해주도록 하겠다.\n",
    "    - ```drop_duplicates()``` 함수를 사용해서 \"date\"와 \"obs_name\" 변수를 기준으로 중복된 값들을 제거해주겠다.\n",
    "    - 이때 ```keep = 'first'``` 옵션을 통해 첫 번째 값만 남겨주겠다."
   ]
  },
  {
   "cell_type": "code",
   "execution_count": 15,
   "metadata": {
    "ExecuteTime": {
     "end_time": "2020-11-16T07:55:18.702694Z",
     "start_time": "2020-11-16T07:55:18.552694Z"
    }
   },
   "outputs": [
    {
     "data": {
      "text/plain": [
       "성동     17520\n",
       "영등포    17520\n",
       "동작     17520\n",
       "동대문    17519\n",
       "노원     17512\n",
       "관악     17511\n",
       "강동     17509\n",
       "서초     17508\n",
       "성북     17504\n",
       "양천     17498\n",
       "강북     17497\n",
       "구로     17496\n",
       "도봉     17495\n",
       "서대문    17491\n",
       "광진     17479\n",
       "송파     17471\n",
       "강서     17466\n",
       "은평     17424\n",
       "금천     17398\n",
       "중구     17394\n",
       "마포     17375\n",
       "중랑     17374\n",
       "용산     17355\n",
       "강남     17224\n",
       "종로      8005\n",
       "Name: obs_name, dtype: int64"
      ]
     },
     "execution_count": 15,
     "metadata": {},
     "output_type": "execute_result"
    }
   ],
   "source": [
    "weather_total2.drop_duplicates(['date', 'obs_name'], keep = 'first', inplace = True)\n",
    "weather_total2.obs_name.value_counts()"
   ]
  },
  {
   "cell_type": "markdown",
   "metadata": {},
   "source": [
    "## 지점명(obs_name)별 모든 일자(date) 존재 여부 확인\n",
    "- 각 지점명(obs_name)별로 모든 일자(date)가 존재하는지 확인해보고, 그렇지 않다면 존재하지 않는 부분들에 대한 처리를 해주도록 하겠다."
   ]
  },
  {
   "cell_type": "code",
   "execution_count": 16,
   "metadata": {
    "ExecuteTime": {
     "end_time": "2020-11-16T07:55:18.749758Z",
     "start_time": "2020-11-16T07:55:18.704717Z"
    }
   },
   "outputs": [
    {
     "data": {
      "text/plain": [
       "17520"
      ]
     },
     "execution_count": 16,
     "metadata": {},
     "output_type": "execute_result"
    }
   ],
   "source": [
    "# 각 지점명별로 (중복된 값을 제외하고) 총 17520개의 일자가 존재해야 함\n",
    "len(set(weather_total2['date'])) # 730(날짜) * 24(시간) = 17520개"
   ]
  },
  {
   "cell_type": "markdown",
   "metadata": {},
   "source": [
    "- 위에서 ```value_counts()``` 함수를 통해, 지점명(obs_name)이 \"동작, 성동, 영등포\"인 경우를 제외한 나머지 지점들이 모든 일자(date)가 존재하지 않음을 확인할 수 있었다.\n",
    "    - 즉, 지점명별로 (중복된 값을 제외하고) 총 17520개의 일자가 존재하지 않는다.\n",
    "- 따라서 이에 대한 처리를 수행해주겠다."
   ]
  },
  {
   "cell_type": "markdown",
   "metadata": {},
   "source": [
    "### 각 지점명별로 비어있는 일자(date)를 확인 후, 채워해주는 함수 생성\n",
    "- 각 지점명별로 비어있는 일자를 찾아내서, 근접한 지점의 값들로 대체해주는 작업을 수행해주도록 하겠다.\n",
    "    - ex) \"강남\" 지점의 특정 일자들이 비어있는 경우, 해당 일자의 \"송파\" 지점 값들로 대체\n",
    "- 또한 반복 작업을 최소화하기 위해 하나의 함수를 만들어서 사용하겠다."
   ]
  },
  {
   "cell_type": "code",
   "execution_count": 17,
   "metadata": {
    "ExecuteTime": {
     "end_time": "2020-11-16T07:55:18.787717Z",
     "start_time": "2020-11-16T07:55:18.752698Z"
    }
   },
   "outputs": [
    {
     "data": {
      "text/html": [
       "<div>\n",
       "<style scoped>\n",
       "    .dataframe tbody tr th:only-of-type {\n",
       "        vertical-align: middle;\n",
       "    }\n",
       "\n",
       "    .dataframe tbody tr th {\n",
       "        vertical-align: top;\n",
       "    }\n",
       "\n",
       "    .dataframe thead th {\n",
       "        text-align: right;\n",
       "    }\n",
       "</style>\n",
       "<table border=\"1\" class=\"dataframe\">\n",
       "  <thead>\n",
       "    <tr style=\"text-align: right;\">\n",
       "      <th></th>\n",
       "      <th>date</th>\n",
       "    </tr>\n",
       "  </thead>\n",
       "  <tbody>\n",
       "    <tr>\n",
       "      <th>0</th>\n",
       "      <td>2018-01-01 00:00</td>\n",
       "    </tr>\n",
       "    <tr>\n",
       "      <th>1</th>\n",
       "      <td>2018-01-01 01:00</td>\n",
       "    </tr>\n",
       "    <tr>\n",
       "      <th>2</th>\n",
       "      <td>2018-01-01 02:00</td>\n",
       "    </tr>\n",
       "    <tr>\n",
       "      <th>3</th>\n",
       "      <td>2018-01-01 03:00</td>\n",
       "    </tr>\n",
       "    <tr>\n",
       "      <th>4</th>\n",
       "      <td>2018-01-01 04:00</td>\n",
       "    </tr>\n",
       "    <tr>\n",
       "      <th>...</th>\n",
       "      <td>...</td>\n",
       "    </tr>\n",
       "    <tr>\n",
       "      <th>17515</th>\n",
       "      <td>2019-12-31 19:00</td>\n",
       "    </tr>\n",
       "    <tr>\n",
       "      <th>17516</th>\n",
       "      <td>2019-12-31 20:00</td>\n",
       "    </tr>\n",
       "    <tr>\n",
       "      <th>17517</th>\n",
       "      <td>2019-12-31 21:00</td>\n",
       "    </tr>\n",
       "    <tr>\n",
       "      <th>17518</th>\n",
       "      <td>2019-12-31 22:00</td>\n",
       "    </tr>\n",
       "    <tr>\n",
       "      <th>17519</th>\n",
       "      <td>2019-12-31 23:00</td>\n",
       "    </tr>\n",
       "  </tbody>\n",
       "</table>\n",
       "<p>17520 rows × 1 columns</p>\n",
       "</div>"
      ],
      "text/plain": [
       "                   date\n",
       "0      2018-01-01 00:00\n",
       "1      2018-01-01 01:00\n",
       "2      2018-01-01 02:00\n",
       "3      2018-01-01 03:00\n",
       "4      2018-01-01 04:00\n",
       "...                 ...\n",
       "17515  2019-12-31 19:00\n",
       "17516  2019-12-31 20:00\n",
       "17517  2019-12-31 21:00\n",
       "17518  2019-12-31 22:00\n",
       "17519  2019-12-31 23:00\n",
       "\n",
       "[17520 rows x 1 columns]"
      ]
     },
     "execution_count": 17,
     "metadata": {},
     "output_type": "execute_result"
    }
   ],
   "source": [
    "# 중복 값이 존재하지 않는 일자(date)로 이루어진 DataFrame 생성\n",
    "date_nodup = pd.DataFrame(weather_total2[weather_total2['obs_name'] == '성동']['date']).reset_index(drop = True)\n",
    "date_nodup"
   ]
  },
  {
   "cell_type": "code",
   "execution_count": 18,
   "metadata": {
    "ExecuteTime": {
     "end_time": "2020-11-16T07:55:18.796695Z",
     "start_time": "2020-11-16T07:55:18.789697Z"
    }
   },
   "outputs": [],
   "source": [
    "def fill_null_date(null_obs, replace_obs):\n",
    "    # 지점명이 null_obs로 이루어진 DataFrame 생성\n",
    "    df_null_obs = weather_total2[weather_total2['obs_name'] == null_obs].reset_index(drop = True)\n",
    "\n",
    "    # date_nodup과 df_null_obs을 left join\n",
    "    df_null_check = pd.merge(date_nodup, df_null_obs, how = 'left', on = 'date')\n",
    "    # 이를 통해 비어있는 일자(date) 확인\n",
    "    df_null_date = df_null_check[df_null_check['obs_name'].isnull()][['date']]\n",
    "\n",
    "    # null_obs 지점의 비어있는 일자(date)에 대해서 replace_obs 지점의 관측값들로 대체\n",
    "    df_replace_obs = weather_total2[weather_total2['obs_name'] == replace_obs].reset_index(drop = True)\n",
    "    df_null_date2 = pd.merge(df_null_date, df_replace_obs, how = 'left', on = 'date')\n",
    "\n",
    "    # replace_obs라고 되어 있는 지점명을 null_obs으로 변경\n",
    "    def change_obs_name(x):\n",
    "        if x == replace_obs:\n",
    "            return null_obs\n",
    "\n",
    "    df_null_date2['obs_name'] = df_null_date2['obs_name'].apply(change_obs_name)\n",
    "\n",
    "    # 지점명이 null_obs로 이루어진 DataFrame에 비어있는 일자(date)가 채워진 DataFrame을 결합\n",
    "    df_null_obs2 = pd.concat([df_null_obs, df_null_date2], axis = 0)\n",
    "    df_null_obs2.sort_values(by = 'date', inplace = True)\n",
    "    \n",
    "    return df_null_obs2.reset_index(drop = True)"
   ]
  },
  {
   "cell_type": "code",
   "execution_count": 19,
   "metadata": {
    "ExecuteTime": {
     "end_time": "2020-11-16T07:55:18.837694Z",
     "start_time": "2020-11-16T07:55:18.798697Z"
    }
   },
   "outputs": [
    {
     "data": {
      "text/plain": [
       "성동     17520\n",
       "영등포    17520\n",
       "동작     17520\n",
       "동대문    17519\n",
       "노원     17512\n",
       "관악     17511\n",
       "강동     17509\n",
       "서초     17508\n",
       "성북     17504\n",
       "양천     17498\n",
       "강북     17497\n",
       "구로     17496\n",
       "도봉     17495\n",
       "서대문    17491\n",
       "광진     17479\n",
       "송파     17471\n",
       "강서     17466\n",
       "은평     17424\n",
       "금천     17398\n",
       "중구     17394\n",
       "마포     17375\n",
       "중랑     17374\n",
       "용산     17355\n",
       "강남     17224\n",
       "종로      8005\n",
       "Name: obs_name, dtype: int64"
      ]
     },
     "execution_count": 19,
     "metadata": {},
     "output_type": "execute_result"
    }
   ],
   "source": [
    "weather_total2.obs_name.value_counts()"
   ]
  },
  {
   "cell_type": "code",
   "execution_count": 20,
   "metadata": {
    "ExecuteTime": {
     "end_time": "2020-11-16T07:55:20.428815Z",
     "start_time": "2020-11-16T07:55:18.839695Z"
    }
   },
   "outputs": [],
   "source": [
    "# \"송파\" 지점에 비어있는 일자(date) 처리\n",
    "obs_송파 = fill_null_date('송파', '강남')\n",
    "# \"강서\" 지점에 비어있는 일자(date) 처리\n",
    "obs_강서 = fill_null_date('강서', '양천')\n",
    "# \"은평\" 지점에 비어있는 일자(date) 처리\n",
    "obs_은평 = fill_null_date('은평', '성북')\n",
    "# \"금천\" 지점에 비어있는 일자(date) 처리\n",
    "obs_금천 = fill_null_date('금천', '구로')\n",
    "# \"중구\" 지점에 비어있는 일자(date) 처리\n",
    "obs_중구 = fill_null_date('중구', '성동')\n",
    "# \"마포\" 지점에 비어있는 일자(date) 처리\n",
    "obs_마포 = fill_null_date('마포', '영등포')\n",
    "# \"중랑\" 지점에 비어있는 일자(date) 처리\n",
    "obs_중랑 = fill_null_date('중랑', '동대문')\n",
    "# \"용산\" 지점에 비어있는 일자(date) 처리\n",
    "obs_용산 = fill_null_date('용산', '중구')\n",
    "# \"강남\" 지점에 비어있는 일자(date) 처리\n",
    "obs_강남 = fill_null_date('강남', '송파')\n",
    "# \"동대문\" 지점에 비어있는 일자(date) 처리\n",
    "obs_동대문 = fill_null_date('동대문', '성동')\n",
    "# \"노원\" 지점에 비어있는 일자(date) 처리\n",
    "obs_노원 = fill_null_date('노원', '도봉')\n",
    "# \"관악\" 지점에 비어있는 일자(date) 처리\n",
    "obs_관악 = fill_null_date('관악', '동작')\n",
    "# \"강동\" 지점에 비어있는 일자(date) 처리\n",
    "obs_강동 = fill_null_date('강동', '송파')\n",
    "# \"서초\" 지점에 비어있는 일자(date) 처리\n",
    "obs_서초 = fill_null_date('서초', '강남')\n",
    "# \"성북\" 지점에 비어있는 일자(date) 처리\n",
    "obs_성북 = fill_null_date('성북', '동대문')\n",
    "# \"양천\" 지점에 비어있는 일자(date) 처리\n",
    "obs_양천 = fill_null_date('양천', '구로')\n",
    "# \"강북\" 지점에 비어있는 일자(date) 처리\n",
    "obs_강북 = fill_null_date('강북', '도봉')\n",
    "# \"구로\" 지점에 비어있는 일자(date) 처리\n",
    "obs_구로 = fill_null_date('구로', '양천')\n",
    "# \"도봉\" 지점에 비어있는 일자(date) 처리\n",
    "obs_도봉 = fill_null_date('도봉', '노원')\n",
    "# \"서대문\" 지점에 비어있는 일자(date) 처리\n",
    "obs_서대문 = fill_null_date('서대문', '종로')\n",
    "# \"광진\" 지점에 비어있는 일자(date) 처리\n",
    "obs_광진 = fill_null_date('광진', '성동')\n",
    "# \"종로\" 지점에 비어있는 일자(date) 처리\n",
    "obs_종로 = fill_null_date('종로', '서대문')"
   ]
  },
  {
   "cell_type": "code",
   "execution_count": 21,
   "metadata": {
    "ExecuteTime": {
     "end_time": "2020-11-16T07:55:20.466750Z",
     "start_time": "2020-11-16T07:55:20.429748Z"
    }
   },
   "outputs": [
    {
     "data": {
      "text/plain": [
       "[0, 0, 0, 0, 0, 0, 0, 0, 0, 0, 0, 0, 0, 0, 0, 0, 0, 0, 0, 1, 0, 1]"
      ]
     },
     "execution_count": 21,
     "metadata": {},
     "output_type": "execute_result"
    }
   ],
   "source": [
    "check_null_count = [obs_송파.obs_name.isnull().sum(), obs_강서.obs_name.isnull().sum(), obs_은평.obs_name.isnull().sum(),\n",
    "                    obs_금천.obs_name.isnull().sum(), obs_중구.obs_name.isnull().sum(), obs_마포.obs_name.isnull().sum(),\n",
    "                    obs_중랑.obs_name.isnull().sum(), obs_용산.obs_name.isnull().sum(), obs_강남.obs_name.isnull().sum(),\n",
    "                    obs_동대문.obs_name.isnull().sum(), obs_노원.obs_name.isnull().sum(), obs_관악.obs_name.isnull().sum(),\n",
    "                    obs_강동.obs_name.isnull().sum(), obs_서초.obs_name.isnull().sum(), obs_성북.obs_name.isnull().sum(),\n",
    "                    obs_양천.obs_name.isnull().sum(), obs_강북.obs_name.isnull().sum(), obs_구로.obs_name.isnull().sum(),\n",
    "                    obs_도봉.obs_name.isnull().sum(), obs_서대문.obs_name.isnull().sum(), obs_광진.obs_name.isnull().sum(),\n",
    "                    obs_종로.obs_name.isnull().sum()]\n",
    "check_null_count"
   ]
  },
  {
   "cell_type": "markdown",
   "metadata": {},
   "source": [
    "- 각 지점별로 비어있는 일자(date)와 해당 변수들을 인접한 지점의 값들로 채워넣은 뒤, 각 지점별로 비어있는 일자(date)가 존재하는지 재확인해보았다.\n",
    "- 그 결과, 위와 같이 \"서대문\"과 \"종로\" 지점에는 여전히 각각 1개의 결측 일자(date)가 존재함을 확인할 수 있다.\n",
    "    - 즉, \"서대문\"과 \"종로\" 지점의 경우에는 인접한 지점의 값으로 대체를 하는 과정에서, 각각 1개의 일자(date)에 대해서 대체를 하지 못 했음을 의미한다."
   ]
  },
  {
   "cell_type": "markdown",
   "metadata": {},
   "source": [
    "- 따라서 \"서대문\"과 \"종로\" 지점에서 대체되지 못한 일자(date)를 찾아내서, 앞/뒤 값의 평균 값으로 대체해주도록 하겠다.\n",
    "    - ex) \"2019-01-01 09:00\"에 해당하는 자료가 NaN인 경우, 모든 변수들을 \"2019-01-01 08:00\"과 \"2019-01-01 10:00\" 자료의 평균 값으로 대체"
   ]
  },
  {
   "cell_type": "code",
   "execution_count": 22,
   "metadata": {
    "ExecuteTime": {
     "end_time": "2020-11-16T07:55:20.480752Z",
     "start_time": "2020-11-16T07:55:20.468751Z"
    }
   },
   "outputs": [
    {
     "data": {
      "text/html": [
       "<div>\n",
       "<style scoped>\n",
       "    .dataframe tbody tr th:only-of-type {\n",
       "        vertical-align: middle;\n",
       "    }\n",
       "\n",
       "    .dataframe tbody tr th {\n",
       "        vertical-align: top;\n",
       "    }\n",
       "\n",
       "    .dataframe thead th {\n",
       "        text-align: right;\n",
       "    }\n",
       "</style>\n",
       "<table border=\"1\" class=\"dataframe\">\n",
       "  <thead>\n",
       "    <tr style=\"text-align: right;\">\n",
       "      <th></th>\n",
       "      <th>date</th>\n",
       "      <th>obs_name</th>\n",
       "      <th>temp</th>\n",
       "      <th>windspeed</th>\n",
       "      <th>rain</th>\n",
       "      <th>humidity</th>\n",
       "    </tr>\n",
       "  </thead>\n",
       "  <tbody>\n",
       "    <tr>\n",
       "      <th>14234</th>\n",
       "      <td>2019-08-17 02:00</td>\n",
       "      <td>None</td>\n",
       "      <td>nan</td>\n",
       "      <td>nan</td>\n",
       "      <td>nan</td>\n",
       "      <td>nan</td>\n",
       "    </tr>\n",
       "  </tbody>\n",
       "</table>\n",
       "</div>"
      ],
      "text/plain": [
       "                   date obs_name  temp  windspeed  rain  humidity\n",
       "14234  2019-08-17 02:00     None   nan        nan   nan       nan"
      ]
     },
     "execution_count": 22,
     "metadata": {},
     "output_type": "execute_result"
    }
   ],
   "source": [
    "# \"서대문\" 지점에 존재하는 결측 일자(date) 확인\n",
    "obs_서대문[obs_서대문['obs_name'].isnull()] # 14234번째 index"
   ]
  },
  {
   "cell_type": "code",
   "execution_count": 23,
   "metadata": {
    "ExecuteTime": {
     "end_time": "2020-11-16T07:55:20.496753Z",
     "start_time": "2020-11-16T07:55:20.484752Z"
    }
   },
   "outputs": [
    {
     "data": {
      "text/html": [
       "<div>\n",
       "<style scoped>\n",
       "    .dataframe tbody tr th:only-of-type {\n",
       "        vertical-align: middle;\n",
       "    }\n",
       "\n",
       "    .dataframe tbody tr th {\n",
       "        vertical-align: top;\n",
       "    }\n",
       "\n",
       "    .dataframe thead th {\n",
       "        text-align: right;\n",
       "    }\n",
       "</style>\n",
       "<table border=\"1\" class=\"dataframe\">\n",
       "  <thead>\n",
       "    <tr style=\"text-align: right;\">\n",
       "      <th></th>\n",
       "      <th>date</th>\n",
       "      <th>obs_name</th>\n",
       "      <th>temp</th>\n",
       "      <th>windspeed</th>\n",
       "      <th>rain</th>\n",
       "      <th>humidity</th>\n",
       "    </tr>\n",
       "  </thead>\n",
       "  <tbody>\n",
       "    <tr>\n",
       "      <th>14234</th>\n",
       "      <td>2019-08-17 02:00</td>\n",
       "      <td>None</td>\n",
       "      <td>nan</td>\n",
       "      <td>nan</td>\n",
       "      <td>nan</td>\n",
       "      <td>nan</td>\n",
       "    </tr>\n",
       "  </tbody>\n",
       "</table>\n",
       "</div>"
      ],
      "text/plain": [
       "                   date obs_name  temp  windspeed  rain  humidity\n",
       "14234  2019-08-17 02:00     None   nan        nan   nan       nan"
      ]
     },
     "execution_count": 23,
     "metadata": {},
     "output_type": "execute_result"
    }
   ],
   "source": [
    "# \"종로\" 지점에 존재하는 결측 일자(date) 확인\n",
    "obs_종로[obs_종로['obs_name'].isnull()] # 14234번째 index"
   ]
  },
  {
   "cell_type": "code",
   "execution_count": 24,
   "metadata": {
    "ExecuteTime": {
     "end_time": "2020-11-16T07:55:20.510750Z",
     "start_time": "2020-11-16T07:55:20.499758Z"
    }
   },
   "outputs": [],
   "source": [
    "# 1. \"서대문\" 지점 >> 결측 일자(date) 기준 \"서대문\" 지점의 앞/뒤 평균 값으로 대체\n",
    "# 14234번째 index에 결측 일자(date)가 존재하므로, 14233번과 14235번째 index의 자료 값들의 평균을 구해서 대체\n",
    "val_list = ['temp', 'windspeed', 'rain', 'humidity'] # 평균 값으로 대체해 줄 변수들\n",
    "for val in val_list:\n",
    "    mean_val = round((obs_서대문.loc[14233, val] + obs_서대문.loc[14235, val]) / 2, 1)\n",
    "    obs_서대문.loc[14234, val] = mean_val\n",
    "\n",
    "obs_서대문['obs_name'].fillna('서대문', inplace = True)"
   ]
  },
  {
   "cell_type": "code",
   "execution_count": 25,
   "metadata": {
    "ExecuteTime": {
     "end_time": "2020-11-16T07:55:20.519754Z",
     "start_time": "2020-11-16T07:55:20.512776Z"
    }
   },
   "outputs": [
    {
     "data": {
      "text/plain": [
       "0"
      ]
     },
     "execution_count": 25,
     "metadata": {},
     "output_type": "execute_result"
    }
   ],
   "source": [
    "# 남아있던 1개의 결측 일자(date)가 사라졌는지 확인\n",
    "obs_서대문.obs_name.isnull().sum()"
   ]
  },
  {
   "cell_type": "code",
   "execution_count": 26,
   "metadata": {
    "ExecuteTime": {
     "end_time": "2020-11-16T07:55:20.533761Z",
     "start_time": "2020-11-16T07:55:20.521783Z"
    }
   },
   "outputs": [],
   "source": [
    "# 2. \"종로\" 지점 >> 결측 일자(date) 기준 \"종로\" 지점의 앞/뒤 평균 값으로 대체\n",
    "# 14234번째 index에 결측 일자(date)가 존재하므로, 14233번과 14235번째 index의 자료 값들의 평균을 구해서 대체\n",
    "val_list = ['temp', 'windspeed', 'rain', 'humidity'] # 평균 값으로 대체해 줄 변수들\n",
    "for val in val_list:\n",
    "    mean_val = round((obs_종로.loc[14233, val] + obs_종로.loc[14235, val]) / 2, 1)\n",
    "    obs_종로.loc[14234, val] = mean_val\n",
    "\n",
    "obs_종로['obs_name'].fillna('종로', inplace = True)"
   ]
  },
  {
   "cell_type": "code",
   "execution_count": 27,
   "metadata": {
    "ExecuteTime": {
     "end_time": "2020-11-16T07:55:20.544753Z",
     "start_time": "2020-11-16T07:55:20.535751Z"
    }
   },
   "outputs": [
    {
     "data": {
      "text/plain": [
       "0"
      ]
     },
     "execution_count": 27,
     "metadata": {},
     "output_type": "execute_result"
    }
   ],
   "source": [
    "# 남아있던 1개의 결측 일자(date)가 사라졌는지 확인\n",
    "obs_종로.obs_name.isnull().sum()"
   ]
  },
  {
   "cell_type": "markdown",
   "metadata": {},
   "source": [
    "### 모든 DataFrame을 하나로 결합\n",
    "- 비어있는 일자(date)와 그에 해당되는 변수 값들을 채워넣은 각 지점명별 DataFrame들과, 일자(date)가 비어있지 않았던 \"성동, 동작, 영등포\" 지점의 DataFrame들을 결합해서 하나의 DataFrame으로 만들어주겠다."
   ]
  },
  {
   "cell_type": "code",
   "execution_count": 28,
   "metadata": {
    "ExecuteTime": {
     "end_time": "2020-11-16T07:55:20.616751Z",
     "start_time": "2020-11-16T07:55:20.546752Z"
    }
   },
   "outputs": [],
   "source": [
    "obs_성동 = weather_total2[weather_total2['obs_name'] == '성동'].reset_index(drop = True)\n",
    "obs_동작 = weather_total2[weather_total2['obs_name'] == '동작'].reset_index(drop = True)\n",
    "obs_영등포 = weather_total2[weather_total2['obs_name'] == '영등포'].reset_index(drop = True)"
   ]
  },
  {
   "cell_type": "code",
   "execution_count": 29,
   "metadata": {
    "ExecuteTime": {
     "end_time": "2020-11-16T07:55:20.629751Z",
     "start_time": "2020-11-16T07:55:20.617751Z"
    }
   },
   "outputs": [
    {
     "data": {
      "text/plain": [
       "(0, 0, 0)"
      ]
     },
     "execution_count": 29,
     "metadata": {},
     "output_type": "execute_result"
    }
   ],
   "source": [
    "# 확인용\n",
    "(obs_성동.obs_name.isnull().sum(), obs_동작.obs_name.isnull().sum(), obs_영등포.obs_name.isnull().sum())"
   ]
  },
  {
   "cell_type": "code",
   "execution_count": 30,
   "metadata": {
    "ExecuteTime": {
     "end_time": "2020-11-16T07:55:20.663753Z",
     "start_time": "2020-11-16T07:55:20.630752Z"
    }
   },
   "outputs": [
    {
     "data": {
      "text/html": [
       "<div>\n",
       "<style scoped>\n",
       "    .dataframe tbody tr th:only-of-type {\n",
       "        vertical-align: middle;\n",
       "    }\n",
       "\n",
       "    .dataframe tbody tr th {\n",
       "        vertical-align: top;\n",
       "    }\n",
       "\n",
       "    .dataframe thead th {\n",
       "        text-align: right;\n",
       "    }\n",
       "</style>\n",
       "<table border=\"1\" class=\"dataframe\">\n",
       "  <thead>\n",
       "    <tr style=\"text-align: right;\">\n",
       "      <th></th>\n",
       "      <th>date</th>\n",
       "      <th>obs_name</th>\n",
       "      <th>temp</th>\n",
       "      <th>windspeed</th>\n",
       "      <th>rain</th>\n",
       "      <th>humidity</th>\n",
       "    </tr>\n",
       "  </thead>\n",
       "  <tbody>\n",
       "    <tr>\n",
       "      <th>0</th>\n",
       "      <td>2018-01-01 00:00</td>\n",
       "      <td>성동</td>\n",
       "      <td>-0.1</td>\n",
       "      <td>1.0</td>\n",
       "      <td>0.0</td>\n",
       "      <td>41.2</td>\n",
       "    </tr>\n",
       "    <tr>\n",
       "      <th>1</th>\n",
       "      <td>2018-01-01 01:00</td>\n",
       "      <td>성동</td>\n",
       "      <td>-0.2</td>\n",
       "      <td>1.7</td>\n",
       "      <td>0.0</td>\n",
       "      <td>39.8</td>\n",
       "    </tr>\n",
       "    <tr>\n",
       "      <th>2</th>\n",
       "      <td>2018-01-01 02:00</td>\n",
       "      <td>성동</td>\n",
       "      <td>-0.4</td>\n",
       "      <td>1.5</td>\n",
       "      <td>0.0</td>\n",
       "      <td>41.4</td>\n",
       "    </tr>\n",
       "    <tr>\n",
       "      <th>3</th>\n",
       "      <td>2018-01-01 03:00</td>\n",
       "      <td>성동</td>\n",
       "      <td>-0.5</td>\n",
       "      <td>2.0</td>\n",
       "      <td>0.0</td>\n",
       "      <td>42.8</td>\n",
       "    </tr>\n",
       "    <tr>\n",
       "      <th>4</th>\n",
       "      <td>2018-01-01 04:00</td>\n",
       "      <td>성동</td>\n",
       "      <td>-0.8</td>\n",
       "      <td>2.1</td>\n",
       "      <td>0.0</td>\n",
       "      <td>45.4</td>\n",
       "    </tr>\n",
       "    <tr>\n",
       "      <th>...</th>\n",
       "      <td>...</td>\n",
       "      <td>...</td>\n",
       "      <td>...</td>\n",
       "      <td>...</td>\n",
       "      <td>...</td>\n",
       "      <td>...</td>\n",
       "    </tr>\n",
       "    <tr>\n",
       "      <th>437995</th>\n",
       "      <td>2019-12-31 19:00</td>\n",
       "      <td>종로</td>\n",
       "      <td>-6.9</td>\n",
       "      <td>1.7</td>\n",
       "      <td>0.0</td>\n",
       "      <td>nan</td>\n",
       "    </tr>\n",
       "    <tr>\n",
       "      <th>437996</th>\n",
       "      <td>2019-12-31 20:00</td>\n",
       "      <td>종로</td>\n",
       "      <td>-7.0</td>\n",
       "      <td>1.3</td>\n",
       "      <td>0.0</td>\n",
       "      <td>nan</td>\n",
       "    </tr>\n",
       "    <tr>\n",
       "      <th>437997</th>\n",
       "      <td>2019-12-31 21:00</td>\n",
       "      <td>종로</td>\n",
       "      <td>-8.1</td>\n",
       "      <td>1.0</td>\n",
       "      <td>0.0</td>\n",
       "      <td>nan</td>\n",
       "    </tr>\n",
       "    <tr>\n",
       "      <th>437998</th>\n",
       "      <td>2019-12-31 22:00</td>\n",
       "      <td>종로</td>\n",
       "      <td>-8.6</td>\n",
       "      <td>0.8</td>\n",
       "      <td>0.0</td>\n",
       "      <td>nan</td>\n",
       "    </tr>\n",
       "    <tr>\n",
       "      <th>437999</th>\n",
       "      <td>2019-12-31 23:00</td>\n",
       "      <td>종로</td>\n",
       "      <td>-6.8</td>\n",
       "      <td>0.8</td>\n",
       "      <td>0.0</td>\n",
       "      <td>nan</td>\n",
       "    </tr>\n",
       "  </tbody>\n",
       "</table>\n",
       "<p>438000 rows × 6 columns</p>\n",
       "</div>"
      ],
      "text/plain": [
       "                    date obs_name  temp  windspeed  rain  humidity\n",
       "0       2018-01-01 00:00       성동  -0.1        1.0   0.0      41.2\n",
       "1       2018-01-01 01:00       성동  -0.2        1.7   0.0      39.8\n",
       "2       2018-01-01 02:00       성동  -0.4        1.5   0.0      41.4\n",
       "3       2018-01-01 03:00       성동  -0.5        2.0   0.0      42.8\n",
       "4       2018-01-01 04:00       성동  -0.8        2.1   0.0      45.4\n",
       "...                  ...      ...   ...        ...   ...       ...\n",
       "437995  2019-12-31 19:00       종로  -6.9        1.7   0.0       nan\n",
       "437996  2019-12-31 20:00       종로  -7.0        1.3   0.0       nan\n",
       "437997  2019-12-31 21:00       종로  -8.1        1.0   0.0       nan\n",
       "437998  2019-12-31 22:00       종로  -8.6        0.8   0.0       nan\n",
       "437999  2019-12-31 23:00       종로  -6.8        0.8   0.0       nan\n",
       "\n",
       "[438000 rows x 6 columns]"
      ]
     },
     "execution_count": 30,
     "metadata": {},
     "output_type": "execute_result"
    }
   ],
   "source": [
    "concat_list = [obs_성동, obs_동작, obs_영등포, obs_송파, obs_강서, obs_은평, obs_금천, obs_중구,\n",
    "               obs_마포, obs_중랑, obs_용산, obs_강남, obs_동대문, obs_노원, obs_관악, obs_강동,\n",
    "               obs_서초, obs_성북, obs_양천, obs_강북, obs_구로, obs_도봉, obs_서대문, obs_광진, obs_종로]\n",
    "obs_total = pd.concat(concat_list, axis = 0, ignore_index = True)\n",
    "obs_total"
   ]
  },
  {
   "cell_type": "code",
   "execution_count": 31,
   "metadata": {
    "ExecuteTime": {
     "end_time": "2020-11-16T07:55:20.682751Z",
     "start_time": "2020-11-16T07:55:20.664752Z"
    }
   },
   "outputs": [
    {
     "data": {
      "text/plain": [
       "0"
      ]
     },
     "execution_count": 31,
     "metadata": {},
     "output_type": "execute_result"
    }
   ],
   "source": [
    "obs_total.obs_name.isnull().sum()"
   ]
  },
  {
   "cell_type": "code",
   "execution_count": 32,
   "metadata": {
    "ExecuteTime": {
     "end_time": "2020-11-16T07:55:20.719752Z",
     "start_time": "2020-11-16T07:55:20.683751Z"
    }
   },
   "outputs": [
    {
     "data": {
      "text/plain": [
       "금천     17520\n",
       "서초     17520\n",
       "관악     17520\n",
       "강북     17520\n",
       "강동     17520\n",
       "성북     17520\n",
       "도봉     17520\n",
       "강서     17520\n",
       "은평     17520\n",
       "용산     17520\n",
       "동대문    17520\n",
       "영등포    17520\n",
       "강남     17520\n",
       "동작     17520\n",
       "송파     17520\n",
       "마포     17520\n",
       "중구     17520\n",
       "광진     17520\n",
       "성동     17520\n",
       "중랑     17520\n",
       "구로     17520\n",
       "양천     17520\n",
       "종로     17520\n",
       "노원     17520\n",
       "서대문    17520\n",
       "Name: obs_name, dtype: int64"
      ]
     },
     "execution_count": 32,
     "metadata": {},
     "output_type": "execute_result"
    }
   ],
   "source": [
    "obs_total.obs_name.value_counts()"
   ]
  },
  {
   "cell_type": "markdown",
   "metadata": {},
   "source": [
    "# 일시(date) 변수 처리\n",
    "- date 변수의 타입을 datetime으로 변경하고, \"시간대\"를 의미하는 hour 변수를 만들어주도록 하겠다.\n",
    "- 그 다음, date 변수의 형태를 다음과 같이 변경해주겠다.\n",
    "    - ex) \"2018-01-01 05:00:00\" >> \"2018-01-01\""
   ]
  },
  {
   "cell_type": "code",
   "execution_count": 33,
   "metadata": {
    "ExecuteTime": {
     "end_time": "2020-11-16T07:55:20.735751Z",
     "start_time": "2020-11-16T07:55:20.720751Z"
    }
   },
   "outputs": [],
   "source": [
    "# 최종 데이터 셋을 구성하기 위해 복사본 사용\n",
    "weather_final = obs_total.copy()"
   ]
  },
  {
   "cell_type": "code",
   "execution_count": 34,
   "metadata": {
    "ExecuteTime": {
     "end_time": "2020-11-16T07:55:21.143945Z",
     "start_time": "2020-11-16T07:55:20.736774Z"
    }
   },
   "outputs": [],
   "source": [
    "# datetime 타입으로 변경\n",
    "weather_final['date'] = pd.to_datetime(weather_final['date'])\n",
    "\n",
    "# hour 변수 생성\n",
    "weather_final['hour'] = weather_final['date'].dt.hour\n",
    "# date 변수 생성(기존의 date 변수에 덮어쓰기)\n",
    "weather_final['date'] = weather_final['date'].dt.date"
   ]
  },
  {
   "cell_type": "code",
   "execution_count": 35,
   "metadata": {
    "ExecuteTime": {
     "end_time": "2020-11-16T07:55:21.159858Z",
     "start_time": "2020-11-16T07:55:21.145858Z"
    }
   },
   "outputs": [
    {
     "data": {
      "text/html": [
       "<div>\n",
       "<style scoped>\n",
       "    .dataframe tbody tr th:only-of-type {\n",
       "        vertical-align: middle;\n",
       "    }\n",
       "\n",
       "    .dataframe tbody tr th {\n",
       "        vertical-align: top;\n",
       "    }\n",
       "\n",
       "    .dataframe thead th {\n",
       "        text-align: right;\n",
       "    }\n",
       "</style>\n",
       "<table border=\"1\" class=\"dataframe\">\n",
       "  <thead>\n",
       "    <tr style=\"text-align: right;\">\n",
       "      <th></th>\n",
       "      <th>date</th>\n",
       "      <th>obs_name</th>\n",
       "      <th>temp</th>\n",
       "      <th>windspeed</th>\n",
       "      <th>rain</th>\n",
       "      <th>humidity</th>\n",
       "      <th>hour</th>\n",
       "    </tr>\n",
       "  </thead>\n",
       "  <tbody>\n",
       "    <tr>\n",
       "      <th>0</th>\n",
       "      <td>2018-01-01</td>\n",
       "      <td>성동</td>\n",
       "      <td>-0.1</td>\n",
       "      <td>1.0</td>\n",
       "      <td>0.0</td>\n",
       "      <td>41.2</td>\n",
       "      <td>0</td>\n",
       "    </tr>\n",
       "    <tr>\n",
       "      <th>1</th>\n",
       "      <td>2018-01-01</td>\n",
       "      <td>성동</td>\n",
       "      <td>-0.2</td>\n",
       "      <td>1.7</td>\n",
       "      <td>0.0</td>\n",
       "      <td>39.8</td>\n",
       "      <td>1</td>\n",
       "    </tr>\n",
       "    <tr>\n",
       "      <th>2</th>\n",
       "      <td>2018-01-01</td>\n",
       "      <td>성동</td>\n",
       "      <td>-0.4</td>\n",
       "      <td>1.5</td>\n",
       "      <td>0.0</td>\n",
       "      <td>41.4</td>\n",
       "      <td>2</td>\n",
       "    </tr>\n",
       "    <tr>\n",
       "      <th>3</th>\n",
       "      <td>2018-01-01</td>\n",
       "      <td>성동</td>\n",
       "      <td>-0.5</td>\n",
       "      <td>2.0</td>\n",
       "      <td>0.0</td>\n",
       "      <td>42.8</td>\n",
       "      <td>3</td>\n",
       "    </tr>\n",
       "    <tr>\n",
       "      <th>4</th>\n",
       "      <td>2018-01-01</td>\n",
       "      <td>성동</td>\n",
       "      <td>-0.8</td>\n",
       "      <td>2.1</td>\n",
       "      <td>0.0</td>\n",
       "      <td>45.4</td>\n",
       "      <td>4</td>\n",
       "    </tr>\n",
       "    <tr>\n",
       "      <th>...</th>\n",
       "      <td>...</td>\n",
       "      <td>...</td>\n",
       "      <td>...</td>\n",
       "      <td>...</td>\n",
       "      <td>...</td>\n",
       "      <td>...</td>\n",
       "      <td>...</td>\n",
       "    </tr>\n",
       "    <tr>\n",
       "      <th>437995</th>\n",
       "      <td>2019-12-31</td>\n",
       "      <td>종로</td>\n",
       "      <td>-6.9</td>\n",
       "      <td>1.7</td>\n",
       "      <td>0.0</td>\n",
       "      <td>nan</td>\n",
       "      <td>19</td>\n",
       "    </tr>\n",
       "    <tr>\n",
       "      <th>437996</th>\n",
       "      <td>2019-12-31</td>\n",
       "      <td>종로</td>\n",
       "      <td>-7.0</td>\n",
       "      <td>1.3</td>\n",
       "      <td>0.0</td>\n",
       "      <td>nan</td>\n",
       "      <td>20</td>\n",
       "    </tr>\n",
       "    <tr>\n",
       "      <th>437997</th>\n",
       "      <td>2019-12-31</td>\n",
       "      <td>종로</td>\n",
       "      <td>-8.1</td>\n",
       "      <td>1.0</td>\n",
       "      <td>0.0</td>\n",
       "      <td>nan</td>\n",
       "      <td>21</td>\n",
       "    </tr>\n",
       "    <tr>\n",
       "      <th>437998</th>\n",
       "      <td>2019-12-31</td>\n",
       "      <td>종로</td>\n",
       "      <td>-8.6</td>\n",
       "      <td>0.8</td>\n",
       "      <td>0.0</td>\n",
       "      <td>nan</td>\n",
       "      <td>22</td>\n",
       "    </tr>\n",
       "    <tr>\n",
       "      <th>437999</th>\n",
       "      <td>2019-12-31</td>\n",
       "      <td>종로</td>\n",
       "      <td>-6.8</td>\n",
       "      <td>0.8</td>\n",
       "      <td>0.0</td>\n",
       "      <td>nan</td>\n",
       "      <td>23</td>\n",
       "    </tr>\n",
       "  </tbody>\n",
       "</table>\n",
       "<p>438000 rows × 7 columns</p>\n",
       "</div>"
      ],
      "text/plain": [
       "              date obs_name  temp  windspeed  rain  humidity  hour\n",
       "0       2018-01-01       성동  -0.1        1.0   0.0      41.2     0\n",
       "1       2018-01-01       성동  -0.2        1.7   0.0      39.8     1\n",
       "2       2018-01-01       성동  -0.4        1.5   0.0      41.4     2\n",
       "3       2018-01-01       성동  -0.5        2.0   0.0      42.8     3\n",
       "4       2018-01-01       성동  -0.8        2.1   0.0      45.4     4\n",
       "...            ...      ...   ...        ...   ...       ...   ...\n",
       "437995  2019-12-31       종로  -6.9        1.7   0.0       nan    19\n",
       "437996  2019-12-31       종로  -7.0        1.3   0.0       nan    20\n",
       "437997  2019-12-31       종로  -8.1        1.0   0.0       nan    21\n",
       "437998  2019-12-31       종로  -8.6        0.8   0.0       nan    22\n",
       "437999  2019-12-31       종로  -6.8        0.8   0.0       nan    23\n",
       "\n",
       "[438000 rows x 7 columns]"
      ]
     },
     "execution_count": 35,
     "metadata": {},
     "output_type": "execute_result"
    }
   ],
   "source": [
    "weather_final"
   ]
  },
  {
   "cell_type": "code",
   "execution_count": 36,
   "metadata": {
    "ExecuteTime": {
     "end_time": "2020-11-16T07:55:21.223855Z",
     "start_time": "2020-11-16T07:55:21.161855Z"
    }
   },
   "outputs": [
    {
     "name": "stdout",
     "output_type": "stream",
     "text": [
      "<class 'pandas.core.frame.DataFrame'>\n",
      "RangeIndex: 438000 entries, 0 to 437999\n",
      "Data columns (total 7 columns):\n",
      " #   Column     Non-Null Count   Dtype  \n",
      "---  ------     --------------   -----  \n",
      " 0   date       438000 non-null  object \n",
      " 1   obs_name   438000 non-null  object \n",
      " 2   temp       437499 non-null  float64\n",
      " 3   windspeed  436992 non-null  float64\n",
      " 4   rain       434810 non-null  float64\n",
      " 5   humidity   253023 non-null  float64\n",
      " 6   hour       438000 non-null  int64  \n",
      "dtypes: float64(4), int64(1), object(2)\n",
      "memory usage: 23.4+ MB\n"
     ]
    }
   ],
   "source": [
    "weather_final.info()"
   ]
  },
  {
   "cell_type": "markdown",
   "metadata": {},
   "source": [
    "# 지점명(obs_name) 변수 값 형태 및 변수명 변경\n",
    "- 추후에 최종 데이터 셋을 만들 때 조인키로 사용하기 위해, \"지점명\" 변수 값의 형태를 다음과 같이 바꿔주겠다,\n",
    "    - ex) \"강남\" >> \"강남구\"\n",
    "    - 단, \"중구\"의 경우 수정 작업이 필요 없다. (이미 자치구명 형태로 입력되어 있기 때문)\n",
    "        - 따라서 먼저 모든 \"지점명\" 변수 값의 형태를 변경해 준 뒤, \"중구구\"라고 변경되었을 \"중구\" 지점에 대해서만 \"구\" 문자열 하나를 지워주도록 하겠다.\n",
    "        - ex) \"중구구\" >> \"중구\"\n",
    "- 그리고 \"지점명(obs_name)\"이 의미하는 바가 자치구와 동일하므로, 변수명을 \"gu\"라고 변경해주겠다."
   ]
  },
  {
   "cell_type": "code",
   "execution_count": 37,
   "metadata": {
    "ExecuteTime": {
     "end_time": "2020-11-16T07:55:21.385588Z",
     "start_time": "2020-11-16T07:55:21.224856Z"
    }
   },
   "outputs": [
    {
     "data": {
      "text/html": [
       "<div>\n",
       "<style scoped>\n",
       "    .dataframe tbody tr th:only-of-type {\n",
       "        vertical-align: middle;\n",
       "    }\n",
       "\n",
       "    .dataframe tbody tr th {\n",
       "        vertical-align: top;\n",
       "    }\n",
       "\n",
       "    .dataframe thead th {\n",
       "        text-align: right;\n",
       "    }\n",
       "</style>\n",
       "<table border=\"1\" class=\"dataframe\">\n",
       "  <thead>\n",
       "    <tr style=\"text-align: right;\">\n",
       "      <th></th>\n",
       "      <th>date</th>\n",
       "      <th>gu</th>\n",
       "      <th>temp</th>\n",
       "      <th>windspeed</th>\n",
       "      <th>rain</th>\n",
       "      <th>humidity</th>\n",
       "      <th>hour</th>\n",
       "    </tr>\n",
       "  </thead>\n",
       "  <tbody>\n",
       "    <tr>\n",
       "      <th>0</th>\n",
       "      <td>2018-01-01</td>\n",
       "      <td>성동구</td>\n",
       "      <td>-0.1</td>\n",
       "      <td>1.0</td>\n",
       "      <td>0.0</td>\n",
       "      <td>41.2</td>\n",
       "      <td>0</td>\n",
       "    </tr>\n",
       "    <tr>\n",
       "      <th>1</th>\n",
       "      <td>2018-01-01</td>\n",
       "      <td>성동구</td>\n",
       "      <td>-0.2</td>\n",
       "      <td>1.7</td>\n",
       "      <td>0.0</td>\n",
       "      <td>39.8</td>\n",
       "      <td>1</td>\n",
       "    </tr>\n",
       "    <tr>\n",
       "      <th>2</th>\n",
       "      <td>2018-01-01</td>\n",
       "      <td>성동구</td>\n",
       "      <td>-0.4</td>\n",
       "      <td>1.5</td>\n",
       "      <td>0.0</td>\n",
       "      <td>41.4</td>\n",
       "      <td>2</td>\n",
       "    </tr>\n",
       "    <tr>\n",
       "      <th>3</th>\n",
       "      <td>2018-01-01</td>\n",
       "      <td>성동구</td>\n",
       "      <td>-0.5</td>\n",
       "      <td>2.0</td>\n",
       "      <td>0.0</td>\n",
       "      <td>42.8</td>\n",
       "      <td>3</td>\n",
       "    </tr>\n",
       "    <tr>\n",
       "      <th>4</th>\n",
       "      <td>2018-01-01</td>\n",
       "      <td>성동구</td>\n",
       "      <td>-0.8</td>\n",
       "      <td>2.1</td>\n",
       "      <td>0.0</td>\n",
       "      <td>45.4</td>\n",
       "      <td>4</td>\n",
       "    </tr>\n",
       "    <tr>\n",
       "      <th>...</th>\n",
       "      <td>...</td>\n",
       "      <td>...</td>\n",
       "      <td>...</td>\n",
       "      <td>...</td>\n",
       "      <td>...</td>\n",
       "      <td>...</td>\n",
       "      <td>...</td>\n",
       "    </tr>\n",
       "    <tr>\n",
       "      <th>437995</th>\n",
       "      <td>2019-12-31</td>\n",
       "      <td>종로구</td>\n",
       "      <td>-6.9</td>\n",
       "      <td>1.7</td>\n",
       "      <td>0.0</td>\n",
       "      <td>nan</td>\n",
       "      <td>19</td>\n",
       "    </tr>\n",
       "    <tr>\n",
       "      <th>437996</th>\n",
       "      <td>2019-12-31</td>\n",
       "      <td>종로구</td>\n",
       "      <td>-7.0</td>\n",
       "      <td>1.3</td>\n",
       "      <td>0.0</td>\n",
       "      <td>nan</td>\n",
       "      <td>20</td>\n",
       "    </tr>\n",
       "    <tr>\n",
       "      <th>437997</th>\n",
       "      <td>2019-12-31</td>\n",
       "      <td>종로구</td>\n",
       "      <td>-8.1</td>\n",
       "      <td>1.0</td>\n",
       "      <td>0.0</td>\n",
       "      <td>nan</td>\n",
       "      <td>21</td>\n",
       "    </tr>\n",
       "    <tr>\n",
       "      <th>437998</th>\n",
       "      <td>2019-12-31</td>\n",
       "      <td>종로구</td>\n",
       "      <td>-8.6</td>\n",
       "      <td>0.8</td>\n",
       "      <td>0.0</td>\n",
       "      <td>nan</td>\n",
       "      <td>22</td>\n",
       "    </tr>\n",
       "    <tr>\n",
       "      <th>437999</th>\n",
       "      <td>2019-12-31</td>\n",
       "      <td>종로구</td>\n",
       "      <td>-6.8</td>\n",
       "      <td>0.8</td>\n",
       "      <td>0.0</td>\n",
       "      <td>nan</td>\n",
       "      <td>23</td>\n",
       "    </tr>\n",
       "  </tbody>\n",
       "</table>\n",
       "<p>438000 rows × 7 columns</p>\n",
       "</div>"
      ],
      "text/plain": [
       "              date   gu  temp  windspeed  rain  humidity  hour\n",
       "0       2018-01-01  성동구  -0.1        1.0   0.0      41.2     0\n",
       "1       2018-01-01  성동구  -0.2        1.7   0.0      39.8     1\n",
       "2       2018-01-01  성동구  -0.4        1.5   0.0      41.4     2\n",
       "3       2018-01-01  성동구  -0.5        2.0   0.0      42.8     3\n",
       "4       2018-01-01  성동구  -0.8        2.1   0.0      45.4     4\n",
       "...            ...  ...   ...        ...   ...       ...   ...\n",
       "437995  2019-12-31  종로구  -6.9        1.7   0.0       nan    19\n",
       "437996  2019-12-31  종로구  -7.0        1.3   0.0       nan    20\n",
       "437997  2019-12-31  종로구  -8.1        1.0   0.0       nan    21\n",
       "437998  2019-12-31  종로구  -8.6        0.8   0.0       nan    22\n",
       "437999  2019-12-31  종로구  -6.8        0.8   0.0       nan    23\n",
       "\n",
       "[438000 rows x 7 columns]"
      ]
     },
     "execution_count": 37,
     "metadata": {},
     "output_type": "execute_result"
    }
   ],
   "source": [
    "# 변수 값의 형태 변경\n",
    "weather_final['obs_name'] = weather_final['obs_name'] + '구'\n",
    "\n",
    "# \"중구구\" >> \"중구\" 로 수정\n",
    "def jung_gu_name(x):\n",
    "    if x == '중구구':\n",
    "        return '중구'\n",
    "    else:\n",
    "        return x\n",
    "weather_final['obs_name'] = weather_final['obs_name'].apply(jung_gu_name)\n",
    "\n",
    "# 변수명 변경\n",
    "weather_final.rename(columns = {'obs_name': 'gu'}, inplace = True)\n",
    "weather_final"
   ]
  },
  {
   "cell_type": "code",
   "execution_count": 38,
   "metadata": {
    "ExecuteTime": {
     "end_time": "2020-11-16T07:55:21.435576Z",
     "start_time": "2020-11-16T07:55:21.386538Z"
    }
   },
   "outputs": [
    {
     "data": {
      "text/plain": [
       "금천구     17520\n",
       "중구      17520\n",
       "영등포구    17520\n",
       "광진구     17520\n",
       "성북구     17520\n",
       "용산구     17520\n",
       "강북구     17520\n",
       "동대문구    17520\n",
       "동작구     17520\n",
       "구로구     17520\n",
       "은평구     17520\n",
       "서대문구    17520\n",
       "노원구     17520\n",
       "양천구     17520\n",
       "관악구     17520\n",
       "송파구     17520\n",
       "강서구     17520\n",
       "강동구     17520\n",
       "마포구     17520\n",
       "성동구     17520\n",
       "서초구     17520\n",
       "강남구     17520\n",
       "중랑구     17520\n",
       "종로구     17520\n",
       "도봉구     17520\n",
       "Name: gu, dtype: int64"
      ]
     },
     "execution_count": 38,
     "metadata": {},
     "output_type": "execute_result"
    }
   ],
   "source": [
    "weather_final.gu.value_counts()"
   ]
  },
  {
   "cell_type": "markdown",
   "metadata": {},
   "source": [
    "# 조인키 생성\n",
    "- 지하철 데이터 셋을 기준으로 인구 데이터 셋과 기상 데이터 셋을 결합시켜 줄 것이므로, 이를 위한 조인키가 필요하다.\n",
    "- 따라서 지하철 데이터 셋과 기상 데이터 셋을 결합하기 위한 조인키 1개를 만들어주도록 하겠다.\n",
    "    - 지하철 데이터 셋과 기상 데이터 셋을 결합하기 위한 조인키(weather_join_key)\n",
    "        - ex) \"2018-01-01_중구\""
   ]
  },
  {
   "cell_type": "code",
   "execution_count": 39,
   "metadata": {
    "ExecuteTime": {
     "end_time": "2020-11-16T07:55:21.911038Z",
     "start_time": "2020-11-16T07:55:21.438621Z"
    }
   },
   "outputs": [
    {
     "data": {
      "text/plain": [
       "0         2018-01-01_성동구\n",
       "1         2018-01-01_성동구\n",
       "2         2018-01-01_성동구\n",
       "3         2018-01-01_성동구\n",
       "4         2018-01-01_성동구\n",
       "               ...      \n",
       "437995    2019-12-31_종로구\n",
       "437996    2019-12-31_종로구\n",
       "437997    2019-12-31_종로구\n",
       "437998    2019-12-31_종로구\n",
       "437999    2019-12-31_종로구\n",
       "Name: weather_join_key, Length: 438000, dtype: object"
      ]
     },
     "execution_count": 39,
     "metadata": {},
     "output_type": "execute_result"
    }
   ],
   "source": [
    "# datetime to string\n",
    "weather_final['date'] = weather_final['date'].astype(str)\n",
    "\n",
    "# 지하철 데이터와 결합할 때 사용할 조인키\n",
    "weather_final['weather_join_key'] = weather_final['date'] + '_' + weather_final['gu']\n",
    "weather_final['weather_join_key']"
   ]
  },
  {
   "cell_type": "markdown",
   "metadata": {},
   "source": [
    "# 결측치 처리\n",
    "- humidity 변수의 경우, 결측치가 너무 많기 때문에 분석 대상에서 제외시키도록 하겠다.\n",
    "    - 즉, humidity 변수는 그냥 제거해주겠다.\n",
    "- temp, windspeed, rain 변수의 경우에는 결측치들을 앞/뒤 값의 평균 값으로 대체해주겠다.\n",
    "    - 만약 앞/뒤 값 중, 결측치가 하나라도 존재해서 대체가 안 되는 경우에는 전체 평균 값으로 대체해주도록 하겠다."
   ]
  },
  {
   "cell_type": "code",
   "execution_count": 40,
   "metadata": {
    "ExecuteTime": {
     "end_time": "2020-11-16T07:55:22.018000Z",
     "start_time": "2020-11-16T07:55:21.913035Z"
    }
   },
   "outputs": [
    {
     "data": {
      "text/plain": [
       "date                     0\n",
       "gu                       0\n",
       "temp                   501\n",
       "windspeed             1008\n",
       "rain                  3190\n",
       "humidity            184977\n",
       "hour                     0\n",
       "weather_join_key         0\n",
       "dtype: int64"
      ]
     },
     "execution_count": 40,
     "metadata": {},
     "output_type": "execute_result"
    }
   ],
   "source": [
    "weather_final.isnull().sum()"
   ]
  },
  {
   "cell_type": "code",
   "execution_count": 41,
   "metadata": {
    "ExecuteTime": {
     "end_time": "2020-11-16T07:55:22.060000Z",
     "start_time": "2020-11-16T07:55:22.020001Z"
    }
   },
   "outputs": [],
   "source": [
    "# humidity 변수 제거\n",
    "weather_final.drop(['humidity'], axis = 1, inplace = True)"
   ]
  },
  {
   "cell_type": "code",
   "execution_count": 42,
   "metadata": {
    "ExecuteTime": {
     "end_time": "2020-11-16T07:55:22.079000Z",
     "start_time": "2020-11-16T07:55:22.060999Z"
    }
   },
   "outputs": [],
   "source": [
    "# temp 변수에서 결측치들이 존재하는 index 추출\n",
    "temp_null_idx = weather_final[weather_final['temp'].isnull()].index\n",
    "# windspeed 변수에서 결측치들이 존재하는 index 추출\n",
    "windspeed_null_idx = weather_final[weather_final['windspeed'].isnull()].index\n",
    "# rain 변수에서 결측치들이 존재하는 index 추출\n",
    "rain_null_idx = weather_final[weather_final['rain'].isnull()].index"
   ]
  },
  {
   "cell_type": "code",
   "execution_count": 43,
   "metadata": {
    "ExecuteTime": {
     "end_time": "2020-11-16T07:55:44.958872Z",
     "start_time": "2020-11-16T07:55:22.080998Z"
    }
   },
   "outputs": [
    {
     "data": {
      "application/vnd.jupyter.widget-view+json": {
       "model_id": "e0126e4685d14c62b5267551ca373a6a",
       "version_major": 2,
       "version_minor": 0
      },
      "text/plain": [
       "HBox(children=(FloatProgress(value=0.0, max=501.0), HTML(value='')))"
      ]
     },
     "metadata": {},
     "output_type": "display_data"
    },
    {
     "name": "stdout",
     "output_type": "stream",
     "text": [
      "\n"
     ]
    },
    {
     "data": {
      "application/vnd.jupyter.widget-view+json": {
       "model_id": "f6b039f8810347618375d2d07516984f",
       "version_major": 2,
       "version_minor": 0
      },
      "text/plain": [
       "HBox(children=(FloatProgress(value=0.0, max=1008.0), HTML(value='')))"
      ]
     },
     "metadata": {},
     "output_type": "display_data"
    },
    {
     "name": "stdout",
     "output_type": "stream",
     "text": [
      "\n"
     ]
    },
    {
     "data": {
      "application/vnd.jupyter.widget-view+json": {
       "model_id": "5c5346533bba4ea49c5cb5ac0bdc9c47",
       "version_major": 2,
       "version_minor": 0
      },
      "text/plain": [
       "HBox(children=(FloatProgress(value=0.0, max=3190.0), HTML(value='')))"
      ]
     },
     "metadata": {},
     "output_type": "display_data"
    },
    {
     "name": "stdout",
     "output_type": "stream",
     "text": [
      "\n"
     ]
    }
   ],
   "source": [
    "# temp 변수 결측치 앞/뒤 값의 평균 값으로 대체\n",
    "for idx in tqdm(temp_null_idx):\n",
    "    temp_fillna = round(weather_final.loc[idx - 1, 'temp'] + weather_final.loc[idx + 1, 'temp'] / 2, 1)\n",
    "    weather_final.loc[weather_final.index == idx, 'temp'] = temp_fillna\n",
    "\n",
    "# windspeed 변수 결측치 앞/뒤 값의 평균 값으로 대체\n",
    "for idx in tqdm(windspeed_null_idx):\n",
    "    windspeed_fillna = round(weather_final.loc[idx - 1, 'windspeed'] + weather_final.loc[idx + 1, 'windspeed'] / 2, 1)\n",
    "    weather_final.loc[weather_final.index == idx, 'windspeed'] = windspeed_fillna\n",
    "    \n",
    "# rain 변수 결측치 앞/뒤 값의 평균 값으로 대체\n",
    "for idx in tqdm(rain_null_idx):\n",
    "    rain_fillna = round(weather_final.loc[idx - 1, 'rain'] + weather_final.loc[idx + 1, 'rain'] / 2, 1)\n",
    "    weather_final.loc[weather_final.index == idx, 'rain'] = rain_fillna"
   ]
  },
  {
   "cell_type": "code",
   "execution_count": 44,
   "metadata": {
    "ExecuteTime": {
     "end_time": "2020-11-16T07:55:45.031470Z",
     "start_time": "2020-11-16T07:55:44.959872Z"
    }
   },
   "outputs": [
    {
     "data": {
      "text/plain": [
       "date                   0\n",
       "gu                     0\n",
       "temp                 295\n",
       "windspeed            525\n",
       "rain                3150\n",
       "hour                   0\n",
       "weather_join_key       0\n",
       "dtype: int64"
      ]
     },
     "execution_count": 44,
     "metadata": {},
     "output_type": "execute_result"
    }
   ],
   "source": [
    "weather_final.isnull().sum()"
   ]
  },
  {
   "cell_type": "markdown",
   "metadata": {},
   "source": [
    "- 위 결과를 보면, 여전히 결측치가 존재한다.\n",
    "    - 즉, 앞/뒤 값 중 하나라도 결측인 값이 존재했다는 의미이다.\n",
    "- 따라서 이 경우들에 대해서는 전체 평균 값으로 대체해주도록 하겠다."
   ]
  },
  {
   "cell_type": "code",
   "execution_count": 45,
   "metadata": {
    "ExecuteTime": {
     "end_time": "2020-11-16T07:55:45.048449Z",
     "start_time": "2020-11-16T07:55:45.033407Z"
    }
   },
   "outputs": [],
   "source": [
    "# temp 변수 전체 평균 값\n",
    "temp_total_mean = round(np.mean(weather_final['temp']), 1)\n",
    "# windspeed 변수 전체 평균 값\n",
    "windspeed_total_mean = round(np.mean(weather_final['windspeed']), 1)\n",
    "# rain 변수 전체 평균 값\n",
    "rain_total_mean = round(np.mean(weather_final['rain']), 1)\n",
    "\n",
    "weather_final['temp'].fillna(temp_total_mean, inplace = True)\n",
    "weather_final['windspeed'].fillna(windspeed_total_mean, inplace = True)\n",
    "weather_final['rain'].fillna(rain_total_mean, inplace = True)"
   ]
  },
  {
   "cell_type": "code",
   "execution_count": 46,
   "metadata": {
    "ExecuteTime": {
     "end_time": "2020-11-16T07:55:45.119971Z",
     "start_time": "2020-11-16T07:55:45.050406Z"
    }
   },
   "outputs": [
    {
     "data": {
      "text/plain": [
       "date                0\n",
       "gu                  0\n",
       "temp                0\n",
       "windspeed           0\n",
       "rain                0\n",
       "hour                0\n",
       "weather_join_key    0\n",
       "dtype: int64"
      ]
     },
     "execution_count": 46,
     "metadata": {},
     "output_type": "execute_result"
    }
   ],
   "source": [
    "weather_final.isnull().sum()"
   ]
  },
  {
   "cell_type": "markdown",
   "metadata": {},
   "source": [
    "# 불필요한 변수들 제거\n",
    "- gu 변수는 분석에 사용하지 않을 것이므로 제거해주겠다."
   ]
  },
  {
   "cell_type": "code",
   "execution_count": 47,
   "metadata": {
    "ExecuteTime": {
     "end_time": "2020-11-16T07:55:45.126978Z",
     "start_time": "2020-11-16T07:55:45.121964Z"
    }
   },
   "outputs": [
    {
     "data": {
      "text/plain": [
       "Index(['date', 'gu', 'temp', 'windspeed', 'rain', 'hour', 'weather_join_key'], dtype='object')"
      ]
     },
     "execution_count": 47,
     "metadata": {},
     "output_type": "execute_result"
    }
   ],
   "source": [
    "weather_final.columns"
   ]
  },
  {
   "cell_type": "code",
   "execution_count": 48,
   "metadata": {
    "ExecuteTime": {
     "end_time": "2020-11-16T07:55:45.177962Z",
     "start_time": "2020-11-16T07:55:45.128932Z"
    }
   },
   "outputs": [],
   "source": [
    "weather_final.drop(['gu'], axis = 1, inplace = True)"
   ]
  },
  {
   "cell_type": "code",
   "execution_count": 49,
   "metadata": {
    "ExecuteTime": {
     "end_time": "2020-11-16T07:55:45.204931Z",
     "start_time": "2020-11-16T07:55:45.179929Z"
    }
   },
   "outputs": [
    {
     "data": {
      "text/html": [
       "<div>\n",
       "<style scoped>\n",
       "    .dataframe tbody tr th:only-of-type {\n",
       "        vertical-align: middle;\n",
       "    }\n",
       "\n",
       "    .dataframe tbody tr th {\n",
       "        vertical-align: top;\n",
       "    }\n",
       "\n",
       "    .dataframe thead th {\n",
       "        text-align: right;\n",
       "    }\n",
       "</style>\n",
       "<table border=\"1\" class=\"dataframe\">\n",
       "  <thead>\n",
       "    <tr style=\"text-align: right;\">\n",
       "      <th></th>\n",
       "      <th>date</th>\n",
       "      <th>temp</th>\n",
       "      <th>windspeed</th>\n",
       "      <th>rain</th>\n",
       "      <th>hour</th>\n",
       "      <th>weather_join_key</th>\n",
       "    </tr>\n",
       "  </thead>\n",
       "  <tbody>\n",
       "    <tr>\n",
       "      <th>0</th>\n",
       "      <td>2018-01-01</td>\n",
       "      <td>-0.1</td>\n",
       "      <td>1.0</td>\n",
       "      <td>0.0</td>\n",
       "      <td>0</td>\n",
       "      <td>2018-01-01_성동구</td>\n",
       "    </tr>\n",
       "    <tr>\n",
       "      <th>1</th>\n",
       "      <td>2018-01-01</td>\n",
       "      <td>-0.2</td>\n",
       "      <td>1.7</td>\n",
       "      <td>0.0</td>\n",
       "      <td>1</td>\n",
       "      <td>2018-01-01_성동구</td>\n",
       "    </tr>\n",
       "    <tr>\n",
       "      <th>2</th>\n",
       "      <td>2018-01-01</td>\n",
       "      <td>-0.4</td>\n",
       "      <td>1.5</td>\n",
       "      <td>0.0</td>\n",
       "      <td>2</td>\n",
       "      <td>2018-01-01_성동구</td>\n",
       "    </tr>\n",
       "    <tr>\n",
       "      <th>3</th>\n",
       "      <td>2018-01-01</td>\n",
       "      <td>-0.5</td>\n",
       "      <td>2.0</td>\n",
       "      <td>0.0</td>\n",
       "      <td>3</td>\n",
       "      <td>2018-01-01_성동구</td>\n",
       "    </tr>\n",
       "    <tr>\n",
       "      <th>4</th>\n",
       "      <td>2018-01-01</td>\n",
       "      <td>-0.8</td>\n",
       "      <td>2.1</td>\n",
       "      <td>0.0</td>\n",
       "      <td>4</td>\n",
       "      <td>2018-01-01_성동구</td>\n",
       "    </tr>\n",
       "    <tr>\n",
       "      <th>...</th>\n",
       "      <td>...</td>\n",
       "      <td>...</td>\n",
       "      <td>...</td>\n",
       "      <td>...</td>\n",
       "      <td>...</td>\n",
       "      <td>...</td>\n",
       "    </tr>\n",
       "    <tr>\n",
       "      <th>437995</th>\n",
       "      <td>2019-12-31</td>\n",
       "      <td>-6.9</td>\n",
       "      <td>1.7</td>\n",
       "      <td>0.0</td>\n",
       "      <td>19</td>\n",
       "      <td>2019-12-31_종로구</td>\n",
       "    </tr>\n",
       "    <tr>\n",
       "      <th>437996</th>\n",
       "      <td>2019-12-31</td>\n",
       "      <td>-7.0</td>\n",
       "      <td>1.3</td>\n",
       "      <td>0.0</td>\n",
       "      <td>20</td>\n",
       "      <td>2019-12-31_종로구</td>\n",
       "    </tr>\n",
       "    <tr>\n",
       "      <th>437997</th>\n",
       "      <td>2019-12-31</td>\n",
       "      <td>-8.1</td>\n",
       "      <td>1.0</td>\n",
       "      <td>0.0</td>\n",
       "      <td>21</td>\n",
       "      <td>2019-12-31_종로구</td>\n",
       "    </tr>\n",
       "    <tr>\n",
       "      <th>437998</th>\n",
       "      <td>2019-12-31</td>\n",
       "      <td>-8.6</td>\n",
       "      <td>0.8</td>\n",
       "      <td>0.0</td>\n",
       "      <td>22</td>\n",
       "      <td>2019-12-31_종로구</td>\n",
       "    </tr>\n",
       "    <tr>\n",
       "      <th>437999</th>\n",
       "      <td>2019-12-31</td>\n",
       "      <td>-6.8</td>\n",
       "      <td>0.8</td>\n",
       "      <td>0.0</td>\n",
       "      <td>23</td>\n",
       "      <td>2019-12-31_종로구</td>\n",
       "    </tr>\n",
       "  </tbody>\n",
       "</table>\n",
       "<p>438000 rows × 6 columns</p>\n",
       "</div>"
      ],
      "text/plain": [
       "              date  temp  windspeed  rain  hour weather_join_key\n",
       "0       2018-01-01  -0.1        1.0   0.0     0   2018-01-01_성동구\n",
       "1       2018-01-01  -0.2        1.7   0.0     1   2018-01-01_성동구\n",
       "2       2018-01-01  -0.4        1.5   0.0     2   2018-01-01_성동구\n",
       "3       2018-01-01  -0.5        2.0   0.0     3   2018-01-01_성동구\n",
       "4       2018-01-01  -0.8        2.1   0.0     4   2018-01-01_성동구\n",
       "...            ...   ...        ...   ...   ...              ...\n",
       "437995  2019-12-31  -6.9        1.7   0.0    19   2019-12-31_종로구\n",
       "437996  2019-12-31  -7.0        1.3   0.0    20   2019-12-31_종로구\n",
       "437997  2019-12-31  -8.1        1.0   0.0    21   2019-12-31_종로구\n",
       "437998  2019-12-31  -8.6        0.8   0.0    22   2019-12-31_종로구\n",
       "437999  2019-12-31  -6.8        0.8   0.0    23   2019-12-31_종로구\n",
       "\n",
       "[438000 rows x 6 columns]"
      ]
     },
     "execution_count": 49,
     "metadata": {},
     "output_type": "execute_result"
    }
   ],
   "source": [
    "weather_final"
   ]
  },
  {
   "cell_type": "code",
   "execution_count": 50,
   "metadata": {
    "ExecuteTime": {
     "end_time": "2020-11-16T07:55:45.256930Z",
     "start_time": "2020-11-16T07:55:45.206934Z"
    }
   },
   "outputs": [
    {
     "name": "stdout",
     "output_type": "stream",
     "text": [
      "<class 'pandas.core.frame.DataFrame'>\n",
      "RangeIndex: 438000 entries, 0 to 437999\n",
      "Data columns (total 6 columns):\n",
      " #   Column            Non-Null Count   Dtype  \n",
      "---  ------            --------------   -----  \n",
      " 0   date              438000 non-null  object \n",
      " 1   temp              438000 non-null  float64\n",
      " 2   windspeed         438000 non-null  float64\n",
      " 3   rain              438000 non-null  float64\n",
      " 4   hour              438000 non-null  int64  \n",
      " 5   weather_join_key  438000 non-null  object \n",
      "dtypes: float64(3), int64(1), object(2)\n",
      "memory usage: 20.1+ MB\n"
     ]
    }
   ],
   "source": [
    "weather_final.info()"
   ]
  },
  {
   "cell_type": "markdown",
   "metadata": {},
   "source": [
    "# 최종 생성된 데이터 셋을 csv 파일로 내보내기"
   ]
  },
  {
   "cell_type": "code",
   "execution_count": 51,
   "metadata": {
    "ExecuteTime": {
     "end_time": "2020-11-16T07:55:45.260931Z",
     "start_time": "2020-11-16T07:55:45.257928Z"
    }
   },
   "outputs": [],
   "source": [
    "new_filepath = 'C:/Users/Brian/Desktop/Data Science/Projects/Playdata/dataset/made_by_전처리/train'"
   ]
  },
  {
   "cell_type": "code",
   "execution_count": 52,
   "metadata": {
    "ExecuteTime": {
     "end_time": "2020-11-16T07:55:47.208549Z",
     "start_time": "2020-11-16T07:55:45.263931Z"
    }
   },
   "outputs": [],
   "source": [
    "weather_final.to_csv('{}/weather_final.csv'.format(new_filepath), index = False)"
   ]
  }
 ],
 "metadata": {
  "hide_input": false,
  "kernelspec": {
   "display_name": "Python 3",
   "language": "python",
   "name": "python3"
  },
  "language_info": {
   "codemirror_mode": {
    "name": "ipython",
    "version": 3
   },
   "file_extension": ".py",
   "mimetype": "text/x-python",
   "name": "python",
   "nbconvert_exporter": "python",
   "pygments_lexer": "ipython3",
   "version": "3.8.3"
  },
  "toc": {
   "base_numbering": 1,
   "nav_menu": {},
   "number_sections": true,
   "sideBar": true,
   "skip_h1_title": false,
   "title_cell": "Table of Contents",
   "title_sidebar": "Contents",
   "toc_cell": false,
   "toc_position": {},
   "toc_section_display": true,
   "toc_window_display": false
  },
  "varInspector": {
   "cols": {
    "lenName": 16,
    "lenType": 16,
    "lenVar": 40
   },
   "kernels_config": {
    "python": {
     "delete_cmd_postfix": "",
     "delete_cmd_prefix": "del ",
     "library": "var_list.py",
     "varRefreshCmd": "print(var_dic_list())"
    },
    "r": {
     "delete_cmd_postfix": ") ",
     "delete_cmd_prefix": "rm(",
     "library": "var_list.r",
     "varRefreshCmd": "cat(var_dic_list()) "
    }
   },
   "types_to_exclude": [
    "module",
    "function",
    "builtin_function_or_method",
    "instance",
    "_Feature"
   ],
   "window_display": false
  }
 },
 "nbformat": 4,
 "nbformat_minor": 4
}
