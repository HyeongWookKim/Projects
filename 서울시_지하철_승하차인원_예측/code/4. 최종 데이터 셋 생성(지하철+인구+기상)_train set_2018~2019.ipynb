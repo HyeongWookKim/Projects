{
 "cells": [
  {
   "cell_type": "markdown",
   "metadata": {},
   "source": [
    "**<파일 경로>**\n",
    "- C:/Users/Brian/Desktop/Data Science/Projects/Playdata/dataset/made_by_전처리/train"
   ]
  },
  {
   "cell_type": "code",
   "execution_count": 1,
   "metadata": {
    "ExecuteTime": {
     "end_time": "2020-11-10T01:17:58.052890Z",
     "start_time": "2020-11-10T01:17:54.549840Z"
    }
   },
   "outputs": [
    {
     "name": "stdout",
     "output_type": "stream",
     "text": [
      "C:/Users/Brian/Desktop/Data Science/Projects/Playdata/dataset/made_by_전처리/train\n"
     ]
    }
   ],
   "source": [
    "filepath = input()"
   ]
  },
  {
   "cell_type": "code",
   "execution_count": 2,
   "metadata": {
    "ExecuteTime": {
     "end_time": "2020-11-10T01:17:58.490449Z",
     "start_time": "2020-11-10T01:17:58.055829Z"
    }
   },
   "outputs": [],
   "source": [
    "import numpy as np\n",
    "import pandas as pd\n",
    "from tqdm.notebook import tqdm"
   ]
  },
  {
   "cell_type": "markdown",
   "metadata": {},
   "source": [
    "# 최종 데이터 셋 생성\n",
    "- 앞서 전처리 작업을 거친 \"지하철 데이터\", \"인구 데이터\", \"기상 데이터\"들을 결합하여 최종 데이터 셋을 만들도록 하겠다."
   ]
  },
  {
   "cell_type": "markdown",
   "metadata": {},
   "source": [
    "- 먼저 메모리 절약을 위해 각 변수들의 데이터 타입을 지정해 준 뒤, 각 데이터 셋을 불러오도록 하겠다."
   ]
  },
  {
   "cell_type": "code",
   "execution_count": 3,
   "metadata": {
    "ExecuteTime": {
     "end_time": "2020-11-10T01:17:58.498361Z",
     "start_time": "2020-11-10T01:17:58.491428Z"
    }
   },
   "outputs": [],
   "source": [
    "# 지하철 데이터 셋의 변수들 데이터 타입 지정\n",
    "subway_dtype = {\n",
    "    'hour': np.int32, 'boarding_num': np.int32, 'waiting_area': np.float32, 'platform_area': np.float32, \n",
    "    'length': np.int32, 'transfer_num': np.int32, 'entrance': np.int32, 'msi_cnt': np.int32, \n",
    "    'hsi_cnt': np.int32, 'uvi_cnt': np.int32, 'hpi_cnt': np.int32, 'mti_cnt': np.int32\n",
    "}\n",
    "\n",
    "# 인구 데이터 셋의 변수들 데이터 타입 지정\n",
    "pop_dtype = {\n",
    "    'hour': np.int32, 'total': np.float32, 'pop_below_20': np.float32,\n",
    "    'pop_20': np.float32, 'pop_30': np.float32, 'pop_40': np.float32, \n",
    "    'pop_50': np.float32, 'pop_60': np.float32, 'pop_over_70': np.float32\n",
    "}\n",
    "\n",
    "# 기상 데이터 셋의 변수들 데이터 타입 지정\n",
    "weather_dtype = {\n",
    "    'temp': np.float32, 'windspeed': np.float32, 'rain': np.float32, 'hour': np.int32\n",
    "}"
   ]
  },
  {
   "cell_type": "code",
   "execution_count": 4,
   "metadata": {
    "ExecuteTime": {
     "end_time": "2020-11-10T01:18:30.227194Z",
     "start_time": "2020-11-10T01:17:58.500356Z"
    }
   },
   "outputs": [
    {
     "name": "stderr",
     "output_type": "stream",
     "text": [
      "C:\\Users\\Brian\\anaconda3\\lib\\site-packages\\IPython\\core\\interactiveshell.py:3071: DtypeWarning: Columns (12) have mixed types.Specify dtype option on import or set low_memory=False.\n",
      "  has_raised = await self.run_ast_nodes(code_ast.body, cell_name,\n"
     ]
    }
   ],
   "source": [
    "subway_final = pd.read_csv('{}/subway_final.csv'.format(filepath), dtype = subway_dtype)\n",
    "pop_final = pd.read_csv('{}/pop_final.csv'.format(filepath), dtype = pop_dtype)\n",
    "weather_final = pd.read_csv('{}/weather_final.csv'.format(filepath), dtype = weather_dtype)"
   ]
  },
  {
   "cell_type": "markdown",
   "metadata": {},
   "source": [
    "- 추가적인 메모리 절약을 위해 object 타입 변수들을 모두 category 타입으로 변환해주겠다."
   ]
  },
  {
   "cell_type": "code",
   "execution_count": 5,
   "metadata": {
    "ExecuteTime": {
     "end_time": "2020-11-10T01:18:43.699734Z",
     "start_time": "2020-11-10T01:18:30.231101Z"
    }
   },
   "outputs": [
    {
     "data": {
      "application/vnd.jupyter.widget-view+json": {
       "model_id": "3b00b89773344e8dbbfce706e6554510",
       "version_major": 2,
       "version_minor": 0
      },
      "text/plain": [
       "HBox(children=(FloatProgress(value=0.0, max=12.0), HTML(value='')))"
      ]
     },
     "metadata": {},
     "output_type": "display_data"
    },
    {
     "name": "stdout",
     "output_type": "stream",
     "text": [
      "\n"
     ]
    },
    {
     "data": {
      "application/vnd.jupyter.widget-view+json": {
       "model_id": "045994bf1869482ba17db58c19ef087b",
       "version_major": 2,
       "version_minor": 0
      },
      "text/plain": [
       "HBox(children=(FloatProgress(value=0.0, max=2.0), HTML(value='')))"
      ]
     },
     "metadata": {},
     "output_type": "display_data"
    },
    {
     "name": "stdout",
     "output_type": "stream",
     "text": [
      "\n"
     ]
    },
    {
     "data": {
      "application/vnd.jupyter.widget-view+json": {
       "model_id": "bf824ea1466740e49f1ef88f50892cdd",
       "version_major": 2,
       "version_minor": 0
      },
      "text/plain": [
       "HBox(children=(FloatProgress(value=0.0, max=2.0), HTML(value='')))"
      ]
     },
     "metadata": {},
     "output_type": "display_data"
    },
    {
     "name": "stdout",
     "output_type": "stream",
     "text": [
      "\n"
     ]
    }
   ],
   "source": [
    "subway_cat = ['date', 'line', 'station_name', 'boarding', 'type', 'floor', \n",
    "              'transfer', 'gate', 'gu', 'dong', 'pop_join_key', 'weather_join_key']\n",
    "\n",
    "pop_cat = ['date', 'pop_join_key']\n",
    "\n",
    "weather_cat = ['date', 'weather_join_key']\n",
    "\n",
    "for cat in tqdm(subway_cat):\n",
    "    subway_final[cat] = subway_final[cat].astype('category')\n",
    "    \n",
    "for cat in tqdm(pop_cat):\n",
    "    pop_final[cat] = pop_final[cat].astype('category')\n",
    "    \n",
    "for cat in tqdm(weather_cat):\n",
    "    weather_final[cat] = weather_final[cat].astype('category')"
   ]
  },
  {
   "cell_type": "code",
   "execution_count": 6,
   "metadata": {
    "ExecuteTime": {
     "end_time": "2020-11-10T01:18:43.722699Z",
     "start_time": "2020-11-10T01:18:43.701727Z"
    }
   },
   "outputs": [
    {
     "name": "stdout",
     "output_type": "stream",
     "text": [
      "<class 'pandas.core.frame.DataFrame'>\n",
      "RangeIndex: 7476280 entries, 0 to 7476279\n",
      "Data columns (total 24 columns):\n",
      " #   Column            Dtype   \n",
      "---  ------            -----   \n",
      " 0   date              category\n",
      " 1   line              category\n",
      " 2   station_name      category\n",
      " 3   boarding          category\n",
      " 4   hour              int32   \n",
      " 5   boarding_num      int32   \n",
      " 6   waiting_area      float32 \n",
      " 7   platform_area     float32 \n",
      " 8   gu                category\n",
      " 9   type              category\n",
      " 10  length            int32   \n",
      " 11  floor             category\n",
      " 12  transfer          category\n",
      " 13  transfer_num      int32   \n",
      " 14  entrance          int32   \n",
      " 15  gate              category\n",
      " 16  msi_cnt           int32   \n",
      " 17  hsi_cnt           int32   \n",
      " 18  uvi_cnt           int32   \n",
      " 19  hpi_cnt           int32   \n",
      " 20  mti_cnt           int32   \n",
      " 21  dong              category\n",
      " 22  pop_join_key      category\n",
      " 23  weather_join_key  category\n",
      "dtypes: category(12), float32(2), int32(10)\n",
      "memory usage: 484.5 MB\n"
     ]
    }
   ],
   "source": [
    "subway_final.info()"
   ]
  },
  {
   "cell_type": "code",
   "execution_count": 7,
   "metadata": {
    "ExecuteTime": {
     "end_time": "2020-11-10T01:18:43.737642Z",
     "start_time": "2020-11-10T01:18:43.724653Z"
    }
   },
   "outputs": [
    {
     "name": "stdout",
     "output_type": "stream",
     "text": [
      "<class 'pandas.core.frame.DataFrame'>\n",
      "RangeIndex: 7289136 entries, 0 to 7289135\n",
      "Data columns (total 11 columns):\n",
      " #   Column        Dtype   \n",
      "---  ------        -----   \n",
      " 0   date          category\n",
      " 1   hour          int32   \n",
      " 2   total         float32 \n",
      " 3   pop_below_20  float32 \n",
      " 4   pop_20        float32 \n",
      " 5   pop_30        float32 \n",
      " 6   pop_40        float32 \n",
      " 7   pop_50        float32 \n",
      " 8   pop_60        float32 \n",
      " 9   pop_over_70   float32 \n",
      " 10  pop_join_key  category\n",
      "dtypes: category(2), float32(8), int32(1)\n",
      "memory usage: 304.3 MB\n"
     ]
    }
   ],
   "source": [
    "pop_final.info()"
   ]
  },
  {
   "cell_type": "code",
   "execution_count": 8,
   "metadata": {
    "ExecuteTime": {
     "end_time": "2020-11-10T01:18:43.768539Z",
     "start_time": "2020-11-10T01:18:43.738603Z"
    }
   },
   "outputs": [
    {
     "name": "stdout",
     "output_type": "stream",
     "text": [
      "<class 'pandas.core.frame.DataFrame'>\n",
      "RangeIndex: 438000 entries, 0 to 437999\n",
      "Data columns (total 6 columns):\n",
      " #   Column            Non-Null Count   Dtype   \n",
      "---  ------            --------------   -----   \n",
      " 0   date              438000 non-null  category\n",
      " 1   temp              438000 non-null  float32 \n",
      " 2   windspeed         438000 non-null  float32 \n",
      " 3   rain              438000 non-null  float32 \n",
      " 4   hour              438000 non-null  int32   \n",
      " 5   weather_join_key  438000 non-null  category\n",
      "dtypes: category(2), float32(3), int32(1)\n",
      "memory usage: 9.1 MB\n"
     ]
    }
   ],
   "source": [
    "weather_final.info()"
   ]
  },
  {
   "cell_type": "markdown",
   "metadata": {},
   "source": [
    "# 3개의 데이터 셋(지하철+인구+기상) 결합\n",
    "- 앞서 만들어놓은 조인키를 사용하여 3개의 데이터 셋(지하철 + 인구 + 기상)을 결합해주겠다."
   ]
  },
  {
   "cell_type": "code",
   "execution_count": 9,
   "metadata": {
    "ExecuteTime": {
     "end_time": "2020-11-10T01:18:43.792471Z",
     "start_time": "2020-11-10T01:18:43.773490Z"
    }
   },
   "outputs": [
    {
     "data": {
      "text/plain": [
       "((7476280, 24), (438000, 6), (7289136, 11))"
      ]
     },
     "execution_count": 9,
     "metadata": {},
     "output_type": "execute_result"
    }
   ],
   "source": [
    "subway_final.shape, weather_final.shape, pop_final.shape"
   ]
  },
  {
   "cell_type": "code",
   "execution_count": 10,
   "metadata": {
    "ExecuteTime": {
     "end_time": "2020-11-10T01:18:49.197899Z",
     "start_time": "2020-11-10T01:18:43.795412Z"
    }
   },
   "outputs": [
    {
     "data": {
      "text/html": [
       "<div>\n",
       "<style scoped>\n",
       "    .dataframe tbody tr th:only-of-type {\n",
       "        vertical-align: middle;\n",
       "    }\n",
       "\n",
       "    .dataframe tbody tr th {\n",
       "        vertical-align: top;\n",
       "    }\n",
       "\n",
       "    .dataframe thead th {\n",
       "        text-align: right;\n",
       "    }\n",
       "</style>\n",
       "<table border=\"1\" class=\"dataframe\">\n",
       "  <thead>\n",
       "    <tr style=\"text-align: right;\">\n",
       "      <th></th>\n",
       "      <th>date</th>\n",
       "      <th>line</th>\n",
       "      <th>station_name</th>\n",
       "      <th>boarding</th>\n",
       "      <th>hour</th>\n",
       "      <th>boarding_num</th>\n",
       "      <th>waiting_area</th>\n",
       "      <th>platform_area</th>\n",
       "      <th>gu</th>\n",
       "      <th>type</th>\n",
       "      <th>...</th>\n",
       "      <th>hsi_cnt</th>\n",
       "      <th>uvi_cnt</th>\n",
       "      <th>hpi_cnt</th>\n",
       "      <th>mti_cnt</th>\n",
       "      <th>dong</th>\n",
       "      <th>pop_join_key</th>\n",
       "      <th>weather_join_key</th>\n",
       "      <th>temp</th>\n",
       "      <th>windspeed</th>\n",
       "      <th>rain</th>\n",
       "    </tr>\n",
       "  </thead>\n",
       "  <tbody>\n",
       "    <tr>\n",
       "      <th>0</th>\n",
       "      <td>2018-01-01</td>\n",
       "      <td>1호선</td>\n",
       "      <td>서울역</td>\n",
       "      <td>승차</td>\n",
       "      <td>0</td>\n",
       "      <td>96</td>\n",
       "      <td>8725.0</td>\n",
       "      <td>2080.000000</td>\n",
       "      <td>중구</td>\n",
       "      <td>섬식</td>\n",
       "      <td>...</td>\n",
       "      <td>1</td>\n",
       "      <td>0</td>\n",
       "      <td>0</td>\n",
       "      <td>0</td>\n",
       "      <td>회현동</td>\n",
       "      <td>2018-01-01_회현동</td>\n",
       "      <td>2018-01-01_중구</td>\n",
       "      <td>-2.8</td>\n",
       "      <td>2.6</td>\n",
       "      <td>0.0</td>\n",
       "    </tr>\n",
       "    <tr>\n",
       "      <th>1</th>\n",
       "      <td>2018-01-01</td>\n",
       "      <td>1호선</td>\n",
       "      <td>서울역</td>\n",
       "      <td>하차</td>\n",
       "      <td>0</td>\n",
       "      <td>147</td>\n",
       "      <td>8725.0</td>\n",
       "      <td>2080.000000</td>\n",
       "      <td>중구</td>\n",
       "      <td>섬식</td>\n",
       "      <td>...</td>\n",
       "      <td>1</td>\n",
       "      <td>0</td>\n",
       "      <td>0</td>\n",
       "      <td>0</td>\n",
       "      <td>회현동</td>\n",
       "      <td>2018-01-01_회현동</td>\n",
       "      <td>2018-01-01_중구</td>\n",
       "      <td>-2.8</td>\n",
       "      <td>2.6</td>\n",
       "      <td>0.0</td>\n",
       "    </tr>\n",
       "    <tr>\n",
       "      <th>2</th>\n",
       "      <td>2018-01-01</td>\n",
       "      <td>1호선</td>\n",
       "      <td>서울역</td>\n",
       "      <td>승차</td>\n",
       "      <td>5</td>\n",
       "      <td>373</td>\n",
       "      <td>8725.0</td>\n",
       "      <td>2080.000000</td>\n",
       "      <td>중구</td>\n",
       "      <td>섬식</td>\n",
       "      <td>...</td>\n",
       "      <td>1</td>\n",
       "      <td>0</td>\n",
       "      <td>0</td>\n",
       "      <td>0</td>\n",
       "      <td>회현동</td>\n",
       "      <td>2018-01-01_회현동</td>\n",
       "      <td>2018-01-01_중구</td>\n",
       "      <td>-3.9</td>\n",
       "      <td>2.2</td>\n",
       "      <td>0.0</td>\n",
       "    </tr>\n",
       "    <tr>\n",
       "      <th>3</th>\n",
       "      <td>2018-01-01</td>\n",
       "      <td>1호선</td>\n",
       "      <td>서울역</td>\n",
       "      <td>하차</td>\n",
       "      <td>5</td>\n",
       "      <td>205</td>\n",
       "      <td>8725.0</td>\n",
       "      <td>2080.000000</td>\n",
       "      <td>중구</td>\n",
       "      <td>섬식</td>\n",
       "      <td>...</td>\n",
       "      <td>1</td>\n",
       "      <td>0</td>\n",
       "      <td>0</td>\n",
       "      <td>0</td>\n",
       "      <td>회현동</td>\n",
       "      <td>2018-01-01_회현동</td>\n",
       "      <td>2018-01-01_중구</td>\n",
       "      <td>-3.9</td>\n",
       "      <td>2.2</td>\n",
       "      <td>0.0</td>\n",
       "    </tr>\n",
       "    <tr>\n",
       "      <th>4</th>\n",
       "      <td>2018-01-01</td>\n",
       "      <td>1호선</td>\n",
       "      <td>서울역</td>\n",
       "      <td>승차</td>\n",
       "      <td>6</td>\n",
       "      <td>318</td>\n",
       "      <td>8725.0</td>\n",
       "      <td>2080.000000</td>\n",
       "      <td>중구</td>\n",
       "      <td>섬식</td>\n",
       "      <td>...</td>\n",
       "      <td>1</td>\n",
       "      <td>0</td>\n",
       "      <td>0</td>\n",
       "      <td>0</td>\n",
       "      <td>회현동</td>\n",
       "      <td>2018-01-01_회현동</td>\n",
       "      <td>2018-01-01_중구</td>\n",
       "      <td>-3.9</td>\n",
       "      <td>2.0</td>\n",
       "      <td>0.0</td>\n",
       "    </tr>\n",
       "    <tr>\n",
       "      <th>...</th>\n",
       "      <td>...</td>\n",
       "      <td>...</td>\n",
       "      <td>...</td>\n",
       "      <td>...</td>\n",
       "      <td>...</td>\n",
       "      <td>...</td>\n",
       "      <td>...</td>\n",
       "      <td>...</td>\n",
       "      <td>...</td>\n",
       "      <td>...</td>\n",
       "      <td>...</td>\n",
       "      <td>...</td>\n",
       "      <td>...</td>\n",
       "      <td>...</td>\n",
       "      <td>...</td>\n",
       "      <td>...</td>\n",
       "      <td>...</td>\n",
       "      <td>...</td>\n",
       "      <td>...</td>\n",
       "      <td>...</td>\n",
       "      <td>...</td>\n",
       "    </tr>\n",
       "    <tr>\n",
       "      <th>7476275</th>\n",
       "      <td>2019-12-28</td>\n",
       "      <td>6호선</td>\n",
       "      <td>연신내</td>\n",
       "      <td>하차</td>\n",
       "      <td>21</td>\n",
       "      <td>0</td>\n",
       "      <td>3241.0</td>\n",
       "      <td>2419.540039</td>\n",
       "      <td>은평구</td>\n",
       "      <td>상대식</td>\n",
       "      <td>...</td>\n",
       "      <td>2</td>\n",
       "      <td>0</td>\n",
       "      <td>1</td>\n",
       "      <td>1</td>\n",
       "      <td>불광제2동</td>\n",
       "      <td>2019-12-28_불광제2동</td>\n",
       "      <td>2019-12-28_은평구</td>\n",
       "      <td>5.3</td>\n",
       "      <td>1.7</td>\n",
       "      <td>0.0</td>\n",
       "    </tr>\n",
       "    <tr>\n",
       "      <th>7476276</th>\n",
       "      <td>2019-12-28</td>\n",
       "      <td>6호선</td>\n",
       "      <td>연신내</td>\n",
       "      <td>승차</td>\n",
       "      <td>22</td>\n",
       "      <td>0</td>\n",
       "      <td>3241.0</td>\n",
       "      <td>2419.540039</td>\n",
       "      <td>은평구</td>\n",
       "      <td>상대식</td>\n",
       "      <td>...</td>\n",
       "      <td>2</td>\n",
       "      <td>0</td>\n",
       "      <td>1</td>\n",
       "      <td>1</td>\n",
       "      <td>불광제2동</td>\n",
       "      <td>2019-12-28_불광제2동</td>\n",
       "      <td>2019-12-28_은평구</td>\n",
       "      <td>4.3</td>\n",
       "      <td>0.8</td>\n",
       "      <td>0.0</td>\n",
       "    </tr>\n",
       "    <tr>\n",
       "      <th>7476277</th>\n",
       "      <td>2019-12-28</td>\n",
       "      <td>6호선</td>\n",
       "      <td>연신내</td>\n",
       "      <td>하차</td>\n",
       "      <td>22</td>\n",
       "      <td>0</td>\n",
       "      <td>3241.0</td>\n",
       "      <td>2419.540039</td>\n",
       "      <td>은평구</td>\n",
       "      <td>상대식</td>\n",
       "      <td>...</td>\n",
       "      <td>2</td>\n",
       "      <td>0</td>\n",
       "      <td>1</td>\n",
       "      <td>1</td>\n",
       "      <td>불광제2동</td>\n",
       "      <td>2019-12-28_불광제2동</td>\n",
       "      <td>2019-12-28_은평구</td>\n",
       "      <td>4.3</td>\n",
       "      <td>0.8</td>\n",
       "      <td>0.0</td>\n",
       "    </tr>\n",
       "    <tr>\n",
       "      <th>7476278</th>\n",
       "      <td>2019-12-28</td>\n",
       "      <td>6호선</td>\n",
       "      <td>연신내</td>\n",
       "      <td>승차</td>\n",
       "      <td>23</td>\n",
       "      <td>0</td>\n",
       "      <td>3241.0</td>\n",
       "      <td>2419.540039</td>\n",
       "      <td>은평구</td>\n",
       "      <td>상대식</td>\n",
       "      <td>...</td>\n",
       "      <td>2</td>\n",
       "      <td>0</td>\n",
       "      <td>1</td>\n",
       "      <td>1</td>\n",
       "      <td>불광제2동</td>\n",
       "      <td>2019-12-28_불광제2동</td>\n",
       "      <td>2019-12-28_은평구</td>\n",
       "      <td>5.2</td>\n",
       "      <td>1.5</td>\n",
       "      <td>0.0</td>\n",
       "    </tr>\n",
       "    <tr>\n",
       "      <th>7476279</th>\n",
       "      <td>2019-12-28</td>\n",
       "      <td>6호선</td>\n",
       "      <td>연신내</td>\n",
       "      <td>하차</td>\n",
       "      <td>23</td>\n",
       "      <td>0</td>\n",
       "      <td>3241.0</td>\n",
       "      <td>2419.540039</td>\n",
       "      <td>은평구</td>\n",
       "      <td>상대식</td>\n",
       "      <td>...</td>\n",
       "      <td>2</td>\n",
       "      <td>0</td>\n",
       "      <td>1</td>\n",
       "      <td>1</td>\n",
       "      <td>불광제2동</td>\n",
       "      <td>2019-12-28_불광제2동</td>\n",
       "      <td>2019-12-28_은평구</td>\n",
       "      <td>5.2</td>\n",
       "      <td>1.5</td>\n",
       "      <td>0.0</td>\n",
       "    </tr>\n",
       "  </tbody>\n",
       "</table>\n",
       "<p>7476280 rows × 27 columns</p>\n",
       "</div>"
      ],
      "text/plain": [
       "               date line station_name boarding  hour  boarding_num  \\\n",
       "0        2018-01-01  1호선          서울역       승차     0            96   \n",
       "1        2018-01-01  1호선          서울역       하차     0           147   \n",
       "2        2018-01-01  1호선          서울역       승차     5           373   \n",
       "3        2018-01-01  1호선          서울역       하차     5           205   \n",
       "4        2018-01-01  1호선          서울역       승차     6           318   \n",
       "...             ...  ...          ...      ...   ...           ...   \n",
       "7476275  2019-12-28  6호선          연신내       하차    21             0   \n",
       "7476276  2019-12-28  6호선          연신내       승차    22             0   \n",
       "7476277  2019-12-28  6호선          연신내       하차    22             0   \n",
       "7476278  2019-12-28  6호선          연신내       승차    23             0   \n",
       "7476279  2019-12-28  6호선          연신내       하차    23             0   \n",
       "\n",
       "         waiting_area  platform_area   gu type  ...  hsi_cnt uvi_cnt hpi_cnt  \\\n",
       "0              8725.0    2080.000000   중구   섬식  ...        1       0       0   \n",
       "1              8725.0    2080.000000   중구   섬식  ...        1       0       0   \n",
       "2              8725.0    2080.000000   중구   섬식  ...        1       0       0   \n",
       "3              8725.0    2080.000000   중구   섬식  ...        1       0       0   \n",
       "4              8725.0    2080.000000   중구   섬식  ...        1       0       0   \n",
       "...               ...            ...  ...  ...  ...      ...     ...     ...   \n",
       "7476275        3241.0    2419.540039  은평구  상대식  ...        2       0       1   \n",
       "7476276        3241.0    2419.540039  은평구  상대식  ...        2       0       1   \n",
       "7476277        3241.0    2419.540039  은평구  상대식  ...        2       0       1   \n",
       "7476278        3241.0    2419.540039  은평구  상대식  ...        2       0       1   \n",
       "7476279        3241.0    2419.540039  은평구  상대식  ...        2       0       1   \n",
       "\n",
       "         mti_cnt   dong      pop_join_key  weather_join_key  temp  windspeed  \\\n",
       "0              0    회현동    2018-01-01_회현동     2018-01-01_중구  -2.8        2.6   \n",
       "1              0    회현동    2018-01-01_회현동     2018-01-01_중구  -2.8        2.6   \n",
       "2              0    회현동    2018-01-01_회현동     2018-01-01_중구  -3.9        2.2   \n",
       "3              0    회현동    2018-01-01_회현동     2018-01-01_중구  -3.9        2.2   \n",
       "4              0    회현동    2018-01-01_회현동     2018-01-01_중구  -3.9        2.0   \n",
       "...          ...    ...               ...               ...   ...        ...   \n",
       "7476275        1  불광제2동  2019-12-28_불광제2동    2019-12-28_은평구   5.3        1.7   \n",
       "7476276        1  불광제2동  2019-12-28_불광제2동    2019-12-28_은평구   4.3        0.8   \n",
       "7476277        1  불광제2동  2019-12-28_불광제2동    2019-12-28_은평구   4.3        0.8   \n",
       "7476278        1  불광제2동  2019-12-28_불광제2동    2019-12-28_은평구   5.2        1.5   \n",
       "7476279        1  불광제2동  2019-12-28_불광제2동    2019-12-28_은평구   5.2        1.5   \n",
       "\n",
       "         rain  \n",
       "0         0.0  \n",
       "1         0.0  \n",
       "2         0.0  \n",
       "3         0.0  \n",
       "4         0.0  \n",
       "...       ...  \n",
       "7476275   0.0  \n",
       "7476276   0.0  \n",
       "7476277   0.0  \n",
       "7476278   0.0  \n",
       "7476279   0.0  \n",
       "\n",
       "[7476280 rows x 27 columns]"
      ]
     },
     "execution_count": 10,
     "metadata": {},
     "output_type": "execute_result"
    }
   ],
   "source": [
    "# subway_final + weather_final\n",
    "subway_weather_final = pd.merge(subway_final, weather_final, how = 'left', on = ['weather_join_key', 'date', 'hour'])\n",
    "subway_weather_final"
   ]
  },
  {
   "cell_type": "code",
   "execution_count": 11,
   "metadata": {
    "ExecuteTime": {
     "end_time": "2020-11-10T01:19:03.738320Z",
     "start_time": "2020-11-10T01:18:49.200896Z"
    }
   },
   "outputs": [
    {
     "data": {
      "text/html": [
       "<div>\n",
       "<style scoped>\n",
       "    .dataframe tbody tr th:only-of-type {\n",
       "        vertical-align: middle;\n",
       "    }\n",
       "\n",
       "    .dataframe tbody tr th {\n",
       "        vertical-align: top;\n",
       "    }\n",
       "\n",
       "    .dataframe thead th {\n",
       "        text-align: right;\n",
       "    }\n",
       "</style>\n",
       "<table border=\"1\" class=\"dataframe\">\n",
       "  <thead>\n",
       "    <tr style=\"text-align: right;\">\n",
       "      <th></th>\n",
       "      <th>date</th>\n",
       "      <th>line</th>\n",
       "      <th>station_name</th>\n",
       "      <th>boarding</th>\n",
       "      <th>hour</th>\n",
       "      <th>boarding_num</th>\n",
       "      <th>waiting_area</th>\n",
       "      <th>platform_area</th>\n",
       "      <th>gu</th>\n",
       "      <th>type</th>\n",
       "      <th>...</th>\n",
       "      <th>windspeed</th>\n",
       "      <th>rain</th>\n",
       "      <th>total</th>\n",
       "      <th>pop_below_20</th>\n",
       "      <th>pop_20</th>\n",
       "      <th>pop_30</th>\n",
       "      <th>pop_40</th>\n",
       "      <th>pop_50</th>\n",
       "      <th>pop_60</th>\n",
       "      <th>pop_over_70</th>\n",
       "    </tr>\n",
       "  </thead>\n",
       "  <tbody>\n",
       "    <tr>\n",
       "      <th>0</th>\n",
       "      <td>2018-01-01</td>\n",
       "      <td>1호선</td>\n",
       "      <td>서울역</td>\n",
       "      <td>승차</td>\n",
       "      <td>0</td>\n",
       "      <td>96</td>\n",
       "      <td>8725.0</td>\n",
       "      <td>2080.000000</td>\n",
       "      <td>중구</td>\n",
       "      <td>섬식</td>\n",
       "      <td>...</td>\n",
       "      <td>2.6</td>\n",
       "      <td>0.0</td>\n",
       "      <td>10096.0</td>\n",
       "      <td>1046.0</td>\n",
       "      <td>1822.0</td>\n",
       "      <td>1716.0</td>\n",
       "      <td>1713.0</td>\n",
       "      <td>1420.0</td>\n",
       "      <td>1264.0</td>\n",
       "      <td>1119.0</td>\n",
       "    </tr>\n",
       "    <tr>\n",
       "      <th>1</th>\n",
       "      <td>2018-01-01</td>\n",
       "      <td>1호선</td>\n",
       "      <td>서울역</td>\n",
       "      <td>하차</td>\n",
       "      <td>0</td>\n",
       "      <td>147</td>\n",
       "      <td>8725.0</td>\n",
       "      <td>2080.000000</td>\n",
       "      <td>중구</td>\n",
       "      <td>섬식</td>\n",
       "      <td>...</td>\n",
       "      <td>2.6</td>\n",
       "      <td>0.0</td>\n",
       "      <td>10096.0</td>\n",
       "      <td>1046.0</td>\n",
       "      <td>1822.0</td>\n",
       "      <td>1716.0</td>\n",
       "      <td>1713.0</td>\n",
       "      <td>1420.0</td>\n",
       "      <td>1264.0</td>\n",
       "      <td>1119.0</td>\n",
       "    </tr>\n",
       "    <tr>\n",
       "      <th>2</th>\n",
       "      <td>2018-01-01</td>\n",
       "      <td>1호선</td>\n",
       "      <td>서울역</td>\n",
       "      <td>승차</td>\n",
       "      <td>5</td>\n",
       "      <td>373</td>\n",
       "      <td>8725.0</td>\n",
       "      <td>2080.000000</td>\n",
       "      <td>중구</td>\n",
       "      <td>섬식</td>\n",
       "      <td>...</td>\n",
       "      <td>2.2</td>\n",
       "      <td>0.0</td>\n",
       "      <td>8031.0</td>\n",
       "      <td>848.0</td>\n",
       "      <td>1392.0</td>\n",
       "      <td>1373.0</td>\n",
       "      <td>1417.0</td>\n",
       "      <td>1213.0</td>\n",
       "      <td>957.0</td>\n",
       "      <td>835.0</td>\n",
       "    </tr>\n",
       "    <tr>\n",
       "      <th>3</th>\n",
       "      <td>2018-01-01</td>\n",
       "      <td>1호선</td>\n",
       "      <td>서울역</td>\n",
       "      <td>하차</td>\n",
       "      <td>5</td>\n",
       "      <td>205</td>\n",
       "      <td>8725.0</td>\n",
       "      <td>2080.000000</td>\n",
       "      <td>중구</td>\n",
       "      <td>섬식</td>\n",
       "      <td>...</td>\n",
       "      <td>2.2</td>\n",
       "      <td>0.0</td>\n",
       "      <td>8031.0</td>\n",
       "      <td>848.0</td>\n",
       "      <td>1392.0</td>\n",
       "      <td>1373.0</td>\n",
       "      <td>1417.0</td>\n",
       "      <td>1213.0</td>\n",
       "      <td>957.0</td>\n",
       "      <td>835.0</td>\n",
       "    </tr>\n",
       "    <tr>\n",
       "      <th>4</th>\n",
       "      <td>2018-01-01</td>\n",
       "      <td>1호선</td>\n",
       "      <td>서울역</td>\n",
       "      <td>승차</td>\n",
       "      <td>6</td>\n",
       "      <td>318</td>\n",
       "      <td>8725.0</td>\n",
       "      <td>2080.000000</td>\n",
       "      <td>중구</td>\n",
       "      <td>섬식</td>\n",
       "      <td>...</td>\n",
       "      <td>2.0</td>\n",
       "      <td>0.0</td>\n",
       "      <td>9589.0</td>\n",
       "      <td>961.0</td>\n",
       "      <td>1637.0</td>\n",
       "      <td>1564.0</td>\n",
       "      <td>1554.0</td>\n",
       "      <td>1616.0</td>\n",
       "      <td>1279.0</td>\n",
       "      <td>981.0</td>\n",
       "    </tr>\n",
       "    <tr>\n",
       "      <th>...</th>\n",
       "      <td>...</td>\n",
       "      <td>...</td>\n",
       "      <td>...</td>\n",
       "      <td>...</td>\n",
       "      <td>...</td>\n",
       "      <td>...</td>\n",
       "      <td>...</td>\n",
       "      <td>...</td>\n",
       "      <td>...</td>\n",
       "      <td>...</td>\n",
       "      <td>...</td>\n",
       "      <td>...</td>\n",
       "      <td>...</td>\n",
       "      <td>...</td>\n",
       "      <td>...</td>\n",
       "      <td>...</td>\n",
       "      <td>...</td>\n",
       "      <td>...</td>\n",
       "      <td>...</td>\n",
       "      <td>...</td>\n",
       "      <td>...</td>\n",
       "    </tr>\n",
       "    <tr>\n",
       "      <th>7476275</th>\n",
       "      <td>2019-12-28</td>\n",
       "      <td>6호선</td>\n",
       "      <td>연신내</td>\n",
       "      <td>하차</td>\n",
       "      <td>21</td>\n",
       "      <td>0</td>\n",
       "      <td>3241.0</td>\n",
       "      <td>2419.540039</td>\n",
       "      <td>은평구</td>\n",
       "      <td>상대식</td>\n",
       "      <td>...</td>\n",
       "      <td>1.7</td>\n",
       "      <td>0.0</td>\n",
       "      <td>22572.0</td>\n",
       "      <td>2954.0</td>\n",
       "      <td>2799.0</td>\n",
       "      <td>3330.0</td>\n",
       "      <td>3456.0</td>\n",
       "      <td>3798.0</td>\n",
       "      <td>2946.0</td>\n",
       "      <td>3291.0</td>\n",
       "    </tr>\n",
       "    <tr>\n",
       "      <th>7476276</th>\n",
       "      <td>2019-12-28</td>\n",
       "      <td>6호선</td>\n",
       "      <td>연신내</td>\n",
       "      <td>승차</td>\n",
       "      <td>22</td>\n",
       "      <td>0</td>\n",
       "      <td>3241.0</td>\n",
       "      <td>2419.540039</td>\n",
       "      <td>은평구</td>\n",
       "      <td>상대식</td>\n",
       "      <td>...</td>\n",
       "      <td>0.8</td>\n",
       "      <td>0.0</td>\n",
       "      <td>23243.0</td>\n",
       "      <td>2940.0</td>\n",
       "      <td>3060.0</td>\n",
       "      <td>3490.0</td>\n",
       "      <td>3563.0</td>\n",
       "      <td>3894.0</td>\n",
       "      <td>3034.0</td>\n",
       "      <td>3265.0</td>\n",
       "    </tr>\n",
       "    <tr>\n",
       "      <th>7476277</th>\n",
       "      <td>2019-12-28</td>\n",
       "      <td>6호선</td>\n",
       "      <td>연신내</td>\n",
       "      <td>하차</td>\n",
       "      <td>22</td>\n",
       "      <td>0</td>\n",
       "      <td>3241.0</td>\n",
       "      <td>2419.540039</td>\n",
       "      <td>은평구</td>\n",
       "      <td>상대식</td>\n",
       "      <td>...</td>\n",
       "      <td>0.8</td>\n",
       "      <td>0.0</td>\n",
       "      <td>23243.0</td>\n",
       "      <td>2940.0</td>\n",
       "      <td>3060.0</td>\n",
       "      <td>3490.0</td>\n",
       "      <td>3563.0</td>\n",
       "      <td>3894.0</td>\n",
       "      <td>3034.0</td>\n",
       "      <td>3265.0</td>\n",
       "    </tr>\n",
       "    <tr>\n",
       "      <th>7476278</th>\n",
       "      <td>2019-12-28</td>\n",
       "      <td>6호선</td>\n",
       "      <td>연신내</td>\n",
       "      <td>승차</td>\n",
       "      <td>23</td>\n",
       "      <td>0</td>\n",
       "      <td>3241.0</td>\n",
       "      <td>2419.540039</td>\n",
       "      <td>은평구</td>\n",
       "      <td>상대식</td>\n",
       "      <td>...</td>\n",
       "      <td>1.5</td>\n",
       "      <td>0.0</td>\n",
       "      <td>26246.0</td>\n",
       "      <td>3534.0</td>\n",
       "      <td>3196.0</td>\n",
       "      <td>3859.0</td>\n",
       "      <td>3870.0</td>\n",
       "      <td>4395.0</td>\n",
       "      <td>3539.0</td>\n",
       "      <td>3855.0</td>\n",
       "    </tr>\n",
       "    <tr>\n",
       "      <th>7476279</th>\n",
       "      <td>2019-12-28</td>\n",
       "      <td>6호선</td>\n",
       "      <td>연신내</td>\n",
       "      <td>하차</td>\n",
       "      <td>23</td>\n",
       "      <td>0</td>\n",
       "      <td>3241.0</td>\n",
       "      <td>2419.540039</td>\n",
       "      <td>은평구</td>\n",
       "      <td>상대식</td>\n",
       "      <td>...</td>\n",
       "      <td>1.5</td>\n",
       "      <td>0.0</td>\n",
       "      <td>26246.0</td>\n",
       "      <td>3534.0</td>\n",
       "      <td>3196.0</td>\n",
       "      <td>3859.0</td>\n",
       "      <td>3870.0</td>\n",
       "      <td>4395.0</td>\n",
       "      <td>3539.0</td>\n",
       "      <td>3855.0</td>\n",
       "    </tr>\n",
       "  </tbody>\n",
       "</table>\n",
       "<p>7476280 rows × 35 columns</p>\n",
       "</div>"
      ],
      "text/plain": [
       "               date line station_name boarding  hour  boarding_num  \\\n",
       "0        2018-01-01  1호선          서울역       승차     0            96   \n",
       "1        2018-01-01  1호선          서울역       하차     0           147   \n",
       "2        2018-01-01  1호선          서울역       승차     5           373   \n",
       "3        2018-01-01  1호선          서울역       하차     5           205   \n",
       "4        2018-01-01  1호선          서울역       승차     6           318   \n",
       "...             ...  ...          ...      ...   ...           ...   \n",
       "7476275  2019-12-28  6호선          연신내       하차    21             0   \n",
       "7476276  2019-12-28  6호선          연신내       승차    22             0   \n",
       "7476277  2019-12-28  6호선          연신내       하차    22             0   \n",
       "7476278  2019-12-28  6호선          연신내       승차    23             0   \n",
       "7476279  2019-12-28  6호선          연신내       하차    23             0   \n",
       "\n",
       "         waiting_area  platform_area   gu type  ...  windspeed rain    total  \\\n",
       "0              8725.0    2080.000000   중구   섬식  ...        2.6  0.0  10096.0   \n",
       "1              8725.0    2080.000000   중구   섬식  ...        2.6  0.0  10096.0   \n",
       "2              8725.0    2080.000000   중구   섬식  ...        2.2  0.0   8031.0   \n",
       "3              8725.0    2080.000000   중구   섬식  ...        2.2  0.0   8031.0   \n",
       "4              8725.0    2080.000000   중구   섬식  ...        2.0  0.0   9589.0   \n",
       "...               ...            ...  ...  ...  ...        ...  ...      ...   \n",
       "7476275        3241.0    2419.540039  은평구  상대식  ...        1.7  0.0  22572.0   \n",
       "7476276        3241.0    2419.540039  은평구  상대식  ...        0.8  0.0  23243.0   \n",
       "7476277        3241.0    2419.540039  은평구  상대식  ...        0.8  0.0  23243.0   \n",
       "7476278        3241.0    2419.540039  은평구  상대식  ...        1.5  0.0  26246.0   \n",
       "7476279        3241.0    2419.540039  은평구  상대식  ...        1.5  0.0  26246.0   \n",
       "\n",
       "         pop_below_20  pop_20  pop_30  pop_40  pop_50  pop_60  pop_over_70  \n",
       "0              1046.0  1822.0  1716.0  1713.0  1420.0  1264.0       1119.0  \n",
       "1              1046.0  1822.0  1716.0  1713.0  1420.0  1264.0       1119.0  \n",
       "2               848.0  1392.0  1373.0  1417.0  1213.0   957.0        835.0  \n",
       "3               848.0  1392.0  1373.0  1417.0  1213.0   957.0        835.0  \n",
       "4               961.0  1637.0  1564.0  1554.0  1616.0  1279.0        981.0  \n",
       "...               ...     ...     ...     ...     ...     ...          ...  \n",
       "7476275        2954.0  2799.0  3330.0  3456.0  3798.0  2946.0       3291.0  \n",
       "7476276        2940.0  3060.0  3490.0  3563.0  3894.0  3034.0       3265.0  \n",
       "7476277        2940.0  3060.0  3490.0  3563.0  3894.0  3034.0       3265.0  \n",
       "7476278        3534.0  3196.0  3859.0  3870.0  4395.0  3539.0       3855.0  \n",
       "7476279        3534.0  3196.0  3859.0  3870.0  4395.0  3539.0       3855.0  \n",
       "\n",
       "[7476280 rows x 35 columns]"
      ]
     },
     "execution_count": 11,
     "metadata": {},
     "output_type": "execute_result"
    }
   ],
   "source": [
    "# subway_weather_final + pop_final\n",
    "subway_weather_pop_final = pd.merge(subway_weather_final, pop_final, how = 'left', on = ['pop_join_key', 'date', 'hour'])\n",
    "subway_weather_pop_final"
   ]
  },
  {
   "cell_type": "code",
   "execution_count": 12,
   "metadata": {
    "ExecuteTime": {
     "end_time": "2020-11-10T01:19:06.198379Z",
     "start_time": "2020-11-10T01:19:03.742916Z"
    }
   },
   "outputs": [
    {
     "data": {
      "text/plain": [
       "date                      0\n",
       "line                      0\n",
       "station_name              0\n",
       "boarding                  0\n",
       "hour                      0\n",
       "boarding_num              0\n",
       "waiting_area              0\n",
       "platform_area             0\n",
       "gu                        0\n",
       "type                      0\n",
       "length                    0\n",
       "floor                     0\n",
       "transfer            4701200\n",
       "transfer_num              0\n",
       "entrance                  0\n",
       "gate                  59480\n",
       "msi_cnt                   0\n",
       "hsi_cnt                   0\n",
       "uvi_cnt                   0\n",
       "hpi_cnt                   0\n",
       "mti_cnt                   0\n",
       "dong                      0\n",
       "pop_join_key              0\n",
       "weather_join_key          0\n",
       "temp                      0\n",
       "windspeed                 0\n",
       "rain                      0\n",
       "total                122880\n",
       "pop_below_20         122880\n",
       "pop_20               122880\n",
       "pop_30               122880\n",
       "pop_40               122880\n",
       "pop_50               122880\n",
       "pop_60               122880\n",
       "pop_over_70          122880\n",
       "dtype: int64"
      ]
     },
     "execution_count": 12,
     "metadata": {},
     "output_type": "execute_result"
    }
   ],
   "source": [
    "subway_weather_pop_final.isnull().sum()"
   ]
  },
  {
   "cell_type": "markdown",
   "metadata": {},
   "source": [
    "- 위와 같이 존재하는 결측치들에 대해서는 데이터 탐색 단계에서 처리해주도록 하겠다.\n",
    "    - 우선은 조인이 잘 이루어졌는지만 확인하겠다."
   ]
  },
  {
   "cell_type": "markdown",
   "metadata": {},
   "source": [
    "- 조인이 잘 이루어졌으므로, 조인키로 사용했던 weather_join_key와 pop_join_key 변수는 제거해주도록 하겠다."
   ]
  },
  {
   "cell_type": "code",
   "execution_count": 13,
   "metadata": {
    "ExecuteTime": {
     "end_time": "2020-11-10T01:19:06.949193Z",
     "start_time": "2020-11-10T01:19:06.200391Z"
    }
   },
   "outputs": [],
   "source": [
    "subway_weather_pop_final.drop(['weather_join_key', 'pop_join_key'], axis = 1, inplace = True)"
   ]
  },
  {
   "cell_type": "code",
   "execution_count": 14,
   "metadata": {
    "ExecuteTime": {
     "end_time": "2020-11-10T01:19:06.967128Z",
     "start_time": "2020-11-10T01:19:06.950183Z"
    }
   },
   "outputs": [
    {
     "name": "stdout",
     "output_type": "stream",
     "text": [
      "<class 'pandas.core.frame.DataFrame'>\n",
      "Int64Index: 7476280 entries, 0 to 7476279\n",
      "Data columns (total 33 columns):\n",
      " #   Column         Dtype   \n",
      "---  ------         -----   \n",
      " 0   date           object  \n",
      " 1   line           category\n",
      " 2   station_name   category\n",
      " 3   boarding       category\n",
      " 4   hour           int32   \n",
      " 5   boarding_num   int32   \n",
      " 6   waiting_area   float32 \n",
      " 7   platform_area  float32 \n",
      " 8   gu             category\n",
      " 9   type           category\n",
      " 10  length         int32   \n",
      " 11  floor          category\n",
      " 12  transfer       category\n",
      " 13  transfer_num   int32   \n",
      " 14  entrance       int32   \n",
      " 15  gate           category\n",
      " 16  msi_cnt        int32   \n",
      " 17  hsi_cnt        int32   \n",
      " 18  uvi_cnt        int32   \n",
      " 19  hpi_cnt        int32   \n",
      " 20  mti_cnt        int32   \n",
      " 21  dong           category\n",
      " 22  temp           float32 \n",
      " 23  windspeed      float32 \n",
      " 24  rain           float32 \n",
      " 25  total          float32 \n",
      " 26  pop_below_20   float32 \n",
      " 27  pop_20         float32 \n",
      " 28  pop_30         float32 \n",
      " 29  pop_40         float32 \n",
      " 30  pop_50         float32 \n",
      " 31  pop_60         float32 \n",
      " 32  pop_over_70    float32 \n",
      "dtypes: category(9), float32(13), int32(10), object(1)\n",
      "memory usage: 848.5+ MB\n"
     ]
    }
   ],
   "source": [
    "subway_weather_pop_final.info()"
   ]
  },
  {
   "cell_type": "markdown",
   "metadata": {},
   "source": [
    "# 최종 생성된 데이터 셋을 csv 파일로 내보내기"
   ]
  },
  {
   "cell_type": "code",
   "execution_count": 15,
   "metadata": {
    "ExecuteTime": {
     "end_time": "2020-11-10T01:21:19.936212Z",
     "start_time": "2020-11-10T01:19:06.969121Z"
    }
   },
   "outputs": [],
   "source": [
    "subway_weather_pop_final.to_csv('{}/df_train.csv'.format(filepath), index = False)"
   ]
  }
 ],
 "metadata": {
  "hide_input": false,
  "kernelspec": {
   "display_name": "Python 3",
   "language": "python",
   "name": "python3"
  },
  "language_info": {
   "codemirror_mode": {
    "name": "ipython",
    "version": 3
   },
   "file_extension": ".py",
   "mimetype": "text/x-python",
   "name": "python",
   "nbconvert_exporter": "python",
   "pygments_lexer": "ipython3",
   "version": "3.8.3"
  },
  "toc": {
   "base_numbering": 1,
   "nav_menu": {},
   "number_sections": true,
   "sideBar": true,
   "skip_h1_title": false,
   "title_cell": "Table of Contents",
   "title_sidebar": "Contents",
   "toc_cell": false,
   "toc_position": {},
   "toc_section_display": true,
   "toc_window_display": false
  },
  "varInspector": {
   "cols": {
    "lenName": 16,
    "lenType": 16,
    "lenVar": 40
   },
   "kernels_config": {
    "python": {
     "delete_cmd_postfix": "",
     "delete_cmd_prefix": "del ",
     "library": "var_list.py",
     "varRefreshCmd": "print(var_dic_list())"
    },
    "r": {
     "delete_cmd_postfix": ") ",
     "delete_cmd_prefix": "rm(",
     "library": "var_list.r",
     "varRefreshCmd": "cat(var_dic_list()) "
    }
   },
   "types_to_exclude": [
    "module",
    "function",
    "builtin_function_or_method",
    "instance",
    "_Feature"
   ],
   "window_display": false
  }
 },
 "nbformat": 4,
 "nbformat_minor": 4
}
