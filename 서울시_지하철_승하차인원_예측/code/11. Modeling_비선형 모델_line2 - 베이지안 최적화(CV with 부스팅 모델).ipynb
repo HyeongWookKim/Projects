{
 "cells": [
  {
   "cell_type": "markdown",
   "metadata": {},
   "source": [
    "**<파일 경로>**\n",
    "- C:/Users/Brian/Desktop/Data Science/Projects/Playdata/dataset/made_by_전처리/train\n",
    "- C:/Users/Brian/Desktop/Data Science/Projects/Playdata/dataset/made_by_전처리/test"
   ]
  },
  {
   "cell_type": "code",
   "execution_count": 1,
   "metadata": {
    "ExecuteTime": {
     "end_time": "2020-11-24T08:47:41.703678Z",
     "start_time": "2020-11-24T08:47:38.862686Z"
    }
   },
   "outputs": [
    {
     "name": "stdout",
     "output_type": "stream",
     "text": [
      "C:/Users/Brian/Desktop/Data Science/Projects/Playdata/dataset/made_by_전처리/train\n"
     ]
    }
   ],
   "source": [
    "train_path = input()"
   ]
  },
  {
   "cell_type": "code",
   "execution_count": 2,
   "metadata": {
    "ExecuteTime": {
     "end_time": "2020-11-24T08:47:43.128179Z",
     "start_time": "2020-11-24T08:47:41.705616Z"
    }
   },
   "outputs": [
    {
     "name": "stdout",
     "output_type": "stream",
     "text": [
      "C:/Users/Brian/Desktop/Data Science/Projects/Playdata/dataset/made_by_전처리/test\n"
     ]
    }
   ],
   "source": [
    "test_path = input()"
   ]
  },
  {
   "cell_type": "code",
   "execution_count": 3,
   "metadata": {
    "ExecuteTime": {
     "end_time": "2020-11-24T08:47:49.311348Z",
     "start_time": "2020-11-24T08:47:43.133180Z"
    }
   },
   "outputs": [],
   "source": [
    "import numpy as np\n",
    "import pandas as pd\n",
    "import datetime as dt\n",
    "from tqdm.notebook import tqdm\n",
    "import matplotlib.pyplot as plt\n",
    "import seaborn as sns\n",
    "%matplotlib inline\n",
    "# seaborn 폰트 및 스타일 설정\n",
    "sns.set(font = \"Malgun Gothic\", rc = {\"axes.unicode_minus\": False}, style = 'whitegrid')\n",
    "# Pandas 출력 결과 부동소수점 설정\n",
    "pd.options.display.float_format = '{:.1f}'.format\n",
    "\n",
    "from sklearn.model_selection import KFold, cross_val_score, cross_validate, train_test_split, GridSearchCV\n",
    "from sklearn.metrics import mean_squared_error, r2_score, make_scorer\n",
    "from bayes_opt import BayesianOptimization\n",
    "\n",
    "from sklearn.tree import DecisionTreeRegressor\n",
    "from sklearn.ensemble import RandomForestRegressor\n",
    "from xgboost import XGBRegressor\n",
    "from lightgbm import LGBMRegressor"
   ]
  },
  {
   "cell_type": "markdown",
   "metadata": {},
   "source": [
    "- 먼저 메모리 절약을 위해 각 변수들의 데이터 타입을 지정해 준 뒤, 각 데이터 셋을 불러오도록 하겠다."
   ]
  },
  {
   "cell_type": "code",
   "execution_count": 4,
   "metadata": {
    "ExecuteTime": {
     "end_time": "2020-11-24T08:47:49.335219Z",
     "start_time": "2020-11-24T08:47:49.315981Z"
    }
   },
   "outputs": [],
   "source": [
    "df_train_dtype = {\n",
    "    # 지하철 데이터 관련 변수들 데이터 타입 지정\n",
    "    'boarding_num': np.int32, 'log_boarding_num': np.float32, 'platform_area': np.float32, \n",
    "    'length': np.float32, 'transfer_num': np.float32, 'entrance': np.float32, \n",
    "    'msi_cnt': np.float32, 'hsi_cnt': np.float32, 'uvi_cnt': np.float32, \n",
    "    'hpi_cnt': np.float32, 'mti_cnt': np.float32, 'day': np.int32,\n",
    "    # 인구 데이터 관련 변수들 데이터 타입 지정\n",
    "    'pop_below_20': np.float32, 'pop_20_30_40': np.float32, 'pop_over_50': np.float32,\n",
    "    # 기상 데이터 관련 변수들 데이터 타입 변경\n",
    "    'temp': np.float32, 'windspeed': np.float32, 'rain': np.float32\n",
    "}\n",
    "\n",
    "df_test_dtype = {\n",
    "    # 지하철 데이터 관련 변수들 데이터 타입 지정\n",
    "    'boarding_num': np.int32, 'platform_area': np.float32, \n",
    "    'length': np.float32, 'transfer_num': np.float32, 'entrance': np.float32, \n",
    "    'msi_cnt': np.float32, 'hsi_cnt': np.float32, 'uvi_cnt': np.float32, \n",
    "    'hpi_cnt': np.float32, 'mti_cnt': np.float32, 'day': np.int32,\n",
    "    # 인구 데이터 관련 변수들 데이터 타입 지정\n",
    "    'pop_below_20': np.float32, 'pop_20_30_40': np.float32, 'pop_over_50': np.float32,\n",
    "    # 기상 데이터 관련 변수들 데이터 타입 변경\n",
    "    'temp': np.float32, 'windspeed': np.float32, 'rain': np.float32\n",
    "}"
   ]
  },
  {
   "cell_type": "code",
   "execution_count": 5,
   "metadata": {
    "ExecuteTime": {
     "end_time": "2020-11-24T08:48:13.187789Z",
     "start_time": "2020-11-24T08:47:49.339885Z"
    }
   },
   "outputs": [],
   "source": [
    "df_train = pd.read_csv('{}/df_train_nonlinear_line2.csv'.format(train_path), dtype = df_train_dtype)\n",
    "df_test = pd.read_csv('{}/df_test_nonlinear_line2.csv'.format(test_path), dtype = df_test_dtype)"
   ]
  },
  {
   "cell_type": "markdown",
   "metadata": {},
   "source": [
    "- 추가적인 메모리 절약을 위해 line과 station_name 변수의 타입을 category로 변환하고, 원-핫 인코딩 처리된 변수들의 dtype을 모두 uint8로 지정해주겠다."
   ]
  },
  {
   "cell_type": "code",
   "execution_count": 6,
   "metadata": {
    "ExecuteTime": {
     "end_time": "2020-11-24T08:48:13.863756Z",
     "start_time": "2020-11-24T08:48:13.191729Z"
    }
   },
   "outputs": [
    {
     "data": {
      "application/vnd.jupyter.widget-view+json": {
       "model_id": "96d80ab299bd4565acff82548504ea61",
       "version_major": 2,
       "version_minor": 0
      },
      "text/plain": [
       "HBox(children=(FloatProgress(value=0.0, max=2.0), HTML(value='')))"
      ]
     },
     "metadata": {},
     "output_type": "display_data"
    },
    {
     "name": "stdout",
     "output_type": "stream",
     "text": [
      "\n"
     ]
    }
   ],
   "source": [
    "cat_vars = ['line', 'station_name']\n",
    "\n",
    "for var in tqdm(cat_vars):\n",
    "    df_train[var] = df_train[var].astype('category')\n",
    "    df_test[var] = df_test[var].astype('category')"
   ]
  },
  {
   "cell_type": "code",
   "execution_count": 7,
   "metadata": {
    "ExecuteTime": {
     "end_time": "2020-11-24T08:49:26.904652Z",
     "start_time": "2020-11-24T08:48:13.868665Z"
    }
   },
   "outputs": [],
   "source": [
    "# One-Hot Encoding 처리된 변수들의 데이터 타입 변경\n",
    "df_train[df_train.columns[21:]] = df_train.iloc[:, 21:].astype('uint8')\n",
    "df_test[df_test.columns[20:]] = df_test.iloc[:, 20:].astype('uint8')"
   ]
  },
  {
   "cell_type": "code",
   "execution_count": 8,
   "metadata": {
    "ExecuteTime": {
     "end_time": "2020-11-24T08:49:27.248566Z",
     "start_time": "2020-11-24T08:49:26.909570Z"
    }
   },
   "outputs": [
    {
     "name": "stdout",
     "output_type": "stream",
     "text": [
      "<class 'pandas.core.frame.DataFrame'>\n",
      "RangeIndex: 1460000 entries, 0 to 1459999\n",
      "Columns: 120 entries, date to season_winter\n",
      "dtypes: category(2), float32(16), int32(2), object(1), uint8(99)\n",
      "memory usage: 252.0+ MB\n"
     ]
    }
   ],
   "source": [
    "df_train.info()"
   ]
  },
  {
   "cell_type": "code",
   "execution_count": 9,
   "metadata": {
    "ExecuteTime": {
     "end_time": "2020-11-24T08:49:27.358155Z",
     "start_time": "2020-11-24T08:49:27.255101Z"
    }
   },
   "outputs": [
    {
     "name": "stdout",
     "output_type": "stream",
     "text": [
      "<class 'pandas.core.frame.DataFrame'>\n",
      "RangeIndex: 364000 entries, 0 to 363999\n",
      "Columns: 119 entries, date to season_winter\n",
      "dtypes: category(2), float32(15), int32(2), object(1), uint8(99)\n",
      "memory usage: 61.4+ MB\n"
     ]
    }
   ],
   "source": [
    "df_test.info()"
   ]
  },
  {
   "cell_type": "markdown",
   "metadata": {},
   "source": [
    "# Modeling"
   ]
  },
  {
   "cell_type": "markdown",
   "metadata": {},
   "source": [
    "## 평가 지표\n",
    "- 이번 분석에서는 RMSE를 평가 지표로 사용할 것이다.\n",
    "- 따라서 RMSE를 계산해주는 함수를 하나 만들도록 하겠다.\n",
    "\n",
    "<참고>\n",
    "- 이와 더불어 R2 score 또한 서브 평가 지표로써 사용하도록 하겠다."
   ]
  },
  {
   "cell_type": "code",
   "execution_count": 10,
   "metadata": {
    "ExecuteTime": {
     "end_time": "2020-11-24T08:49:27.370535Z",
     "start_time": "2020-11-24T08:49:27.363032Z"
    }
   },
   "outputs": [],
   "source": [
    "def rmse(y_true, y_pred):\n",
    "    mse = mean_squared_error(y_true, y_pred)\n",
    "    rmse = np.sqrt(mse)\n",
    "    return rmse"
   ]
  },
  {
   "cell_type": "markdown",
   "metadata": {},
   "source": [
    "## 변수 선택 및 데이터 분할"
   ]
  },
  {
   "cell_type": "markdown",
   "metadata": {},
   "source": [
    "### Feature dataset / Target dataset 생성\n",
    "- 먼저 train dataset과 test dataset에서 모델에 넣지 않을 불필요한 변수들은 제거해주겠다.\n",
    "    - train dataset\n",
    "        - 'date', 'line', 'station_name', 'boarding_num', 'log_boarding_num', 'day'\n",
    "    - test dataset\n",
    "        - 'date', 'line', 'station_name', 'boarding_num', 'day'\n",
    "        \n",
    "<참고>\n",
    "- 앞서 선형 모델에서는 다중공선성 문제로 인해 pop_over_50(50세 이상 인구 수) 변수를 제외했을 때의 예측 성능이 더 높게 나왔다.\n",
    "- 그러나 트기 기반 모델의 경우, pop_over_50(50세 이상 인구 수) 변수를 제외했을 때의 예측 성능이 더 낮게 나왔다.\n",
    "    - 이러한 결과가 나온 이유는 트리 기반 모델의 경우, 다중공선성 문제로 인한 영향을 크게 받지 않기 때문이다.\n",
    "    - 따라서 pop_over_50(50세 이상 인구 수) 변수를 모델에 포함시키겠다."
   ]
  },
  {
   "cell_type": "code",
   "execution_count": 11,
   "metadata": {
    "ExecuteTime": {
     "end_time": "2020-11-24T08:49:27.396211Z",
     "start_time": "2020-11-24T08:49:27.375630Z"
    },
    "scrolled": true
   },
   "outputs": [
    {
     "data": {
      "text/plain": [
       "['date',\n",
       " 'line',\n",
       " 'station_name',\n",
       " 'boarding_num',\n",
       " 'platform_area',\n",
       " 'length',\n",
       " 'transfer_num',\n",
       " 'entrance',\n",
       " 'msi_cnt',\n",
       " 'hsi_cnt',\n",
       " 'uvi_cnt',\n",
       " 'hpi_cnt',\n",
       " 'mti_cnt',\n",
       " 'temp',\n",
       " 'windspeed',\n",
       " 'rain',\n",
       " 'pop_below_20',\n",
       " 'day',\n",
       " 'pop_20_30_40',\n",
       " 'pop_over_50',\n",
       " 'log_boarding_num',\n",
       " 'boarding_승차',\n",
       " 'boarding_하차',\n",
       " 'gu_강남구',\n",
       " 'gu_강동구',\n",
       " 'gu_강북구',\n",
       " 'gu_강서구',\n",
       " 'gu_관악구',\n",
       " 'gu_광진구',\n",
       " 'gu_구로구',\n",
       " 'gu_금천구',\n",
       " 'gu_노원구',\n",
       " 'gu_도봉구',\n",
       " 'gu_동대문구',\n",
       " 'gu_동작구',\n",
       " 'gu_마포구',\n",
       " 'gu_서대문구',\n",
       " 'gu_서초구',\n",
       " 'gu_성동구',\n",
       " 'gu_성북구',\n",
       " 'gu_송파구',\n",
       " 'gu_양천구',\n",
       " 'gu_영등포구',\n",
       " 'gu_용산구',\n",
       " 'gu_은평구',\n",
       " 'gu_종로구',\n",
       " 'gu_중구',\n",
       " 'gu_중랑구',\n",
       " 'type_복합식',\n",
       " 'type_상대식',\n",
       " 'type_섬식',\n",
       " 'floor_1F',\n",
       " 'floor_1FB2',\n",
       " 'floor_1FB3',\n",
       " 'floor_1FB5',\n",
       " 'floor_2F',\n",
       " 'floor_2FB2',\n",
       " 'floor_2FB3',\n",
       " 'floor_3F',\n",
       " 'floor_4F',\n",
       " 'floor_5FB2',\n",
       " 'floor_B1',\n",
       " 'floor_B2',\n",
       " 'floor_B3',\n",
       " 'floor_B4',\n",
       " 'floor_B5',\n",
       " 'floor_B6',\n",
       " 'floor_B8',\n",
       " 'year_2018',\n",
       " 'year_2019',\n",
       " 'year_2020',\n",
       " 'month_1',\n",
       " 'month_2',\n",
       " 'month_3',\n",
       " 'month_4',\n",
       " 'month_5',\n",
       " 'month_6',\n",
       " 'month_7',\n",
       " 'month_8',\n",
       " 'month_9',\n",
       " 'month_10',\n",
       " 'month_11',\n",
       " 'month_12',\n",
       " 'hour_0',\n",
       " 'hour_5',\n",
       " 'hour_6',\n",
       " 'hour_7',\n",
       " 'hour_8',\n",
       " 'hour_9',\n",
       " 'hour_10',\n",
       " 'hour_11',\n",
       " 'hour_12',\n",
       " 'hour_13',\n",
       " 'hour_14',\n",
       " 'hour_15',\n",
       " 'hour_16',\n",
       " 'hour_17',\n",
       " 'hour_18',\n",
       " 'hour_19',\n",
       " 'hour_20',\n",
       " 'hour_21',\n",
       " 'hour_22',\n",
       " 'hour_23',\n",
       " 'weekday_0',\n",
       " 'weekday_1',\n",
       " 'weekday_2',\n",
       " 'weekday_3',\n",
       " 'weekday_4',\n",
       " 'weekday_5',\n",
       " 'weekday_6',\n",
       " 'is_weekend_0',\n",
       " 'is_weekend_1',\n",
       " 'time_심야',\n",
       " 'time_오전',\n",
       " 'time_오후',\n",
       " 'time_저녁',\n",
       " 'season_autumn',\n",
       " 'season_spring',\n",
       " 'season_summer',\n",
       " 'season_winter']"
      ]
     },
     "execution_count": 11,
     "metadata": {},
     "output_type": "execute_result"
    }
   ],
   "source": [
    "df_train.columns.tolist()"
   ]
  },
  {
   "cell_type": "code",
   "execution_count": 12,
   "metadata": {
    "ExecuteTime": {
     "end_time": "2020-11-24T08:49:28.070744Z",
     "start_time": "2020-11-24T08:49:27.400784Z"
    }
   },
   "outputs": [
    {
     "name": "stdout",
     "output_type": "stream",
     "text": [
      "학습 데이터 셋: (1460000, 114) (1460000,) (1460000,)\n",
      "테스트 데이터 셋: (364000, 114) (364000,)\n"
     ]
    }
   ],
   "source": [
    "# columns for drop in train dataset\n",
    "drop_list1 = ['date', 'line', 'station_name', 'boarding_num', \n",
    "              'log_boarding_num', 'day']\n",
    "# columns for drop in test dataset\n",
    "drop_list2 = ['date', 'line', 'station_name', \n",
    "              'boarding_num', 'day']\n",
    "\n",
    "# 학습 데이터 셋\n",
    "X_features = df_train.drop(drop_list1, axis = 1, inplace = False)\n",
    "y_target = df_train['boarding_num'] # 로그 변환되지 않은 타겟 변수\n",
    "log_y_target = df_train['log_boarding_num'] # 로그 변환된 타겟 변수\n",
    "print('학습 데이터 셋:', X_features.shape, y_target.shape, log_y_target.shape)\n",
    "\n",
    "# 테스트 데이터 셋\n",
    "X_test = df_test.drop(drop_list2, axis = 1, inplace = False)\n",
    "y_test = df_test['boarding_num']\n",
    "print('테스트 데이터 셋:', X_test.shape, y_test.shape)"
   ]
  },
  {
   "cell_type": "markdown",
   "metadata": {},
   "source": [
    "### 학습 데이터 셋 분할\n",
    "- 전체 학습 데이터 셋을 다시 학습 데이터 셋과 검증 데이터 셋으로 분할해주겠다."
   ]
  },
  {
   "cell_type": "code",
   "execution_count": 13,
   "metadata": {
    "ExecuteTime": {
     "end_time": "2020-11-24T08:49:30.075676Z",
     "start_time": "2020-11-24T08:49:28.074745Z"
    }
   },
   "outputs": [
    {
     "name": "stdout",
     "output_type": "stream",
     "text": [
      "학습 및 검증 데이터 셋: (1168000, 114) (292000, 114) (1168000,) (292000,)\n"
     ]
    }
   ],
   "source": [
    "# 전체 학습 데이터 셋을 다시 학습 데이터 셋과 검증 데이터 셋으로 분할\n",
    "X_train, X_valid, y_train, y_valid = train_test_split(X_features, y_target, \n",
    "                                                      test_size = 0.2, random_state = 1021)\n",
    "print('학습 및 검증 데이터 셋:', X_train.shape, X_valid.shape, y_train.shape, y_valid.shape)"
   ]
  },
  {
   "cell_type": "markdown",
   "metadata": {},
   "source": [
    "## Baseline Model\n",
    "- 비선형 모델\n",
    "    1. 결정 트리\n",
    "    2. 랜덤포레스트\n",
    "    3. XGBoost\n",
    "    4. LightGBM"
   ]
  },
  {
   "cell_type": "code",
   "execution_count": 14,
   "metadata": {
    "ExecuteTime": {
     "end_time": "2020-11-24T08:49:30.094873Z",
     "start_time": "2020-11-24T08:49:30.080417Z"
    }
   },
   "outputs": [],
   "source": [
    "def baseline_nonlinear_model(model):\n",
    "    # 모델 학습\n",
    "    model.fit(X_train, y_train)\n",
    "    # 예측\n",
    "    y_train_pred = model.predict(X_train)\n",
    "    y_valid_pred = model.predict(X_valid)\n",
    "\n",
    "    # RMSE 및 R2 Score 계산\n",
    "    rmse_train = rmse(y_train, y_train_pred)\n",
    "    r2_score_train = r2_score(y_train, y_train_pred)\n",
    "    rmse_valid = rmse(y_valid, y_valid_pred)\n",
    "    r2_score_valid = r2_score(y_valid, y_valid_pred)\n",
    "\n",
    "    print('###', model.__class__.__name__, '###')\n",
    "    print('학습 데이터 셋에 대한 RMSE: ', np.round(rmse_train, 4))\n",
    "    print('학습 데이터 셋에 대한 R2 Score: ', np.round(r2_score_train, 4))\n",
    "    print('검증 데이터 셋에 대한 RMSE: ', np.round(rmse_valid, 4))\n",
    "    print('검증 데이터 셋에 대한 R2 Score: ', np.round(r2_score_valid, 4))\n",
    "    print('-' * 50)"
   ]
  },
  {
   "cell_type": "code",
   "execution_count": 15,
   "metadata": {
    "ExecuteTime": {
     "end_time": "2020-11-24T09:10:49.134395Z",
     "start_time": "2020-11-24T08:49:30.100840Z"
    },
    "scrolled": true
   },
   "outputs": [
    {
     "data": {
      "application/vnd.jupyter.widget-view+json": {
       "model_id": "efbda632d6bb4d508194928d9c98f7b2",
       "version_major": 2,
       "version_minor": 0
      },
      "text/plain": [
       "HBox(children=(FloatProgress(value=0.0, max=4.0), HTML(value='')))"
      ]
     },
     "metadata": {},
     "output_type": "display_data"
    },
    {
     "name": "stdout",
     "output_type": "stream",
     "text": [
      "### DecisionTreeRegressor ###\n",
      "학습 데이터 셋에 대한 RMSE:  0.0\n",
      "학습 데이터 셋에 대한 R2 Score:  1.0\n",
      "검증 데이터 셋에 대한 RMSE:  323.9199\n",
      "검증 데이터 셋에 대한 R2 Score:  0.9715\n",
      "--------------------------------------------------\n",
      "### RandomForestRegressor ###\n",
      "학습 데이터 셋에 대한 RMSE:  89.0781\n",
      "학습 데이터 셋에 대한 R2 Score:  0.9979\n",
      "검증 데이터 셋에 대한 RMSE:  237.9877\n",
      "검증 데이터 셋에 대한 R2 Score:  0.9846\n",
      "--------------------------------------------------\n",
      "### XGBRegressor ###\n",
      "학습 데이터 셋에 대한 RMSE:  463.4016\n",
      "학습 데이터 셋에 대한 R2 Score:  0.9419\n",
      "검증 데이터 셋에 대한 RMSE:  469.8031\n",
      "검증 데이터 셋에 대한 R2 Score:  0.9401\n",
      "--------------------------------------------------\n",
      "### LGBMRegressor ###\n",
      "학습 데이터 셋에 대한 RMSE:  618.7132\n",
      "학습 데이터 셋에 대한 R2 Score:  0.8964\n",
      "검증 데이터 셋에 대한 RMSE:  617.5951\n",
      "검증 데이터 셋에 대한 R2 Score:  0.8966\n",
      "--------------------------------------------------\n",
      "\n"
     ]
    }
   ],
   "source": [
    "dt = DecisionTreeRegressor(random_state = 1021)\n",
    "rf = RandomForestRegressor(n_jobs = -1, random_state = 1021)\n",
    "xgb = XGBRegressor(random_state = 1021)\n",
    "lgbm = LGBMRegressor(random_state = 1021)\n",
    "\n",
    "nonlinear_models = [dt, rf, xgb, lgbm]\n",
    "\n",
    "for model in tqdm(nonlinear_models):\n",
    "    baseline_nonlinear_model(model)"
   ]
  },
  {
   "cell_type": "markdown",
   "metadata": {},
   "source": [
    "- Baseline Model들의 결과를 살펴보면, 확실히 선형 모델보다 성능이 훨씬 더 뛰어남을 알 수 있다."
   ]
  },
  {
   "cell_type": "markdown",
   "metadata": {},
   "source": [
    "## 하이퍼 파라미터 튜닝\n",
    "- 베이스라인 모델들의 결과를 보면, 결정 트리와 랜덤포레스트 모델은 심하게 과대적합(overfitting)된 것을 알 수 있다.\n",
    "- 따라서 과대적합이 되지 않은 부스팅 계열 모델(즉, XGBoost와 LightGBM 모델)에 대하여 하이퍼 파라미터 튜닝을 진행해주도록 하겠다.\n",
    "    - 하이퍼 파라미터 튜닝 방법으로 BayesianOptimization(베이지안 최적화)을 사용하도록 하겠다."
   ]
  },
  {
   "cell_type": "markdown",
   "metadata": {},
   "source": [
    "### 하이퍼 파라미터 입력 범위 설정"
   ]
  },
  {
   "cell_type": "code",
   "execution_count": 16,
   "metadata": {
    "ExecuteTime": {
     "end_time": "2020-11-24T09:10:49.159446Z",
     "start_time": "2020-11-24T09:10:49.149390Z"
    }
   },
   "outputs": [],
   "source": [
    "# 1. XGBoost 모델 하이퍼 파라미터 입력 범위 설정\n",
    "xgb_bayes_params = {\n",
    "    'learning_rate': (0.01, 0.2),\n",
    "    'max_depth': (6, 12)\n",
    "}\n",
    "# 2. LightGBM 모델 하이퍼 파라미터 입력 범위 설정\n",
    "lgbm_bayes_params = {\n",
    "    'learning_rate': (0.01, 0.2),\n",
    "    'max_depth': (6, 12)\n",
    "}"
   ]
  },
  {
   "cell_type": "markdown",
   "metadata": {},
   "source": [
    "### 최댓값을 구할 함수 생성 (목적 함수)\n",
    "- Iteration을 수행할 때마다, 하이퍼 파라미터를 입력받아 학습하고 **\"-rmse\"** 값을 반환하는 함수를 생성해주겠다.\n",
    "    - 여기서 rmse 값을 음수로 반환하는 이유는 BayesianOptimization를 통해 가장 큰 target 값을 찾아줄 것이기 때문이다.\n",
    "        - BayesianOptimization에 minimize()가 따로 존재하지 않아서, maximize()를 사용하기 위해 위와 같은 처리를 해 준 것이다."
   ]
  },
  {
   "cell_type": "code",
   "execution_count": 17,
   "metadata": {
    "ExecuteTime": {
     "end_time": "2020-11-24T09:10:49.176414Z",
     "start_time": "2020-11-24T09:10:49.163391Z"
    }
   },
   "outputs": [],
   "source": [
    "# 1. XGBoost 모델의 최댓값을 구할 함수\n",
    "def xgb_eval(learning_rate, max_depth, output = 'score'):\n",
    "    params = {\n",
    "        # n_estimators 값은 100으로 고정\n",
    "        'n_estimators': 100,\n",
    "        # 호출 시, 실수형 값들이 들어오므로 정수형 하이퍼 파라미터는 정수형으로 변경해줘야 함\n",
    "        'learning_rate': learning_rate,\n",
    "        'max_depth': int(round(max_depth))\n",
    "    }\n",
    "    \n",
    "    xgb = XGBRegressor(**params, random_state = 1021)\n",
    "    \n",
    "    # Cross Validation\n",
    "    neg_mse_scores = cross_val_score(xgb, X_features, y_target,\n",
    "                                     scoring = 'neg_mean_squared_error',\n",
    "                                     cv = 3)\n",
    "    rmse_scores = np.sqrt(-1 * neg_mse_scores)\n",
    "    mean_rmse = np.mean(rmse_scores)\n",
    "    \n",
    "    return -mean_rmse # BayesianOptimization의 maximize()를 사용하기 위해, RMSE 값을 음수로 반환\n",
    "\n",
    "# 2. LightGBM 모델의 최댓값을 구할 함수\n",
    "def lgbm_eval(learning_rate, max_depth, output = 'score'):\n",
    "    params = {\n",
    "        # n_estimators 값은 100으로 고정\n",
    "        'n_estimators': 100,\n",
    "        # 호출 시, 실수형 값들이 들어오므로 정수형 하이퍼 파라미터는 정수형으로 변경해줘야 함\n",
    "        'learning_rate': learning_rate,\n",
    "        'max_depth': int(round(max_depth))\n",
    "    }\n",
    "    \n",
    "    lgbm = LGBMRegressor(**params, random_state = 1021)\n",
    "    \n",
    "    # Cross Validation\n",
    "    neg_mse_scores = cross_val_score(lgbm, X_features, y_target,\n",
    "                                     scoring = 'neg_mean_squared_error',\n",
    "                                     cv = 3)\n",
    "    rmse_scores = np.sqrt(-1 * neg_mse_scores)\n",
    "    mean_rmse = np.mean(rmse_scores)\n",
    "    \n",
    "    return -mean_rmse # BayesianOptimization의 maximize()를 사용하기 위해, RMSE 값을 음수로 반환"
   ]
  },
  {
   "cell_type": "markdown",
   "metadata": {},
   "source": [
    "### 베이지안 최적화\n",
    "#### 함수 반환 값이 최대가 되는 입력 값을 찾기\n",
    "- BayesianOptimization 객체 생성 후, 함수 반환 값이 최대가 되는 입력 값을 찾기 위해 iteration을 수행하겠다.\n",
    "    - 원래는 RMSE 값이 클수록 모델의 예측 성능이 좋지 않다는 것을 의미하므로, 최댓값이 아닌 최솟값을 찾아주어야 한다.\n",
    "    - 그런데 앞에서 최댓값을 구할 함수를 생성할 때, return 값을 **\"rmse\"**가 아닌 **\"-rmse\"**로 설정해주었기 때문에 최솟값이 아닌 최댓값을 찾아주는 것이 맞다.\n",
    "\n",
    "#### 최대 target 값을 갖는 parameter 값 추출\n",
    "- Iteration 결과 dictionary에서 최대 target 값을 갖는 index를 추출하고, 그때의 parameter 값을 추출하겠다."
   ]
  },
  {
   "cell_type": "code",
   "execution_count": 18,
   "metadata": {
    "ExecuteTime": {
     "end_time": "2020-11-24T09:10:49.194392Z",
     "start_time": "2020-11-24T09:10:49.179391Z"
    }
   },
   "outputs": [],
   "source": [
    "def Bayesian_Opt(model_eval, model_bayes_params):\n",
    "    # 베이지안 최적화\n",
    "    model_bayes = BayesianOptimization(f = model_eval, pbounds = model_bayes_params, random_state = 1021)\n",
    "    model_bayes.maximize(init_points = 5, n_iter = 25)\n",
    "    \n",
    "    print(model_bayes.res)\n",
    "    print('\\n')\n",
    "    \n",
    "    # dictionary에 있는 target 값을 모두 추출\n",
    "    target_list = []\n",
    "    for result in model_bayes.res:\n",
    "        target = result['target']\n",
    "        target_list.append(target)\n",
    "    print(target_list)\n",
    "    print('\\n')\n",
    "\n",
    "    # 가장 큰 target 값을 갖는 index를 추출\n",
    "    print('Maximum target index of Model:', np.argmax(np.array(target_list)))\n",
    "    print('\\n')\n",
    "    \n",
    "    # 가장 큰 target 값을 갖는 index 값을 기준으로 res에서 해당 parameter를 추출\n",
    "    max_dict = model_bayes.res[np.argmax(np.array(target_list))]\n",
    "    print(max_dict)\n",
    "    print('-' * 100)"
   ]
  },
  {
   "cell_type": "code",
   "execution_count": 19,
   "metadata": {
    "ExecuteTime": {
     "end_time": "2020-11-24T14:59:17.624371Z",
     "start_time": "2020-11-24T09:10:49.201392Z"
    },
    "scrolled": true
   },
   "outputs": [
    {
     "name": "stdout",
     "output_type": "stream",
     "text": [
      "|   iter    |  target   | learni... | max_depth |\n",
      "-------------------------------------------------\n",
      "| \u001b[0m 1       \u001b[0m | \u001b[0m-1.733e+0\u001b[0m | \u001b[0m 0.1431  \u001b[0m | \u001b[0m 11.23   \u001b[0m |\n",
      "| \u001b[95m 2       \u001b[0m | \u001b[95m-1.644e+0\u001b[0m | \u001b[95m 0.1465  \u001b[0m | \u001b[95m 7.336   \u001b[0m |\n",
      "| \u001b[0m 3       \u001b[0m | \u001b[0m-1.714e+0\u001b[0m | \u001b[0m 0.1762  \u001b[0m | \u001b[0m 7.155   \u001b[0m |\n",
      "| \u001b[0m 4       \u001b[0m | \u001b[0m-1.694e+0\u001b[0m | \u001b[0m 0.1504  \u001b[0m | \u001b[0m 8.572   \u001b[0m |\n",
      "| \u001b[0m 5       \u001b[0m | \u001b[0m-1.699e+0\u001b[0m | \u001b[0m 0.04045 \u001b[0m | \u001b[0m 10.27   \u001b[0m |\n",
      "| \u001b[0m 6       \u001b[0m | \u001b[0m-1.693e+0\u001b[0m | \u001b[0m 0.1139  \u001b[0m | \u001b[0m 8.845   \u001b[0m |\n",
      "| \u001b[0m 7       \u001b[0m | \u001b[0m-1.733e+0\u001b[0m | \u001b[0m 0.1433  \u001b[0m | \u001b[0m 9.599   \u001b[0m |\n",
      "| \u001b[0m 8       \u001b[0m | \u001b[0m-1.742e+0\u001b[0m | \u001b[0m 0.1984  \u001b[0m | \u001b[0m 11.99   \u001b[0m |\n",
      "| \u001b[0m 9       \u001b[0m | \u001b[0m-1.696e+0\u001b[0m | \u001b[0m 0.04637 \u001b[0m | \u001b[0m 9.314   \u001b[0m |\n",
      "| \u001b[0m 10      \u001b[0m | \u001b[0m-1.723e+0\u001b[0m | \u001b[0m 0.06001 \u001b[0m | \u001b[0m 11.82   \u001b[0m |\n",
      "| \u001b[0m 11      \u001b[0m | \u001b[0m-1.699e+0\u001b[0m | \u001b[0m 0.02909 \u001b[0m | \u001b[0m 11.15   \u001b[0m |\n",
      "| \u001b[0m 12      \u001b[0m | \u001b[0m-1.717e+0\u001b[0m | \u001b[0m 0.02991 \u001b[0m | \u001b[0m 11.58   \u001b[0m |\n",
      "| \u001b[0m 13      \u001b[0m | \u001b[0m-1.665e+0\u001b[0m | \u001b[0m 0.06315 \u001b[0m | \u001b[0m 8.143   \u001b[0m |\n",
      "| \u001b[0m 14      \u001b[0m | \u001b[0m-1.675e+0\u001b[0m | \u001b[0m 0.04944 \u001b[0m | \u001b[0m 7.514   \u001b[0m |\n",
      "| \u001b[0m 15      \u001b[0m | \u001b[0m-1.674e+0\u001b[0m | \u001b[0m 0.03323 \u001b[0m | \u001b[0m 8.969   \u001b[0m |\n",
      "| \u001b[0m 16      \u001b[0m | \u001b[0m-1.776e+0\u001b[0m | \u001b[0m 0.1719  \u001b[0m | \u001b[0m 8.35    \u001b[0m |\n",
      "| \u001b[0m 17      \u001b[0m | \u001b[0m-1.672e+0\u001b[0m | \u001b[0m 0.1157  \u001b[0m | \u001b[0m 7.388   \u001b[0m |\n",
      "| \u001b[0m 18      \u001b[0m | \u001b[0m-1.706e+0\u001b[0m | \u001b[0m 0.2     \u001b[0m | \u001b[0m 7.356   \u001b[0m |\n",
      "| \u001b[0m 19      \u001b[0m | \u001b[0m-1.686e+0\u001b[0m | \u001b[0m 0.1148  \u001b[0m | \u001b[0m 7.323   \u001b[0m |\n",
      "| \u001b[0m 20      \u001b[0m | \u001b[0m-1.673e+0\u001b[0m | \u001b[0m 0.1429  \u001b[0m | \u001b[0m 7.358   \u001b[0m |\n",
      "| \u001b[0m 21      \u001b[0m | \u001b[0m-1.735e+0\u001b[0m | \u001b[0m 0.1448  \u001b[0m | \u001b[0m 10.95   \u001b[0m |\n",
      "| \u001b[0m 22      \u001b[0m | \u001b[0m-1.699e+0\u001b[0m | \u001b[0m 0.1549  \u001b[0m | \u001b[0m 7.315   \u001b[0m |\n",
      "| \u001b[0m 23      \u001b[0m | \u001b[0m-1.694e+0\u001b[0m | \u001b[0m 0.1266  \u001b[0m | \u001b[0m 7.346   \u001b[0m |\n",
      "| \u001b[0m 24      \u001b[0m | \u001b[0m-1.675e+0\u001b[0m | \u001b[0m 0.05011 \u001b[0m | \u001b[0m 7.516   \u001b[0m |\n",
      "| \u001b[0m 25      \u001b[0m | \u001b[0m-1.713e+0\u001b[0m | \u001b[0m 0.152   \u001b[0m | \u001b[0m 8.575   \u001b[0m |\n",
      "| \u001b[0m 26      \u001b[0m | \u001b[0m-1.728e+0\u001b[0m | \u001b[0m 0.07924 \u001b[0m | \u001b[0m 10.71   \u001b[0m |\n",
      "| \u001b[0m 27      \u001b[0m | \u001b[0m-1.684e+0\u001b[0m | \u001b[0m 0.1456  \u001b[0m | \u001b[0m 7.343   \u001b[0m |\n",
      "| \u001b[0m 28      \u001b[0m | \u001b[0m-1.683e+0\u001b[0m | \u001b[0m 0.1425  \u001b[0m | \u001b[0m 7.332   \u001b[0m |\n",
      "| \u001b[0m 29      \u001b[0m | \u001b[0m-1.684e+0\u001b[0m | \u001b[0m 0.08994 \u001b[0m | \u001b[0m 7.999   \u001b[0m |\n",
      "| \u001b[0m 30      \u001b[0m | \u001b[0m-1.711e+0\u001b[0m | \u001b[0m 0.1496  \u001b[0m | \u001b[0m 7.335   \u001b[0m |\n",
      "=================================================\n",
      "[{'target': -1732.640021061072, 'params': {'learning_rate': 0.1430529315636889, 'max_depth': 11.231613539652736}}, {'target': -1644.2918008053155, 'params': {'learning_rate': 0.1465276941217276, 'max_depth': 7.335599582746329}}, {'target': -1713.5762157081033, 'params': {'learning_rate': 0.17616184183145736, 'max_depth': 7.155396393849081}}, {'target': -1693.779558151775, 'params': {'learning_rate': 0.1503564803414443, 'max_depth': 8.572275119683166}}, {'target': -1699.0809023629524, 'params': {'learning_rate': 0.04045280026829452, 'max_depth': 10.274214422845759}}, {'target': -1692.5329800625598, 'params': {'learning_rate': 0.1139102366265056, 'max_depth': 8.844722776859177}}, {'target': -1732.9797174858186, 'params': {'learning_rate': 0.14329850739869207, 'max_depth': 9.598782030596801}}, {'target': -1741.9277175256175, 'params': {'learning_rate': 0.19835136769277512, 'max_depth': 11.9872013456521}}, {'target': -1695.7606103654255, 'params': {'learning_rate': 0.04637321518772881, 'max_depth': 9.31439573889637}}, {'target': -1723.0486196570098, 'params': {'learning_rate': 0.060013460392239495, 'max_depth': 11.819253656807806}}, {'target': -1699.3158899037774, 'params': {'learning_rate': 0.02909061968956716, 'max_depth': 11.147706952924334}}, {'target': -1716.7762594410854, 'params': {'learning_rate': 0.02990571698411637, 'max_depth': 11.58198618617026}}, {'target': -1664.77888299014, 'params': {'learning_rate': 0.06315140600194968, 'max_depth': 8.143408798480555}}, {'target': -1675.364864554783, 'params': {'learning_rate': 0.04944249803321304, 'max_depth': 7.514336257090058}}, {'target': -1673.5093710955098, 'params': {'learning_rate': 0.03322971474805149, 'max_depth': 8.968886004673582}}, {'target': -1776.3888538872982, 'params': {'learning_rate': 0.17193933933649305, 'max_depth': 8.349694544057908}}, {'target': -1672.3421965818368, 'params': {'learning_rate': 0.11566266959474152, 'max_depth': 7.387852500600729}}, {'target': -1705.5053128345635, 'params': {'learning_rate': 0.2, 'max_depth': 7.35605506938363}}, {'target': -1686.0519418524054, 'params': {'learning_rate': 0.11483481096014414, 'max_depth': 7.323171872090021}}, {'target': -1672.958416790116, 'params': {'learning_rate': 0.1429204306956948, 'max_depth': 7.35836806424478}}, {'target': -1734.514972062341, 'params': {'learning_rate': 0.14475366621984026, 'max_depth': 10.947328688546232}}, {'target': -1698.836964743103, 'params': {'learning_rate': 0.15492437491192446, 'max_depth': 7.314824025028674}}, {'target': -1693.7182915574951, 'params': {'learning_rate': 0.1266031260424512, 'max_depth': 7.345510612038314}}, {'target': -1674.8281613260617, 'params': {'learning_rate': 0.05010536435800029, 'max_depth': 7.516395618092101}}, {'target': -1712.7191734640758, 'params': {'learning_rate': 0.1520093547843957, 'max_depth': 8.574588711204019}}, {'target': -1728.4102922517334, 'params': {'learning_rate': 0.07923518190785042, 'max_depth': 10.712207237356235}}, {'target': -1683.5287322169188, 'params': {'learning_rate': 0.14555781292813338, 'max_depth': 7.343293333958687}}, {'target': -1682.8855393690412, 'params': {'learning_rate': 0.14249069360206504, 'max_depth': 7.332042006172509}}, {'target': -1684.4922803083239, 'params': {'learning_rate': 0.08994021500387336, 'max_depth': 7.998914103854891}}, {'target': -1710.7614387382212, 'params': {'learning_rate': 0.14960367416913187, 'max_depth': 7.335158266266678}}]\n",
      "\n",
      "\n",
      "[-1732.640021061072, -1644.2918008053155, -1713.5762157081033, -1693.779558151775, -1699.0809023629524, -1692.5329800625598, -1732.9797174858186, -1741.9277175256175, -1695.7606103654255, -1723.0486196570098, -1699.3158899037774, -1716.7762594410854, -1664.77888299014, -1675.364864554783, -1673.5093710955098, -1776.3888538872982, -1672.3421965818368, -1705.5053128345635, -1686.0519418524054, -1672.958416790116, -1734.514972062341, -1698.836964743103, -1693.7182915574951, -1674.8281613260617, -1712.7191734640758, -1728.4102922517334, -1683.5287322169188, -1682.8855393690412, -1684.4922803083239, -1710.7614387382212]\n",
      "\n",
      "\n",
      "Maximum target index of Model: 1\n",
      "\n",
      "\n",
      "{'target': -1644.2918008053155, 'params': {'learning_rate': 0.1465276941217276, 'max_depth': 7.335599582746329}}\n",
      "----------------------------------------------------------------------------------------------------\n"
     ]
    }
   ],
   "source": [
    "# 1. XGBoost 모델 베이지안 최적화\n",
    "Bayesian_Opt(xgb_eval, xgb_bayes_params)"
   ]
  },
  {
   "cell_type": "code",
   "execution_count": 20,
   "metadata": {
    "ExecuteTime": {
     "end_time": "2020-11-24T15:10:59.543615Z",
     "start_time": "2020-11-24T14:59:17.632372Z"
    },
    "scrolled": true
   },
   "outputs": [
    {
     "name": "stdout",
     "output_type": "stream",
     "text": [
      "|   iter    |  target   | learni... | max_depth |\n",
      "-------------------------------------------------\n",
      "[LightGBM] [Warning] Accuracy may be bad since you didn't set num_leaves and 2^max_depth > num_leaves\n",
      "[LightGBM] [Warning] Accuracy may be bad since you didn't set num_leaves and 2^max_depth > num_leaves\n",
      "[LightGBM] [Warning] Accuracy may be bad since you didn't set num_leaves and 2^max_depth > num_leaves\n",
      "| \u001b[0m 1       \u001b[0m | \u001b[0m-1.649e+0\u001b[0m | \u001b[0m 0.1431  \u001b[0m | \u001b[0m 11.23   \u001b[0m |\n",
      "[LightGBM] [Warning] Accuracy may be bad since you didn't set num_leaves and 2^max_depth > num_leaves\n",
      "[LightGBM] [Warning] Accuracy may be bad since you didn't set num_leaves and 2^max_depth > num_leaves\n",
      "[LightGBM] [Warning] Accuracy may be bad since you didn't set num_leaves and 2^max_depth > num_leaves\n",
      "| \u001b[95m 2       \u001b[0m | \u001b[95m-1.642e+0\u001b[0m | \u001b[95m 0.1465  \u001b[0m | \u001b[95m 7.336   \u001b[0m |\n",
      "[LightGBM] [Warning] Accuracy may be bad since you didn't set num_leaves and 2^max_depth > num_leaves\n",
      "[LightGBM] [Warning] Accuracy may be bad since you didn't set num_leaves and 2^max_depth > num_leaves\n",
      "[LightGBM] [Warning] Accuracy may be bad since you didn't set num_leaves and 2^max_depth > num_leaves\n",
      "| \u001b[95m 3       \u001b[0m | \u001b[95m-1.637e+0\u001b[0m | \u001b[95m 0.1762  \u001b[0m | \u001b[95m 7.155   \u001b[0m |\n",
      "[LightGBM] [Warning] Accuracy may be bad since you didn't set num_leaves and 2^max_depth > num_leaves\n",
      "[LightGBM] [Warning] Accuracy may be bad since you didn't set num_leaves and 2^max_depth > num_leaves\n",
      "[LightGBM] [Warning] Accuracy may be bad since you didn't set num_leaves and 2^max_depth > num_leaves\n",
      "| \u001b[0m 4       \u001b[0m | \u001b[0m-1.672e+0\u001b[0m | \u001b[0m 0.1504  \u001b[0m | \u001b[0m 8.572   \u001b[0m |\n",
      "[LightGBM] [Warning] Accuracy may be bad since you didn't set num_leaves and 2^max_depth > num_leaves\n",
      "[LightGBM] [Warning] Accuracy may be bad since you didn't set num_leaves and 2^max_depth > num_leaves\n",
      "[LightGBM] [Warning] Accuracy may be bad since you didn't set num_leaves and 2^max_depth > num_leaves\n",
      "| \u001b[95m 5       \u001b[0m | \u001b[95m-1.635e+0\u001b[0m | \u001b[95m 0.04045 \u001b[0m | \u001b[95m 10.27   \u001b[0m |\n",
      "[LightGBM] [Warning] Accuracy may be bad since you didn't set num_leaves and 2^max_depth > num_leaves\n",
      "[LightGBM] [Warning] Accuracy may be bad since you didn't set num_leaves and 2^max_depth > num_leaves\n",
      "[LightGBM] [Warning] Accuracy may be bad since you didn't set num_leaves and 2^max_depth > num_leaves\n",
      "| \u001b[95m 6       \u001b[0m | \u001b[95m-1.606e+0\u001b[0m | \u001b[95m 0.2     \u001b[0m | \u001b[95m 6.371   \u001b[0m |\n",
      "[LightGBM] [Warning] Accuracy may be bad since you didn't set num_leaves and 2^max_depth > num_leaves\n",
      "[LightGBM] [Warning] Accuracy may be bad since you didn't set num_leaves and 2^max_depth > num_leaves\n",
      "[LightGBM] [Warning] Accuracy may be bad since you didn't set num_leaves and 2^max_depth > num_leaves\n",
      "| \u001b[0m 7       \u001b[0m | \u001b[0m-1.723e+0\u001b[0m | \u001b[0m 0.01    \u001b[0m | \u001b[0m 6.0     \u001b[0m |\n",
      "[LightGBM] [Warning] Accuracy may be bad since you didn't set num_leaves and 2^max_depth > num_leaves\n",
      "[LightGBM] [Warning] Accuracy may be bad since you didn't set num_leaves and 2^max_depth > num_leaves\n",
      "[LightGBM] [Warning] Accuracy may be bad since you didn't set num_leaves and 2^max_depth > num_leaves\n",
      "| \u001b[0m 8       \u001b[0m | \u001b[0m-1.624e+0\u001b[0m | \u001b[0m 0.1778  \u001b[0m | \u001b[0m 6.498   \u001b[0m |\n",
      "[LightGBM] [Warning] Accuracy may be bad since you didn't set num_leaves and 2^max_depth > num_leaves\n",
      "[LightGBM] [Warning] Accuracy may be bad since you didn't set num_leaves and 2^max_depth > num_leaves\n",
      "[LightGBM] [Warning] Accuracy may be bad since you didn't set num_leaves and 2^max_depth > num_leaves\n",
      "| \u001b[0m 9       \u001b[0m | \u001b[0m-1.668e+0\u001b[0m | \u001b[0m 0.01727 \u001b[0m | \u001b[0m 6.391   \u001b[0m |\n",
      "[LightGBM] [Warning] Accuracy may be bad since you didn't set num_leaves and 2^max_depth > num_leaves\n",
      "[LightGBM] [Warning] Accuracy may be bad since you didn't set num_leaves and 2^max_depth > num_leaves\n",
      "[LightGBM] [Warning] Accuracy may be bad since you didn't set num_leaves and 2^max_depth > num_leaves\n",
      "| \u001b[0m 10      \u001b[0m | \u001b[0m-1.606e+0\u001b[0m | \u001b[0m 0.2     \u001b[0m | \u001b[0m 6.251   \u001b[0m |\n",
      "[LightGBM] [Warning] Accuracy may be bad since you didn't set num_leaves and 2^max_depth > num_leaves\n",
      "[LightGBM] [Warning] Accuracy may be bad since you didn't set num_leaves and 2^max_depth > num_leaves\n",
      "[LightGBM] [Warning] Accuracy may be bad since you didn't set num_leaves and 2^max_depth > num_leaves\n",
      "| \u001b[0m 11      \u001b[0m | \u001b[0m-1.637e+0\u001b[0m | \u001b[0m 0.02909 \u001b[0m | \u001b[0m 11.15   \u001b[0m |\n",
      "[LightGBM] [Warning] Accuracy may be bad since you didn't set num_leaves and 2^max_depth > num_leaves\n",
      "[LightGBM] [Warning] Accuracy may be bad since you didn't set num_leaves and 2^max_depth > num_leaves\n",
      "[LightGBM] [Warning] Accuracy may be bad since you didn't set num_leaves and 2^max_depth > num_leaves\n",
      "| \u001b[0m 12      \u001b[0m | \u001b[0m-1.636e+0\u001b[0m | \u001b[0m 0.02991 \u001b[0m | \u001b[0m 11.58   \u001b[0m |\n",
      "[LightGBM] [Warning] Accuracy may be bad since you didn't set num_leaves and 2^max_depth > num_leaves\n",
      "[LightGBM] [Warning] Accuracy may be bad since you didn't set num_leaves and 2^max_depth > num_leaves\n",
      "[LightGBM] [Warning] Accuracy may be bad since you didn't set num_leaves and 2^max_depth > num_leaves\n",
      "| \u001b[0m 13      \u001b[0m | \u001b[0m-1.671e+0\u001b[0m | \u001b[0m 0.186   \u001b[0m | \u001b[0m 6.361   \u001b[0m |\n",
      "[LightGBM] [Warning] Accuracy may be bad since you didn't set num_leaves and 2^max_depth > num_leaves\n",
      "[LightGBM] [Warning] Accuracy may be bad since you didn't set num_leaves and 2^max_depth > num_leaves\n",
      "[LightGBM] [Warning] Accuracy may be bad since you didn't set num_leaves and 2^max_depth > num_leaves\n",
      "| \u001b[0m 14      \u001b[0m | \u001b[0m-1.626e+0\u001b[0m | \u001b[0m 0.04944 \u001b[0m | \u001b[0m 7.514   \u001b[0m |\n",
      "[LightGBM] [Warning] Accuracy may be bad since you didn't set num_leaves and 2^max_depth > num_leaves\n",
      "[LightGBM] [Warning] Accuracy may be bad since you didn't set num_leaves and 2^max_depth > num_leaves\n",
      "[LightGBM] [Warning] Accuracy may be bad since you didn't set num_leaves and 2^max_depth > num_leaves\n",
      "| \u001b[0m 15      \u001b[0m | \u001b[0m-1.628e+0\u001b[0m | \u001b[0m 0.03323 \u001b[0m | \u001b[0m 8.969   \u001b[0m |\n",
      "[LightGBM] [Warning] Accuracy may be bad since you didn't set num_leaves and 2^max_depth > num_leaves\n",
      "[LightGBM] [Warning] Accuracy may be bad since you didn't set num_leaves and 2^max_depth > num_leaves\n",
      "[LightGBM] [Warning] Accuracy may be bad since you didn't set num_leaves and 2^max_depth > num_leaves\n",
      "| \u001b[0m 16      \u001b[0m | \u001b[0m-1.632e+0\u001b[0m | \u001b[0m 0.1719  \u001b[0m | \u001b[0m 8.35    \u001b[0m |\n",
      "[LightGBM] [Warning] Accuracy may be bad since you didn't set num_leaves and 2^max_depth > num_leaves\n",
      "[LightGBM] [Warning] Accuracy may be bad since you didn't set num_leaves and 2^max_depth > num_leaves\n",
      "[LightGBM] [Warning] Accuracy may be bad since you didn't set num_leaves and 2^max_depth > num_leaves\n",
      "| \u001b[0m 17      \u001b[0m | \u001b[0m-1.69e+03\u001b[0m | \u001b[0m 0.1995  \u001b[0m | \u001b[0m 10.06   \u001b[0m |\n",
      "[LightGBM] [Warning] Accuracy may be bad since you didn't set num_leaves and 2^max_depth > num_leaves\n",
      "[LightGBM] [Warning] Accuracy may be bad since you didn't set num_leaves and 2^max_depth > num_leaves\n",
      "[LightGBM] [Warning] Accuracy may be bad since you didn't set num_leaves and 2^max_depth > num_leaves\n",
      "| \u001b[0m 18      \u001b[0m | \u001b[0m-1.634e+0\u001b[0m | \u001b[0m 0.02852 \u001b[0m | \u001b[0m 9.958   \u001b[0m |\n",
      "[LightGBM] [Warning] Accuracy may be bad since you didn't set num_leaves and 2^max_depth > num_leaves\n",
      "[LightGBM] [Warning] Accuracy may be bad since you didn't set num_leaves and 2^max_depth > num_leaves\n",
      "[LightGBM] [Warning] Accuracy may be bad since you didn't set num_leaves and 2^max_depth > num_leaves\n",
      "| \u001b[0m 19      \u001b[0m | \u001b[0m-1.674e+0\u001b[0m | \u001b[0m 0.09955 \u001b[0m | \u001b[0m 8.484   \u001b[0m |\n",
      "[LightGBM] [Warning] Accuracy may be bad since you didn't set num_leaves and 2^max_depth > num_leaves\n",
      "[LightGBM] [Warning] Accuracy may be bad since you didn't set num_leaves and 2^max_depth > num_leaves\n",
      "[LightGBM] [Warning] Accuracy may be bad since you didn't set num_leaves and 2^max_depth > num_leaves\n",
      "| \u001b[0m 20      \u001b[0m | \u001b[0m-1.703e+0\u001b[0m | \u001b[0m 0.1805  \u001b[0m | \u001b[0m 6.833   \u001b[0m |\n",
      "[LightGBM] [Warning] Accuracy may be bad since you didn't set num_leaves and 2^max_depth > num_leaves\n",
      "[LightGBM] [Warning] Accuracy may be bad since you didn't set num_leaves and 2^max_depth > num_leaves\n",
      "[LightGBM] [Warning] Accuracy may be bad since you didn't set num_leaves and 2^max_depth > num_leaves\n",
      "| \u001b[0m 21      \u001b[0m | \u001b[0m-1.669e+0\u001b[0m | \u001b[0m 0.1448  \u001b[0m | \u001b[0m 10.95   \u001b[0m |\n"
     ]
    },
    {
     "name": "stdout",
     "output_type": "stream",
     "text": [
      "[LightGBM] [Warning] Accuracy may be bad since you didn't set num_leaves and 2^max_depth > num_leaves\n",
      "[LightGBM] [Warning] Accuracy may be bad since you didn't set num_leaves and 2^max_depth > num_leaves\n",
      "[LightGBM] [Warning] Accuracy may be bad since you didn't set num_leaves and 2^max_depth > num_leaves\n",
      "| \u001b[0m 22      \u001b[0m | \u001b[0m-1.65e+03\u001b[0m | \u001b[0m 0.1067  \u001b[0m | \u001b[0m 7.146   \u001b[0m |\n",
      "[LightGBM] [Warning] Accuracy may be bad since you didn't set num_leaves and 2^max_depth > num_leaves\n",
      "[LightGBM] [Warning] Accuracy may be bad since you didn't set num_leaves and 2^max_depth > num_leaves\n",
      "[LightGBM] [Warning] Accuracy may be bad since you didn't set num_leaves and 2^max_depth > num_leaves\n",
      "| \u001b[0m 23      \u001b[0m | \u001b[0m-1.635e+0\u001b[0m | \u001b[0m 0.1406  \u001b[0m | \u001b[0m 7.495   \u001b[0m |\n",
      "[LightGBM] [Warning] Accuracy may be bad since you didn't set num_leaves and 2^max_depth > num_leaves\n",
      "[LightGBM] [Warning] Accuracy may be bad since you didn't set num_leaves and 2^max_depth > num_leaves\n",
      "[LightGBM] [Warning] Accuracy may be bad since you didn't set num_leaves and 2^max_depth > num_leaves\n",
      "| \u001b[0m 24      \u001b[0m | \u001b[0m-1.634e+0\u001b[0m | \u001b[0m 0.03638 \u001b[0m | \u001b[0m 10.18   \u001b[0m |\n",
      "[LightGBM] [Warning] Accuracy may be bad since you didn't set num_leaves and 2^max_depth > num_leaves\n",
      "[LightGBM] [Warning] Accuracy may be bad since you didn't set num_leaves and 2^max_depth > num_leaves\n",
      "[LightGBM] [Warning] Accuracy may be bad since you didn't set num_leaves and 2^max_depth > num_leaves\n",
      "| \u001b[0m 25      \u001b[0m | \u001b[0m-1.667e+0\u001b[0m | \u001b[0m 0.1741  \u001b[0m | \u001b[0m 8.671   \u001b[0m |\n",
      "[LightGBM] [Warning] Accuracy may be bad since you didn't set num_leaves and 2^max_depth > num_leaves\n",
      "[LightGBM] [Warning] Accuracy may be bad since you didn't set num_leaves and 2^max_depth > num_leaves\n",
      "[LightGBM] [Warning] Accuracy may be bad since you didn't set num_leaves and 2^max_depth > num_leaves\n",
      "| \u001b[0m 26      \u001b[0m | \u001b[0m-1.65e+03\u001b[0m | \u001b[0m 0.07924 \u001b[0m | \u001b[0m 10.71   \u001b[0m |\n",
      "[LightGBM] [Warning] Accuracy may be bad since you didn't set num_leaves and 2^max_depth > num_leaves\n",
      "[LightGBM] [Warning] Accuracy may be bad since you didn't set num_leaves and 2^max_depth > num_leaves\n",
      "[LightGBM] [Warning] Accuracy may be bad since you didn't set num_leaves and 2^max_depth > num_leaves\n",
      "| \u001b[0m 27      \u001b[0m | \u001b[0m-1.662e+0\u001b[0m | \u001b[0m 0.1267  \u001b[0m | \u001b[0m 10.11   \u001b[0m |\n",
      "[LightGBM] [Warning] Accuracy may be bad since you didn't set num_leaves and 2^max_depth > num_leaves\n",
      "[LightGBM] [Warning] Accuracy may be bad since you didn't set num_leaves and 2^max_depth > num_leaves\n",
      "[LightGBM] [Warning] Accuracy may be bad since you didn't set num_leaves and 2^max_depth > num_leaves\n",
      "| \u001b[0m 28      \u001b[0m | \u001b[0m-1.664e+0\u001b[0m | \u001b[0m 0.09677 \u001b[0m | \u001b[0m 10.99   \u001b[0m |\n",
      "[LightGBM] [Warning] Accuracy may be bad since you didn't set num_leaves and 2^max_depth > num_leaves\n",
      "[LightGBM] [Warning] Accuracy may be bad since you didn't set num_leaves and 2^max_depth > num_leaves\n",
      "[LightGBM] [Warning] Accuracy may be bad since you didn't set num_leaves and 2^max_depth > num_leaves\n",
      "| \u001b[0m 29      \u001b[0m | \u001b[0m-1.663e+0\u001b[0m | \u001b[0m 0.08994 \u001b[0m | \u001b[0m 7.999   \u001b[0m |\n",
      "[LightGBM] [Warning] Accuracy may be bad since you didn't set num_leaves and 2^max_depth > num_leaves\n",
      "[LightGBM] [Warning] Accuracy may be bad since you didn't set num_leaves and 2^max_depth > num_leaves\n",
      "[LightGBM] [Warning] Accuracy may be bad since you didn't set num_leaves and 2^max_depth > num_leaves\n",
      "| \u001b[0m 30      \u001b[0m | \u001b[0m-1.683e+0\u001b[0m | \u001b[0m 0.1298  \u001b[0m | \u001b[0m 11.96   \u001b[0m |\n",
      "=================================================\n",
      "[{'target': -1648.8053055575735, 'params': {'learning_rate': 0.1430529315636889, 'max_depth': 11.231613539652736}}, {'target': -1642.2886865058679, 'params': {'learning_rate': 0.1465276941217276, 'max_depth': 7.335599582746329}}, {'target': -1636.6445823598797, 'params': {'learning_rate': 0.17616184183145736, 'max_depth': 7.155396393849081}}, {'target': -1672.2326387497262, 'params': {'learning_rate': 0.1503564803414443, 'max_depth': 8.572275119683166}}, {'target': -1634.90571522167, 'params': {'learning_rate': 0.04045280026829452, 'max_depth': 10.274214422845759}}, {'target': -1605.60071266408, 'params': {'learning_rate': 0.2, 'max_depth': 6.37058244931622}}, {'target': -1722.764429653661, 'params': {'learning_rate': 0.01, 'max_depth': 6.0}}, {'target': -1623.5306037406501, 'params': {'learning_rate': 0.17782782596269256, 'max_depth': 6.4979961662774475}}, {'target': -1667.9328809936635, 'params': {'learning_rate': 0.01727312269687414, 'max_depth': 6.3910020755961465}}, {'target': -1605.60071266408, 'params': {'learning_rate': 0.2, 'max_depth': 6.25127870240012}}, {'target': -1637.230679329893, 'params': {'learning_rate': 0.02909061968956716, 'max_depth': 11.147706952924334}}, {'target': -1635.6362555506978, 'params': {'learning_rate': 0.02990571698411637, 'max_depth': 11.58198618617026}}, {'target': -1671.1168716782352, 'params': {'learning_rate': 0.18595769118013028, 'max_depth': 6.361187832094565}}, {'target': -1626.14324925429, 'params': {'learning_rate': 0.04944249803321304, 'max_depth': 7.514336257090058}}, {'target': -1628.3243015417304, 'params': {'learning_rate': 0.03322971474805149, 'max_depth': 8.968886004673582}}, {'target': -1631.7788288515949, 'params': {'learning_rate': 0.17193933933649305, 'max_depth': 8.349694544057908}}, {'target': -1689.812631486, 'params': {'learning_rate': 0.19950490548868433, 'max_depth': 10.063886924936494}}, {'target': -1633.6736590521443, 'params': {'learning_rate': 0.028516837699888636, 'max_depth': 9.958109393233443}}, {'target': -1674.1586605878347, 'params': {'learning_rate': 0.09954670805520092, 'max_depth': 8.483564386323149}}, {'target': -1702.997109869085, 'params': {'learning_rate': 0.18052555592947017, 'max_depth': 6.832976662663532}}, {'target': -1668.9940115154052, 'params': {'learning_rate': 0.14475366621984026, 'max_depth': 10.947328688546232}}, {'target': -1649.8186077951557, 'params': {'learning_rate': 0.10666730523451123, 'max_depth': 7.14618239789857}}, {'target': -1634.6987440922032, 'params': {'learning_rate': 0.14062123826745665, 'max_depth': 7.494642239469517}}, {'target': -1634.0883482454417, 'params': {'learning_rate': 0.036381758483664296, 'max_depth': 10.182718848985793}}, {'target': -1667.211469602422, 'params': {'learning_rate': 0.17410650674215847, 'max_depth': 8.67069233001305}}, {'target': -1650.2080224762303, 'params': {'learning_rate': 0.07923518190785042, 'max_depth': 10.712207237356235}}, {'target': -1662.4277458323402, 'params': {'learning_rate': 0.12668213594551664, 'max_depth': 10.112444031906247}}, {'target': -1663.6515991778977, 'params': {'learning_rate': 0.09677411228095115, 'max_depth': 10.992201379239754}}, {'target': -1663.1978586811247, 'params': {'learning_rate': 0.08994021500387336, 'max_depth': 7.998914103854891}}, {'target': -1682.5562412765678, 'params': {'learning_rate': 0.12976607534159074, 'max_depth': 11.964272527054757}}]\n",
      "\n",
      "\n",
      "[-1648.8053055575735, -1642.2886865058679, -1636.6445823598797, -1672.2326387497262, -1634.90571522167, -1605.60071266408, -1722.764429653661, -1623.5306037406501, -1667.9328809936635, -1605.60071266408, -1637.230679329893, -1635.6362555506978, -1671.1168716782352, -1626.14324925429, -1628.3243015417304, -1631.7788288515949, -1689.812631486, -1633.6736590521443, -1674.1586605878347, -1702.997109869085, -1668.9940115154052, -1649.8186077951557, -1634.6987440922032, -1634.0883482454417, -1667.211469602422, -1650.2080224762303, -1662.4277458323402, -1663.6515991778977, -1663.1978586811247, -1682.5562412765678]\n",
      "\n",
      "\n",
      "Maximum target index of Model: 5\n",
      "\n",
      "\n",
      "{'target': -1605.60071266408, 'params': {'learning_rate': 0.2, 'max_depth': 6.37058244931622}}\n",
      "----------------------------------------------------------------------------------------------------\n"
     ]
    }
   ],
   "source": [
    "# 2. LightGBM 모델 베이지안 최적화\n",
    "Bayesian_Opt(lgbm_eval, lgbm_bayes_params)"
   ]
  },
  {
   "cell_type": "markdown",
   "metadata": {},
   "source": [
    "## Prediction\n",
    "- 최적 하이퍼 파라미터로 튜닝된 모델을 사용하여, 테스트 데이터 셋에 대한 최종 예측을 수행하겠다."
   ]
  },
  {
   "cell_type": "code",
   "execution_count": 21,
   "metadata": {
    "ExecuteTime": {
     "end_time": "2020-11-24T15:11:08.620820Z",
     "start_time": "2020-11-24T15:11:08.614818Z"
    }
   },
   "outputs": [],
   "source": [
    "def best_model_pred(best_model):\n",
    "    # 최종 예측 모델로 학습\n",
    "    best_model.fit(X_train, y_train)\n",
    "    \n",
    "    # 테스트 데이터 셋에 대한 예측\n",
    "    y_pred = best_model.predict(X_test)\n",
    "\n",
    "    # 승/하차 인원 수는 소수가 나올 수 없으므로 int로 변경\n",
    "    y_pred = y_pred.astype(int)\n",
    "    \n",
    "    # RMSE 및 R2 Score 계산\n",
    "    RMSE = rmse(y_test, y_pred)\n",
    "    R2_Score = r2_score(y_test, y_pred)\n",
    "\n",
    "    print('###', best_model.__class__.__name__, '###')\n",
    "    print('테스트 데이터 셋에 대한 RMSE: ', np.round(RMSE, 4))\n",
    "    print('테스트 데이터 셋에 대한 R2 Score: ', np.round(R2_Score, 4))\n",
    "    print('-' * 50)"
   ]
  },
  {
   "cell_type": "code",
   "execution_count": 22,
   "metadata": {
    "ExecuteTime": {
     "end_time": "2020-11-24T15:11:56.571763Z",
     "start_time": "2020-11-24T15:11:56.568759Z"
    }
   },
   "outputs": [],
   "source": [
    "# 1. The Best XGBoost Model\n",
    "xgb_bayes_opt = XGBRegressor(n_estimators = 100, learning_rate = 0.1465,\n",
    "                             max_depth = 7, random_state = 1021)\n",
    "# 2. The Best LigthGBM Model\n",
    "lgbm_bayes_opt = LGBMRegressor(n_estimators = 100, learning_rate = 0.2,\n",
    "                               max_depth = 6, random_state = 1021)"
   ]
  },
  {
   "cell_type": "code",
   "execution_count": 23,
   "metadata": {
    "ExecuteTime": {
     "end_time": "2020-11-24T15:16:03.566348Z",
     "start_time": "2020-11-24T15:11:59.622896Z"
    }
   },
   "outputs": [
    {
     "data": {
      "application/vnd.jupyter.widget-view+json": {
       "model_id": "be68ecdb412c422e99a5a149e390f509",
       "version_major": 2,
       "version_minor": 0
      },
      "text/plain": [
       "HBox(children=(FloatProgress(value=0.0, max=2.0), HTML(value='')))"
      ]
     },
     "metadata": {},
     "output_type": "display_data"
    },
    {
     "name": "stdout",
     "output_type": "stream",
     "text": [
      "### XGBRegressor ###\n",
      "테스트 데이터 셋에 대한 RMSE:  672.9618\n",
      "테스트 데이터 셋에 대한 R2 Score:  0.8184\n",
      "--------------------------------------------------\n",
      "[LightGBM] [Warning] Accuracy may be bad since you didn't set num_leaves and 2^max_depth > num_leaves\n",
      "### LGBMRegressor ###\n",
      "테스트 데이터 셋에 대한 RMSE:  704.5382\n",
      "테스트 데이터 셋에 대한 R2 Score:  0.8009\n",
      "--------------------------------------------------\n",
      "\n"
     ]
    }
   ],
   "source": [
    "best_models = [xgb_bayes_opt, lgbm_bayes_opt]\n",
    "\n",
    "for model in tqdm(best_models):\n",
    "    best_model_pred(model)"
   ]
  },
  {
   "cell_type": "markdown",
   "metadata": {},
   "source": [
    "- 이제 최종 예측된 값들을 테스트 데이터 셋에 새로운 컬럼으로 추가해주겠다."
   ]
  },
  {
   "cell_type": "code",
   "execution_count": 24,
   "metadata": {
    "ExecuteTime": {
     "end_time": "2020-11-24T15:18:17.804281Z",
     "start_time": "2020-11-24T15:18:15.535281Z"
    }
   },
   "outputs": [],
   "source": [
    "# 테스트 데이터 셋에 대한 예측\n",
    "xgb_pred = xgb_bayes_opt.predict(X_test)\n",
    "lgbm_pred = lgbm_bayes_opt.predict(X_test)\n",
    "\n",
    "# 승/하차 인원 수는 소수가 나올 수 없으므로 int로 변경\n",
    "xgb_pred = xgb_pred.astype(int)\n",
    "lgbm_pred = lgbm_pred.astype(int)\n",
    "\n",
    "# 모델별 최종 예측 값들을 새로운 컬럼으로 추가\n",
    "df_test['xgb_pred'] = xgb_pred\n",
    "df_test['lgbm_pred'] = lgbm_pred"
   ]
  },
  {
   "cell_type": "code",
   "execution_count": 25,
   "metadata": {
    "ExecuteTime": {
     "end_time": "2020-11-24T15:18:18.700626Z",
     "start_time": "2020-11-24T15:18:18.463135Z"
    }
   },
   "outputs": [
    {
     "data": {
      "text/html": [
       "<div>\n",
       "<style scoped>\n",
       "    .dataframe tbody tr th:only-of-type {\n",
       "        vertical-align: middle;\n",
       "    }\n",
       "\n",
       "    .dataframe tbody tr th {\n",
       "        vertical-align: top;\n",
       "    }\n",
       "\n",
       "    .dataframe thead th {\n",
       "        text-align: right;\n",
       "    }\n",
       "</style>\n",
       "<table border=\"1\" class=\"dataframe\">\n",
       "  <thead>\n",
       "    <tr style=\"text-align: right;\">\n",
       "      <th></th>\n",
       "      <th>date</th>\n",
       "      <th>line</th>\n",
       "      <th>station_name</th>\n",
       "      <th>boarding_num</th>\n",
       "      <th>platform_area</th>\n",
       "      <th>length</th>\n",
       "      <th>transfer_num</th>\n",
       "      <th>entrance</th>\n",
       "      <th>msi_cnt</th>\n",
       "      <th>hsi_cnt</th>\n",
       "      <th>...</th>\n",
       "      <th>time_심야</th>\n",
       "      <th>time_오전</th>\n",
       "      <th>time_오후</th>\n",
       "      <th>time_저녁</th>\n",
       "      <th>season_autumn</th>\n",
       "      <th>season_spring</th>\n",
       "      <th>season_summer</th>\n",
       "      <th>season_winter</th>\n",
       "      <th>xgb_pred</th>\n",
       "      <th>lgbm_pred</th>\n",
       "    </tr>\n",
       "  </thead>\n",
       "  <tbody>\n",
       "    <tr>\n",
       "      <th>0</th>\n",
       "      <td>2020-01-01</td>\n",
       "      <td>2호선</td>\n",
       "      <td>시청</td>\n",
       "      <td>0</td>\n",
       "      <td>3553.0</td>\n",
       "      <td>205.0</td>\n",
       "      <td>2.0</td>\n",
       "      <td>5.0</td>\n",
       "      <td>1.0</td>\n",
       "      <td>2.0</td>\n",
       "      <td>...</td>\n",
       "      <td>1</td>\n",
       "      <td>0</td>\n",
       "      <td>0</td>\n",
       "      <td>0</td>\n",
       "      <td>0</td>\n",
       "      <td>0</td>\n",
       "      <td>0</td>\n",
       "      <td>1</td>\n",
       "      <td>70</td>\n",
       "      <td>-2</td>\n",
       "    </tr>\n",
       "    <tr>\n",
       "      <th>3</th>\n",
       "      <td>2020-01-01</td>\n",
       "      <td>2호선</td>\n",
       "      <td>시청</td>\n",
       "      <td>32</td>\n",
       "      <td>3553.0</td>\n",
       "      <td>205.0</td>\n",
       "      <td>2.0</td>\n",
       "      <td>5.0</td>\n",
       "      <td>1.0</td>\n",
       "      <td>2.0</td>\n",
       "      <td>...</td>\n",
       "      <td>1</td>\n",
       "      <td>0</td>\n",
       "      <td>0</td>\n",
       "      <td>0</td>\n",
       "      <td>0</td>\n",
       "      <td>0</td>\n",
       "      <td>0</td>\n",
       "      <td>1</td>\n",
       "      <td>2</td>\n",
       "      <td>-29</td>\n",
       "    </tr>\n",
       "    <tr>\n",
       "      <th>40</th>\n",
       "      <td>2020-01-02</td>\n",
       "      <td>2호선</td>\n",
       "      <td>시청</td>\n",
       "      <td>78</td>\n",
       "      <td>3553.0</td>\n",
       "      <td>205.0</td>\n",
       "      <td>2.0</td>\n",
       "      <td>5.0</td>\n",
       "      <td>1.0</td>\n",
       "      <td>2.0</td>\n",
       "      <td>...</td>\n",
       "      <td>1</td>\n",
       "      <td>0</td>\n",
       "      <td>0</td>\n",
       "      <td>0</td>\n",
       "      <td>0</td>\n",
       "      <td>0</td>\n",
       "      <td>0</td>\n",
       "      <td>1</td>\n",
       "      <td>22</td>\n",
       "      <td>-35</td>\n",
       "    </tr>\n",
       "    <tr>\n",
       "      <th>43</th>\n",
       "      <td>2020-01-02</td>\n",
       "      <td>2호선</td>\n",
       "      <td>시청</td>\n",
       "      <td>64</td>\n",
       "      <td>3553.0</td>\n",
       "      <td>205.0</td>\n",
       "      <td>2.0</td>\n",
       "      <td>5.0</td>\n",
       "      <td>1.0</td>\n",
       "      <td>2.0</td>\n",
       "      <td>...</td>\n",
       "      <td>1</td>\n",
       "      <td>0</td>\n",
       "      <td>0</td>\n",
       "      <td>0</td>\n",
       "      <td>0</td>\n",
       "      <td>0</td>\n",
       "      <td>0</td>\n",
       "      <td>1</td>\n",
       "      <td>11</td>\n",
       "      <td>-15</td>\n",
       "    </tr>\n",
       "    <tr>\n",
       "      <th>120</th>\n",
       "      <td>2020-01-04</td>\n",
       "      <td>2호선</td>\n",
       "      <td>시청</td>\n",
       "      <td>3</td>\n",
       "      <td>3553.0</td>\n",
       "      <td>205.0</td>\n",
       "      <td>2.0</td>\n",
       "      <td>5.0</td>\n",
       "      <td>1.0</td>\n",
       "      <td>2.0</td>\n",
       "      <td>...</td>\n",
       "      <td>1</td>\n",
       "      <td>0</td>\n",
       "      <td>0</td>\n",
       "      <td>0</td>\n",
       "      <td>0</td>\n",
       "      <td>0</td>\n",
       "      <td>0</td>\n",
       "      <td>1</td>\n",
       "      <td>-18</td>\n",
       "      <td>-171</td>\n",
       "    </tr>\n",
       "    <tr>\n",
       "      <th>...</th>\n",
       "      <td>...</td>\n",
       "      <td>...</td>\n",
       "      <td>...</td>\n",
       "      <td>...</td>\n",
       "      <td>...</td>\n",
       "      <td>...</td>\n",
       "      <td>...</td>\n",
       "      <td>...</td>\n",
       "      <td>...</td>\n",
       "      <td>...</td>\n",
       "      <td>...</td>\n",
       "      <td>...</td>\n",
       "      <td>...</td>\n",
       "      <td>...</td>\n",
       "      <td>...</td>\n",
       "      <td>...</td>\n",
       "      <td>...</td>\n",
       "      <td>...</td>\n",
       "      <td>...</td>\n",
       "      <td>...</td>\n",
       "      <td>...</td>\n",
       "    </tr>\n",
       "    <tr>\n",
       "      <th>363972</th>\n",
       "      <td>2020-06-30</td>\n",
       "      <td>2호선</td>\n",
       "      <td>용두(동대문구청)</td>\n",
       "      <td>108</td>\n",
       "      <td>2910.0</td>\n",
       "      <td>90.0</td>\n",
       "      <td>0.0</td>\n",
       "      <td>5.0</td>\n",
       "      <td>2.0</td>\n",
       "      <td>0.0</td>\n",
       "      <td>...</td>\n",
       "      <td>0</td>\n",
       "      <td>1</td>\n",
       "      <td>0</td>\n",
       "      <td>0</td>\n",
       "      <td>0</td>\n",
       "      <td>0</td>\n",
       "      <td>1</td>\n",
       "      <td>0</td>\n",
       "      <td>-112</td>\n",
       "      <td>-12</td>\n",
       "    </tr>\n",
       "    <tr>\n",
       "      <th>363974</th>\n",
       "      <td>2020-06-30</td>\n",
       "      <td>2호선</td>\n",
       "      <td>용두(동대문구청)</td>\n",
       "      <td>110</td>\n",
       "      <td>2910.0</td>\n",
       "      <td>90.0</td>\n",
       "      <td>0.0</td>\n",
       "      <td>5.0</td>\n",
       "      <td>2.0</td>\n",
       "      <td>0.0</td>\n",
       "      <td>...</td>\n",
       "      <td>0</td>\n",
       "      <td>1</td>\n",
       "      <td>0</td>\n",
       "      <td>0</td>\n",
       "      <td>0</td>\n",
       "      <td>0</td>\n",
       "      <td>1</td>\n",
       "      <td>0</td>\n",
       "      <td>-38</td>\n",
       "      <td>-17</td>\n",
       "    </tr>\n",
       "    <tr>\n",
       "      <th>363977</th>\n",
       "      <td>2020-06-30</td>\n",
       "      <td>2호선</td>\n",
       "      <td>용두(동대문구청)</td>\n",
       "      <td>108</td>\n",
       "      <td>2910.0</td>\n",
       "      <td>90.0</td>\n",
       "      <td>0.0</td>\n",
       "      <td>5.0</td>\n",
       "      <td>2.0</td>\n",
       "      <td>0.0</td>\n",
       "      <td>...</td>\n",
       "      <td>0</td>\n",
       "      <td>0</td>\n",
       "      <td>1</td>\n",
       "      <td>0</td>\n",
       "      <td>0</td>\n",
       "      <td>0</td>\n",
       "      <td>1</td>\n",
       "      <td>0</td>\n",
       "      <td>48</td>\n",
       "      <td>-3</td>\n",
       "    </tr>\n",
       "    <tr>\n",
       "      <th>363995</th>\n",
       "      <td>2020-06-30</td>\n",
       "      <td>2호선</td>\n",
       "      <td>용두(동대문구청)</td>\n",
       "      <td>106</td>\n",
       "      <td>2910.0</td>\n",
       "      <td>90.0</td>\n",
       "      <td>0.0</td>\n",
       "      <td>5.0</td>\n",
       "      <td>2.0</td>\n",
       "      <td>0.0</td>\n",
       "      <td>...</td>\n",
       "      <td>0</td>\n",
       "      <td>0</td>\n",
       "      <td>0</td>\n",
       "      <td>1</td>\n",
       "      <td>0</td>\n",
       "      <td>0</td>\n",
       "      <td>1</td>\n",
       "      <td>0</td>\n",
       "      <td>39</td>\n",
       "      <td>-58</td>\n",
       "    </tr>\n",
       "    <tr>\n",
       "      <th>363998</th>\n",
       "      <td>2020-06-30</td>\n",
       "      <td>2호선</td>\n",
       "      <td>용두(동대문구청)</td>\n",
       "      <td>18</td>\n",
       "      <td>2910.0</td>\n",
       "      <td>90.0</td>\n",
       "      <td>0.0</td>\n",
       "      <td>5.0</td>\n",
       "      <td>2.0</td>\n",
       "      <td>0.0</td>\n",
       "      <td>...</td>\n",
       "      <td>1</td>\n",
       "      <td>0</td>\n",
       "      <td>0</td>\n",
       "      <td>0</td>\n",
       "      <td>0</td>\n",
       "      <td>0</td>\n",
       "      <td>1</td>\n",
       "      <td>0</td>\n",
       "      <td>23</td>\n",
       "      <td>-38</td>\n",
       "    </tr>\n",
       "  </tbody>\n",
       "</table>\n",
       "<p>19210 rows × 121 columns</p>\n",
       "</div>"
      ],
      "text/plain": [
       "              date line station_name  boarding_num  platform_area  length  \\\n",
       "0       2020-01-01  2호선           시청             0         3553.0   205.0   \n",
       "3       2020-01-01  2호선           시청            32         3553.0   205.0   \n",
       "40      2020-01-02  2호선           시청            78         3553.0   205.0   \n",
       "43      2020-01-02  2호선           시청            64         3553.0   205.0   \n",
       "120     2020-01-04  2호선           시청             3         3553.0   205.0   \n",
       "...            ...  ...          ...           ...            ...     ...   \n",
       "363972  2020-06-30  2호선    용두(동대문구청)           108         2910.0    90.0   \n",
       "363974  2020-06-30  2호선    용두(동대문구청)           110         2910.0    90.0   \n",
       "363977  2020-06-30  2호선    용두(동대문구청)           108         2910.0    90.0   \n",
       "363995  2020-06-30  2호선    용두(동대문구청)           106         2910.0    90.0   \n",
       "363998  2020-06-30  2호선    용두(동대문구청)            18         2910.0    90.0   \n",
       "\n",
       "        transfer_num  entrance  msi_cnt  hsi_cnt  ...  time_심야  time_오전  \\\n",
       "0                2.0       5.0      1.0      2.0  ...        1        0   \n",
       "3                2.0       5.0      1.0      2.0  ...        1        0   \n",
       "40               2.0       5.0      1.0      2.0  ...        1        0   \n",
       "43               2.0       5.0      1.0      2.0  ...        1        0   \n",
       "120              2.0       5.0      1.0      2.0  ...        1        0   \n",
       "...              ...       ...      ...      ...  ...      ...      ...   \n",
       "363972           0.0       5.0      2.0      0.0  ...        0        1   \n",
       "363974           0.0       5.0      2.0      0.0  ...        0        1   \n",
       "363977           0.0       5.0      2.0      0.0  ...        0        0   \n",
       "363995           0.0       5.0      2.0      0.0  ...        0        0   \n",
       "363998           0.0       5.0      2.0      0.0  ...        1        0   \n",
       "\n",
       "        time_오후  time_저녁  season_autumn  season_spring  season_summer  \\\n",
       "0             0        0              0              0              0   \n",
       "3             0        0              0              0              0   \n",
       "40            0        0              0              0              0   \n",
       "43            0        0              0              0              0   \n",
       "120           0        0              0              0              0   \n",
       "...         ...      ...            ...            ...            ...   \n",
       "363972        0        0              0              0              1   \n",
       "363974        0        0              0              0              1   \n",
       "363977        1        0              0              0              1   \n",
       "363995        0        1              0              0              1   \n",
       "363998        0        0              0              0              1   \n",
       "\n",
       "        season_winter  xgb_pred  lgbm_pred  \n",
       "0                   1        70         -2  \n",
       "3                   1         2        -29  \n",
       "40                  1        22        -35  \n",
       "43                  1        11        -15  \n",
       "120                 1       -18       -171  \n",
       "...               ...       ...        ...  \n",
       "363972              0      -112        -12  \n",
       "363974              0       -38        -17  \n",
       "363977              0        48         -3  \n",
       "363995              0        39        -58  \n",
       "363998              0        23        -38  \n",
       "\n",
       "[19210 rows x 121 columns]"
      ]
     },
     "execution_count": 25,
     "metadata": {},
     "output_type": "execute_result"
    }
   ],
   "source": [
    "# 음수로 예측된 값들이 존재하는지 확인\n",
    "df_test[(df_test['xgb_pred'] < 0) | (df_test['lgbm_pred'] < 0)]"
   ]
  },
  {
   "cell_type": "code",
   "execution_count": 26,
   "metadata": {
    "ExecuteTime": {
     "end_time": "2020-11-24T15:18:22.471278Z",
     "start_time": "2020-11-24T15:18:22.448349Z"
    }
   },
   "outputs": [
    {
     "data": {
      "text/html": [
       "<div>\n",
       "<style scoped>\n",
       "    .dataframe tbody tr th:only-of-type {\n",
       "        vertical-align: middle;\n",
       "    }\n",
       "\n",
       "    .dataframe tbody tr th {\n",
       "        vertical-align: top;\n",
       "    }\n",
       "\n",
       "    .dataframe thead th {\n",
       "        text-align: right;\n",
       "    }\n",
       "</style>\n",
       "<table border=\"1\" class=\"dataframe\">\n",
       "  <thead>\n",
       "    <tr style=\"text-align: right;\">\n",
       "      <th></th>\n",
       "      <th>boarding_num</th>\n",
       "      <th>xgb_pred</th>\n",
       "      <th>lgbm_pred</th>\n",
       "    </tr>\n",
       "  </thead>\n",
       "  <tbody>\n",
       "    <tr>\n",
       "      <th>0</th>\n",
       "      <td>0</td>\n",
       "      <td>70</td>\n",
       "      <td>-2</td>\n",
       "    </tr>\n",
       "    <tr>\n",
       "      <th>1</th>\n",
       "      <td>8</td>\n",
       "      <td>24</td>\n",
       "      <td>10</td>\n",
       "    </tr>\n",
       "    <tr>\n",
       "      <th>2</th>\n",
       "      <td>45</td>\n",
       "      <td>142</td>\n",
       "      <td>135</td>\n",
       "    </tr>\n",
       "    <tr>\n",
       "      <th>3</th>\n",
       "      <td>32</td>\n",
       "      <td>2</td>\n",
       "      <td>-29</td>\n",
       "    </tr>\n",
       "    <tr>\n",
       "      <th>4</th>\n",
       "      <td>73</td>\n",
       "      <td>344</td>\n",
       "      <td>291</td>\n",
       "    </tr>\n",
       "    <tr>\n",
       "      <th>...</th>\n",
       "      <td>...</td>\n",
       "      <td>...</td>\n",
       "      <td>...</td>\n",
       "    </tr>\n",
       "    <tr>\n",
       "      <th>363995</th>\n",
       "      <td>106</td>\n",
       "      <td>39</td>\n",
       "      <td>-58</td>\n",
       "    </tr>\n",
       "    <tr>\n",
       "      <th>363996</th>\n",
       "      <td>37</td>\n",
       "      <td>44</td>\n",
       "      <td>72</td>\n",
       "    </tr>\n",
       "    <tr>\n",
       "      <th>363997</th>\n",
       "      <td>70</td>\n",
       "      <td>106</td>\n",
       "      <td>136</td>\n",
       "    </tr>\n",
       "    <tr>\n",
       "      <th>363998</th>\n",
       "      <td>18</td>\n",
       "      <td>23</td>\n",
       "      <td>-38</td>\n",
       "    </tr>\n",
       "    <tr>\n",
       "      <th>363999</th>\n",
       "      <td>69</td>\n",
       "      <td>49</td>\n",
       "      <td>33</td>\n",
       "    </tr>\n",
       "  </tbody>\n",
       "</table>\n",
       "<p>364000 rows × 3 columns</p>\n",
       "</div>"
      ],
      "text/plain": [
       "        boarding_num  xgb_pred  lgbm_pred\n",
       "0                  0        70         -2\n",
       "1                  8        24         10\n",
       "2                 45       142        135\n",
       "3                 32         2        -29\n",
       "4                 73       344        291\n",
       "...              ...       ...        ...\n",
       "363995           106        39        -58\n",
       "363996            37        44         72\n",
       "363997            70       106        136\n",
       "363998            18        23        -38\n",
       "363999            69        49         33\n",
       "\n",
       "[364000 rows x 3 columns]"
      ]
     },
     "execution_count": 26,
     "metadata": {},
     "output_type": "execute_result"
    }
   ],
   "source": [
    "df_test[['boarding_num', 'xgb_pred', 'lgbm_pred']]"
   ]
  },
  {
   "cell_type": "markdown",
   "metadata": {},
   "source": [
    "- 예측 값들을 살펴보면 음수인 값들이 존재함을 확인할 수 있다.\n",
    "- 승/하차 인원 수는 음수가 나올 수 없으므로, 음수 값들을 모두 0으로 변경해주겠다."
   ]
  },
  {
   "cell_type": "code",
   "execution_count": 27,
   "metadata": {
    "ExecuteTime": {
     "end_time": "2020-11-24T15:19:00.240124Z",
     "start_time": "2020-11-24T15:19:00.021130Z"
    }
   },
   "outputs": [],
   "source": [
    "def neg_pred_to_zero(x):\n",
    "    if x < 0:\n",
    "        return 0\n",
    "    else:\n",
    "        return x\n",
    "    \n",
    "df_test['xgb_pred'] = df_test['xgb_pred'].apply(neg_pred_to_zero)\n",
    "df_test['lgbm_pred'] = df_test['lgbm_pred'].apply(neg_pred_to_zero)"
   ]
  },
  {
   "cell_type": "code",
   "execution_count": 28,
   "metadata": {
    "ExecuteTime": {
     "end_time": "2020-11-24T15:19:01.261262Z",
     "start_time": "2020-11-24T15:19:01.240226Z"
    }
   },
   "outputs": [
    {
     "data": {
      "text/html": [
       "<div>\n",
       "<style scoped>\n",
       "    .dataframe tbody tr th:only-of-type {\n",
       "        vertical-align: middle;\n",
       "    }\n",
       "\n",
       "    .dataframe tbody tr th {\n",
       "        vertical-align: top;\n",
       "    }\n",
       "\n",
       "    .dataframe thead th {\n",
       "        text-align: right;\n",
       "    }\n",
       "</style>\n",
       "<table border=\"1\" class=\"dataframe\">\n",
       "  <thead>\n",
       "    <tr style=\"text-align: right;\">\n",
       "      <th></th>\n",
       "      <th>boarding_num</th>\n",
       "      <th>xgb_pred</th>\n",
       "      <th>lgbm_pred</th>\n",
       "    </tr>\n",
       "  </thead>\n",
       "  <tbody>\n",
       "    <tr>\n",
       "      <th>0</th>\n",
       "      <td>0</td>\n",
       "      <td>70</td>\n",
       "      <td>0</td>\n",
       "    </tr>\n",
       "    <tr>\n",
       "      <th>1</th>\n",
       "      <td>8</td>\n",
       "      <td>24</td>\n",
       "      <td>10</td>\n",
       "    </tr>\n",
       "    <tr>\n",
       "      <th>2</th>\n",
       "      <td>45</td>\n",
       "      <td>142</td>\n",
       "      <td>135</td>\n",
       "    </tr>\n",
       "    <tr>\n",
       "      <th>3</th>\n",
       "      <td>32</td>\n",
       "      <td>2</td>\n",
       "      <td>0</td>\n",
       "    </tr>\n",
       "    <tr>\n",
       "      <th>4</th>\n",
       "      <td>73</td>\n",
       "      <td>344</td>\n",
       "      <td>291</td>\n",
       "    </tr>\n",
       "    <tr>\n",
       "      <th>...</th>\n",
       "      <td>...</td>\n",
       "      <td>...</td>\n",
       "      <td>...</td>\n",
       "    </tr>\n",
       "    <tr>\n",
       "      <th>363995</th>\n",
       "      <td>106</td>\n",
       "      <td>39</td>\n",
       "      <td>0</td>\n",
       "    </tr>\n",
       "    <tr>\n",
       "      <th>363996</th>\n",
       "      <td>37</td>\n",
       "      <td>44</td>\n",
       "      <td>72</td>\n",
       "    </tr>\n",
       "    <tr>\n",
       "      <th>363997</th>\n",
       "      <td>70</td>\n",
       "      <td>106</td>\n",
       "      <td>136</td>\n",
       "    </tr>\n",
       "    <tr>\n",
       "      <th>363998</th>\n",
       "      <td>18</td>\n",
       "      <td>23</td>\n",
       "      <td>0</td>\n",
       "    </tr>\n",
       "    <tr>\n",
       "      <th>363999</th>\n",
       "      <td>69</td>\n",
       "      <td>49</td>\n",
       "      <td>33</td>\n",
       "    </tr>\n",
       "  </tbody>\n",
       "</table>\n",
       "<p>364000 rows × 3 columns</p>\n",
       "</div>"
      ],
      "text/plain": [
       "        boarding_num  xgb_pred  lgbm_pred\n",
       "0                  0        70          0\n",
       "1                  8        24         10\n",
       "2                 45       142        135\n",
       "3                 32         2          0\n",
       "4                 73       344        291\n",
       "...              ...       ...        ...\n",
       "363995           106        39          0\n",
       "363996            37        44         72\n",
       "363997            70       106        136\n",
       "363998            18        23          0\n",
       "363999            69        49         33\n",
       "\n",
       "[364000 rows x 3 columns]"
      ]
     },
     "execution_count": 28,
     "metadata": {},
     "output_type": "execute_result"
    }
   ],
   "source": [
    "df_test[['boarding_num', 'xgb_pred', 'lgbm_pred']]"
   ]
  },
  {
   "cell_type": "markdown",
   "metadata": {},
   "source": [
    "- 음수로 예측된 값들을 모두 0으로 변경해줬기 때문에, 최종 예측 모델의 RMSE와 R2 Score를 다시 한 번 확인해보겠다."
   ]
  },
  {
   "cell_type": "code",
   "execution_count": 29,
   "metadata": {
    "ExecuteTime": {
     "end_time": "2020-11-24T15:19:20.185948Z",
     "start_time": "2020-11-24T15:19:20.158985Z"
    }
   },
   "outputs": [
    {
     "name": "stdout",
     "output_type": "stream",
     "text": [
      "### XGBRegressor ###\n",
      "테스트 데이터 셋에 대한 RMSE:  672.6542\n",
      "테스트 데이터 셋에 대한 R2 Score:  0.8185\n"
     ]
    }
   ],
   "source": [
    "# RMSE 및 R2 Score 계산\n",
    "xgb_rmse = rmse(df_test['boarding_num'], df_test['xgb_pred'])\n",
    "xgb_r2 = r2_score(df_test['boarding_num'], df_test['xgb_pred'])\n",
    "\n",
    "print('### XGBRegressor ###')\n",
    "print('테스트 데이터 셋에 대한 RMSE: ', np.round(xgb_rmse, 4))\n",
    "print('테스트 데이터 셋에 대한 R2 Score: ', np.round(xgb_r2, 4))"
   ]
  },
  {
   "cell_type": "code",
   "execution_count": 30,
   "metadata": {
    "ExecuteTime": {
     "end_time": "2020-11-24T15:19:21.139081Z",
     "start_time": "2020-11-24T15:19:21.112051Z"
    }
   },
   "outputs": [
    {
     "name": "stdout",
     "output_type": "stream",
     "text": [
      "### LGBMRegressor ###\n",
      "테스트 데이터 셋에 대한 RMSE:  703.812\n",
      "테스트 데이터 셋에 대한 R2 Score:  0.8013\n"
     ]
    }
   ],
   "source": [
    "# RMSE 및 R2 Score 계산\n",
    "lgbm_rmse = rmse(df_test['boarding_num'], df_test['lgbm_pred'])\n",
    "lgbm_r2 = r2_score(df_test['boarding_num'], df_test['lgbm_pred'])\n",
    "\n",
    "print('### LGBMRegressor ###')\n",
    "print('테스트 데이터 셋에 대한 RMSE: ', np.round(lgbm_rmse, 4))\n",
    "print('테스트 데이터 셋에 대한 R2 Score: ', np.round(lgbm_r2, 4))"
   ]
  },
  {
   "cell_type": "markdown",
   "metadata": {},
   "source": [
    "- 위 결과를 바탕으로 예측 성능이 더 뛰어난 XGBoost 모델을 최종 예측 모델로 사용하겠다."
   ]
  },
  {
   "cell_type": "markdown",
   "metadata": {},
   "source": [
    "## 변수 중요도\n",
    "- 최종 예측 모델인 XGBoost 모델의 변수 중요도를 살펴보겠다."
   ]
  },
  {
   "cell_type": "code",
   "execution_count": 31,
   "metadata": {
    "ExecuteTime": {
     "end_time": "2020-11-24T15:19:37.772984Z",
     "start_time": "2020-11-24T15:19:37.768000Z"
    }
   },
   "outputs": [],
   "source": [
    "def ftr_importances(best_model):\n",
    "    # 변수 중요도 값\n",
    "    ftr_importances_values = best_model.feature_importances_\n",
    "    # 변수 중요도 값 정렬을 쉽게 하고, 막대그래프로 쉽게 표현하기 위해 Series로 변환\n",
    "    ftr_importances = pd.Series(ftr_importances_values, index = X_features.columns)\n",
    "    # 중요도 값 순으로 상위 20개만 추출\n",
    "    ftr_top20 = ftr_importances.sort_values(ascending = False)[:20]\n",
    "    \n",
    "    print('###', best_model.__class__.__name__, '###')\n",
    "    \n",
    "    plt.figure(figsize = (12, 6))\n",
    "    plt.title('Feature Importances Top 20')\n",
    "    sns.barplot(x = ftr_top20, y = ftr_top20.index)\n",
    "    plt.show()"
   ]
  },
  {
   "cell_type": "code",
   "execution_count": 32,
   "metadata": {
    "ExecuteTime": {
     "end_time": "2020-11-24T15:19:39.736243Z",
     "start_time": "2020-11-24T15:19:38.958986Z"
    }
   },
   "outputs": [
    {
     "data": {
      "application/vnd.jupyter.widget-view+json": {
       "model_id": "a89dd279848f49298efe38b2cf29b03b",
       "version_major": 2,
       "version_minor": 0
      },
      "text/plain": [
       "HBox(children=(FloatProgress(value=0.0, max=2.0), HTML(value='')))"
      ]
     },
     "metadata": {},
     "output_type": "display_data"
    },
    {
     "name": "stdout",
     "output_type": "stream",
     "text": [
      "### XGBRegressor ###\n"
     ]
    },
    {
     "data": {
      "image/png": "[encoded data removed]",
      "text/plain": [
       "<Figure size 864x432 with 1 Axes>"
      ]
     },
     "metadata": {},
     "output_type": "display_data"
    },
    {
     "name": "stdout",
     "output_type": "stream",
     "text": [
      "### LGBMRegressor ###\n"
     ]
    },
    {
     "data": {
      "image/png": "[encoded data removed]",
      "text/plain": [
       "<Figure size 864x432 with 1 Axes>"
      ]
     },
     "metadata": {},
     "output_type": "display_data"
    },
    {
     "name": "stdout",
     "output_type": "stream",
     "text": [
      "\n"
     ]
    }
   ],
   "source": [
    "best_models = [xgb_bayes_opt, lgbm_bayes_opt]\n",
    "\n",
    "for model in tqdm(best_models):\n",
    "    ftr_importances(model)"
   ]
  },
  {
   "cell_type": "markdown",
   "metadata": {},
   "source": [
    "- 그 결과, XGBoost 모델의 변수들 중에서 중요도가 높은 상위 5개의 변수들은 다음과 같았다.\n",
    "    1. 심야 시간대(time_심야)\n",
    "    2. 역사 길이(length)\n",
    "    3. 역 주변 영화관 개수(mti_cnt)\n",
    "    4. 18시(hour_18)\n",
    "    5. 역 주변 고등학교 개수(hsi_cnt)"
   ]
  },
  {
   "cell_type": "markdown",
   "metadata": {},
   "source": [
    "# 최종 결과 데이터 셋 csv 파일로 내보내기"
   ]
  },
  {
   "cell_type": "code",
   "execution_count": 33,
   "metadata": {
    "ExecuteTime": {
     "end_time": "2020-11-24T15:19:49.805947Z",
     "start_time": "2020-11-24T15:19:49.802966Z"
    }
   },
   "outputs": [],
   "source": [
    "new_path = 'C:/Users/Brian/Desktop/Data Science/Projects/Playdata/dataset/made_by_전처리'"
   ]
  },
  {
   "cell_type": "code",
   "execution_count": 34,
   "metadata": {
    "ExecuteTime": {
     "end_time": "2020-11-24T15:20:12.431678Z",
     "start_time": "2020-11-24T15:20:02.749695Z"
    }
   },
   "outputs": [],
   "source": [
    "df_test.to_csv('{}/예측 결과 시각화용_부스팅 모델.csv'.format(new_path), index = False)"
   ]
  }
 ],
 "metadata": {
  "hide_input": false,
  "kernelspec": {
   "display_name": "Python 3",
   "language": "python",
   "name": "python3"
  },
  "language_info": {
   "codemirror_mode": {
    "name": "ipython",
    "version": 3
   },
   "file_extension": ".py",
   "mimetype": "text/x-python",
   "name": "python",
   "nbconvert_exporter": "python",
   "pygments_lexer": "ipython3",
   "version": "3.8.3"
  },
  "toc": {
   "base_numbering": 1,
   "nav_menu": {},
   "number_sections": true,
   "sideBar": true,
   "skip_h1_title": false,
   "title_cell": "Table of Contents",
   "title_sidebar": "Contents",
   "toc_cell": false,
   "toc_position": {},
   "toc_section_display": true,
   "toc_window_display": false
  },
  "varInspector": {
   "cols": {
    "lenName": 16,
    "lenType": 16,
    "lenVar": 40
   },
   "kernels_config": {
    "python": {
     "delete_cmd_postfix": "",
     "delete_cmd_prefix": "del ",
     "library": "var_list.py",
     "varRefreshCmd": "print(var_dic_list())"
    },
    "r": {
     "delete_cmd_postfix": ") ",
     "delete_cmd_prefix": "rm(",
     "library": "var_list.r",
     "varRefreshCmd": "cat(var_dic_list()) "
    }
   },
   "types_to_exclude": [
    "module",
    "function",
    "builtin_function_or_method",
    "instance",
    "_Feature"
   ],
   "window_display": false
  }
 },
 "nbformat": 4,
 "nbformat_minor": 4
}
