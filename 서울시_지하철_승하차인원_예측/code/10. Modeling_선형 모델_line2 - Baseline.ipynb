{
 "cells": [
  {
   "cell_type": "markdown",
   "metadata": {},
   "source": [
    "**<파일 경로>**\n",
    "- C:/Users/Brian/Desktop/Data Science/Projects/Playdata/dataset/made_by_전처리/train\n",
    "- C:/Users/Brian/Desktop/Data Science/Projects/Playdata/dataset/made_by_전처리/test"
   ]
  },
  {
   "cell_type": "code",
   "execution_count": 1,
   "metadata": {
    "ExecuteTime": {
     "end_time": "2020-11-17T07:28:29.246246Z",
     "start_time": "2020-11-17T07:28:27.136105Z"
    }
   },
   "outputs": [
    {
     "name": "stdout",
     "output_type": "stream",
     "text": [
      "C:/Users/Brian/Desktop/Data Science/Projects/Playdata/dataset/made_by_전처리/train\n"
     ]
    }
   ],
   "source": [
    "train_path = input()"
   ]
  },
  {
   "cell_type": "code",
   "execution_count": 2,
   "metadata": {
    "ExecuteTime": {
     "end_time": "2020-11-17T07:28:31.445140Z",
     "start_time": "2020-11-17T07:28:29.248214Z"
    }
   },
   "outputs": [
    {
     "name": "stdout",
     "output_type": "stream",
     "text": [
      "C:/Users/Brian/Desktop/Data Science/Projects/Playdata/dataset/made_by_전처리/test\n"
     ]
    }
   ],
   "source": [
    "test_path = input()"
   ]
  },
  {
   "cell_type": "code",
   "execution_count": 3,
   "metadata": {
    "ExecuteTime": {
     "end_time": "2020-11-17T07:28:32.838747Z",
     "start_time": "2020-11-17T07:28:31.449089Z"
    }
   },
   "outputs": [],
   "source": [
    "import numpy as np\n",
    "import pandas as pd\n",
    "import datetime as dt\n",
    "from tqdm.notebook import tqdm\n",
    "import matplotlib.pyplot as plt\n",
    "import seaborn as sns\n",
    "%matplotlib inline\n",
    "# seaborn 폰트 및 스타일 설정\n",
    "sns.set(font = \"Malgun Gothic\", rc = {\"axes.unicode_minus\": False}, style = 'whitegrid')\n",
    "# Pandas 출력 결과 부동소수점 설정\n",
    "pd.options.display.float_format = '{:.1f}'.format\n",
    "\n",
    "from sklearn.model_selection import KFold, cross_val_score, cross_validate, train_test_split, GridSearchCV\n",
    "from sklearn.metrics import mean_squared_error, r2_score, make_scorer\n",
    "from bayes_opt import BayesianOptimization\n",
    "\n",
    "from sklearn.linear_model import LinearRegression, Ridge, Lasso, ElasticNet"
   ]
  },
  {
   "cell_type": "markdown",
   "metadata": {},
   "source": [
    "- 먼저 메모리 절약을 위해 각 변수들의 데이터 타입을 지정해 준 뒤, 각 데이터 셋을 불러오도록 하겠다."
   ]
  },
  {
   "cell_type": "code",
   "execution_count": 4,
   "metadata": {
    "ExecuteTime": {
     "end_time": "2020-11-17T07:28:32.847731Z",
     "start_time": "2020-11-17T07:28:32.840684Z"
    }
   },
   "outputs": [],
   "source": [
    "df_train_dtype = {\n",
    "    # 지하철 데이터 관련 변수들 데이터 타입 지정\n",
    "    'boarding_num': np.int32, 'log_boarding_num': np.float32, 'platform_area': np.float32, \n",
    "    'length': np.float32, 'transfer_num': np.float32, 'entrance': np.float32, \n",
    "    'msi_cnt': np.float32, 'hsi_cnt': np.float32, 'uvi_cnt': np.float32, \n",
    "    'hpi_cnt': np.float32, 'mti_cnt': np.float32, 'day': np.int32,\n",
    "    # 인구 데이터 관련 변수들 데이터 타입 지정\n",
    "    'pop_below_20': np.float32, 'pop_20_30_40': np.float32, 'pop_over_50': np.float32,\n",
    "    # 기상 데이터 관련 변수들 데이터 타입 변경\n",
    "    'temp': np.float32, 'windspeed': np.float32, 'rain': np.float32\n",
    "}\n",
    "\n",
    "df_test_dtype = {\n",
    "    # 지하철 데이터 관련 변수들 데이터 타입 지정\n",
    "    'boarding_num': np.int32, 'platform_area': np.float32, \n",
    "    'length': np.float32, 'transfer_num': np.float32, 'entrance': np.float32, \n",
    "    'msi_cnt': np.float32, 'hsi_cnt': np.float32, 'uvi_cnt': np.float32, \n",
    "    'hpi_cnt': np.float32, 'mti_cnt': np.float32, 'day': np.int32,\n",
    "    # 인구 데이터 관련 변수들 데이터 타입 지정\n",
    "    'pop_below_20': np.float32, 'pop_20_30_40': np.float32, 'pop_over_50': np.float32,\n",
    "    # 기상 데이터 관련 변수들 데이터 타입 변경\n",
    "    'temp': np.float32, 'windspeed': np.float32, 'rain': np.float32\n",
    "}"
   ]
  },
  {
   "cell_type": "code",
   "execution_count": 5,
   "metadata": {
    "ExecuteTime": {
     "end_time": "2020-11-17T07:28:45.573690Z",
     "start_time": "2020-11-17T07:28:32.849695Z"
    }
   },
   "outputs": [],
   "source": [
    "df_train = pd.read_csv('{}/df_train_linear_line2.csv'.format(train_path), dtype = df_train_dtype)\n",
    "df_test = pd.read_csv('{}/df_test_linear_line2.csv'.format(test_path), dtype = df_test_dtype)"
   ]
  },
  {
   "cell_type": "markdown",
   "metadata": {},
   "source": [
    "- 추가적인 메모리 절약을 위해 line과 station_name 변수의 타입을 category로 변환하고, 원-핫 인코딩 처리된 변수들의 dtype을 모두 uint8로 지정해주겠다."
   ]
  },
  {
   "cell_type": "code",
   "execution_count": 6,
   "metadata": {
    "ExecuteTime": {
     "end_time": "2020-11-17T07:28:45.835692Z",
     "start_time": "2020-11-17T07:28:45.575700Z"
    }
   },
   "outputs": [
    {
     "data": {
      "application/vnd.jupyter.widget-view+json": {
       "model_id": "1f361009feb446ee82352ec9bba64742",
       "version_major": 2,
       "version_minor": 0
      },
      "text/plain": [
       "HBox(children=(FloatProgress(value=0.0, max=2.0), HTML(value='')))"
      ]
     },
     "metadata": {},
     "output_type": "display_data"
    },
    {
     "name": "stdout",
     "output_type": "stream",
     "text": [
      "\n"
     ]
    }
   ],
   "source": [
    "cat_vars = ['line', 'station_name']\n",
    "\n",
    "for var in tqdm(cat_vars):\n",
    "    df_train[var] = df_train[var].astype('category')\n",
    "    df_test[var] = df_test[var].astype('category')"
   ]
  },
  {
   "cell_type": "code",
   "execution_count": 7,
   "metadata": {
    "ExecuteTime": {
     "end_time": "2020-11-17T07:29:18.457702Z",
     "start_time": "2020-11-17T07:28:45.836691Z"
    }
   },
   "outputs": [],
   "source": [
    "# One-Hot Encoding 처리된 변수들의 데이터 타입 변경\n",
    "df_train[df_train.columns[21:]] = df_train.iloc[:, 21:].astype('uint8')\n",
    "df_test[df_test.columns[20:]] = df_test.iloc[:, 20:].astype('uint8')"
   ]
  },
  {
   "cell_type": "code",
   "execution_count": 8,
   "metadata": {
    "ExecuteTime": {
     "end_time": "2020-11-17T07:29:18.614735Z",
     "start_time": "2020-11-17T07:29:18.460701Z"
    }
   },
   "outputs": [
    {
     "name": "stdout",
     "output_type": "stream",
     "text": [
      "<class 'pandas.core.frame.DataFrame'>\n",
      "RangeIndex: 1460000 entries, 0 to 1459999\n",
      "Columns: 120 entries, date to season_winter\n",
      "dtypes: category(2), float32(16), int32(2), object(1), uint8(99)\n",
      "memory usage: 252.0+ MB\n"
     ]
    }
   ],
   "source": [
    "df_train.info()"
   ]
  },
  {
   "cell_type": "code",
   "execution_count": 9,
   "metadata": {
    "ExecuteTime": {
     "end_time": "2020-11-17T07:29:18.663751Z",
     "start_time": "2020-11-17T07:29:18.616737Z"
    }
   },
   "outputs": [
    {
     "name": "stdout",
     "output_type": "stream",
     "text": [
      "<class 'pandas.core.frame.DataFrame'>\n",
      "RangeIndex: 364000 entries, 0 to 363999\n",
      "Columns: 119 entries, date to season_winter\n",
      "dtypes: category(2), float32(15), int32(2), object(1), uint8(99)\n",
      "memory usage: 61.4+ MB\n"
     ]
    }
   ],
   "source": [
    "df_test.info()"
   ]
  },
  {
   "cell_type": "markdown",
   "metadata": {},
   "source": [
    "# Modeling"
   ]
  },
  {
   "cell_type": "markdown",
   "metadata": {},
   "source": [
    "## 평가 지표\n",
    "- 이번 분석에서는 RMSE를 평가 지표로 사용할 것이다.\n",
    "- 따라서 RMSE를 계산해주는 함수를 하나 만들도록 하겠다.\n",
    "\n",
    "<참고>\n",
    "- 이와 더불어 R2 score 또한 서브 평가 지표로써 사용하도록 하겠다."
   ]
  },
  {
   "cell_type": "code",
   "execution_count": 10,
   "metadata": {
    "ExecuteTime": {
     "end_time": "2020-11-17T07:29:18.668705Z",
     "start_time": "2020-11-17T07:29:18.664701Z"
    }
   },
   "outputs": [],
   "source": [
    "def rmse(y_true, y_pred):\n",
    "    mse = mean_squared_error(y_true, y_pred)\n",
    "    rmse = np.sqrt(mse)\n",
    "    return rmse"
   ]
  },
  {
   "cell_type": "markdown",
   "metadata": {},
   "source": [
    "## 변수 선택 및 데이터 분할"
   ]
  },
  {
   "cell_type": "markdown",
   "metadata": {},
   "source": [
    "### Feature dataset / Target dataset 생성\n",
    "- 먼저 train dataset과 test dataset에서 모델에 넣지 않을 불필요한 변수들은 제거해주겠다.\n",
    "    - train dataset\n",
    "        - 기본적으로 제외시킨 변수들\n",
    "            - 'date', 'line', 'station_name', 'boarding_num', 'log_boarding_num', 'day'\n",
    "        - 예측 성능을 비교해서 제외시킨 변수들\n",
    "            - 'pop_over_50'\n",
    "                - 앞서 수행한 EDA 결과를 바탕으로, pop_over_50(50세 이상 인구 수) 변수는 다중공선성 문제로 인해 모델의 예측 성능을 저하시킨다고 판단했으므로 모델에 넣어주지 않겠다.\n",
    "    - test dataset\n",
    "        - 기본적으로 제외시킨 변수들\n",
    "            - 'date', 'line', 'station_name', 'boarding_num', 'day'\n",
    "        - 예측 성능을 비교해서 제외시킨 변수들\n",
    "            - 'pop_over_50'\n",
    "                - 앞서 수행한 EDA 결과를 바탕으로, pop_over_50(50세 이상 인구 수) 변수는 다중공선성 문제로 인해 모델의 예측 성능을 저하시킨다고 판단했으므로 모델에 넣어주지 않겠다."
   ]
  },
  {
   "cell_type": "code",
   "execution_count": 11,
   "metadata": {
    "ExecuteTime": {
     "end_time": "2020-11-17T07:29:18.677701Z",
     "start_time": "2020-11-17T07:29:18.671701Z"
    },
    "scrolled": true
   },
   "outputs": [
    {
     "data": {
      "text/plain": [
       "['date',\n",
       " 'line',\n",
       " 'station_name',\n",
       " 'boarding_num',\n",
       " 'platform_area',\n",
       " 'length',\n",
       " 'transfer_num',\n",
       " 'entrance',\n",
       " 'msi_cnt',\n",
       " 'hsi_cnt',\n",
       " 'uvi_cnt',\n",
       " 'hpi_cnt',\n",
       " 'mti_cnt',\n",
       " 'temp',\n",
       " 'windspeed',\n",
       " 'rain',\n",
       " 'pop_below_20',\n",
       " 'day',\n",
       " 'pop_20_30_40',\n",
       " 'pop_over_50',\n",
       " 'log_boarding_num',\n",
       " 'boarding_승차',\n",
       " 'boarding_하차',\n",
       " 'gu_강남구',\n",
       " 'gu_강동구',\n",
       " 'gu_강북구',\n",
       " 'gu_강서구',\n",
       " 'gu_관악구',\n",
       " 'gu_광진구',\n",
       " 'gu_구로구',\n",
       " 'gu_금천구',\n",
       " 'gu_노원구',\n",
       " 'gu_도봉구',\n",
       " 'gu_동대문구',\n",
       " 'gu_동작구',\n",
       " 'gu_마포구',\n",
       " 'gu_서대문구',\n",
       " 'gu_서초구',\n",
       " 'gu_성동구',\n",
       " 'gu_성북구',\n",
       " 'gu_송파구',\n",
       " 'gu_양천구',\n",
       " 'gu_영등포구',\n",
       " 'gu_용산구',\n",
       " 'gu_은평구',\n",
       " 'gu_종로구',\n",
       " 'gu_중구',\n",
       " 'gu_중랑구',\n",
       " 'type_복합식',\n",
       " 'type_상대식',\n",
       " 'type_섬식',\n",
       " 'floor_1F',\n",
       " 'floor_1FB2',\n",
       " 'floor_1FB3',\n",
       " 'floor_1FB5',\n",
       " 'floor_2F',\n",
       " 'floor_2FB2',\n",
       " 'floor_2FB3',\n",
       " 'floor_3F',\n",
       " 'floor_4F',\n",
       " 'floor_5FB2',\n",
       " 'floor_B1',\n",
       " 'floor_B2',\n",
       " 'floor_B3',\n",
       " 'floor_B4',\n",
       " 'floor_B5',\n",
       " 'floor_B6',\n",
       " 'floor_B8',\n",
       " 'year_2018',\n",
       " 'year_2019',\n",
       " 'year_2020',\n",
       " 'month_1',\n",
       " 'month_2',\n",
       " 'month_3',\n",
       " 'month_4',\n",
       " 'month_5',\n",
       " 'month_6',\n",
       " 'month_7',\n",
       " 'month_8',\n",
       " 'month_9',\n",
       " 'month_10',\n",
       " 'month_11',\n",
       " 'month_12',\n",
       " 'hour_0',\n",
       " 'hour_5',\n",
       " 'hour_6',\n",
       " 'hour_7',\n",
       " 'hour_8',\n",
       " 'hour_9',\n",
       " 'hour_10',\n",
       " 'hour_11',\n",
       " 'hour_12',\n",
       " 'hour_13',\n",
       " 'hour_14',\n",
       " 'hour_15',\n",
       " 'hour_16',\n",
       " 'hour_17',\n",
       " 'hour_18',\n",
       " 'hour_19',\n",
       " 'hour_20',\n",
       " 'hour_21',\n",
       " 'hour_22',\n",
       " 'hour_23',\n",
       " 'weekday_0',\n",
       " 'weekday_1',\n",
       " 'weekday_2',\n",
       " 'weekday_3',\n",
       " 'weekday_4',\n",
       " 'weekday_5',\n",
       " 'weekday_6',\n",
       " 'is_weekend_0',\n",
       " 'is_weekend_1',\n",
       " 'time_심야',\n",
       " 'time_오전',\n",
       " 'time_오후',\n",
       " 'time_저녁',\n",
       " 'season_autumn',\n",
       " 'season_spring',\n",
       " 'season_summer',\n",
       " 'season_winter']"
      ]
     },
     "execution_count": 11,
     "metadata": {},
     "output_type": "execute_result"
    }
   ],
   "source": [
    "df_train.columns.tolist()"
   ]
  },
  {
   "cell_type": "code",
   "execution_count": 12,
   "metadata": {
    "ExecuteTime": {
     "end_time": "2020-11-17T07:29:18.960752Z",
     "start_time": "2020-11-17T07:29:18.679702Z"
    }
   },
   "outputs": [
    {
     "name": "stdout",
     "output_type": "stream",
     "text": [
      "학습 데이터 셋: (1460000, 113) (1460000,) (1460000,)\n",
      "테스트 데이터 셋: (364000, 113) (364000,)\n"
     ]
    }
   ],
   "source": [
    "# columns for drop in train dataset\n",
    "drop_list1 = ['date', 'line', 'station_name', 'boarding_num', \n",
    "              'log_boarding_num', 'day', 'pop_over_50']\n",
    "# columns for drop in test dataset\n",
    "drop_list2 = ['date', 'line', 'station_name', \n",
    "              'boarding_num', 'day', 'pop_over_50']\n",
    "\n",
    "# 학습 데이터 셋\n",
    "X_features = df_train.drop(drop_list1, axis = 1, inplace = False)\n",
    "y_target = df_train['boarding_num'] # 로그 변환되지 않은 타겟 변수\n",
    "log_y_target = df_train['log_boarding_num'] # 로그 변환된 타겟 변수\n",
    "print('학습 데이터 셋:', X_features.shape, y_target.shape, log_y_target.shape)\n",
    "\n",
    "# 테스트 데이터 셋\n",
    "X_test = df_test.drop(drop_list2, axis = 1, inplace = False)\n",
    "y_test = df_test['boarding_num']\n",
    "print('테스트 데이터 셋:', X_test.shape, y_test.shape)"
   ]
  },
  {
   "cell_type": "markdown",
   "metadata": {},
   "source": [
    "### 학습 데이터 셋 분할\n",
    "- 전체 학습 데이터 셋을 다시 학습 데이터 셋과 검증 데이터 셋으로 분할해주겠다."
   ]
  },
  {
   "cell_type": "code",
   "execution_count": 13,
   "metadata": {
    "ExecuteTime": {
     "end_time": "2020-11-17T07:29:19.724767Z",
     "start_time": "2020-11-17T07:29:18.961737Z"
    }
   },
   "outputs": [
    {
     "name": "stdout",
     "output_type": "stream",
     "text": [
      "학습 및 검증 데이터 셋: (1168000, 113) (292000, 113) (1168000,) (292000,)\n"
     ]
    }
   ],
   "source": [
    "X_train, X_valid, y_train, y_valid = train_test_split(X_features, log_y_target, \n",
    "                                                      test_size = 0.2, random_state = 1021)\n",
    "print('학습 및 검증 데이터 셋:', X_train.shape, X_valid.shape, y_train.shape, y_valid.shape)"
   ]
  },
  {
   "cell_type": "markdown",
   "metadata": {},
   "source": [
    "## Baseline Model\n",
    "- 선형 모델\n",
    "    1. 선형 회귀\n",
    "    2. 릿지 회귀\n",
    "    3. 라쏘 회귀\n",
    "    4. 엘라스틱넷 회귀"
   ]
  },
  {
   "cell_type": "code",
   "execution_count": 14,
   "metadata": {
    "ExecuteTime": {
     "end_time": "2020-11-17T07:29:19.728702Z",
     "start_time": "2020-11-17T07:29:19.725748Z"
    }
   },
   "outputs": [],
   "source": [
    "# def baseline_linear_model(model):\n",
    "#     kfold = KFold(n_splits = 5)\n",
    "    \n",
    "#     scores = cross_val_score(model, X_features, log_y_target, \n",
    "#                              scoring = make_scorer(rmse),\n",
    "#                              cv = kfold)\n",
    "#     mean_rmse = np.mean(scores)\n",
    "#     scores_std = scores.std()\n",
    "\n",
    "#     print('###', model.__class__.__name__, '###')\n",
    "#     print('교차 검증별 RMSE: ', np.round(scores, 4))\n",
    "#     print('평균 검증 RMSE: ', np.round(mean_rmse, 4))\n",
    "#     print('교차 검증별 RMSE 표준편차: ', np.round(scores_std, 4))\n",
    "#     print('-' * 80)"
   ]
  },
  {
   "cell_type": "code",
   "execution_count": 15,
   "metadata": {
    "ExecuteTime": {
     "end_time": "2020-11-17T07:29:19.748745Z",
     "start_time": "2020-11-17T07:29:19.735744Z"
    },
    "scrolled": false
   },
   "outputs": [],
   "source": [
    "def baseline_linear_model(model):\n",
    "    # 모델 학습\n",
    "    model.fit(X_train, y_train)\n",
    "    # 예측\n",
    "    log_y_train_pred = model.predict(X_train)\n",
    "    log_y_valid_pred = model.predict(X_valid)\n",
    "\n",
    "    # 예측값이 로그 변환된 target 기반으로 학습되어 예측됐으므로, np.expm1()을 이용하여 스케일 변환\n",
    "    y_train_pred = np.expm1(log_y_train_pred)\n",
    "    y_valid_pred = np.expm1(log_y_valid_pred)\n",
    "\n",
    "    # 학습/검증 데이터 셋의 target 값 또한 로그 변환됐으므로, np.expm1()을 이용하여 원래 스케일로 변환\n",
    "    y_train_exp = np.expm1(y_train)\n",
    "    y_valid_exp = np.expm1(y_valid)\n",
    "\n",
    "    # RMSE 및 R2 Score 계산\n",
    "    rmse_train = rmse(y_train_exp, y_train_pred)\n",
    "    r2_score_train = r2_score(y_train_exp, y_train_pred)\n",
    "    rmse_valid = rmse(y_valid_exp, y_valid_pred)\n",
    "    r2_score_valid = r2_score(y_valid_exp, y_valid_pred)\n",
    "\n",
    "    print('###', model.__class__.__name__, '###')\n",
    "    print('학습 데이터 셋에 대한 RMSE: ', np.round(rmse_train, 4))\n",
    "    print('학습 데이터 셋에 대한 R2 Score: ', np.round(r2_score_train, 4))\n",
    "    print('검증 데이터 셋에 대한 RMSE: ', np.round(rmse_valid, 4))\n",
    "    print('검증 데이터 셋에 대한 R2 Score: ', np.round(r2_score_valid, 4))\n",
    "    print('-' * 50)"
   ]
  },
  {
   "cell_type": "code",
   "execution_count": 16,
   "metadata": {
    "ExecuteTime": {
     "end_time": "2020-11-17T07:29:23.032787Z",
     "start_time": "2020-11-17T07:29:19.750700Z"
    }
   },
   "outputs": [
    {
     "name": "stdout",
     "output_type": "stream",
     "text": [
      "### LinearRegression ###\n",
      "학습 데이터 셋에 대한 RMSE:  1295.8062\n",
      "학습 데이터 셋에 대한 R2 Score:  0.5457\n",
      "검증 데이터 셋에 대한 RMSE:  1290.223\n",
      "검증 데이터 셋에 대한 R2 Score:  0.5486\n",
      "--------------------------------------------------\n"
     ]
    }
   ],
   "source": [
    "lr = LinearRegression()\n",
    "baseline_linear_model(lr)"
   ]
  },
  {
   "cell_type": "code",
   "execution_count": 17,
   "metadata": {
    "ExecuteTime": {
     "end_time": "2020-11-17T07:29:23.037787Z",
     "start_time": "2020-11-17T07:29:23.034787Z"
    }
   },
   "outputs": [],
   "source": [
    "# alphas = [0.01, 0.1, 1, 10, 100]\n",
    "\n",
    "# ridge = Ridge(random_state = 1021)\n",
    "# lasso = Lasso(random_state = 1021)\n",
    "# elastic = ElasticNet(random_state = 1021)\n",
    "\n",
    "# linear_models = [ridge, lasso, elastic]\n",
    "\n",
    "# for model in tqdm(linear_models):\n",
    "#     baseline_nonlinear_model(model)"
   ]
  },
  {
   "cell_type": "markdown",
   "metadata": {},
   "source": [
    "- 선형 회귀 모델의 결과를 보면, valid dataset에 대한 예측 성능뿐만 아니라 train dataset에 대한 예측 성능도 좋지 않음을 알 수 있다.\n",
    "    - 따라서 Ridge, Lasso와 같은 규제 모델들을 사용하는 것이 의미가 없어보인다. (실제로 사용해봤으나 예측 성능이 좋아지지 않았다)\n",
    "    - train dataset에서 조차 좋지 않은 성능을 보이므로, 더 복잡한 모델을 사용하는 것이 좋을 것 같다.\n",
    "- 따라서 다른 비선형 모델들을 활용하여 예측을 수행하는 방향으로 분석을 진행하도록 하겠다.\n",
    "    1. 결정 트리\n",
    "    2. 랜덤포레스트\n",
    "    3. XGBoost\n",
    "    4. LightGBM"
   ]
  }
 ],
 "metadata": {
  "hide_input": false,
  "kernelspec": {
   "display_name": "Python 3",
   "language": "python",
   "name": "python3"
  },
  "language_info": {
   "codemirror_mode": {
    "name": "ipython",
    "version": 3
   },
   "file_extension": ".py",
   "mimetype": "text/x-python",
   "name": "python",
   "nbconvert_exporter": "python",
   "pygments_lexer": "ipython3",
   "version": "3.8.3"
  },
  "toc": {
   "base_numbering": 1,
   "nav_menu": {},
   "number_sections": true,
   "sideBar": true,
   "skip_h1_title": false,
   "title_cell": "Table of Contents",
   "title_sidebar": "Contents",
   "toc_cell": false,
   "toc_position": {},
   "toc_section_display": true,
   "toc_window_display": false
  },
  "varInspector": {
   "cols": {
    "lenName": 16,
    "lenType": 16,
    "lenVar": 40
   },
   "kernels_config": {
    "python": {
     "delete_cmd_postfix": "",
     "delete_cmd_prefix": "del ",
     "library": "var_list.py",
     "varRefreshCmd": "print(var_dic_list())"
    },
    "r": {
     "delete_cmd_postfix": ") ",
     "delete_cmd_prefix": "rm(",
     "library": "var_list.r",
     "varRefreshCmd": "cat(var_dic_list()) "
    }
   },
   "types_to_exclude": [
    "module",
    "function",
    "builtin_function_or_method",
    "instance",
    "_Feature"
   ],
   "window_display": false
  }
 },
 "nbformat": 4,
 "nbformat_minor": 4
}
